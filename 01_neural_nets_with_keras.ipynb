{
 "cells": [
  {
   "cell_type": "markdown",
   "metadata": {
    "collapsed": true
   },
   "source": [
    "# Neural Nets with Keras"
   ]
  },
  {
   "cell_type": "markdown",
   "metadata": {},
   "source": [
    "In this notebook you will learn how to implement neural networks using the Keras API. We will use TensorFlow's own implementation, *tf.keras*, which comes bundled with TensorFlow."
   ]
  },
  {
   "cell_type": "markdown",
   "metadata": {},
   "source": [
    "Don't hesitate to look at the documentation at [keras.io](https://keras.io/). All the code examples should work fine with tf.keras, the only difference is how to import Keras:\n",
    "\n",
    "```python\n",
    "# keras.io code:\n",
    "from keras.layers import Dense\n",
    "output_layer = Dense(10)\n",
    "\n",
    "# corresponding tf.keras code:\n",
    "from tensorflow import keras\n",
    "Dense = keras.layers.Dense\n",
    "output_layer = Dense(10)\n",
    "\n",
    "# or simply:\n",
    "from tensorflow import keras\n",
    "output_layer = keras.layers.Dense(10)\n",
    "```\n",
    "\n",
    "In this notebook, we will not use any TensorFlow-specific code, so everything you see would run just the same way on [keras-team](https://github.com/keras-team/keras) or any other Python implementation of the Keras API (except for the imports)."
   ]
  },
  {
   "cell_type": "markdown",
   "metadata": {},
   "source": [
    "## Imports"
   ]
  },
  {
   "cell_type": "code",
   "execution_count": 1,
   "metadata": {},
   "outputs": [],
   "source": [
    "%matplotlib inline"
   ]
  },
  {
   "cell_type": "code",
   "execution_count": 2,
   "metadata": {},
   "outputs": [],
   "source": [
    "import matplotlib as mpl\n",
    "import matplotlib.pyplot as plt\n",
    "import numpy as np\n",
    "import os\n",
    "import pandas as pd\n",
    "import sklearn\n",
    "import sys\n",
    "import tensorflow as tf\n",
    "from tensorflow import keras\n",
    "import time"
   ]
  },
  {
   "cell_type": "code",
   "execution_count": 3,
   "metadata": {},
   "outputs": [
    {
     "name": "stdout",
     "output_type": "stream",
     "text": [
      "python 3.6.8 |Anaconda, Inc.| (default, Dec 29 2018, 19:04:46) \n",
      "[GCC 4.2.1 Compatible Clang 4.0.1 (tags/RELEASE_401/final)]\n",
      "matplotlib 3.0.2\n",
      "numpy 1.15.4\n",
      "pandas 0.23.4\n",
      "sklearn 0.20.1\n",
      "tensorflow 2.0.0-dev20190126\n",
      "tensorflow.python.keras.api._v2.keras 2.2.4-tf\n"
     ]
    }
   ],
   "source": [
    "print(\"python\", sys.version)\n",
    "for module in mpl, np, pd, sklearn, tf, keras:\n",
    "    print(module.__name__, module.__version__)"
   ]
  },
  {
   "cell_type": "code",
   "execution_count": 4,
   "metadata": {},
   "outputs": [],
   "source": [
    "assert sys.version_info >= (3, 5) # Python ≥3.5 required\n",
    "assert tf.__version__ >= \"2.0\"    # TensorFlow ≥2.0 required"
   ]
  },
  {
   "cell_type": "markdown",
   "metadata": {},
   "source": [
    "**Note**: The preview version of TensorFlow 2.0 shows up as version 1.13. That's okay. To test that this behaves like TF 2.0, we verify that `tf.function()` is present."
   ]
  },
  {
   "cell_type": "markdown",
   "metadata": {},
   "source": [
    "![Exercise](https://c1.staticflickr.com/9/8101/8553474140_c50cf08708_b.jpg)"
   ]
  },
  {
   "cell_type": "markdown",
   "metadata": {},
   "source": [
    "## Exercise 1 – TensorFlow Playground"
   ]
  },
  {
   "cell_type": "markdown",
   "metadata": {},
   "source": [
    "Visit the [TensorFlow Playground](http://playground.tensorflow.org).\n",
    "* **Layers and patterns**: try training the default neural network by clicking the \"Run\" button (top left). Notice how it quickly finds a good solution for the classification task. Notice that the neurons in the first hidden layer have learned simple patterns, while the neurons in the second hidden layer have learned to combine the simple patterns of the first hidden layer into more complex patterns). In general, the more layers, the more complex the patterns can be.\n",
    "* **Activation function**: try replacing the Tanh activation function with the ReLU activation function, and train the network again. Notice that it finds a solution even faster, but this time the boundaries are linear. This is due to the shape of the ReLU function.\n",
    "* **Local minima**: modify the network architecture to have just one hidden layer with three neurons. Train it multiple times (to reset the network weights, just add and remove a neuron). Notice that the training time varies a lot, and sometimes it even gets stuck in a local minimum.\n",
    "* **Too small**: now remove one neuron to keep just 2. Notice that the neural network is now incapable of finding a good solution, even if you try multiple times. The model has too few parameters and it systematically underfits the training set.\n",
    "* **Large enough**: next, set the number of neurons to 8 and train the network several times. Notice that it is now consistently fast and never gets stuck. This highlights an important finding in neural network theory: large neural networks almost never get stuck in local minima, and even when they do these local optima are almost as good as the global optimum. However, they can still get stuck on long plateaus for a long time.\n",
    "* **Deep net and vanishing gradients**: now change the dataset to be the spiral (bottom right dataset under \"DATA\"). Change the network architecture to have 4 hidden layers with 8 neurons each. Notice that training takes much longer, and often gets stuck on plateaus for long periods of time. Also notice that the neurons in the highest layers (i.e. on the right) tend to evolve faster than the neurons in the lowest layers (i.e. on the left). This problem, called the \"vanishing gradients\" problem, can be alleviated using better weight initialization and other techniques, better optimizers (such as AdaGrad or Adam), or using Batch Normalization.\n",
    "* **More**: go ahead and play with the other parameters to get a feel of what they do. In fact, after this course you should definitely play with this UI for at least one hour, it will grow your intuitions about neural networks significantly."
   ]
  },
  {
   "cell_type": "markdown",
   "metadata": {},
   "source": [
    "![Exercise](https://c1.staticflickr.com/9/8101/8553474140_c50cf08708_b.jpg)"
   ]
  },
  {
   "cell_type": "markdown",
   "metadata": {},
   "source": [
    "## Exercise 2 – Image classification with tf.keras"
   ]
  },
  {
   "cell_type": "markdown",
   "metadata": {},
   "source": [
    "### Load the Fashion MNIST dataset"
   ]
  },
  {
   "cell_type": "markdown",
   "metadata": {},
   "source": [
    "Let's start by loading the fashion MNIST dataset. Keras has a number of functions to load popular datasets in `keras.datasets`. The dataset is already split for you between a training set and a test set, but it can be useful to split the training set further to have a validation set:"
   ]
  },
  {
   "cell_type": "code",
   "execution_count": null,
   "metadata": {},
   "outputs": [],
   "source": [
    "fashion_mnist = keras.datasets.fashion_mnist\n",
    "(X_train_full, y_train_full), (X_test, y_test) = fashion_mnist.load_data()\n",
    "X_valid, X_train = X_train_full[:5000], X_train_full[5000:]\n",
    "y_valid, y_train = y_train_full[:5000], y_train_full[5000:]"
   ]
  },
  {
   "cell_type": "markdown",
   "metadata": {},
   "source": [
    "The training set contains 55,000 grayscale images, each 28x28 pixels:"
   ]
  },
  {
   "cell_type": "code",
   "execution_count": null,
   "metadata": {},
   "outputs": [],
   "source": [
    "X_train.shape"
   ]
  },
  {
   "cell_type": "markdown",
   "metadata": {},
   "source": [
    "Each pixel intensity is represented by a uint8 (byte) from 0 to 255:"
   ]
  },
  {
   "cell_type": "code",
   "execution_count": null,
   "metadata": {},
   "outputs": [],
   "source": [
    "X_train[0]"
   ]
  },
  {
   "cell_type": "markdown",
   "metadata": {},
   "source": [
    "You can plot an image using Matplotlib's `imshow()` function, with a `'binary'`\n",
    " color map:"
   ]
  },
  {
   "cell_type": "code",
   "execution_count": null,
   "metadata": {},
   "outputs": [],
   "source": [
    "plt.imshow(X_train[0], cmap=\"binary\")\n",
    "plt.show()"
   ]
  },
  {
   "cell_type": "markdown",
   "metadata": {},
   "source": [
    "The labels are the class IDs (represented as uint8), from 0 to 9:"
   ]
  },
  {
   "cell_type": "code",
   "execution_count": null,
   "metadata": {},
   "outputs": [],
   "source": [
    "y_train"
   ]
  },
  {
   "cell_type": "markdown",
   "metadata": {},
   "source": [
    "Here are the corresponding class names:"
   ]
  },
  {
   "cell_type": "code",
   "execution_count": null,
   "metadata": {},
   "outputs": [],
   "source": [
    "class_names = [\"T-shirt/top\", \"Trouser\", \"Pullover\", \"Dress\", \"Coat\",\n",
    "               \"Sandal\", \"Shirt\", \"Sneaker\", \"Bag\", \"Ankle boot\"]"
   ]
  },
  {
   "cell_type": "markdown",
   "metadata": {},
   "source": [
    "So the first image in the training set is a coat:"
   ]
  },
  {
   "cell_type": "code",
   "execution_count": null,
   "metadata": {},
   "outputs": [],
   "source": [
    "class_names[y_train[0]]"
   ]
  },
  {
   "cell_type": "markdown",
   "metadata": {},
   "source": [
    "The validation set contains 5,000 images, and the test set contains 10,000 images:"
   ]
  },
  {
   "cell_type": "code",
   "execution_count": null,
   "metadata": {},
   "outputs": [],
   "source": [
    "X_valid.shape"
   ]
  },
  {
   "cell_type": "code",
   "execution_count": null,
   "metadata": {},
   "outputs": [],
   "source": [
    "X_test.shape"
   ]
  },
  {
   "cell_type": "markdown",
   "metadata": {},
   "source": [
    "Let's take a look at a sample of the images in the dataset:"
   ]
  },
  {
   "cell_type": "code",
   "execution_count": null,
   "metadata": {},
   "outputs": [],
   "source": [
    "n_rows = 5\n",
    "n_cols = 10\n",
    "plt.figure(figsize=(n_cols*1.4, n_rows * 1.6))\n",
    "for row in range(n_rows):\n",
    "    for col in range(n_cols):\n",
    "        index = n_cols * row + col\n",
    "        plt.subplot(n_rows, n_cols, index + 1)\n",
    "        plt.imshow(X_train[index], cmap=\"binary\", interpolation=\"nearest\")\n",
    "        plt.axis('off')\n",
    "        plt.title(class_names[y_train[index]])\n",
    "plt.show()"
   ]
  },
  {
   "cell_type": "markdown",
   "metadata": {},
   "source": [
    "This dataset has the same structure as the famous MNIST dataset (which you can load using `keras.datasets.mnist.load_data()`), except the images represent fashion items rather than handwritten digits, and it is much more challenging. A simple linear model can reach 92% accuracy on MNIST, but only 83% on fashion MNIST."
   ]
  },
  {
   "cell_type": "markdown",
   "metadata": {},
   "source": [
    "### Build a classification neural network with Keras"
   ]
  },
  {
   "cell_type": "markdown",
   "metadata": {},
   "source": [
    "### 2.1)\n",
    "Build a `Sequential` model (`keras.models.Sequential`), without any argument, then and add four layers to it by calling its `add()` method:\n",
    "  * a `Flatten` layer (`keras.layers.Flatten`) to convert each 28x28 image to a single row of 784 pixel values. Since it is the first layer in your model, you should specify the `input_shape` argument, leaving out the batch size: `[28, 28]`.\n",
    "  * a `Dense` layer  (`keras.layers.Dense`) with 300 neurons (aka units), and the `\"relu\"` activation function.\n",
    "  * Another `Dense` layer with 100 neurons, also with the `\"relu\"` activation function.\n",
    "  * A final `Dense` layer with 10 neurons (one per class), and with the `\"softmax\"` activation function to ensure that the sum of all the estimated class probabilities for each image is equal to 1."
   ]
  },
  {
   "cell_type": "code",
   "execution_count": null,
   "metadata": {},
   "outputs": [],
   "source": [
    "model = keras.models.Sequential()\n",
    "model.add(layer=keras.layers.Flatten(input_shape=[28, 28]))\n",
    "model.add(layer=keras.layers.Dense(units=300, activation='relu'))\n",
    "model.add(layer=keras.layers.Dense(units=100, activation='relu'))\n",
    "model.add(layer=keras.layers.Dense(units=100, activation='softmax'))\n",
    "print(model)"
   ]
  },
  {
   "cell_type": "markdown",
   "metadata": {},
   "source": [
    "### 2.2)\n",
    "Alternatively, you can pass a list containing the 4 layers to the constructor of the `Sequential` model. The model's `layers` attribute holds the list of layers."
   ]
  },
  {
   "cell_type": "code",
   "execution_count": null,
   "metadata": {},
   "outputs": [],
   "source": [
    "model = keras.models.Sequential(layers=[\n",
    "    keras.layers.Flatten(input_shape=[28, 28]),\n",
    "    keras.layers.Dense(units=300, activation='relu'),\n",
    "    keras.layers.Dense(units=100, activation='relu'),\n",
    "    keras.layers.Dense(units=100, activation='softmax') \n",
    "])"
   ]
  },
  {
   "cell_type": "code",
   "execution_count": null,
   "metadata": {},
   "outputs": [],
   "source": [
    "initial_weights = model.get_weights()"
   ]
  },
  {
   "cell_type": "markdown",
   "metadata": {},
   "source": [
    "### 2.3)\n",
    "Call the model's `summary()` method and examine the output. Also, try using `keras.utils.plot_model()` to save an image of your model's architecture. Alternatively, you can uncomment the following code to display the image within Jupyter."
   ]
  },
  {
   "cell_type": "markdown",
   "metadata": {},
   "source": [
    "**Warning**: you will need `pydot` and `graphviz` to use `plot_model()`."
   ]
  },
  {
   "cell_type": "code",
   "execution_count": null,
   "metadata": {},
   "outputs": [],
   "source": [
    "model.summary()"
   ]
  },
  {
   "cell_type": "code",
   "execution_count": null,
   "metadata": {},
   "outputs": [],
   "source": [
    "keras.utils.plot_model(model, to_file='model.png')"
   ]
  },
  {
   "cell_type": "code",
   "execution_count": null,
   "metadata": {},
   "outputs": [],
   "source": []
  },
  {
   "cell_type": "markdown",
   "metadata": {},
   "source": [
    "### 2.4)\n",
    "After a model is created, you must call its `compile()` method to specify the `loss` function and the `optimizer` to use. In this case, you want to use the `\"sparse_categorical_crossentropy\"` loss, and the `\"sgd\"` optimizer (stochastic gradient descent). Moreover, you can optionally specify a list of additional metrics that should be measured during training. In this case you should specify `metrics=[\"accuracy\"]`. **Note**: you can find more loss functions in `keras.losses`, more metrics in `keras.metrics` and more optimizers in `keras.optimizers`."
   ]
  },
  {
   "cell_type": "code",
   "execution_count": null,
   "metadata": {},
   "outputs": [],
   "source": [
    "model.compile(loss='sparse_categorical_crossentropy', optimizer='sgd', metrics=['accuracy'])"
   ]
  },
  {
   "cell_type": "code",
   "execution_count": null,
   "metadata": {},
   "outputs": [],
   "source": []
  },
  {
   "cell_type": "code",
   "execution_count": null,
   "metadata": {},
   "outputs": [],
   "source": []
  },
  {
   "cell_type": "markdown",
   "metadata": {},
   "source": [
    "### 2.5)\n",
    "Now your model is ready to be trained. Call its `fit()` method, passing it the input features (`X_train`) and the target classes (`y_train`). Set `epochs=10` (or else it will just run for a single epoch). You can also (optionally) pass the validation data by setting `validation_data=(X_valid, y_valid)`. If you do, Keras will compute the loss and the additional metrics (the accuracy in this case) on the validation set at the end of each epoch. If the performance on the training set is much better than on the validation set, your model is probably overfitting the training set (or there is a bug, such as a mismatch between the training set and the validation set).\n",
    "**Note**: the `fit()` method will return a `History` object containing training stats. Make sure to preserve it (`history = model.fit(...)`)."
   ]
  },
  {
   "cell_type": "code",
   "execution_count": null,
   "metadata": {},
   "outputs": [],
   "source": [
    "history = model.fit(X_train, y_train, epochs=10, validation_data=(X_valid, y_valid))"
   ]
  },
  {
   "cell_type": "code",
   "execution_count": null,
   "metadata": {},
   "outputs": [],
   "source": []
  },
  {
   "cell_type": "code",
   "execution_count": null,
   "metadata": {},
   "outputs": [],
   "source": []
  },
  {
   "cell_type": "markdown",
   "metadata": {},
   "source": [
    "### 2.6)\n",
    "Try running `pd.DataFrame(history.history).plot()` to plot the learning curves. To make the graph more readable, you can also set `figsize=(8, 5)`, call `plt.grid(True)` and `plt.gca().set_ylim(0, 1)`."
   ]
  },
  {
   "cell_type": "code",
   "execution_count": null,
   "metadata": {},
   "outputs": [],
   "source": [
    "history_plot = pd.DataFrame(history.history).plot(figsize=(8, 5))\n",
    "history_plot.grid(True)\n",
    "history_plot.set_ylim(0, 1)"
   ]
  },
  {
   "cell_type": "code",
   "execution_count": null,
   "metadata": {},
   "outputs": [],
   "source": []
  },
  {
   "cell_type": "code",
   "execution_count": null,
   "metadata": {},
   "outputs": [],
   "source": []
  },
  {
   "cell_type": "markdown",
   "metadata": {},
   "source": [
    "### 2.7)\n",
    "Try running `model.fit()` again, and notice that training continues where it left off."
   ]
  },
  {
   "cell_type": "code",
   "execution_count": null,
   "metadata": {},
   "outputs": [],
   "source": [
    "history = model.fit(X_train, y_train, epochs=10, validation_data=(X_valid, y_valid))"
   ]
  },
  {
   "cell_type": "code",
   "execution_count": null,
   "metadata": {},
   "outputs": [],
   "source": []
  },
  {
   "cell_type": "code",
   "execution_count": null,
   "metadata": {},
   "outputs": [],
   "source": []
  },
  {
   "cell_type": "markdown",
   "metadata": {},
   "source": [
    "### 2.8)\n",
    "call the model's `evaluate()` method, passing it the test set (`X_test` and `y_test`). This will compute the loss (cross-entropy) on the test set, as well as all the additional metrics (in this case, the accuracy). Your model should achieve over 80% accuracy on the test set."
   ]
  },
  {
   "cell_type": "code",
   "execution_count": null,
   "metadata": {},
   "outputs": [],
   "source": [
    "model.evaluate(X_test, y_test)"
   ]
  },
  {
   "cell_type": "code",
   "execution_count": null,
   "metadata": {},
   "outputs": [],
   "source": []
  },
  {
   "cell_type": "code",
   "execution_count": null,
   "metadata": {},
   "outputs": [],
   "source": []
  },
  {
   "cell_type": "markdown",
   "metadata": {},
   "source": [
    "### 2.9)\n",
    "Define `X_new` as the first 10 instances of the test set. Call the model's `predict()` method to estimate the probability of each class for each instance (for better readability, you may use the output array's `round()` method):"
   ]
  },
  {
   "cell_type": "code",
   "execution_count": null,
   "metadata": {},
   "outputs": [],
   "source": [
    "X_new = X_test[0:10,]"
   ]
  },
  {
   "cell_type": "code",
   "execution_count": null,
   "metadata": {
    "scrolled": true
   },
   "outputs": [],
   "source": [
    "model.predict(X_new).round() == 1"
   ]
  },
  {
   "cell_type": "code",
   "execution_count": null,
   "metadata": {},
   "outputs": [],
   "source": []
  },
  {
   "cell_type": "markdown",
   "metadata": {},
   "source": [
    "### 2.10)\n",
    "Often, you may only be interested in the most likely class. Use `np.argmax()` to get the class ID of the most likely class for each instance. **Tip**: you want to set `axis=1`."
   ]
  },
  {
   "cell_type": "code",
   "execution_count": null,
   "metadata": {},
   "outputs": [],
   "source": [
    "np.argmax(model.predict(X_new), axis=1)"
   ]
  },
  {
   "cell_type": "code",
   "execution_count": null,
   "metadata": {},
   "outputs": [],
   "source": []
  },
  {
   "cell_type": "code",
   "execution_count": null,
   "metadata": {},
   "outputs": [],
   "source": []
  },
  {
   "cell_type": "markdown",
   "metadata": {},
   "source": [
    "### 2.11)\n",
    "Call the model's `predict_classes()` method for `X_new`. You should get the same result as above."
   ]
  },
  {
   "cell_type": "code",
   "execution_count": null,
   "metadata": {},
   "outputs": [],
   "source": [
    "y_predicted = model.predict_classes(X_new)"
   ]
  },
  {
   "cell_type": "code",
   "execution_count": null,
   "metadata": {},
   "outputs": [],
   "source": [
    "n_rows = 1\n",
    "n_cols = 10\n",
    "plt.figure(figsize=(n_cols*1.4, n_rows * 1.6))\n",
    "for row in range(n_rows):\n",
    "    for col in range(n_cols):\n",
    "        index = n_cols * row + col\n",
    "        plt.subplot(n_rows, n_cols, index + 1)\n",
    "        plt.imshow(X_new[index], cmap=\"binary\", interpolation=\"nearest\")\n",
    "        plt.axis('off')\n",
    "        plt.title(class_names[y_predicted[index]])\n",
    "plt.show()"
   ]
  },
  {
   "cell_type": "code",
   "execution_count": null,
   "metadata": {},
   "outputs": [],
   "source": []
  },
  {
   "cell_type": "markdown",
   "metadata": {},
   "source": [
    "### 2.12)\n",
    "(Optional) It is often useful to know how confident the model is for each prediction. Try finding the estimated probability for each predicted class using `np.max()`."
   ]
  },
  {
   "cell_type": "code",
   "execution_count": null,
   "metadata": {},
   "outputs": [],
   "source": [
    "np.max(model.predict(X_new), axis=1)"
   ]
  },
  {
   "cell_type": "code",
   "execution_count": null,
   "metadata": {},
   "outputs": [],
   "source": []
  },
  {
   "cell_type": "code",
   "execution_count": null,
   "metadata": {},
   "outputs": [],
   "source": []
  },
  {
   "cell_type": "markdown",
   "metadata": {},
   "source": [
    "### 2.13)\n",
    "(Optional) It is frequent to want the top k classes and their estimated probabilities rather just the most likely class. You can use `np.argsort()` for this."
   ]
  },
  {
   "cell_type": "code",
   "execution_count": null,
   "metadata": {},
   "outputs": [],
   "source": [
    "k = 5\n",
    "top_k = np.argsort(-model.predict(X_new)[:,:10].round(2), axis=1)[:, :k]\n",
    "\n",
    "vfunc = np.vectorize(lambda class_id: class_names[class_id])\n",
    "print(vfunc(top_k))"
   ]
  },
  {
   "cell_type": "code",
   "execution_count": null,
   "metadata": {},
   "outputs": [],
   "source": []
  },
  {
   "cell_type": "markdown",
   "metadata": {},
   "source": [
    "![Exercise solution](https://camo.githubusercontent.com/250388fde3fac9135ead9471733ee28e049f7a37/68747470733a2f2f75706c6f61642e77696b696d656469612e6f72672f77696b6970656469612f636f6d6d6f6e732f302f30362f46696c6f735f736567756e646f5f6c6f676f5f253238666c69707065642532392e6a7067)"
   ]
  },
  {
   "cell_type": "markdown",
   "metadata": {},
   "source": [
    "## Exercise 2 - Solution"
   ]
  },
  {
   "cell_type": "markdown",
   "metadata": {},
   "source": [
    "### 2.1)\n",
    "Build a `Sequential` model (`keras.models.Sequential`), without any argument, then and add four layers to it by calling its `add()` method:\n",
    "  * a `Flatten` layer (`keras.layers.Flatten`) to convert each 28x28 image to a single row of 784 pixel values. Since it is the first layer in your model, you should specify the `input_shape` argument, leaving out the batch size: `[28, 28]`.\n",
    "  * a `Dense` layer  (`keras.layers.Dense`) with 300 neurons (aka units), and the `\"relu\"` activation function.\n",
    "  * Another `Dense` layer with 100 neurons, also with the `\"relu\"` activation function.\n",
    "  * A final `Dense` layer with 10 neurons (one per class), and with the `\"softmax\"` activation function to ensure that the sum of all the estimated class probabilities for each image is equal to 1."
   ]
  },
  {
   "cell_type": "code",
   "execution_count": null,
   "metadata": {},
   "outputs": [],
   "source": [
    "model = keras.models.Sequential()\n",
    "model.add(keras.layers.Flatten(input_shape=[28, 28]))\n",
    "model.add(keras.layers.Dense(300, activation=\"relu\"))\n",
    "model.add(keras.layers.Dense(100, activation=\"relu\"))\n",
    "model.add(keras.layers.Dense(10, activation=\"softmax\"))"
   ]
  },
  {
   "cell_type": "markdown",
   "metadata": {},
   "source": [
    "### 2.2)\n",
    "Alternatively, you can pass a list containing the 4 layers to the constructor of the `Sequential` model. The model's `layers` attribute holds the list of layers."
   ]
  },
  {
   "cell_type": "code",
   "execution_count": null,
   "metadata": {},
   "outputs": [],
   "source": [
    "model = keras.models.Sequential([\n",
    "    keras.layers.Flatten(input_shape=[28, 28]),\n",
    "    keras.layers.Dense(300, activation=\"relu\"),\n",
    "    keras.layers.Dense(100, activation=\"relu\"),\n",
    "    keras.layers.Dense(10, activation=\"softmax\")\n",
    "])"
   ]
  },
  {
   "cell_type": "code",
   "execution_count": null,
   "metadata": {},
   "outputs": [],
   "source": [
    "model.layers"
   ]
  },
  {
   "cell_type": "markdown",
   "metadata": {},
   "source": [
    "### 2.3)\n",
    "Call the model's `summary()` method and examine the output. Also, try using `keras.utils.plot_model()` to save an image of your model's architecture. Alternatively, you can uncomment the following code to display the image within Jupyter."
   ]
  },
  {
   "cell_type": "code",
   "execution_count": null,
   "metadata": {},
   "outputs": [],
   "source": [
    "model.summary()"
   ]
  },
  {
   "cell_type": "code",
   "execution_count": null,
   "metadata": {},
   "outputs": [],
   "source": [
    "keras.utils.plot_model(model, \"my_mnist_model.png\", show_shapes=True)"
   ]
  },
  {
   "cell_type": "code",
   "execution_count": null,
   "metadata": {},
   "outputs": [],
   "source": [
    "%%html\n",
    "<img src=\"my_mnist_model.png\" />"
   ]
  },
  {
   "cell_type": "markdown",
   "metadata": {},
   "source": [
    "**Warning**: at the present, you need `from tensorflow.python.keras.utils.vis_utils import model_to_dot`, instead of simply `keras.utils.model_to_dot`. See [TensorFlow issue 24639](https://github.com/tensorflow/tensorflow/issues/24639)."
   ]
  },
  {
   "cell_type": "code",
   "execution_count": null,
   "metadata": {},
   "outputs": [],
   "source": [
    "from IPython.display import SVG\n",
    "from tensorflow.python.keras.utils.vis_utils import model_to_dot\n",
    "SVG(model_to_dot(model, show_shapes=True).create(prog='dot', format='svg'))"
   ]
  },
  {
   "cell_type": "markdown",
   "metadata": {},
   "source": [
    "### 2.4)\n",
    "After a model is created, you must call its `compile()` method to specify the `loss` function and the `optimizer` to use. In this case, you want to use the `\"sparse_categorical_crossentropy\"` loss, and the `\"sgd\"` optimizer (stochastic gradient descent). Moreover, you can optionally specify a list of additional metrics that should be measured during training. In this case you should specify `metrics=[\"accuracy\"]`. **Note**: you can find more loss functions in `keras.losses`, more metrics in `keras.metrics` and more optimizers in `keras.optimizers`."
   ]
  },
  {
   "cell_type": "code",
   "execution_count": null,
   "metadata": {},
   "outputs": [],
   "source": [
    "model.compile(loss=\"sparse_categorical_crossentropy\",\n",
    "              optimizer=\"sgd\", metrics=[\"accuracy\"])"
   ]
  },
  {
   "cell_type": "markdown",
   "metadata": {},
   "source": [
    "### 2.5)\n",
    "Now your model is ready to be trained. Call its `fit()` method, passing it the input features (`X_train`) and the target classes (`y_train`). Set `epochs=10` (or else it will just run for a single epoch). You can also (optionally) pass the validation data by setting `validation_data=(X_valid, y_valid)`. If you do, Keras will compute the loss and the additional metrics (the accuracy in this case) on the validation set at the end of each epoch. If the performance on the training set is much better than on the validation set, your model is probably overfitting the training set (or there is a bug, such as a mismatch between the training set and the validation set).\n",
    "**Note**: the `fit()` method will return a `History` object containing training stats. Make sure to preserve it (`history = model.fit(...)`)."
   ]
  },
  {
   "cell_type": "code",
   "execution_count": null,
   "metadata": {},
   "outputs": [],
   "source": [
    "history = model.fit(X_train, y_train, epochs=10,\n",
    "                    validation_data=(X_valid, y_valid))"
   ]
  },
  {
   "cell_type": "markdown",
   "metadata": {},
   "source": [
    "### 2.6)\n",
    "Try running `pd.DataFrame(history.history).plot()` to plot the learning curves. To make the graph more readable, you can also set `figsize=(8, 5)`, call `plt.grid(True)` and `plt.gca().set_ylim(0, 1)`."
   ]
  },
  {
   "cell_type": "code",
   "execution_count": 5,
   "metadata": {},
   "outputs": [],
   "source": [
    "def plot_learning_curves(history):\n",
    "    pd.DataFrame(history.history).plot(figsize=(8, 5))\n",
    "    plt.grid(True)\n",
    "    plt.gca().set_ylim(0, 1)\n",
    "    plt.show()"
   ]
  },
  {
   "cell_type": "code",
   "execution_count": null,
   "metadata": {},
   "outputs": [],
   "source": [
    "plot_learning_curves(history)"
   ]
  },
  {
   "cell_type": "markdown",
   "metadata": {},
   "source": [
    "### 2.7)\n",
    "Try running `model.fit()` again, and notice that training continues where it left off."
   ]
  },
  {
   "cell_type": "code",
   "execution_count": null,
   "metadata": {},
   "outputs": [],
   "source": [
    "history = model.fit(X_train, y_train, epochs=10,\n",
    "                    validation_data=(X_valid, y_valid))"
   ]
  },
  {
   "cell_type": "markdown",
   "metadata": {},
   "source": [
    "### 2.8)\n",
    "Call the model's `evaluate()` method, passing it the test set (`X_test` and `y_test`). This will compute the loss (cross-entropy) on the test set, as well as all the additional metrics (in this case, the accuracy). Your model should achieve over 80% accuracy on the test set."
   ]
  },
  {
   "cell_type": "code",
   "execution_count": null,
   "metadata": {},
   "outputs": [],
   "source": [
    "model.evaluate(X_test, y_test)"
   ]
  },
  {
   "cell_type": "markdown",
   "metadata": {},
   "source": [
    "### 2.9)\n",
    "Define `X_new` as the first 10 instances of the test set. Call the model's `predict()` method to estimate the probability of each class for each instance (for better readability, you may use the output array's `round()` method):"
   ]
  },
  {
   "cell_type": "code",
   "execution_count": null,
   "metadata": {},
   "outputs": [],
   "source": [
    "n_new = 10\n",
    "X_new = X_test[:n_new]\n",
    "y_proba = model.predict(X_new)\n",
    "y_proba.round(2)"
   ]
  },
  {
   "cell_type": "markdown",
   "metadata": {},
   "source": [
    "### 2.10)\n",
    "Often, you may only be interested in the most likely class. Use `np.argmax()` to get the class ID of the most likely class for each instance. **Tip**: you want to set `axis=1`."
   ]
  },
  {
   "cell_type": "code",
   "execution_count": null,
   "metadata": {},
   "outputs": [],
   "source": [
    "y_pred = y_proba.argmax(axis=1)\n",
    "y_pred"
   ]
  },
  {
   "cell_type": "markdown",
   "metadata": {},
   "source": [
    "### 2.11)\n",
    "Call the model's `predict_classes()` method for `X_new`. You should get the same result as above."
   ]
  },
  {
   "cell_type": "code",
   "execution_count": null,
   "metadata": {},
   "outputs": [],
   "source": [
    "y_pred = model.predict_classes(X_new)\n",
    "y_pred"
   ]
  },
  {
   "cell_type": "markdown",
   "metadata": {},
   "source": [
    "### 2.12)\n",
    "(Optional) It is often useful to know how confident the model is for each prediction. Try finding the estimated probability for each predicted class using `np.max()`."
   ]
  },
  {
   "cell_type": "code",
   "execution_count": null,
   "metadata": {},
   "outputs": [],
   "source": [
    "y_proba.max(axis=1).round(2)"
   ]
  },
  {
   "cell_type": "markdown",
   "metadata": {},
   "source": [
    "### 2.13)\n",
    "(Optional) It is frequent to want the top k classes and their estimated probabilities rather just the most likely class. You can use `np.argsort()` for this."
   ]
  },
  {
   "cell_type": "code",
   "execution_count": null,
   "metadata": {},
   "outputs": [],
   "source": [
    "k = 3\n",
    "top_k = np.argsort(-y_proba, axis=1)[:, :k]\n",
    "top_k"
   ]
  },
  {
   "cell_type": "code",
   "execution_count": null,
   "metadata": {},
   "outputs": [],
   "source": [
    "row_indices = np.tile(np.arange(len(top_k)), [k, 1]).T\n",
    "y_proba[row_indices, top_k].round(2)"
   ]
  },
  {
   "cell_type": "markdown",
   "metadata": {},
   "source": [
    "![Exercise](https://c1.staticflickr.com/9/8101/8553474140_c50cf08708_b.jpg)"
   ]
  },
  {
   "cell_type": "markdown",
   "metadata": {},
   "source": [
    "## Exercise 3 – Scale the features"
   ]
  },
  {
   "cell_type": "markdown",
   "metadata": {},
   "source": [
    "### 3.1)\n",
    "When using Gradient Descent, it is usually best to ensure that the features all have a similar scale, preferably with a Normal distribution. Try to standardize the pixel values and see if this improves the performance of your neural network.\n",
    "\n",
    "**Tips**:\n",
    "* For each feature (pixel intensity), you must subtract the `mean()` of that feature (across all instances, so use `axis=0`) and divide by its standard deviation (`std()`, again `axis=0`). Alternatively, you can use Scikit-Learn's `StandardScaler`.\n",
    "* Make sure you compute the means and standard deviations on the training set, and use these statistics to scale the training set, the validation set and the test set (you should not fit the validation set or the test set, and computing the means and standard deviations counts as \"fitting\")."
   ]
  },
  {
   "cell_type": "code",
   "execution_count": null,
   "metadata": {},
   "outputs": [],
   "source": [
    "from sklearn.preprocessing import StandardScaler\n",
    "scaler = StandardScaler()\n",
    "\n",
    "X_train_scaled = scaler.fit_transform(X_train.astype(np.float32).reshape(-1, 1)).reshape(-1, 28, 28)\n",
    "X_valid_scaled = scaler.transform(X_valid.astype(np.float32).reshape(-1, 1)).reshape(-1, 28, 28)\n",
    "X_test_scaled = scaler.transform(X_test.astype(np.float32).reshape(-1, 1)).reshape(-1, 28, 28)"
   ]
  },
  {
   "cell_type": "code",
   "execution_count": null,
   "metadata": {},
   "outputs": [],
   "source": []
  },
  {
   "cell_type": "code",
   "execution_count": null,
   "metadata": {},
   "outputs": [],
   "source": []
  },
  {
   "cell_type": "markdown",
   "metadata": {},
   "source": [
    "### 3.2)\n",
    "Plot the learning curves. Do they look better than earlier?"
   ]
  },
  {
   "cell_type": "code",
   "execution_count": null,
   "metadata": {},
   "outputs": [],
   "source": [
    "model.set_weights(initial_weights)\n",
    "model.compile(loss='sparse_categorical_crossentropy', optimizer='sgd', metrics=['accuracy'])\n",
    "history = model.fit(X_train_scaled, y_train, epochs=20, validation_data=(X_valid_scaled, y_valid))\n",
    "model.evaluate(X_test_scaled, y_test)"
   ]
  },
  {
   "cell_type": "code",
   "execution_count": null,
   "metadata": {},
   "outputs": [],
   "source": [
    "history_plot = pd.DataFrame(history.history).plot(figsize=(8, 5))\n",
    "history_plot.grid(True)\n",
    "history_plot.set_ylim(0, 1)"
   ]
  },
  {
   "cell_type": "code",
   "execution_count": null,
   "metadata": {},
   "outputs": [],
   "source": []
  },
  {
   "cell_type": "markdown",
   "metadata": {},
   "source": [
    "![Exercise solution](https://camo.githubusercontent.com/250388fde3fac9135ead9471733ee28e049f7a37/68747470733a2f2f75706c6f61642e77696b696d656469612e6f72672f77696b6970656469612f636f6d6d6f6e732f302f30362f46696c6f735f736567756e646f5f6c6f676f5f253238666c69707065642532392e6a7067)"
   ]
  },
  {
   "cell_type": "markdown",
   "metadata": {},
   "source": [
    "## Exercise 3 – Solution"
   ]
  },
  {
   "cell_type": "markdown",
   "metadata": {},
   "source": [
    "### 3.1)\n",
    "When using Gradient Descent, it is usually best to ensure that the features all have a similar scale, preferably with a Normal distribution. Try to standardize the pixel values and see if this improves the performance of your neural network."
   ]
  },
  {
   "cell_type": "code",
   "execution_count": null,
   "metadata": {},
   "outputs": [],
   "source": [
    "pixel_means = X_train.mean(axis = 0)\n",
    "pixel_stds = X_train.std(axis = 0)\n",
    "X_train_scaled = (X_train - pixel_means) / pixel_stds\n",
    "X_valid_scaled = (X_valid - pixel_means) / pixel_stds\n",
    "X_test_scaled = (X_test - pixel_means) / pixel_stds"
   ]
  },
  {
   "cell_type": "code",
   "execution_count": null,
   "metadata": {},
   "outputs": [],
   "source": [
    "from sklearn.preprocessing import StandardScaler\n",
    "\n",
    "scaler = StandardScaler()\n",
    "X_train_scaled = scaler.fit_transform(X_train.astype(np.float32).reshape(-1, 1)).reshape(-1, 28, 28)\n",
    "X_valid_scaled = scaler.transform(X_valid.astype(np.float32).reshape(-1, 1)).reshape(-1, 28, 28)\n",
    "X_test_scaled = scaler.transform(X_test.astype(np.float32).reshape(-1, 1)).reshape(-1, 28, 28)"
   ]
  },
  {
   "cell_type": "code",
   "execution_count": null,
   "metadata": {},
   "outputs": [],
   "source": [
    "model = keras.models.Sequential([\n",
    "    keras.layers.Flatten(input_shape=[28, 28]),\n",
    "    keras.layers.Dense(300, activation=\"relu\"),\n",
    "    keras.layers.Dense(100, activation=\"relu\"),\n",
    "    keras.layers.Dense(10, activation=\"softmax\")\n",
    "])\n",
    "model.compile(loss=\"sparse_categorical_crossentropy\",\n",
    "              optimizer=\"sgd\", metrics=[\"accuracy\"])\n",
    "history = model.fit(X_train_scaled, y_train, epochs=20,\n",
    "                    validation_data=(X_valid_scaled, y_valid))"
   ]
  },
  {
   "cell_type": "code",
   "execution_count": null,
   "metadata": {},
   "outputs": [],
   "source": [
    "model.evaluate(X_test_scaled, y_test)"
   ]
  },
  {
   "cell_type": "markdown",
   "metadata": {},
   "source": [
    "### 3.2)\n",
    "Plot the learning curves. Do they look better than earlier?"
   ]
  },
  {
   "cell_type": "code",
   "execution_count": null,
   "metadata": {
    "scrolled": true
   },
   "outputs": [],
   "source": [
    "plot_learning_curves(history)"
   ]
  },
  {
   "cell_type": "markdown",
   "metadata": {},
   "source": [
    "![Exercise](https://c1.staticflickr.com/9/8101/8553474140_c50cf08708_b.jpg)"
   ]
  },
  {
   "cell_type": "markdown",
   "metadata": {},
   "source": [
    "## Exercise 4 – Use Callbacks"
   ]
  },
  {
   "cell_type": "markdown",
   "metadata": {},
   "source": [
    "### 4.1)\n",
    "The `fit()` method accepts a `callbacks` argument. Try training your model with a large number of epochs, a validation set, and with a few callbacks from `keras.callbacks`:\n",
    "* `TensorBoard`: specify a log directory. It should be a subdirectory of a root logdir, such as `./my_logs/run_1`, and it should be different every time you train your model. You can use a timestamp in the subdirectory's path to ensure that it changes at every run.\n",
    "* `EarlyStopping`: specify `patience=5`\n",
    "* `ModelCheckpoint`: specify the path of the checkpoint file to save (e.g., `\"my_mnist_model.h5\"`) and set `save_best_only=True`\n",
    "\n",
    "Notice that the `EarlyStopping` callback will interrupt training before it reaches the requested number of epochs. This reduces the risk of overfitting."
   ]
  },
  {
   "cell_type": "code",
   "execution_count": null,
   "metadata": {
    "scrolled": false
   },
   "outputs": [],
   "source": [
    "model.set_weights(initial_weights)\n",
    "model.compile(loss='sparse_categorical_crossentropy', optimizer='sgd', metrics=['accuracy'])\n",
    "history = model.fit(X_train_scaled, y_train, epochs=100, validation_data=(X_valid_scaled, y_valid),\n",
    "                   callbacks=[\n",
    "                       keras.callbacks.EarlyStopping(patience=5),\n",
    "                       keras.callbacks.ModelCheckpoint('my_mnist_model.h5', save_best_only=True)\n",
    "                   ])\n",
    "\n",
    "model.evaluate(X_test_scaled, y_test)"
   ]
  },
  {
   "cell_type": "code",
   "execution_count": null,
   "metadata": {},
   "outputs": [],
   "source": []
  },
  {
   "cell_type": "code",
   "execution_count": null,
   "metadata": {},
   "outputs": [],
   "source": []
  },
  {
   "cell_type": "markdown",
   "metadata": {},
   "source": [
    "### 4.2)\n",
    "Run the following code (from this [StackOverflow answer](https://stackoverflow.com/questions/38189119/simple-way-to-visualize-a-tensorflow-graph-in-jupyter/53978715#53978715)) to start a TensorBoard server and open a new tab to visualize the learning curve. When you are done, you can stop the tensorboard server by running `server.kill()`."
   ]
  },
  {
   "cell_type": "code",
   "execution_count": null,
   "metadata": {},
   "outputs": [],
   "source": [
    "root_logdir = os.path.join(os.curdir, \"my_logs\")"
   ]
  },
  {
   "cell_type": "code",
   "execution_count": null,
   "metadata": {},
   "outputs": [],
   "source": [
    "def tb(logdir=root_logdir, port=6006, open_tab=True, sleep=2):\n",
    "    import subprocess\n",
    "    proc = subprocess.Popen(\n",
    "        \"tensorboard --logdir={0} --port={1}\".format(logdir, port), shell=True)\n",
    "    if open_tab:\n",
    "        import time\n",
    "        time.sleep(sleep)\n",
    "        import webbrowser\n",
    "        webbrowser.open(\"http://127.0.0.1:{}/\".format(port))\n",
    "    return proc"
   ]
  },
  {
   "cell_type": "code",
   "execution_count": null,
   "metadata": {},
   "outputs": [],
   "source": [
    "#server = tb() # uncomment and run this to start the TensorBoard server"
   ]
  },
  {
   "cell_type": "code",
   "execution_count": null,
   "metadata": {},
   "outputs": [],
   "source": [
    "#server.kill() # uncomment and run this to stop the server"
   ]
  },
  {
   "cell_type": "markdown",
   "metadata": {},
   "source": [
    "### 4.3)\n",
    "The early stopping callback only stopped training after 10 epochs without progress, so your model may already have started to overfit the training set. Fortunately, since the `ModelCheckpoint` callback only saved the best models (on the validation set), the last saved model is the best on the validation set, so try loading it using `keras.models.load_model()`. Finally evaluate it on the test set."
   ]
  },
  {
   "cell_type": "code",
   "execution_count": null,
   "metadata": {},
   "outputs": [],
   "source": []
  },
  {
   "cell_type": "code",
   "execution_count": null,
   "metadata": {},
   "outputs": [],
   "source": []
  },
  {
   "cell_type": "code",
   "execution_count": null,
   "metadata": {},
   "outputs": [],
   "source": []
  },
  {
   "cell_type": "markdown",
   "metadata": {},
   "source": [
    "### 4.4)\n",
    "Look at the list of available callbacks at https://keras.io/callbacks/"
   ]
  },
  {
   "cell_type": "code",
   "execution_count": null,
   "metadata": {},
   "outputs": [],
   "source": []
  },
  {
   "cell_type": "code",
   "execution_count": null,
   "metadata": {},
   "outputs": [],
   "source": []
  },
  {
   "cell_type": "code",
   "execution_count": null,
   "metadata": {},
   "outputs": [],
   "source": []
  },
  {
   "cell_type": "markdown",
   "metadata": {},
   "source": [
    "![Exercise solution](https://camo.githubusercontent.com/250388fde3fac9135ead9471733ee28e049f7a37/68747470733a2f2f75706c6f61642e77696b696d656469612e6f72672f77696b6970656469612f636f6d6d6f6e732f302f30362f46696c6f735f736567756e646f5f6c6f676f5f253238666c69707065642532392e6a7067)"
   ]
  },
  {
   "cell_type": "markdown",
   "metadata": {},
   "source": [
    "## Exercise 4 – Solution"
   ]
  },
  {
   "cell_type": "markdown",
   "metadata": {},
   "source": [
    "### 4.1)\n",
    "The `fit()` method accepts a `callbacks` argument. Try training your model with a large number of epochs, a validation set, and with a few callbacks from `keras.callbacks`:\n",
    "* `TensorBoard`: specify a log directory. It should be a subdirectory of a root logdir, such as `./my_logs/run_1`, and it should be different every time you train your model. You can use a timestamp in the subdirectory's path to ensure that it changes at every run.\n",
    "* `EarlyStopping`: specify `patience=5`\n",
    "* `ModelCheckpoint`: specify the path of the checkpoint file to save (e.g., `\"my_mnist_model.h5\"`) and set `save_best_only=True`\n",
    "\n",
    "Notice that the `EarlyStopping` callback will interrupt training before it reaches the requested number of epochs. This reduces the risk of overfitting."
   ]
  },
  {
   "cell_type": "code",
   "execution_count": null,
   "metadata": {},
   "outputs": [],
   "source": [
    "model = keras.models.Sequential([\n",
    "    keras.layers.Flatten(input_shape=[28, 28]),\n",
    "    keras.layers.Dense(300, activation=\"relu\"),\n",
    "    keras.layers.Dense(100, activation=\"relu\"),\n",
    "    keras.layers.Dense(10, activation=\"softmax\")\n",
    "])\n",
    "model.compile(loss=\"sparse_categorical_crossentropy\",\n",
    "              optimizer=\"sgd\", metrics=[\"accuracy\"])"
   ]
  },
  {
   "cell_type": "code",
   "execution_count": null,
   "metadata": {},
   "outputs": [],
   "source": [
    "logdir = os.path.join(root_logdir, \"run_{}\".format(time.time()))\n",
    "\n",
    "callbacks = [\n",
    "    keras.callbacks.TensorBoard(logdir),\n",
    "    keras.callbacks.EarlyStopping(patience=5),\n",
    "    keras.callbacks.ModelCheckpoint(\"my_mnist_model.h5\", save_best_only=True),\n",
    "]\n",
    "history = model.fit(X_train_scaled, y_train, epochs=50,\n",
    "                    validation_data=(X_valid_scaled, y_valid),\n",
    "                    callbacks=callbacks)"
   ]
  },
  {
   "cell_type": "markdown",
   "metadata": {},
   "source": [
    "### 4.2)\n",
    "Run the following code (from this [StackOverflow answer](https://stackoverflow.com/questions/38189119/simple-way-to-visualize-a-tensorflow-graph-in-jupyter/53978715#53978715)) to start a TensorBoard server and open a new tab to visualize the learning curve. When you are done, you can stop the tensorboard server by running `server.kill()`."
   ]
  },
  {
   "cell_type": "code",
   "execution_count": null,
   "metadata": {},
   "outputs": [],
   "source": [
    "server = tb()"
   ]
  },
  {
   "cell_type": "code",
   "execution_count": null,
   "metadata": {},
   "outputs": [],
   "source": [
    "server.kill()"
   ]
  },
  {
   "cell_type": "markdown",
   "metadata": {},
   "source": [
    "4.3) The early stopping callback only stopped training after 10 epochs without progress, so your model may already have started to overfit the training set. Fortunately, since the `ModelCheckpoint` callback only saved the best models (on the validation set), the last saved model is the best on the validation set, so try loading it using `keras.models.load_model()`. Finally evaluate it on the test set."
   ]
  },
  {
   "cell_type": "code",
   "execution_count": null,
   "metadata": {},
   "outputs": [],
   "source": [
    "model = keras.models.load_model(\"my_mnist_model.h5\")"
   ]
  },
  {
   "cell_type": "code",
   "execution_count": null,
   "metadata": {},
   "outputs": [],
   "source": [
    "model.evaluate(X_valid_scaled, y_valid)"
   ]
  },
  {
   "cell_type": "markdown",
   "metadata": {},
   "source": [
    "### 4.4)\n",
    "Look at the list of available callbacks at https://keras.io/callbacks/"
   ]
  },
  {
   "cell_type": "markdown",
   "metadata": {},
   "source": [
    "![Exercise](https://c1.staticflickr.com/9/8101/8553474140_c50cf08708_b.jpg)"
   ]
  },
  {
   "cell_type": "markdown",
   "metadata": {},
   "source": [
    "## Exercise 5 – A neural net for regression"
   ]
  },
  {
   "cell_type": "markdown",
   "metadata": {},
   "source": [
    "### 5.1)\n",
    "Load the California housing dataset using `sklearn.datasets.fetch_california_housing`. This returns an object with a `DESCR` attribute describing the dataset, a `data` attribute with the input features, and a `target` attribute with the labels. The goal is to predict the price of houses in a district (a census block) given some stats about that district. This is a regression task (predicting values)."
   ]
  },
  {
   "cell_type": "code",
   "execution_count": 6,
   "metadata": {},
   "outputs": [],
   "source": [
    "from sklearn.datasets import fetch_california_housing\n",
    "housing = fetch_california_housing()"
   ]
  },
  {
   "cell_type": "code",
   "execution_count": null,
   "metadata": {},
   "outputs": [],
   "source": [
    "housing.data"
   ]
  },
  {
   "cell_type": "code",
   "execution_count": null,
   "metadata": {},
   "outputs": [],
   "source": [
    "housing.feature_names"
   ]
  },
  {
   "cell_type": "code",
   "execution_count": null,
   "metadata": {},
   "outputs": [],
   "source": [
    "housing.target"
   ]
  },
  {
   "cell_type": "code",
   "execution_count": null,
   "metadata": {},
   "outputs": [],
   "source": [
    "print(housing.DESCR)"
   ]
  },
  {
   "cell_type": "markdown",
   "metadata": {},
   "source": [
    "### 5.2)\n",
    "Split the dataset into a training set, a validation set and a test set using Scikit-Learn's `sklearn.model_selection.train_test_split()` function."
   ]
  },
  {
   "cell_type": "code",
   "execution_count": 7,
   "metadata": {},
   "outputs": [],
   "source": [
    "from sklearn.model_selection import train_test_split\n",
    "?sklearn.model_selection.train_test_split"
   ]
  },
  {
   "cell_type": "code",
   "execution_count": null,
   "metadata": {},
   "outputs": [],
   "source": [
    "X_train, X_test, y_train, y_test = train_test_split(housing.data, housing.target, test_size=0.2, random_state=42)\n",
    "X_test, X_valid, y_test, y_valid = train_test_split(X_test, y_test, test_size=0.5, random_state=42)"
   ]
  },
  {
   "cell_type": "code",
   "execution_count": null,
   "metadata": {},
   "outputs": [],
   "source": [
    "print(housing.data.shape)\n",
    "print(housing.target.shape)\n",
    "\n",
    "print(X_train.shape)\n",
    "print(y_train.shape)\n",
    "\n",
    "print(X_test.shape)\n",
    "print(y_test.shape)\n",
    "\n",
    "print(X_valid.shape)\n",
    "print(y_valid.shape)"
   ]
  },
  {
   "cell_type": "markdown",
   "metadata": {},
   "source": [
    "### 5.3)\n",
    "Scale the input features (e.g., using a `sklearn.preprocessing.StandardScaler`). Once again, don't forget that you should not fit the validation set or the test set, only the training set."
   ]
  },
  {
   "cell_type": "code",
   "execution_count": null,
   "metadata": {},
   "outputs": [],
   "source": [
    "from sklearn.preprocessing import StandardScaler\n",
    "\n",
    "scaler = StandardScaler()\n",
    "\n",
    "scaler = StandardScaler()\n",
    "X_train_scaled = scaler.fit_transform(X_train)\n",
    "X_valid_scaled = scaler.transform(X_valid)\n",
    "X_test_scaled = scaler.transform(X_test)"
   ]
  },
  {
   "cell_type": "code",
   "execution_count": null,
   "metadata": {},
   "outputs": [],
   "source": [
    "assert X_train.shape == X_train_scaled.shape\n",
    "assert X_test.shape == X_test_scaled.shape\n",
    "assert X_valid.shape == X_valid_scaled.shape"
   ]
  },
  {
   "cell_type": "code",
   "execution_count": null,
   "metadata": {},
   "outputs": [],
   "source": []
  },
  {
   "cell_type": "markdown",
   "metadata": {},
   "source": [
    "### 5.4)\n",
    "Now build, train and evaluate a neural network to tackle this problem. Then use it to make predictions on the test set.\n",
    "\n",
    "**Tips**:\n",
    "* Since you are predicting a single value per district (the median house price), there should only be one neuron in the output layer.\n",
    "* Usually for regression tasks you don't want to use any activation function in the output layer (in some cases you may want to use `\"relu\"` or `\"softplus\"` if you want to constrain the predicted values to be positive, or `\"sigmoid\"` or `\"tanh\"` if you want to constrain the predicted values to 0-1 or -1-1).\n",
    "* A good loss function for regression is generally the `\"mean_squared_error\"` (aka `\"mse\"`). When there are many outliers in your dataset, you may prefer to use the `\"mean_absolute_error\"` (aka `\"mae\"`), which is a bit less precise but less sensitive to outliers."
   ]
  },
  {
   "cell_type": "code",
   "execution_count": null,
   "metadata": {},
   "outputs": [],
   "source": [
    "model = keras.models.Sequential(layers=[\n",
    "    keras.layers.Dense(units=100, activation='relu', input_shape=X_train.shape[1:]),\n",
    "    keras.layers.Dense(units=1) \n",
    "])"
   ]
  },
  {
   "cell_type": "code",
   "execution_count": null,
   "metadata": {
    "scrolled": false
   },
   "outputs": [],
   "source": [
    "model.compile(loss='mse', optimizer='sgd', metrics=['accuracy'])\n",
    "history = model.fit(X_train_scaled, y_train, epochs=100, validation_data=(X_valid_scaled, y_valid),\n",
    "                   callbacks=[\n",
    "                       keras.callbacks.EarlyStopping(patience=5),\n",
    "                       keras.callbacks.ModelCheckpoint('my_housing_model.h5', save_best_only=True)\n",
    "                   ])\n",
    "\n",
    "model.evaluate(X_test_scaled, y_test)"
   ]
  },
  {
   "cell_type": "code",
   "execution_count": null,
   "metadata": {},
   "outputs": [],
   "source": [
    "model.predict(X_test_scaled)"
   ]
  },
  {
   "cell_type": "code",
   "execution_count": null,
   "metadata": {},
   "outputs": [],
   "source": [
    "plot_learning_curves(history)"
   ]
  },
  {
   "cell_type": "markdown",
   "metadata": {},
   "source": [
    "![Exercise solution](https://camo.githubusercontent.com/250388fde3fac9135ead9471733ee28e049f7a37/68747470733a2f2f75706c6f61642e77696b696d656469612e6f72672f77696b6970656469612f636f6d6d6f6e732f302f30362f46696c6f735f736567756e646f5f6c6f676f5f253238666c69707065642532392e6a7067)"
   ]
  },
  {
   "cell_type": "markdown",
   "metadata": {},
   "source": [
    "## Exercise 5 – Solution"
   ]
  },
  {
   "cell_type": "markdown",
   "metadata": {},
   "source": [
    "### 5.1)\n",
    "Load the California housing dataset using `sklearn.datasets.fetch_california_housing`. This returns an object with a `DESCR` attribute describing the dataset, a `data` attribute with the input features, and a `target` attribute with the labels. The goal is to predict the price of houses in a district (a census block) given some stats about that district. This is a regression task (predicting values)."
   ]
  },
  {
   "cell_type": "code",
   "execution_count": null,
   "metadata": {},
   "outputs": [],
   "source": [
    "from sklearn.datasets import fetch_california_housing\n",
    "housing = fetch_california_housing()"
   ]
  },
  {
   "cell_type": "code",
   "execution_count": null,
   "metadata": {},
   "outputs": [],
   "source": [
    "print(housing.DESCR)"
   ]
  },
  {
   "cell_type": "code",
   "execution_count": null,
   "metadata": {},
   "outputs": [],
   "source": [
    "housing.data.shape"
   ]
  },
  {
   "cell_type": "code",
   "execution_count": null,
   "metadata": {},
   "outputs": [],
   "source": [
    "housing.target.shape"
   ]
  },
  {
   "cell_type": "markdown",
   "metadata": {},
   "source": [
    "### 5.2)\n",
    "Split the dataset into a training set, a validation set and a test set using Scikit-Learn's `sklearn.model_selection.train_test_split()` function."
   ]
  },
  {
   "cell_type": "code",
   "execution_count": 11,
   "metadata": {},
   "outputs": [],
   "source": [
    "from sklearn.model_selection import train_test_split\n",
    "\n",
    "X_train_full, X_test, y_train_full, y_test = train_test_split(housing.data, housing.target, random_state=42)\n",
    "X_train, X_valid, y_train, y_valid = train_test_split(X_train_full, y_train_full, random_state=42)"
   ]
  },
  {
   "cell_type": "code",
   "execution_count": null,
   "metadata": {},
   "outputs": [],
   "source": [
    "len(X_train), len(X_valid), len(X_test)"
   ]
  },
  {
   "cell_type": "markdown",
   "metadata": {},
   "source": [
    "### 5.3)\n",
    "Scale the input features (e.g., using a `sklearn.preprocessing.StandardScaler`). Once again, don't forget that you should not fit the validation set or the test set, only the training set."
   ]
  },
  {
   "cell_type": "code",
   "execution_count": 12,
   "metadata": {},
   "outputs": [],
   "source": [
    "from sklearn.preprocessing import StandardScaler\n",
    "\n",
    "scaler = StandardScaler()\n",
    "X_train_scaled = scaler.fit_transform(X_train)\n",
    "X_valid_scaled = scaler.transform(X_valid)\n",
    "X_test_scaled = scaler.transform(X_test)"
   ]
  },
  {
   "cell_type": "markdown",
   "metadata": {},
   "source": [
    "### 5.4)\n",
    "Now build, train and evaluate a neural network to tackle this problem. Then use it to make predictions on the test set."
   ]
  },
  {
   "cell_type": "code",
   "execution_count": null,
   "metadata": {},
   "outputs": [],
   "source": [
    "model = keras.models.Sequential([\n",
    "    keras.layers.Dense(30, activation=\"relu\", input_shape=X_train.shape[1:]),\n",
    "    keras.layers.Dense(1)\n",
    "])\n",
    "model.compile(loss=\"mean_squared_error\", optimizer=\"sgd\")"
   ]
  },
  {
   "cell_type": "code",
   "execution_count": null,
   "metadata": {
    "scrolled": false
   },
   "outputs": [],
   "source": [
    "callbacks = [keras.callbacks.EarlyStopping(patience=10)]\n",
    "history = model.fit(X_train_scaled, y_train,\n",
    "                    validation_data=(X_test_scaled, y_test), epochs=100,\n",
    "                    callbacks=callbacks)"
   ]
  },
  {
   "cell_type": "code",
   "execution_count": null,
   "metadata": {},
   "outputs": [],
   "source": [
    "model.evaluate(X_test_scaled, y_test)"
   ]
  },
  {
   "cell_type": "code",
   "execution_count": null,
   "metadata": {},
   "outputs": [],
   "source": [
    "model.predict(X_test_scaled)"
   ]
  },
  {
   "cell_type": "code",
   "execution_count": null,
   "metadata": {
    "scrolled": true
   },
   "outputs": [],
   "source": [
    "plot_learning_curves(history)"
   ]
  },
  {
   "cell_type": "markdown",
   "metadata": {},
   "source": [
    "![Exercise](https://c1.staticflickr.com/9/8101/8553474140_c50cf08708_b.jpg)"
   ]
  },
  {
   "cell_type": "markdown",
   "metadata": {},
   "source": [
    "## Exercise 6 – Hyperparameter search"
   ]
  },
  {
   "cell_type": "markdown",
   "metadata": {},
   "source": [
    "### 6.1)\n",
    "Try training your model multiple times, with different a learning rate each time (e.g., 1e-4, 3e-4, 1e-3, 3e-3, 3e-2), and compare the learning curves. For this, you need to create a `keras.optimizers.SGD` optimizer and specify the `learning_rate` in its constructor, then pass this `SGD` instance to the `compile()` method using the `optimizer` argument."
   ]
  },
  {
   "cell_type": "code",
   "execution_count": null,
   "metadata": {},
   "outputs": [],
   "source": [
    "def build_model(n_hidden=1, n_neurons=100, learning_rate=0.001):\n",
    "    model = keras.models.Sequential(layers=\n",
    "        [keras.layers.Dense(units=n_neurons, activation='relu', input_shape=X_train.shape[1:]) \n",
    "         for _ in range(n_hidden)] + [keras.layers.Dense(units=1)]\n",
    "    )\n",
    "    \n",
    "    model.compile(loss='mse',\n",
    "                  optimizer=keras.optimizers.SGD(learning_rate=learning_rate),\n",
    "                  metrics=['accuracy'])\n",
    "    \n",
    "    history = model.fit(X_train_scaled, y_train, epochs=100, validation_data=(X_valid_scaled, y_valid),\n",
    "                   callbacks=[\n",
    "                       keras.callbacks.EarlyStopping(patience=5)\n",
    "                   ])\n",
    "    \n",
    "    return model, history"
   ]
  },
  {
   "cell_type": "code",
   "execution_count": null,
   "metadata": {
    "scrolled": true
   },
   "outputs": [],
   "source": [
    "all_learning_rates = [1e-4, 3e-4, 1e-3, 3e-3, 1e-2, 3e-2]\n",
    "all_histories = []\n",
    "\n",
    "for learning_rate in all_learning_rates:\n",
    "    _, history = build_model(learning_rate=learning_rate)\n",
    "    all_histories.append((learning_rate, history))"
   ]
  },
  {
   "cell_type": "code",
   "execution_count": null,
   "metadata": {
    "scrolled": false
   },
   "outputs": [],
   "source": [
    "for learning_rate, history in all_histories:\n",
    "    loss_value, accuracy = (model.evaluate(X_test_scaled, y_test))\n",
    "    print(f\"learning rate: {learning_rate}, loss_value={loss_value}, accuracy={accuracy}\")\n",
    "    plot_learning_curves(history) "
   ]
  },
  {
   "cell_type": "markdown",
   "metadata": {},
   "source": [
    "### 6.2)\n",
    "Let's look at a more sophisticated way to tune hyperparameters. Create a `build_model()` function that takes three arguments, `n_hidden`, `n_neurons`, `learning_rate`, and builds, compiles and returns a model with the given number of hidden layers, the given number of neurons and the given learning rate. It is good practice to give a reasonable default value to each argument."
   ]
  },
  {
   "cell_type": "code",
   "execution_count": null,
   "metadata": {},
   "outputs": [],
   "source": [
    "def build_model(n_hidden=1, n_neurons=100, learning_rate=0.001):\n",
    "    model = keras.models.Sequential(layers=\n",
    "        [keras.layers.Dense(units=n_neurons, activation='relu', input_shape=X_train.shape[1:]) \n",
    "         for _ in range(n_hidden)] + [keras.layers.Dense(units=1)]\n",
    "    )\n",
    "    \n",
    "    model.compile(loss='mse',\n",
    "                  optimizer=keras.optimizers.SGD(learning_rate=learning_rate),\n",
    "                  metrics=['accuracy'])\n",
    "    \n",
    "    history = model.fit(X_train_scaled, y_train, epochs=100, validation_data=(X_valid_scaled, y_valid),\n",
    "                   callbacks=[\n",
    "                       keras.callbacks.EarlyStopping(patience=5)\n",
    "                   ])\n",
    "    \n",
    "    return model"
   ]
  },
  {
   "cell_type": "code",
   "execution_count": null,
   "metadata": {},
   "outputs": [],
   "source": []
  },
  {
   "cell_type": "code",
   "execution_count": null,
   "metadata": {},
   "outputs": [],
   "source": []
  },
  {
   "cell_type": "markdown",
   "metadata": {},
   "source": [
    "### 6.3)\n",
    "Create a `keras.wrappers.scikit_learn.KerasRegressor` and pass the `build_model` function to the constructor. This gives you a Scikit-Learn compatible predictor. Try training it and using it to make predictions. Note that you can pass the `n_epochs`, `callbacks` and `validation_data` to the `fit()` method."
   ]
  },
  {
   "cell_type": "code",
   "execution_count": null,
   "metadata": {},
   "outputs": [],
   "source": [
    "keras_regressor = keras.wrappers.scikit_learn.KerasRegressor(build_model)"
   ]
  },
  {
   "cell_type": "code",
   "execution_count": null,
   "metadata": {
    "scrolled": true
   },
   "outputs": [],
   "source": [
    "keras_regressor.fit(X_train_scaled, y_train, epochs=100,\n",
    "                    validation_data=(X_valid_scaled, y_valid),\n",
    "                    callbacks=[keras.callbacks.EarlyStopping(patience=10)])"
   ]
  },
  {
   "cell_type": "code",
   "execution_count": null,
   "metadata": {},
   "outputs": [],
   "source": [
    "keras_regressor"
   ]
  },
  {
   "cell_type": "code",
   "execution_count": null,
   "metadata": {},
   "outputs": [],
   "source": [
    "keras_regressor.predict(X_test_scaled)"
   ]
  },
  {
   "cell_type": "markdown",
   "metadata": {},
   "source": [
    "### 6.4)\n",
    "Use a `sklearn.model_selection.RandomizedSearchCV` to search the hyperparameter space of your `KerasRegressor`.\n",
    "\n",
    "**Tips**:\n",
    "* create a `param_distribs` dictionary where each key is the name of a hyperparameter you want to fine-tune (e.g., `\"n_hidden\"`), and each value is the list of values you want to explore (e.g., `[0, 1, 2, 3]`), or a Scipy distribution from `scipy.stats`.\n",
    "* You can use the reciprocal distribution for the learning rate (e.g, `reciprocal(3e-3, 3e-2)`).\n",
    "* Create a `RandomizedSearchCV`, passing the `KerasRegressor` and the `param_distribs` to its constructor, as well as the number of iterations (`n_iter`), and the number of cross-validation folds (`cv`). If you are short on time, you can set `n_iter=10` and `cv=3`. You may also want to set `verbose=2`.\n",
    "* Finally, call the `RandomizedSearchCV`'s `fit()` method on the training set. Once again you can pass it `n_epochs`, `validation_data` and `callbacks` if you want to.\n",
    "* The best parameters found will be available in the `best_params_` attribute, the best score will be in `best_score_`, and the best model will be in `best_estimator_`."
   ]
  },
  {
   "cell_type": "code",
   "execution_count": null,
   "metadata": {},
   "outputs": [],
   "source": []
  },
  {
   "cell_type": "code",
   "execution_count": null,
   "metadata": {},
   "outputs": [],
   "source": []
  },
  {
   "cell_type": "code",
   "execution_count": null,
   "metadata": {},
   "outputs": [],
   "source": []
  },
  {
   "cell_type": "markdown",
   "metadata": {},
   "source": [
    "### 6.5)\n",
    "Evaluate the best model found on the test set. You can either use the best estimator's `score()` method, or get its underlying Keras model *via* its `model` attribute, and call this model's `evaluate()` method. Note that the estimator returns the negative mean square error (it's a score, not a loss, so higher is better)."
   ]
  },
  {
   "cell_type": "code",
   "execution_count": null,
   "metadata": {},
   "outputs": [],
   "source": []
  },
  {
   "cell_type": "code",
   "execution_count": null,
   "metadata": {},
   "outputs": [],
   "source": []
  },
  {
   "cell_type": "code",
   "execution_count": null,
   "metadata": {},
   "outputs": [],
   "source": []
  },
  {
   "cell_type": "markdown",
   "metadata": {},
   "source": [
    "### 6.6)\n",
    "Finally, save the best Keras model found. **Tip**: it is available via the best estimator's `model` attribute, and just need to call its `save()` method."
   ]
  },
  {
   "cell_type": "code",
   "execution_count": null,
   "metadata": {},
   "outputs": [],
   "source": []
  },
  {
   "cell_type": "code",
   "execution_count": null,
   "metadata": {},
   "outputs": [],
   "source": []
  },
  {
   "cell_type": "code",
   "execution_count": null,
   "metadata": {},
   "outputs": [],
   "source": []
  },
  {
   "cell_type": "markdown",
   "metadata": {},
   "source": [
    "**Tip**: while a randomized search is nice and simple, there are more powerful (but complex) options available out there for hyperparameter search, for example:\n",
    "* [Hyperopt](https://github.com/hyperopt/hyperopt)\n",
    "* [Hyperas](https://github.com/maxpumperla/hyperas)\n",
    "* [Sklearn-Deap](https://github.com/rsteca/sklearn-deap)\n",
    "* [Scikit-Optimize](https://scikit-optimize.github.io/)\n",
    "* [Spearmint](https://github.com/JasperSnoek/spearmint)\n",
    "* [PyMC3](https://docs.pymc.io/)\n",
    "* [GPFlow](https://gpflow.readthedocs.io/)\n",
    "* [Yelp/MOE](https://github.com/Yelp/MOE)\n",
    "* Commercial services such as: [Google Cloud ML Engine](https://cloud.google.com/ml-engine/docs/tensorflow/using-hyperparameter-tuning), [Arimo](https://arimo.com/) or [Oscar](http://oscar.calldesk.ai/)"
   ]
  },
  {
   "cell_type": "markdown",
   "metadata": {},
   "source": [
    "![Exercise solution](https://camo.githubusercontent.com/250388fde3fac9135ead9471733ee28e049f7a37/68747470733a2f2f75706c6f61642e77696b696d656469612e6f72672f77696b6970656469612f636f6d6d6f6e732f302f30362f46696c6f735f736567756e646f5f6c6f676f5f253238666c69707065642532392e6a7067)"
   ]
  },
  {
   "cell_type": "markdown",
   "metadata": {},
   "source": [
    "## Exercise 6 – Solution"
   ]
  },
  {
   "cell_type": "markdown",
   "metadata": {},
   "source": [
    "### 6.1)\n",
    "Try training your model multiple times, with different a learning rate each time (e.g., 1e-4, 3e-4, 1e-3, 3e-3, 3e-2), and compare the learning curves. For this, you need to create a `keras.optimizers.SGD` optimizer and specify the `learning_rate` in its constructor, then pass this `SGD` instance to the `compile()` method using the `optimizer` argument."
   ]
  },
  {
   "cell_type": "code",
   "execution_count": null,
   "metadata": {},
   "outputs": [],
   "source": [
    "learning_rates = [1e-4, 3e-4, 1e-3, 3e-3, 1e-2, 3e-2]\n",
    "histories = []\n",
    "for learning_rate in learning_rates:\n",
    "    model = keras.models.Sequential([\n",
    "        keras.layers.Dense(30, activation=\"relu\", input_shape=X_train.shape[1:]),\n",
    "        keras.layers.Dense(1)\n",
    "    ])\n",
    "    optimizer = keras.optimizers.SGD(learning_rate)\n",
    "    model.compile(loss=\"mean_squared_error\", optimizer=optimizer)\n",
    "    callbacks = [keras.callbacks.EarlyStopping(patience=10)]\n",
    "    history = model.fit(X_train_scaled, y_train,\n",
    "                        validation_data=(X_test_scaled, y_test), epochs=100,\n",
    "                        callbacks=callbacks)\n",
    "    histories.append(history)"
   ]
  },
  {
   "cell_type": "code",
   "execution_count": null,
   "metadata": {},
   "outputs": [],
   "source": [
    "for learning_rate, history in zip(learning_rates, histories):\n",
    "    print(\"Learning rate:\", learning_rate)\n",
    "    plot_learning_curves(history)"
   ]
  },
  {
   "cell_type": "markdown",
   "metadata": {},
   "source": [
    "### 6.2)\n",
    "Let's look at a more sophisticated way to tune hyperparameters. Create a `build_model()` function that takes three arguments, `n_hidden`, `n_neurons`, `learning_rate`, and builds, compiles and returns a model with the given number of hidden layers, the given number of neurons and the given learning rate. It is good practice to give a reasonable default value to each argument."
   ]
  },
  {
   "cell_type": "code",
   "execution_count": null,
   "metadata": {},
   "outputs": [],
   "source": [
    "def build_model(n_hidden=1, n_neurons=30, learning_rate=3e-3):\n",
    "    model = keras.models.Sequential()\n",
    "    options = {\"input_shape\": X_train.shape[1:]}\n",
    "    for layer in range(n_hidden + 1):\n",
    "        model.add(keras.layers.Dense(n_neurons, activation=\"relu\", **options))\n",
    "        options = {}\n",
    "    model.add(keras.layers.Dense(1, **options))\n",
    "    optimizer = keras.optimizers.SGD(learning_rate)\n",
    "    model.compile(loss=\"mse\", optimizer=optimizer)\n",
    "    return model"
   ]
  },
  {
   "cell_type": "markdown",
   "metadata": {},
   "source": [
    "### 6.3)\n",
    "Create a `keras.wrappers.scikit_learn.KerasRegressor` and pass the `build_model` function to the constructor. This gives you a Scikit-Learn compatible predictor. Try training it and using it to make predictions. Note that you can pass the `n_epochs`, `callbacks` and `validation_data` to the `fit()` method."
   ]
  },
  {
   "cell_type": "code",
   "execution_count": null,
   "metadata": {},
   "outputs": [],
   "source": [
    "keras_reg = keras.wrappers.scikit_learn.KerasRegressor(build_model)"
   ]
  },
  {
   "cell_type": "code",
   "execution_count": null,
   "metadata": {},
   "outputs": [],
   "source": [
    "keras_reg.fit(X_train_scaled, y_train, epochs=100,\n",
    "              validation_data=(X_valid_scaled, y_valid),\n",
    "              callbacks=[keras.callbacks.EarlyStopping(patience=10)])"
   ]
  },
  {
   "cell_type": "code",
   "execution_count": null,
   "metadata": {},
   "outputs": [],
   "source": [
    "keras_reg.predict(X_test_scaled)"
   ]
  },
  {
   "cell_type": "markdown",
   "metadata": {},
   "source": [
    "### 6.4)\n",
    "Use a `sklearn.model_selection.RandomizedSearchCV` to search the hyperparameter space of your `KerasRegressor`."
   ]
  },
  {
   "cell_type": "code",
   "execution_count": null,
   "metadata": {},
   "outputs": [],
   "source": [
    "from scipy.stats import reciprocal\n",
    "\n",
    "param_distribs = {\n",
    "    \"n_hidden\": [1, 2, 3],\n",
    "    \"n_neurons\": [10, 30, 50, 100],\n",
    "    \"learning_rate\": [0.001, 0.003],\n",
    "}"
   ]
  },
  {
   "cell_type": "code",
   "execution_count": null,
   "metadata": {},
   "outputs": [],
   "source": [
    "from sklearn.model_selection import RandomizedSearchCV\n",
    "\n",
    "rnd_search_cv = RandomizedSearchCV(keras_regressor, param_distribs, n_iter=10, cv=3, verbose=2)"
   ]
  },
  {
   "cell_type": "code",
   "execution_count": null,
   "metadata": {},
   "outputs": [],
   "source": [
    "rnd_search_cv.best_params_"
   ]
  },
  {
   "cell_type": "code",
   "execution_count": null,
   "metadata": {
    "scrolled": true
   },
   "outputs": [],
   "source": [
    "rnd_search_cv.fit(X_train_scaled, y_train, epochs=100,\n",
    "                  validation_data=(X_valid_scaled, y_valid),\n",
    "                  callbacks=[keras.callbacks.EarlyStopping(patience=10)])"
   ]
  },
  {
   "cell_type": "code",
   "execution_count": null,
   "metadata": {},
   "outputs": [],
   "source": [
    "rnd_search_cv.best_params_"
   ]
  },
  {
   "cell_type": "code",
   "execution_count": null,
   "metadata": {},
   "outputs": [],
   "source": [
    "rnd_search_cv.best_score_"
   ]
  },
  {
   "cell_type": "code",
   "execution_count": null,
   "metadata": {},
   "outputs": [],
   "source": [
    "rnd_search_cv.best_estimator_"
   ]
  },
  {
   "cell_type": "markdown",
   "metadata": {},
   "source": [
    "### 6.5)\n",
    "Evaluate the best model found on the test set. You can either use the best estimator's `score()` method, or get its underlying Keras model *via* its `model` attribute, and call this model's `evaluate()` method. Note that the estimator returns the negative mean square error (it's a score, not a loss, so higher is better)."
   ]
  },
  {
   "cell_type": "code",
   "execution_count": null,
   "metadata": {},
   "outputs": [],
   "source": [
    "rnd_search_cv.score(X_test_scaled, y_test)"
   ]
  },
  {
   "cell_type": "code",
   "execution_count": null,
   "metadata": {},
   "outputs": [],
   "source": [
    "model = rnd_search_cv.best_estimator_.model\n",
    "model.evaluate(X_test_scaled, y_test)"
   ]
  },
  {
   "cell_type": "markdown",
   "metadata": {},
   "source": [
    "### 6.6)\n",
    "Finally, save the best Keras model found. **Tip**: it is available via the best estimator's `model` attribute, and just need to call its `save()` method."
   ]
  },
  {
   "cell_type": "code",
   "execution_count": null,
   "metadata": {},
   "outputs": [],
   "source": [
    "model.save(\"hyperopt_housing_model.h5\")"
   ]
  },
  {
   "cell_type": "code",
   "execution_count": null,
   "metadata": {},
   "outputs": [],
   "source": []
  },
  {
   "cell_type": "code",
   "execution_count": null,
   "metadata": {},
   "outputs": [],
   "source": []
  },
  {
   "cell_type": "markdown",
   "metadata": {},
   "source": [
    "**Tip**: while a randomized search is nice and simple, there are more powerful (but complex) options available out there for hyperparameter search, for example:\n",
    "* [Hyperopt](https://github.com/hyperopt/hyperopt)\n",
    "* [Hyperas](https://github.com/maxpumperla/hyperas)\n",
    "* [Sklearn-Deap](https://github.com/rsteca/sklearn-deap)\n",
    "* [Scikit-Optimize](https://scikit-optimize.github.io/)\n",
    "* [Spearmint](https://github.com/JasperSnoek/spearmint)\n",
    "* [PyMC3](https://docs.pymc.io/)\n",
    "* [GPFlow](https://gpflow.readthedocs.io/)\n",
    "* [Yelp/MOE](https://github.com/Yelp/MOE)\n",
    "* Commercial services such as: [Google Cloud ML Engine](https://cloud.google.com/ml-engine/docs/tensorflow/using-hyperparameter-tuning), [Arimo](https://arimo.com/) or [Oscar](http://oscar.calldesk.ai/)"
   ]
  },
  {
   "cell_type": "markdown",
   "metadata": {},
   "source": [
    "![Exercise solution](https://camo.githubusercontent.com/250388fde3fac9135ead9471733ee28e049f7a37/68747470733a2f2f75706c6f61642e77696b696d656469612e6f72672f77696b6970656469612f636f6d6d6f6e732f302f30362f46696c6f735f736567756e646f5f6c6f676f5f253238666c69707065642532392e6a7067)"
   ]
  },
  {
   "cell_type": "markdown",
   "metadata": {},
   "source": [
    "## Exercise 6 – Solution"
   ]
  },
  {
   "cell_type": "markdown",
   "metadata": {},
   "source": [
    "6.1) Try training your model multiple times, with different a learning rate each time (e.g., 1e-4, 3e-4, 1e-3, 3e-3, 3e-2), and compare the learning curves. For this, you need to create a `keras.optimizers.SGD` optimizer and specify the `learning_rate` in its constructor, then pass this `SGD` instance to the `compile()` method using the `optimizer` argument."
   ]
  },
  {
   "cell_type": "code",
   "execution_count": null,
   "metadata": {
    "scrolled": true
   },
   "outputs": [],
   "source": [
    "learning_rates = [1e-4, 3e-4, 1e-3, 3e-3, 1e-2, 3e-2]\n",
    "histories = []\n",
    "for learning_rate in learning_rates:\n",
    "    model = keras.models.Sequential([\n",
    "        keras.layers.Dense(30, activation=\"relu\", input_shape=X_train.shape[1:]),\n",
    "        keras.layers.Dense(1)\n",
    "    ])\n",
    "    optimizer = keras.optimizers.SGD(learning_rate)\n",
    "    model.compile(loss=\"mean_squared_error\", optimizer=optimizer)\n",
    "    callbacks = [keras.callbacks.EarlyStopping(patience=10)]\n",
    "    history = model.fit(X_train_scaled, y_train,\n",
    "                        validation_data=(X_test_scaled, y_test), epochs=100,\n",
    "                        callbacks=callbacks)\n",
    "    histories.append(history)"
   ]
  },
  {
   "cell_type": "code",
   "execution_count": null,
   "metadata": {},
   "outputs": [],
   "source": [
    "for learning_rate, history in zip(learning_rates, histories):\n",
    "    print(\"Learning rate:\", learning_rate)\n",
    "    plot_learning_curves(history)"
   ]
  },
  {
   "cell_type": "markdown",
   "metadata": {},
   "source": [
    "6.2) Let's look at a more sophisticated way to tune hyperparameters. Create a `build_model()` function that takes three arguments, `n_hidden`, `n_neurons`, `learning_rate`, and builds, compiles and returns a model with the given number of hidden layers, the given number of neurons and the given learning rate. It is good practice to give a reasonable default value to each argument."
   ]
  },
  {
   "cell_type": "code",
   "execution_count": null,
   "metadata": {},
   "outputs": [],
   "source": [
    "def build_model(n_hidden=1, n_neurons=30, learning_rate=3e-3):\n",
    "    model = keras.models.Sequential()\n",
    "    options = {\"input_shape\": X_train.shape[1:]}\n",
    "    for layer in range(n_hidden + 1):\n",
    "        model.add(keras.layers.Dense(n_neurons, activation=\"relu\", **options))\n",
    "        options = {}\n",
    "    model.add(keras.layers.Dense(1, **options))\n",
    "    optimizer = keras.optimizers.SGD(learning_rate)\n",
    "    model.compile(loss=\"mse\", optimizer=optimizer)\n",
    "    return model"
   ]
  },
  {
   "cell_type": "markdown",
   "metadata": {},
   "source": [
    "6.3) Create a `keras.wrappers.scikit_learn.KerasRegressor` and pass the `build_model` function to the constructor. This gives you a Scikit-Learn compatible predictor. Try training it and using it to make predictions. Note that you can pass the `n_epochs`, `callbacks` and `validation_data` to the `fit()` method."
   ]
  },
  {
   "cell_type": "code",
   "execution_count": null,
   "metadata": {},
   "outputs": [],
   "source": [
    "keras_reg = keras.wrappers.scikit_learn.KerasRegressor(build_model)"
   ]
  },
  {
   "cell_type": "code",
   "execution_count": null,
   "metadata": {},
   "outputs": [],
   "source": [
    "keras_reg.fit(X_train_scaled, y_train, epochs=100,\n",
    "              validation_data=(X_valid_scaled, y_valid),\n",
    "              callbacks=[keras.callbacks.EarlyStopping(patience=10)])"
   ]
  },
  {
   "cell_type": "code",
   "execution_count": null,
   "metadata": {},
   "outputs": [],
   "source": [
    "keras_reg.predict(X_test_scaled)"
   ]
  },
  {
   "cell_type": "markdown",
   "metadata": {},
   "source": [
    "6.4) Use a `sklearn.model_selection.RandomizedSearchCV` to search the hyperparameter space of your `KerasRegressor`."
   ]
  },
  {
   "cell_type": "code",
   "execution_count": null,
   "metadata": {},
   "outputs": [],
   "source": [
    "from scipy.stats import reciprocal\n",
    "\n",
    "param_distribs = {\n",
    "    \"n_hidden\": [0, 1, 2, 3],\n",
    "    \"n_neurons\": np.arange(1, 100),\n",
    "    \"learning_rate\": reciprocal(3e-4, 3e-2),\n",
    "}"
   ]
  },
  {
   "cell_type": "code",
   "execution_count": null,
   "metadata": {},
   "outputs": [],
   "source": [
    "from sklearn.model_selection import RandomizedSearchCV\n",
    "\n",
    "rnd_search_cv = RandomizedSearchCV(keras_reg, param_distribs, n_iter=10, cv=3, verbose=2)"
   ]
  },
  {
   "cell_type": "code",
   "execution_count": null,
   "metadata": {},
   "outputs": [],
   "source": [
    "rnd_search_cv.fit(X_train_scaled, y_train, epochs=100,\n",
    "                  validation_data=(X_valid_scaled, y_valid),\n",
    "                  callbacks=[keras.callbacks.EarlyStopping(patience=10)])"
   ]
  },
  {
   "cell_type": "code",
   "execution_count": null,
   "metadata": {},
   "outputs": [],
   "source": [
    "rnd_search_cv.best_params_"
   ]
  },
  {
   "cell_type": "code",
   "execution_count": null,
   "metadata": {},
   "outputs": [],
   "source": [
    "rnd_search_cv.best_score_"
   ]
  },
  {
   "cell_type": "code",
   "execution_count": null,
   "metadata": {},
   "outputs": [],
   "source": [
    "rnd_search_cv.best_estimator_"
   ]
  },
  {
   "cell_type": "markdown",
   "metadata": {},
   "source": [
    "6.5) Evaluate the best model found on the test set. You can either use the best estimator's `score()` method, or get its underlying Keras model *via* its `model` attribute, and call this model's `evaluate()` method. Note that the estimator returns the negative mean square error (it's a score, not a loss, so higher is better)."
   ]
  },
  {
   "cell_type": "code",
   "execution_count": null,
   "metadata": {},
   "outputs": [],
   "source": [
    "rnd_search_cv.score(X_test_scaled, y_test)"
   ]
  },
  {
   "cell_type": "code",
   "execution_count": null,
   "metadata": {},
   "outputs": [],
   "source": [
    "model = rnd_search_cv.best_estimator_.model\n",
    "model.evaluate(X_test_scaled, y_test)"
   ]
  },
  {
   "cell_type": "markdown",
   "metadata": {},
   "source": [
    "6.6) Finally, save the best Keras model found. **Tip**: it is available via the best estimator's `model` attribute, and just need to call its `save()` method."
   ]
  },
  {
   "cell_type": "code",
   "execution_count": null,
   "metadata": {},
   "outputs": [],
   "source": [
    "model.save(\"my_fine_tuned_housing_model.h5\")"
   ]
  },
  {
   "cell_type": "markdown",
   "metadata": {},
   "source": [
    "![Exercise](https://c1.staticflickr.com/9/8101/8553474140_c50cf08708_b.jpg)"
   ]
  },
  {
   "cell_type": "markdown",
   "metadata": {},
   "source": [
    "## Exercise 7 – The functional API"
   ]
  },
  {
   "cell_type": "markdown",
   "metadata": {},
   "source": [
    "Not all neural network models are simply sequential. Some may have complex topologies. Some may have multiple inputs and/or multiple outputs. For example, a Wide & Deep neural network (see [paper](https://ai.google/research/pubs/pub45413)) connects all or part of the inputs directly to the output layer, as shown on the following diagram:"
   ]
  },
  {
   "cell_type": "markdown",
   "metadata": {},
   "source": [
    "<img src=\"images/wide_and_deep_net.png\" title=\"Wide and deep net\" width=300 />"
   ]
  },
  {
   "cell_type": "markdown",
   "metadata": {},
   "source": [
    "### 7.1)\n",
    "Use Keras' functional API to implement a Wide & Deep network to tackle the California housing problem.\n",
    "\n",
    "**Tips**:\n",
    "* You need to create a `keras.layers.Input` layer to represent the inputs. Don't forget to specify the input `shape`.\n",
    "* Create the `Dense` layers, and connect them by using them like functions. For example, `hidden1 = keras.layers.Dense(30, activation=\"relu\")(input)` and `hidden2 = keras.layers.Dense(30, activation=\"relu\")(hidden1)`\n",
    "* Use the `keras.layers.concatenate()` function to concatenate the input layer and the second hidden layer's output.\n",
    "* Create a `keras.models.Model` and specify its `inputs` and `outputs` (e.g., `inputs=[input]`).\n",
    "* Then use this model just like a `Sequential` model: you need to compile it, display its summary, train it, evaluate it and use it to make predictions."
   ]
  },
  {
   "cell_type": "code",
   "execution_count": 15,
   "metadata": {},
   "outputs": [],
   "source": [
    "def build_model(n_hidden=1, n_neurons=100, learning_rate=0.001):\n",
    "    input_layer = keras.layers.Input(shape=X_train.shape[1:])\n",
    "    \n",
    "    hidden1_layer = keras.layers.Dense(30, activation=\"relu\")(input_layer)\n",
    "    hidden2_layer = keras.layers.Dense(30, activation=\"relu\")(hidden1_layer)\n",
    "    \n",
    "    concat_layers = keras.layers.concatenate([input_layer, hidden2_layer])\n",
    "    output_layer = keras.layers.Dense(1)(concat_layers)\n",
    "    \n",
    "    output_layer = keras.layers.concatenate([input_layer, hidden2_layer])\n",
    "    \n",
    "    model = keras.models.Model(inputs=[input_layer], outputs=[output_layer])\n",
    "    \n",
    "    model.compile(loss='mse',\n",
    "                  optimizer=keras.optimizers.SGD(learning_rate=learning_rate),\n",
    "                  metrics=['accuracy'])\n",
    "    \n",
    "    history = model.fit(X_train_scaled, y_train, epochs=100, \n",
    "                        validation_data=(X_valid_scaled, y_valid),\n",
    "                        callbacks=[keras.callbacks.EarlyStopping(patience=5)])\n",
    "    \n",
    "    return model"
   ]
  },
  {
   "cell_type": "code",
   "execution_count": 16,
   "metadata": {},
   "outputs": [
    {
     "name": "stdout",
     "output_type": "stream",
     "text": [
      "Train on 11610 samples, validate on 3870 samples\n",
      "Epoch 1/100\n",
      "11610/11610==============================] - 1s 55us/sample - loss: 5.5174 - acc: 0.1375 - val_loss: 8.4196 - val_acc: 0.1313\n",
      "Epoch 2/100\n",
      "11610/11610==============================] - 0s 41us/sample - loss: 5.4286 - acc: 0.1344 - val_loss: 8.3783 - val_acc: 0.1235\n",
      "Epoch 3/100\n",
      "11610/11610==============================] - 0s 41us/sample - loss: 5.3221 - acc: 0.1234 - val_loss: 8.3227 - val_acc: 0.1070\n",
      "Epoch 4/100\n",
      "11610/11610==============================] - 0s 39us/sample - loss: 5.1968 - acc: 0.1036 - val_loss: 8.2494 - val_acc: 0.0925\n",
      "Epoch 5/100\n",
      "11610/11610==============================] - 1s 45us/sample - loss: 5.0530 - acc: 0.0865 - val_loss: 8.1621 - val_acc: 0.0765\n",
      "Epoch 6/100\n",
      "11610/11610==============================] - 0s 37us/sample - loss: 4.8913 - acc: 0.0706 - val_loss: 8.0588 - val_acc: 0.0607\n",
      "Epoch 7/100\n",
      "11610/11610==============================] - 0s 38us/sample - loss: 4.7125 - acc: 0.0524 - val_loss: 7.9338 - val_acc: 0.0354\n",
      "Epoch 8/100\n",
      "11610/11610==============================] - 0s 37us/sample - loss: 4.5195 - acc: 0.0296 - val_loss: 7.7920 - val_acc: 0.0196\n",
      "Epoch 9/100\n",
      "11610/11610==============================] - 0s 40us/sample - loss: 4.3175 - acc: 0.0115 - val_loss: 7.6295 - val_acc: 0.0059\n",
      "Epoch 10/100\n",
      "11610/11610==============================] - 0s 40us/sample - loss: 4.1121 - acc: 0.0039 - val_loss: 7.4538 - val_acc: 0.0013\n",
      "Epoch 11/100\n",
      "11610/11610==============================] - 0s 39us/sample - loss: 3.9090 - acc: 2.5840e-04 - val_loss: 7.2669 - val_acc: 0.0000e+00\n",
      "Epoch 12/100\n",
      "11610/11610==============================] - 0s 40us/sample - loss: 3.7136 - acc: 8.6133e-05 - val_loss: 7.0688 - val_acc: 0.0000e+00\n",
      "Epoch 13/100\n",
      "11610/11610==============================] - 0s 41us/sample - loss: 3.5320 - acc: 0.0000e+00 - val_loss: 6.8647 - val_acc: 0.0000e+00\n",
      "Epoch 14/100\n",
      "11610/11610==============================] - 0s 41us/sample - loss: 3.3674 - acc: 0.0000e+00 - val_loss: 6.6608 - val_acc: 0.0000e+00\n",
      "Epoch 15/100\n",
      "11610/11610==============================] - 1s 48us/sample - loss: 3.2154 - acc: 0.0000e+00 - val_loss: 6.4576 - val_acc: 0.0000e+00\n",
      "Epoch 16/100\n",
      "11610/11610==============================] - 0s 34us/sample - loss: 3.0771 - acc: 0.0000e+00 - val_loss: 6.2721 - val_acc: 0.0000e+00\n",
      "Epoch 17/100\n",
      "11610/11610==============================] - 0s 30us/sample - loss: 2.9572 - acc: 0.0000e+00 - val_loss: 6.1016 - val_acc: 0.0000e+00\n",
      "Epoch 18/100\n",
      "11610/11610==============================] - 0s 34us/sample - loss: 2.8560 - acc: 0.0000e+00 - val_loss: 5.9524 - val_acc: 0.0000e+00\n",
      "Epoch 19/100\n",
      "11610/11610==============================] - 0s 33us/sample - loss: 2.7715 - acc: 0.0000e+00 - val_loss: 5.8254 - val_acc: 0.0000e+00\n",
      "Epoch 20/100\n",
      "11610/11610==============================] - 0s 25us/sample - loss: 2.6993 - acc: 0.0000e+00 - val_loss: 5.7093 - val_acc: 0.0000e+00\n",
      "Epoch 21/100\n",
      "11610/11610==============================] - 0s 28us/sample - loss: 2.6356 - acc: 0.0000e+00 - val_loss: 5.6078 - val_acc: 0.0000e+00\n",
      "Epoch 22/100\n",
      "11610/11610==============================] - 0s 27us/sample - loss: 2.5793 - acc: 0.0000e+00 - val_loss: 5.5218 - val_acc: 0.0000e+00\n",
      "Epoch 23/100\n",
      "11610/11610==============================] - 0s 26us/sample - loss: 2.5308 - acc: 0.0000e+00 - val_loss: 5.4454 - val_acc: 0.0000e+00\n",
      "Epoch 24/100\n",
      "11610/11610==============================] - 0s 27us/sample - loss: 2.4906 - acc: 0.0000e+00 - val_loss: 5.3791 - val_acc: 0.0000e+00\n",
      "Epoch 25/100\n",
      "11610/11610==============================] - 0s 27us/sample - loss: 2.4582 - acc: 0.0000e+00 - val_loss: 5.3247 - val_acc: 0.0000e+00\n",
      "Epoch 26/100\n",
      "11610/11610==============================] - 0s 26us/sample - loss: 2.4322 - acc: 0.0000e+00 - val_loss: 5.2771 - val_acc: 0.0000e+00\n",
      "Epoch 27/100\n",
      "11610/11610==============================] - 0s 26us/sample - loss: 2.4110 - acc: 0.0000e+00 - val_loss: 5.2350 - val_acc: 0.0000e+00\n",
      "Epoch 28/100\n",
      "11610/11610==============================] - 0s 26us/sample - loss: 2.3936 - acc: 0.0000e+00 - val_loss: 5.1970 - val_acc: 0.0000e+00\n",
      "Epoch 29/100\n",
      "11610/11610==============================] - 0s 34us/sample - loss: 2.3788 - acc: 0.0000e+00 - val_loss: 5.1628 - val_acc: 0.0000e+00\n",
      "Epoch 30/100\n",
      "11610/11610==============================] - 1s 53us/sample - loss: 2.3662 - acc: 0.0000e+00 - val_loss: 5.1317 - val_acc: 0.0000e+00\n",
      "Epoch 31/100\n",
      "11610/11610==============================] - 0s 40us/sample - loss: 2.3551 - acc: 0.0000e+00 - val_loss: 5.1033 - val_acc: 0.0000e+00\n",
      "Epoch 32/100\n",
      "11610/11610==============================] - 1s 49us/sample - loss: 2.3452 - acc: 0.0000e+00 - val_loss: 5.0773 - val_acc: 0.0000e+00\n",
      "Epoch 33/100\n",
      "11610/11610==============================] - 1s 47us/sample - loss: 2.3363 - acc: 0.0000e+00 - val_loss: 5.0532 - val_acc: 0.0000e+00\n",
      "Epoch 34/100\n",
      "11610/11610==============================] - 0s 42us/sample - loss: 2.3281 - acc: 0.0000e+00 - val_loss: 5.0308 - val_acc: 0.0000e+00\n",
      "Epoch 35/100\n",
      "11610/11610==============================] - 0s 40us/sample - loss: 2.3205 - acc: 0.0000e+00 - val_loss: 5.0100 - val_acc: 0.0000e+00\n",
      "Epoch 36/100\n",
      "11610/11610==============================] - 0s 30us/sample - loss: 2.3134 - acc: 0.0000e+00 - val_loss: 4.9905 - val_acc: 0.0000e+00\n",
      "Epoch 37/100\n",
      "11610/11610==============================] - 0s 33us/sample - loss: 2.3067 - acc: 0.0000e+00 - val_loss: 4.9738 - val_acc: 0.0000e+00\n",
      "Epoch 38/100\n",
      "11610/11610==============================] - 1s 45us/sample - loss: 2.3004 - acc: 0.0000e+00 - val_loss: 4.9579 - val_acc: 0.0000e+00\n",
      "Epoch 39/100\n",
      "11610/11610==============================] - 0s 41us/sample - loss: 2.2944 - acc: 0.0000e+00 - val_loss: 4.9430 - val_acc: 0.0000e+00\n",
      "Epoch 40/100\n",
      "11610/11610==============================] - 0s 39us/sample - loss: 2.2886 - acc: 0.0000e+00 - val_loss: 4.9299 - val_acc: 0.0000e+00\n",
      "Epoch 41/100\n",
      "11610/11610==============================] - 0s 41us/sample - loss: 2.2829 - acc: 0.0000e+00 - val_loss: 4.9183 - val_acc: 0.0000e+00\n",
      "Epoch 42/100\n",
      "11610/11610==============================] - 0s 41us/sample - loss: 2.2774 - acc: 0.0000e+00 - val_loss: 4.9071 - val_acc: 0.0000e+00\n",
      "Epoch 43/100\n",
      "11610/11610==============================] - 1s 45us/sample - loss: 2.2718 - acc: 0.0000e+00 - val_loss: 4.8961 - val_acc: 0.0000e+00\n",
      "Epoch 44/100\n",
      "11610/11610==============================] - 0s 39us/sample - loss: 2.2663 - acc: 0.0000e+00 - val_loss: 4.8854 - val_acc: 0.0000e+00\n",
      "Epoch 45/100\n",
      "11610/11610==============================] - 0s 42us/sample - loss: 2.2607 - acc: 0.0000e+00 - val_loss: 4.8750 - val_acc: 0.0000e+00\n",
      "Epoch 46/100\n",
      "11610/11610==============================] - 1s 43us/sample - loss: 2.2548 - acc: 0.0000e+00 - val_loss: 4.8648 - val_acc: 0.0000e+00\n",
      "Epoch 47/100\n",
      "11610/11610==============================] - 0s 43us/sample - loss: 2.2487 - acc: 0.0000e+00 - val_loss: 4.8543 - val_acc: 0.0000e+00\n",
      "Epoch 48/100\n",
      "11610/11610==============================] - 0s 41us/sample - loss: 2.2421 - acc: 0.0000e+00 - val_loss: 4.8433 - val_acc: 0.0000e+00\n",
      "Epoch 49/100\n",
      "11610/11610==============================] - 0s 43us/sample - loss: 2.2346 - acc: 0.0000e+00 - val_loss: 4.8317 - val_acc: 0.0000e+00\n",
      "Epoch 50/100\n",
      "11610/11610==============================] - 1s 44us/sample - loss: 2.2260 - acc: 0.0000e+00 - val_loss: 4.8192 - val_acc: 0.0000e+00\n",
      "Epoch 51/100\n",
      "11610/11610==============================] - 0s 39us/sample - loss: 2.2164 - acc: 0.0000e+00 - val_loss: 4.8062 - val_acc: 0.0000e+00\n",
      "Epoch 52/100\n",
      "11610/11610==============================] - 0s 41us/sample - loss: 2.2059 - acc: 0.0000e+00 - val_loss: 4.7925 - val_acc: 0.0000e+00\n",
      "Epoch 53/100\n",
      "11610/11610==============================] - 0s 40us/sample - loss: 2.1952 - acc: 0.0000e+00 - val_loss: 4.7790 - val_acc: 0.0000e+00\n",
      "Epoch 54/100\n",
      "11610/11610==============================] - 0s 37us/sample - loss: 2.1851 - acc: 0.0000e+00 - val_loss: 4.7667 - val_acc: 0.0000e+00\n",
      "Epoch 55/100\n",
      "11610/11610==============================] - 0s 40us/sample - loss: 2.1764 - acc: 0.0000e+00 - val_loss: 4.7559 - val_acc: 0.0000e+00\n",
      "Epoch 56/100\n",
      "11610/11610==============================] - 0s 39us/sample - loss: 2.1690 - acc: 0.0000e+00 - val_loss: 4.7463 - val_acc: 0.0000e+00\n",
      "Epoch 57/100\n"
     ]
    },
    {
     "name": "stdout",
     "output_type": "stream",
     "text": [
      "11610/11610==============================] - 0s 39us/sample - loss: 2.1626 - acc: 0.0000e+00 - val_loss: 4.7376 - val_acc: 0.0000e+00\n",
      "Epoch 58/100\n",
      "11610/11610==============================] - 0s 40us/sample - loss: 2.1568 - acc: 8.6133e-05 - val_loss: 4.7294 - val_acc: 0.0000e+00\n",
      "Epoch 59/100\n",
      "11610/11610==============================] - 0s 40us/sample - loss: 2.1510 - acc: 8.6133e-05 - val_loss: 4.7210 - val_acc: 0.0000e+00\n",
      "Epoch 60/100\n",
      "11610/11610==============================] - 0s 39us/sample - loss: 2.1448 - acc: 8.6133e-05 - val_loss: 4.7122 - val_acc: 0.0000e+00\n",
      "Epoch 61/100\n",
      "11610/11610==============================] - 0s 40us/sample - loss: 2.1374 - acc: 8.6133e-05 - val_loss: 4.7018 - val_acc: 0.0000e+00\n",
      "Epoch 62/100\n",
      "11610/11610==============================] - 0s 41us/sample - loss: 2.1281 - acc: 8.6133e-05 - val_loss: 4.6902 - val_acc: 0.0000e+00\n",
      "Epoch 63/100\n",
      "11610/11610==============================] - 1s 43us/sample - loss: 2.1183 - acc: 8.6133e-05 - val_loss: 4.6786 - val_acc: 0.0000e+00\n",
      "Epoch 64/100\n",
      "11610/11610==============================] - 1s 46us/sample - loss: 2.1088 - acc: 8.6133e-05 - val_loss: 4.6680 - val_acc: 0.0000e+00\n",
      "Epoch 65/100\n",
      "11610/11610==============================] - 0s 39us/sample - loss: 2.1004 - acc: 8.6133e-05 - val_loss: 4.6586 - val_acc: 0.0000e+00\n",
      "Epoch 66/100\n",
      "11610/11610==============================] - 0s 43us/sample - loss: 2.0930 - acc: 1.7227e-04 - val_loss: 4.6502 - val_acc: 0.0000e+00\n",
      "Epoch 67/100\n",
      "11610/11610==============================] - 1s 44us/sample - loss: 2.0867 - acc: 1.7227e-04 - val_loss: 4.6428 - val_acc: 0.0000e+00\n",
      "Epoch 68/100\n",
      "11610/11610==============================] - 0s 40us/sample - loss: 2.0813 - acc: 1.7227e-04 - val_loss: 4.6363 - val_acc: 0.0000e+00\n",
      "Epoch 69/100\n",
      "11610/11610==============================] - 0s 39us/sample - loss: 2.0766 - acc: 1.7227e-04 - val_loss: 4.6304 - val_acc: 0.0000e+00\n",
      "Epoch 70/100\n",
      "11610/11610==============================] - 0s 40us/sample - loss: 2.0725 - acc: 1.7227e-04 - val_loss: 4.6251 - val_acc: 0.0000e+00\n",
      "Epoch 71/100\n",
      "11610/11610==============================] - 0s 41us/sample - loss: 2.0688 - acc: 1.7227e-04 - val_loss: 4.6202 - val_acc: 0.0000e+00\n",
      "Epoch 72/100\n",
      "11610/11610==============================] - 0s 41us/sample - loss: 2.0655 - acc: 1.7227e-04 - val_loss: 4.6157 - val_acc: 0.0000e+00\n",
      "Epoch 73/100\n",
      "11610/11610==============================] - 0s 42us/sample - loss: 2.0625 - acc: 1.7227e-04 - val_loss: 4.6116 - val_acc: 0.0000e+00\n",
      "Epoch 74/100\n",
      "11610/11610==============================] - 1s 45us/sample - loss: 2.0598 - acc: 1.7227e-04 - val_loss: 4.6079 - val_acc: 0.0000e+00\n",
      "Epoch 75/100\n",
      "11610/11610==============================] - 0s 30us/sample - loss: 2.0572 - acc: 1.7227e-04 - val_loss: 4.6044 - val_acc: 0.0000e+00\n",
      "Epoch 76/100\n",
      "11610/11610==============================] - 0s 26us/sample - loss: 2.0549 - acc: 1.7227e-04 - val_loss: 4.6012 - val_acc: 0.0000e+00\n",
      "Epoch 77/100\n",
      "11610/11610==============================] - 0s 28us/sample - loss: 2.0526 - acc: 1.7227e-04 - val_loss: 4.5980 - val_acc: 0.0000e+00\n",
      "Epoch 78/100\n",
      "11610/11610==============================] - 0s 26us/sample - loss: 2.0505 - acc: 1.7227e-04 - val_loss: 4.5951 - val_acc: 0.0000e+00\n",
      "Epoch 79/100\n",
      "11610/11610==============================] - 0s 26us/sample - loss: 2.0485 - acc: 1.7227e-04 - val_loss: 4.5922 - val_acc: 0.0000e+00\n",
      "Epoch 80/100\n",
      "11610/11610==============================] - 0s 26us/sample - loss: 2.0467 - acc: 1.7227e-04 - val_loss: 4.5895 - val_acc: 0.0000e+00\n",
      "Epoch 81/100\n",
      "11610/11610==============================] - 0s 29us/sample - loss: 2.0449 - acc: 1.7227e-04 - val_loss: 4.5869 - val_acc: 0.0000e+00\n",
      "Epoch 82/100\n",
      "11610/11610==============================] - 0s 26us/sample - loss: 2.0432 - acc: 1.7227e-04 - val_loss: 4.5843 - val_acc: 0.0000e+00\n",
      "Epoch 83/100\n",
      "11610/11610==============================] - 0s 26us/sample - loss: 2.0416 - acc: 1.7227e-04 - val_loss: 4.5819 - val_acc: 0.0000e+00\n",
      "Epoch 84/100\n",
      "11610/11610==============================] - 0s 29us/sample - loss: 2.0400 - acc: 1.7227e-04 - val_loss: 4.5796 - val_acc: 0.0000e+00\n",
      "Epoch 85/100\n",
      "11610/11610==============================] - 0s 29us/sample - loss: 2.0385 - acc: 1.7227e-04 - val_loss: 4.5773 - val_acc: 0.0000e+00\n",
      "Epoch 86/100\n",
      "11610/11610==============================] - 0s 29us/sample - loss: 2.0371 - acc: 1.7227e-04 - val_loss: 4.5751 - val_acc: 0.0000e+00\n",
      "Epoch 87/100\n",
      "11610/11610==============================] - 0s 33us/sample - loss: 2.0356 - acc: 1.7227e-04 - val_loss: 4.5730 - val_acc: 0.0000e+00\n",
      "Epoch 88/100\n",
      "11610/11610==============================] - 0s 34us/sample - loss: 2.0343 - acc: 1.7227e-04 - val_loss: 4.5709 - val_acc: 0.0000e+00\n",
      "Epoch 89/100\n",
      "11610/11610==============================] - 0s 28us/sample - loss: 2.0329 - acc: 1.7227e-04 - val_loss: 4.5688 - val_acc: 0.0000e+00\n",
      "Epoch 90/100\n",
      "11610/11610==============================] - 0s 31us/sample - loss: 2.0314 - acc: 1.7227e-04 - val_loss: 4.5667 - val_acc: 0.0000e+00\n",
      "Epoch 91/100\n",
      "11610/11610==============================] - 0s 31us/sample - loss: 2.0300 - acc: 1.7227e-04 - val_loss: 4.5645 - val_acc: 0.0000e+00\n",
      "Epoch 92/100\n",
      "11610/11610==============================] - 0s 29us/sample - loss: 2.0284 - acc: 1.7227e-04 - val_loss: 4.5622 - val_acc: 0.0000e+00\n",
      "Epoch 93/100\n",
      "11610/11610==============================] - 1s 62us/sample - loss: 2.0266 - acc: 1.7227e-04 - val_loss: 4.5598 - val_acc: 0.0000e+00\n",
      "Epoch 94/100\n",
      "11610/11610==============================] - 1s 50us/sample - loss: 2.0246 - acc: 1.7227e-04 - val_loss: 4.5569 - val_acc: 0.0000e+00\n",
      "Epoch 95/100\n",
      "11610/11610==============================] - 1s 48us/sample - loss: 2.0221 - acc: 1.7227e-04 - val_loss: 4.5535 - val_acc: 0.0000e+00\n",
      "Epoch 96/100\n",
      "11610/11610==============================] - 1s 48us/sample - loss: 2.0188 - acc: 1.7227e-04 - val_loss: 4.5493 - val_acc: 0.0000e+00\n",
      "Epoch 97/100\n",
      "11610/11610==============================] - 1s 45us/sample - loss: 2.0144 - acc: 1.7227e-04 - val_loss: 4.5435 - val_acc: 0.0000e+00\n",
      "Epoch 98/100\n",
      "11610/11610==============================] - 1s 48us/sample - loss: 2.0081 - acc: 1.7227e-04 - val_loss: 4.5357 - val_acc: 0.0000e+00\n",
      "Epoch 99/100\n",
      "11610/11610==============================] - 1s 48us/sample - loss: 1.9995 - acc: 1.7227e-04 - val_loss: 4.5260 - val_acc: 0.0000e+00\n",
      "Epoch 100/100\n",
      "11610/11610==============================] - 1s 50us/sample - loss: 1.9892 - acc: 1.7227e-04 - val_loss: 4.5149 - val_acc: 0.0000e+00\n"
     ]
    }
   ],
   "source": [
    "model = build_model()"
   ]
  },
  {
   "cell_type": "code",
   "execution_count": 17,
   "metadata": {},
   "outputs": [
    {
     "name": "stdout",
     "output_type": "stream",
     "text": [
      "Model: \"model\"\n",
      "__________________________________________________________________________________________________\n",
      "Layer (type)                    Output Shape         Param #     Connected to                     \n",
      "==================================================================================================\n",
      "input_2 (InputLayer)            [(None, 8)]          0                                            \n",
      "__________________________________________________________________________________________________\n",
      "dense_3 (Dense)                 (None, 30)           270         input_2[0][0]                    \n",
      "__________________________________________________________________________________________________\n",
      "dense_4 (Dense)                 (None, 30)           930         dense_3[0][0]                    \n",
      "__________________________________________________________________________________________________\n",
      "concatenate_3 (Concatenate)     (None, 38)           0           input_2[0][0]                    \n",
      "                                                                 dense_4[0][0]                    \n",
      "==================================================================================================\n",
      "Total params: 1,200\n",
      "Trainable params: 1,200\n",
      "Non-trainable params: 0\n",
      "__________________________________________________________________________________________________\n"
     ]
    }
   ],
   "source": [
    "model.summary()"
   ]
  },
  {
   "cell_type": "code",
   "execution_count": null,
   "metadata": {},
   "outputs": [],
   "source": [
    "loss_value, accuracy = (model.evaluate([X_test_scaled_A, X_test_scaled_B], y_test))\n",
    "print(f\"loss_value={loss_value}, accuracy={accuracy}\")\n",
    "plot_learning_curves(history) "
   ]
  },
  {
   "cell_type": "markdown",
   "metadata": {},
   "source": [
    "### 7.2)\n",
    "After the Sequential API and the Functional API, let's try the Subclassing API:\n",
    "* Create a subclass of the `keras.models.Model` class.\n",
    "* Create all the layers you need in the constructor (e.g., `self.hidden1 = keras.layers.Dense(...)`).\n",
    "* Use the layers to process the `input` in the `call()` method, and return the output.\n",
    "* Note that you do not need to create a `keras.layers.Input` in this case.\n",
    "* Also note that `self.output` is used by Keras, so you should use another name for the output layer (e.g., `self.output_layer`).\n",
    "\n",
    "**When should you use the Subclassing API?**\n",
    "* Both the Sequential API and the Functional API are declarative: you first declare the list of layers you need and how they are connected, and only then can you feed your model with actual data. The models that these APIs build are just static graphs of layers. This has many advantages (easy inspection, debugging, saving, loading, sharing, etc.), and they cover the vast majority of use cases, but if you need to build a very dynamic model (e.g., with loops or conditional branching), or if you want to experiment with new ideas using an imperative programming style, then the Subclassing API is for you. You can pretty much do any computation you want in the `call()` method, possibly with loops and conditions, using Keras layers of even low-level TensorFlow operations.\n",
    "* However, this extra flexibility comes at the cost of less transparency. Since the model is defined within the `call()` method, Keras cannot fully inspect it. All it sees is the list of model attributes (which include the layers you define in the constructor), so when you display the model summary you just see a list of unconnected layers. Consequently, you cannot save or load the model without writing extra code. So this API is best used only when you really need the extra flexibility."
   ]
  },
  {
   "cell_type": "code",
   "execution_count": 25,
   "metadata": {},
   "outputs": [],
   "source": [
    "class MyModel(keras.models.Model):\n",
    "    def __init__(self):\n",
    "        super(MyModel, self).__init__()\n",
    "        # create layers here\n",
    "        self.hidden1_layer = keras.layers.Dense(30, activation=\"relu\")\n",
    "        self.hidden2_layer = keras.layers.Dense(30, activation=\"relu\")\n",
    "        self.output_layer = keras.layers.Dense(1)\n",
    "\n",
    "    def call(self, input_layer):\n",
    "        # use the layers here\n",
    "        hidden1_layer = self.hidden1_layer(input_layer)\n",
    "        hidden2_layer = self.hidden2_layer(hidden1_layer)\n",
    "        concat_two_layers = keras.layers.concatenate([input_layer, hidden2_layer])\n",
    "        return self.output_layer(concat_two_layers)\n",
    "\n",
    "model = MyModel()"
   ]
  },
  {
   "cell_type": "code",
   "execution_count": 26,
   "metadata": {},
   "outputs": [],
   "source": [
    "model.compile(loss='mse', optimizer=keras.optimizers.SGD(learning_rate=0.001), metrics=['accuracy'])"
   ]
  },
  {
   "cell_type": "code",
   "execution_count": 27,
   "metadata": {
    "scrolled": true
   },
   "outputs": [
    {
     "name": "stdout",
     "output_type": "stream",
     "text": [
      "Train on 11610 samples, validate on 3870 samples\n",
      "Epoch 1/100\n",
      "11610/11610==============================] - 1s 54us/sample - loss: 1.7541 - acc: 0.0027 - val_loss: 3.1333 - val_acc: 0.0044\n",
      "Epoch 2/100\n",
      "11610/11610==============================] - 0s 37us/sample - loss: 0.7661 - acc: 0.0028 - val_loss: 1.7216 - val_acc: 0.0044\n",
      "Epoch 3/100\n",
      "11610/11610==============================] - 0s 39us/sample - loss: 0.6853 - acc: 0.0028 - val_loss: 0.6362 - val_acc: 0.0044\n",
      "Epoch 4/100\n",
      "11610/11610==============================] - 0s 36us/sample - loss: 0.6404 - acc: 0.0028 - val_loss: 0.6621 - val_acc: 0.0044\n",
      "Epoch 5/100\n",
      "11610/11610==============================] - 1s 45us/sample - loss: 0.6081 - acc: 0.0028 - val_loss: 0.6977 - val_acc: 0.0044\n",
      "Epoch 6/100\n",
      "11610/11610==============================] - 0s 41us/sample - loss: 0.5830 - acc: 0.0028 - val_loss: 0.5907 - val_acc: 0.0044\n",
      "Epoch 7/100\n",
      "11610/11610==============================] - 0s 39us/sample - loss: 0.5553 - acc: 0.0028 - val_loss: 0.6610 - val_acc: 0.0044\n",
      "Epoch 8/100\n",
      "11610/11610==============================] - 0s 43us/sample - loss: 0.5372 - acc: 0.0028 - val_loss: 0.5837 - val_acc: 0.0044\n",
      "Epoch 9/100\n",
      "11610/11610==============================] - 0s 41us/sample - loss: 0.5181 - acc: 0.0028 - val_loss: 0.5041 - val_acc: 0.0044\n",
      "Epoch 10/100\n",
      "11610/11610==============================] - 1s 45us/sample - loss: 0.5003 - acc: 0.0028 - val_loss: 0.6098 - val_acc: 0.0044\n",
      "Epoch 11/100\n",
      "11610/11610==============================] - 0s 39us/sample - loss: 0.4882 - acc: 0.0028 - val_loss: 0.5164 - val_acc: 0.0044\n",
      "Epoch 12/100\n",
      "11610/11610==============================] - 0s 39us/sample - loss: 0.4744 - acc: 0.0028 - val_loss: 0.4427 - val_acc: 0.0044\n",
      "Epoch 13/100\n",
      "11610/11610==============================] - 0s 39us/sample - loss: 0.4620 - acc: 0.0028 - val_loss: 0.4567 - val_acc: 0.0044\n",
      "Epoch 14/100\n",
      "11610/11610==============================] - 0s 39us/sample - loss: 0.4529 - acc: 0.0028 - val_loss: 0.4192 - val_acc: 0.0044\n",
      "Epoch 15/100\n",
      "11610/11610==============================] - 0s 40us/sample - loss: 0.4432 - acc: 0.0028 - val_loss: 0.4318 - val_acc: 0.0044\n",
      "Epoch 16/100\n",
      "11610/11610==============================] - 0s 39us/sample - loss: 0.4357 - acc: 0.0028 - val_loss: 0.4251 - val_acc: 0.0044\n",
      "Epoch 17/100\n",
      "11610/11610==============================] - 0s 40us/sample - loss: 0.4288 - acc: 0.0029 - val_loss: 0.4054 - val_acc: 0.0044\n",
      "Epoch 18/100\n",
      "11610/11610==============================] - 0s 39us/sample - loss: 0.4215 - acc: 0.0028 - val_loss: 0.4744 - val_acc: 0.0044\n",
      "Epoch 19/100\n",
      "11610/11610==============================] - 0s 40us/sample - loss: 0.4179 - acc: 0.0028 - val_loss: 0.4552 - val_acc: 0.0044\n",
      "Epoch 20/100\n",
      "11610/11610==============================] - 0s 40us/sample - loss: 0.4122 - acc: 0.0028 - val_loss: 0.3940 - val_acc: 0.0044\n",
      "Epoch 21/100\n",
      "11610/11610==============================] - 0s 41us/sample - loss: 0.4075 - acc: 0.0028 - val_loss: 0.3840 - val_acc: 0.0044\n",
      "Epoch 22/100\n",
      "11610/11610==============================] - 0s 40us/sample - loss: 0.4038 - acc: 0.0028 - val_loss: 0.3751 - val_acc: 0.0044\n",
      "Epoch 23/100\n",
      "11610/11610==============================] - 0s 43us/sample - loss: 0.4002 - acc: 0.0028 - val_loss: 0.3783 - val_acc: 0.0044\n",
      "Epoch 24/100\n",
      "11610/11610==============================] - 0s 43us/sample - loss: 0.3971 - acc: 0.0028 - val_loss: 0.3697 - val_acc: 0.0044\n",
      "Epoch 25/100\n",
      "11610/11610==============================] - 0s 40us/sample - loss: 0.3943 - acc: 0.0028 - val_loss: 0.3676 - val_acc: 0.0044\n",
      "Epoch 26/100\n",
      "11610/11610==============================] - 0s 42us/sample - loss: 0.3918 - acc: 0.0028 - val_loss: 0.3662 - val_acc: 0.0044\n",
      "Epoch 27/100\n",
      "11610/11610==============================] - 1s 45us/sample - loss: 0.3894 - acc: 0.0028 - val_loss: 0.3670 - val_acc: 0.0044\n",
      "Epoch 28/100\n",
      "11610/11610==============================] - 0s 39us/sample - loss: 0.3873 - acc: 0.0028 - val_loss: 0.3735 - val_acc: 0.0044\n",
      "Epoch 29/100\n",
      "11610/11610==============================] - 0s 39us/sample - loss: 0.3849 - acc: 0.0028 - val_loss: 0.3747 - val_acc: 0.0044\n",
      "Epoch 30/100\n",
      "11610/11610==============================] - 0s 40us/sample - loss: 0.3834 - acc: 0.0028 - val_loss: 0.3604 - val_acc: 0.0044\n",
      "Epoch 31/100\n",
      "11610/11610==============================] - 0s 41us/sample - loss: 0.3814 - acc: 0.0028 - val_loss: 0.3748 - val_acc: 0.0044\n",
      "Epoch 32/100\n",
      "11610/11610==============================] - 1s 44us/sample - loss: 0.3800 - acc: 0.0028 - val_loss: 0.3606 - val_acc: 0.0044\n",
      "Epoch 33/100\n",
      "11610/11610==============================] - 1s 46us/sample - loss: 0.3782 - acc: 0.0028 - val_loss: 0.3684 - val_acc: 0.0044\n",
      "Epoch 34/100\n",
      "11610/11610==============================] - 0s 42us/sample - loss: 0.3772 - acc: 0.0028 - val_loss: 0.3749 - val_acc: 0.0044\n",
      "Epoch 35/100\n",
      "11610/11610==============================] - 0s 41us/sample - loss: 0.3750 - acc: 0.0028 - val_loss: 0.4051 - val_acc: 0.0044\n"
     ]
    }
   ],
   "source": [
    "history = model.fit(X_train_scaled, y_train, epochs=100, \n",
    "                        validation_data=(X_valid_scaled, y_valid),\n",
    "                        callbacks=[keras.callbacks.EarlyStopping(patience=5)])"
   ]
  },
  {
   "cell_type": "code",
   "execution_count": 28,
   "metadata": {},
   "outputs": [
    {
     "name": "stdout",
     "output_type": "stream",
     "text": [
      "Model: \"my_model_2\"\n",
      "_________________________________________________________________\n",
      "Layer (type)                 Output Shape              Param #   \n",
      "=================================================================\n",
      "dense_12 (Dense)             multiple                  270       \n",
      "_________________________________________________________________\n",
      "dense_13 (Dense)             multiple                  930       \n",
      "_________________________________________________________________\n",
      "dense_14 (Dense)             multiple                  39        \n",
      "=================================================================\n",
      "Total params: 1,239\n",
      "Trainable params: 1,239\n",
      "Non-trainable params: 0\n",
      "_________________________________________________________________\n"
     ]
    }
   ],
   "source": [
    "model.summary()"
   ]
  },
  {
   "cell_type": "code",
   "execution_count": 29,
   "metadata": {},
   "outputs": [
    {
     "data": {
      "image/png": "[encoded data removed]",
      "text/plain": [
       "<Figure size 576x360 with 1 Axes>"
      ]
     },
     "metadata": {
      "needs_background": "light"
     },
     "output_type": "display_data"
    }
   ],
   "source": [
    "loss_value, accuracy = (model.evaluate([X_test_scaled_A, X_test_scaled_B], y_test))\n",
    "print(f\"loss_value={loss_value}, accuracy={accuracy}\")\n",
    "plot_learning_curves(history) "
   ]
  },
  {
   "cell_type": "markdown",
   "metadata": {},
   "source": [
    "### 7.3)\n",
    "Now suppose you want to send only features 0 to 4 directly to the output, and only features 2 to 7 through the hidden layers, as shown on the following diagram. Use the functional API to build, train and evaluate this model.\n",
    "\n",
    "**Tips**:\n",
    "* You need to create two `keras.layers.Input` (`input_A` and `input_B`)\n",
    "* Build the model using the functional API, as above, but when you build the `keras.models.Model`, remember to set `inputs=[input_A, input_B]`\n",
    "* When calling `fit()`, `evaluate()` and  `predict()`, instead of passing `X_train_scaled`, pass `(X_train_scaled_A, X_train_scaled_B)` (two NumPy arrays containing only the appropriate features copied from `X_train_scaled`)."
   ]
  },
  {
   "cell_type": "markdown",
   "metadata": {},
   "source": [
    "<img src=\"images/multiple_inputs.png\" title=\"Multiple inputs\" width=300 />"
   ]
  },
  {
   "cell_type": "code",
   "execution_count": 32,
   "metadata": {},
   "outputs": [],
   "source": [
    "X_train_scaled_A = X_train_scaled[:, :5]\n",
    "X_train_scaled_B = X_train_scaled[:, 2:]\n",
    "X_valid_scaled_A = X_valid_scaled[:, :5]\n",
    "X_valid_scaled_B = X_valid_scaled[:, 2:]\n",
    "X_test_scaled_A = X_test_scaled[:, :5]\n",
    "X_test_scaled_B = X_test_scaled[:, 2:]"
   ]
  },
  {
   "cell_type": "code",
   "execution_count": 35,
   "metadata": {},
   "outputs": [],
   "source": [
    "def build_model(n_hidden=1, n_neurons=100, learning_rate=0.001):\n",
    "    input_A_layer = keras.layers.Input(shape=[4 - 0 + 1])\n",
    "    input_B_layer = keras.layers.Input(shape=[7 - 2 + 1])\n",
    "    \n",
    "    hidden1_layer = keras.layers.Dense(30, activation=\"relu\")(input_B_layer)\n",
    "    hidden2_layer = keras.layers.Dense(30, activation=\"relu\")(hidden1_layer)\n",
    "    \n",
    "    concat_layers = keras.layers.concatenate([input_A_layer, hidden2_layer])\n",
    "    output_layer = keras.layers.Dense(1)(concat_layers)\n",
    "    \n",
    "    model = keras.models.Model(inputs=[input_A_layer, input_B_layer], outputs=[output_layer])\n",
    "    \n",
    "    model.compile(loss='mse',\n",
    "                  optimizer=keras.optimizers.SGD(learning_rate=learning_rate),\n",
    "                  metrics=['accuracy'])\n",
    "    \n",
    "    history = model.fit([X_train_scaled_A, X_train_scaled_B], y_train, epochs=100, \n",
    "                        validation_data=([X_valid_scaled_A, X_valid_scaled_B], y_valid),\n",
    "                        callbacks=[keras.callbacks.EarlyStopping(patience=5)])\n",
    "    \n",
    "    return model"
   ]
  },
  {
   "cell_type": "code",
   "execution_count": 36,
   "metadata": {
    "scrolled": true
   },
   "outputs": [
    {
     "name": "stdout",
     "output_type": "stream",
     "text": [
      "Train on 11610 samples, validate on 3870 samples\n",
      "Epoch 1/100\n",
      "11610/11610==============================] - 1s 66us/sample - loss: 2.4776 - acc: 0.0026 - val_loss: 7.2436 - val_acc: 0.0044\n",
      "Epoch 2/100\n",
      "11610/11610==============================] - 0s 41us/sample - loss: 0.8997 - acc: 0.0029 - val_loss: 1.3492 - val_acc: 0.0044\n",
      "Epoch 3/100\n",
      "11610/11610==============================] - 1s 45us/sample - loss: 0.7108 - acc: 0.0028 - val_loss: 1.0039 - val_acc: 0.0044\n",
      "Epoch 4/100\n",
      "11610/11610==============================] - 1s 43us/sample - loss: 0.6480 - acc: 0.0028 - val_loss: 0.8183 - val_acc: 0.0044\n",
      "Epoch 5/100\n",
      "11610/11610==============================] - 0s 40us/sample - loss: 0.6062 - acc: 0.0028 - val_loss: 0.7016 - val_acc: 0.0044\n",
      "Epoch 6/100\n",
      "11610/11610==============================] - 0s 41us/sample - loss: 0.5729 - acc: 0.0028 - val_loss: 0.6275 - val_acc: 0.0044\n",
      "Epoch 7/100\n",
      "11610/11610==============================] - 0s 40us/sample - loss: 0.5445 - acc: 0.0028 - val_loss: 0.5720 - val_acc: 0.0044\n",
      "Epoch 8/100\n",
      "11610/11610==============================] - 0s 40us/sample - loss: 0.5206 - acc: 0.0028 - val_loss: 0.5445 - val_acc: 0.0044\n",
      "Epoch 9/100\n",
      "11610/11610==============================] - 0s 40us/sample - loss: 0.5010 - acc: 0.0028 - val_loss: 0.5116 - val_acc: 0.0044\n",
      "Epoch 10/100\n",
      "11610/11610==============================] - 0s 40us/sample - loss: 0.4853 - acc: 0.0028 - val_loss: 0.4964 - val_acc: 0.0044\n",
      "Epoch 11/100\n",
      "11610/11610==============================] - 0s 40us/sample - loss: 0.4728 - acc: 0.0028 - val_loss: 0.4795 - val_acc: 0.0044\n",
      "Epoch 12/100\n",
      "11610/11610==============================] - 0s 41us/sample - loss: 0.4631 - acc: 0.0028 - val_loss: 0.4679 - val_acc: 0.0044\n",
      "Epoch 13/100\n",
      "11610/11610==============================] - 0s 40us/sample - loss: 0.4555 - acc: 0.0028 - val_loss: 0.4638 - val_acc: 0.0044\n",
      "Epoch 14/100\n",
      "11610/11610==============================] - 0s 42us/sample - loss: 0.4495 - acc: 0.0028 - val_loss: 0.4545 - val_acc: 0.0044\n",
      "Epoch 15/100\n",
      "11610/11610==============================] - 1s 45us/sample - loss: 0.4446 - acc: 0.0028 - val_loss: 0.4579 - val_acc: 0.0044\n",
      "Epoch 16/100\n",
      "11610/11610==============================] - 0s 43us/sample - loss: 0.4406 - acc: 0.0027 - val_loss: 0.4493 - val_acc: 0.0044\n",
      "Epoch 17/100\n",
      "11610/11610==============================] - 1s 46us/sample - loss: 0.4372 - acc: 0.0027 - val_loss: 0.4496 - val_acc: 0.0044\n",
      "Epoch 18/100\n",
      "11610/11610==============================] - 0s 43us/sample - loss: 0.4343 - acc: 0.0027 - val_loss: 0.4412 - val_acc: 0.0044\n",
      "Epoch 19/100\n",
      "11610/11610==============================] - 1s 45us/sample - loss: 0.4318 - acc: 0.0026 - val_loss: 0.4303 - val_acc: 0.0044\n",
      "Epoch 20/100\n",
      "11610/11610==============================] - 0s 42us/sample - loss: 0.4298 - acc: 0.0026 - val_loss: 0.4304 - val_acc: 0.0044\n",
      "Epoch 21/100\n",
      "11610/11610==============================] - 1s 45us/sample - loss: 0.4274 - acc: 0.0026 - val_loss: 0.4365 - val_acc: 0.0044\n",
      "Epoch 22/100\n",
      "11610/11610==============================] - 0s 40us/sample - loss: 0.4262 - acc: 0.0026 - val_loss: 0.4325 - val_acc: 0.0044\n",
      "Epoch 23/100\n",
      "11610/11610==============================] - 0s 42us/sample - loss: 0.4243 - acc: 0.0027 - val_loss: 0.4118 - val_acc: 0.0044\n",
      "Epoch 24/100\n",
      "11610/11610==============================] - 0s 41us/sample - loss: 0.4230 - acc: 0.0027 - val_loss: 0.4188 - val_acc: 0.0044\n",
      "Epoch 25/100\n",
      "11610/11610==============================] - 1s 44us/sample - loss: 0.4216 - acc: 0.0027 - val_loss: 0.4221 - val_acc: 0.0044\n",
      "Epoch 26/100\n",
      "11610/11610==============================] - 0s 42us/sample - loss: 0.4200 - acc: 0.0027 - val_loss: 0.4210 - val_acc: 0.0044\n",
      "Epoch 27/100\n",
      "11610/11610==============================] - 0s 42us/sample - loss: 0.4193 - acc: 0.0027 - val_loss: 0.4153 - val_acc: 0.0044\n",
      "Epoch 28/100\n",
      "11610/11610==============================] - 0s 42us/sample - loss: 0.4176 - acc: 0.0027 - val_loss: 0.4060 - val_acc: 0.0044\n",
      "Epoch 29/100\n",
      "11610/11610==============================] - 0s 42us/sample - loss: 0.4169 - acc: 0.0027 - val_loss: 0.4045 - val_acc: 0.0044\n",
      "Epoch 30/100\n",
      "11610/11610==============================] - 0s 43us/sample - loss: 0.4156 - acc: 0.0026 - val_loss: 0.4049 - val_acc: 0.0044\n",
      "Epoch 31/100\n",
      "11610/11610==============================] - 0s 43us/sample - loss: 0.4147 - acc: 0.0027 - val_loss: 0.4069 - val_acc: 0.0044\n",
      "Epoch 32/100\n",
      "11610/11610==============================] - 1s 48us/sample - loss: 0.4134 - acc: 0.0026 - val_loss: 0.4004 - val_acc: 0.0044\n",
      "Epoch 33/100\n",
      "11610/11610==============================] - 1s 52us/sample - loss: 0.4129 - acc: 0.0026 - val_loss: 0.4021 - val_acc: 0.0044\n",
      "Epoch 34/100\n",
      "11610/11610==============================] - 1s 44us/sample - loss: 0.4116 - acc: 0.0026 - val_loss: 0.4137 - val_acc: 0.0044\n",
      "Epoch 35/100\n",
      "11610/11610==============================] - 0s 41us/sample - loss: 0.4110 - acc: 0.0026 - val_loss: 0.4089 - val_acc: 0.0044\n",
      "Epoch 36/100\n",
      "11610/11610==============================] - 0s 43us/sample - loss: 0.4101 - acc: 0.0026 - val_loss: 0.4004 - val_acc: 0.0044\n",
      "Epoch 37/100\n",
      "11610/11610==============================] - 1s 46us/sample - loss: 0.4093 - acc: 0.0026 - val_loss: 0.4041 - val_acc: 0.0044\n"
     ]
    }
   ],
   "source": [
    "model = build_model()"
   ]
  },
  {
   "cell_type": "code",
   "execution_count": 37,
   "metadata": {},
   "outputs": [
    {
     "name": "stdout",
     "output_type": "stream",
     "text": [
      "Model: \"model_1\"\n",
      "__________________________________________________________________________________________________\n",
      "Layer (type)                    Output Shape         Param #     Connected to                     \n",
      "==================================================================================================\n",
      "input_8 (InputLayer)            [(None, 6)]          0                                            \n",
      "__________________________________________________________________________________________________\n",
      "dense_18 (Dense)                (None, 30)           210         input_8[0][0]                    \n",
      "__________________________________________________________________________________________________\n",
      "input_7 (InputLayer)            [(None, 5)]          0                                            \n",
      "__________________________________________________________________________________________________\n",
      "dense_19 (Dense)                (None, 30)           930         dense_18[0][0]                   \n",
      "__________________________________________________________________________________________________\n",
      "concatenate_5 (Concatenate)     (None, 35)           0           input_7[0][0]                    \n",
      "                                                                 dense_19[0][0]                   \n",
      "__________________________________________________________________________________________________\n",
      "dense_20 (Dense)                (None, 1)            36          concatenate_5[0][0]              \n",
      "==================================================================================================\n",
      "Total params: 1,176\n",
      "Trainable params: 1,176\n",
      "Non-trainable params: 0\n",
      "__________________________________________________________________________________________________\n"
     ]
    }
   ],
   "source": [
    "model.summary()"
   ]
  },
  {
   "cell_type": "code",
   "execution_count": 39,
   "metadata": {},
   "outputs": [
    {
     "name": "stdout",
     "output_type": "stream",
     "text": [
      "5160/5160==============================] - 0s 16us/sample - loss: 0.4037 - acc: 0.0019\n",
      "loss_value=0.4036573244619739, accuracy=0.0019379844889044762\n"
     ]
    },
    {
     "data": {
      "image/png": "[encoded data removed]",
      "text/plain": [
       "<Figure size 576x360 with 1 Axes>"
      ]
     },
     "metadata": {
      "needs_background": "light"
     },
     "output_type": "display_data"
    }
   ],
   "source": [
    "loss_value, accuracy = (model.evaluate([X_test_scaled_A, X_test_scaled_B], y_test))\n",
    "print(f\"loss_value={loss_value}, accuracy={accuracy}\")\n",
    "plot_learning_curves(history) "
   ]
  },
  {
   "cell_type": "markdown",
   "metadata": {},
   "source": [
    "### 7.4)\n",
    "Build the multi-input and multi-output neural net represented in the following diagram.\n",
    "\n",
    "<img src=\"images/multiple_inputs_and_outputs.png\" title=\"Multiple inputs and outputs\" width=400 />\n",
    "\n",
    "**Why?**\n",
    "\n",
    "There are many use cases in which having multiple outputs can be useful:\n",
    "* Your task may require multiple outputs, for example, you may want to locate and classify the main object in a picture. This is both a regression task (finding the coordinates of the object's center, as well as its width and height) and a classification task.\n",
    "* Similarly, you may have multiple independent tasks to perform based on the same data. Sure, you could train one neural network per task, but in many cases you will get better results on all tasks by training a single neural network with one output per task. This is because the neural network can learn features in the data that are useful across tasks.\n",
    "* Another use case is as a regularization technique (i.e., a training constraint whose objective is to reduce overfitting and thus improve the model's ability to generalize). For example, you may want to add some auxiliary outputs in a neural network architecture (as shown in the diagram) to ensure that that the underlying part of the network learns something useful on its own, without relying on the rest of the network.\n",
    "\n",
    "**Tips**:\n",
    "* Building the model is pretty straightforward using the functional API. Just make sure you specify both outputs when creating the `keras.models.Model`, for example `outputs=[output, aux_output]`.\n",
    "* Each output has its own loss function. In this scenario, they will be identical, so you can either specify `loss=\"mse\"` (this loss will apply to both outputs) or `loss=[\"mse\", \"mse\"]`, which does the same thing.\n",
    "* The final loss used to train the whole network is just a weighted sum of all loss functions. In this scenario, you want most to give a much smaller weight to the auxiliary output, so when compiling the model, you must specify `loss_weights=[0.9, 0.1]`.\n",
    "* When calling `fit()` or `evaluate()`, you need to pass the labels for all outputs. In this scenario the labels will be the same for the main output and for the auxiliary output, so make sure to pass `(y_train, y_train)` instead of `y_train`.\n",
    "* The `predict()` method will return both the main output and the auxiliary output."
   ]
  },
  {
   "cell_type": "code",
   "execution_count": 40,
   "metadata": {},
   "outputs": [],
   "source": [
    "def build_model(n_hidden=1, n_neurons=100, learning_rate=0.001):\n",
    "    input_A_layer = keras.layers.Input(shape=[4 - 0 + 1])\n",
    "    input_B_layer = keras.layers.Input(shape=[7 - 2 + 1])\n",
    "    \n",
    "    hidden1_layer = keras.layers.Dense(30, activation=\"relu\")(input_B_layer)\n",
    "    hidden2_layer = keras.layers.Dense(30, activation=\"relu\")(hidden1_layer)\n",
    "    \n",
    "    concat_layers = keras.layers.concatenate([input_A_layer, hidden2_layer])\n",
    "    output_layer = keras.layers.Dense(1)(concat_layers)\n",
    "    aux_output_layer = keras.layers.Dense(1)(hidden2_layer)\n",
    "    \n",
    "    model = keras.models.Model(inputs=[input_A_layer, input_B_layer],\n",
    "                               outputs=[output_layer, aux_output_layer])\n",
    "    \n",
    "    model.compile(loss=[\"mse\", \"mse\"],\n",
    "                  loss_weights=[0.9, 0.1],\n",
    "                  optimizer=keras.optimizers.SGD(learning_rate=learning_rate),\n",
    "                  metrics=['accuracy'])\n",
    "    \n",
    "    history = model.fit([X_train_scaled_A, X_train_scaled_B], [y_train, y_train], epochs=100, \n",
    "                        validation_data=([X_valid_scaled_A, X_valid_scaled_B], [y_valid, y_valid]),\n",
    "                        callbacks=[keras.callbacks.EarlyStopping(patience=5)])\n",
    "    \n",
    "    return model"
   ]
  },
  {
   "cell_type": "code",
   "execution_count": 41,
   "metadata": {
    "scrolled": true
   },
   "outputs": [
    {
     "name": "stdout",
     "output_type": "stream",
     "text": [
      "Train on 11610 samples, validate on 3870 samples\n",
      "Epoch 1/100\n",
      "11610/11610==============================] - 1s 100us/sample - loss: 2.1696 - dense_23_loss: 1.9006 - dense_24_loss: 4.5860 - dense_23_acc: 0.0021 - dense_24_acc: 0.0013 - val_loss: 1.8833 - val_dense_23_loss: 1.7336 - val_dense_24_loss: 3.2256 - val_dense_23_acc: 0.0044 - val_dense_24_acc: 0.0039\n",
      "Epoch 2/100\n",
      "11610/11610==============================] - 1s 54us/sample - loss: 0.9433 - dense_23_loss: 0.7571 - dense_24_loss: 2.6201 - dense_23_acc: 0.0028 - dense_24_acc: 0.0029 - val_loss: 0.8667 - val_dense_23_loss: 0.7140 - val_dense_24_loss: 2.2400 - val_dense_23_acc: 0.0044 - val_dense_24_acc: 0.0044\n",
      "Epoch 3/100\n",
      "11610/11610==============================] - 1s 60us/sample - loss: 0.7860 - dense_23_loss: 0.6646 - dense_24_loss: 1.8791 - dense_23_acc: 0.0028 - dense_24_acc: 0.0029 - val_loss: 0.7608 - val_dense_23_loss: 0.6303 - val_dense_24_loss: 1.9389 - val_dense_23_acc: 0.0044 - val_dense_24_acc: 0.0044\n",
      "Epoch 4/100\n",
      "11610/11610==============================] - 1s 62us/sample - loss: 0.7260 - dense_23_loss: 0.6291 - dense_24_loss: 1.5984 - dense_23_acc: 0.0028 - dense_24_acc: 0.0029 - val_loss: 0.7426 - val_dense_23_loss: 0.6289 - val_dense_24_loss: 1.7660 - val_dense_23_acc: 0.0044 - val_dense_24_acc: 0.0044\n",
      "Epoch 5/100\n",
      "11610/11610==============================] - 1s 57us/sample - loss: 0.6896 - dense_23_loss: 0.6030 - dense_24_loss: 1.4701 - dense_23_acc: 0.0027 - dense_24_acc: 0.0029 - val_loss: 0.7459 - val_dense_23_loss: 0.6497 - val_dense_24_loss: 1.6098 - val_dense_23_acc: 0.0044 - val_dense_24_acc: 0.0044\n",
      "Epoch 6/100\n",
      "11610/11610==============================] - 1s 57us/sample - loss: 0.6625 - dense_23_loss: 0.5817 - dense_24_loss: 1.3902 - dense_23_acc: 0.0027 - dense_24_acc: 0.0029 - val_loss: 0.7323 - val_dense_23_loss: 0.6452 - val_dense_24_loss: 1.5147 - val_dense_23_acc: 0.0044 - val_dense_24_acc: 0.0044\n",
      "Epoch 7/100\n",
      "11610/11610==============================] - 1s 58us/sample - loss: 0.6402 - dense_23_loss: 0.5635 - dense_24_loss: 1.3318 - dense_23_acc: 0.0027 - dense_24_acc: 0.0029 - val_loss: 0.7049 - val_dense_23_loss: 0.6238 - val_dense_24_loss: 1.4336 - val_dense_23_acc: 0.0044 - val_dense_24_acc: 0.0044\n",
      "Epoch 8/100\n",
      "11610/11610==============================] - 1s 56us/sample - loss: 0.6205 - dense_23_loss: 0.5465 - dense_24_loss: 1.2865 - dense_23_acc: 0.0027 - dense_24_acc: 0.0029 - val_loss: 0.6994 - val_dense_23_loss: 0.6280 - val_dense_24_loss: 1.3407 - val_dense_23_acc: 0.0044 - val_dense_24_acc: 0.0044\n",
      "Epoch 9/100\n",
      "11610/11610==============================] - 1s 61us/sample - loss: 0.6032 - dense_23_loss: 0.5316 - dense_24_loss: 1.2461 - dense_23_acc: 0.0027 - dense_24_acc: 0.0029 - val_loss: 0.6538 - val_dense_23_loss: 0.5820 - val_dense_24_loss: 1.2996 - val_dense_23_acc: 0.0044 - val_dense_24_acc: 0.0044\n",
      "Epoch 10/100\n",
      "11610/11610==============================] - 1s 62us/sample - loss: 0.5872 - dense_23_loss: 0.5178 - dense_24_loss: 1.2128 - dense_23_acc: 0.0027 - dense_24_acc: 0.0029 - val_loss: 0.6294 - val_dense_23_loss: 0.5606 - val_dense_24_loss: 1.2468 - val_dense_23_acc: 0.0044 - val_dense_24_acc: 0.0044\n",
      "Epoch 11/100\n",
      "11610/11610==============================] - 1s 59us/sample - loss: 0.5725 - dense_23_loss: 0.5050 - dense_24_loss: 1.1806 - dense_23_acc: 0.0028 - dense_24_acc: 0.0029 - val_loss: 0.6120 - val_dense_23_loss: 0.5465 - val_dense_24_loss: 1.1999 - val_dense_23_acc: 0.0044 - val_dense_24_acc: 0.0044\n",
      "Epoch 12/100\n",
      "11610/11610==============================] - 1s 65us/sample - loss: 0.5600 - dense_23_loss: 0.4942 - dense_24_loss: 1.1518 - dense_23_acc: 0.0028 - dense_24_acc: 0.0029 - val_loss: 0.5769 - val_dense_23_loss: 0.5111 - val_dense_24_loss: 1.1684 - val_dense_23_acc: 0.0044 - val_dense_24_acc: 0.0044\n",
      "Epoch 13/100\n",
      "11610/11610==============================] - 1s 62us/sample - loss: 0.5478 - dense_23_loss: 0.4837 - dense_24_loss: 1.1251 - dense_23_acc: 0.0028 - dense_24_acc: 0.0029 - val_loss: 0.5580 - val_dense_23_loss: 0.4942 - val_dense_24_loss: 1.1304 - val_dense_23_acc: 0.0044 - val_dense_24_acc: 0.0044\n",
      "Epoch 14/100\n",
      "11610/11610==============================] - 1s 60us/sample - loss: 0.5366 - dense_23_loss: 0.4740 - dense_24_loss: 1.0998 - dense_23_acc: 0.0028 - dense_24_acc: 0.0029 - val_loss: 0.5553 - val_dense_23_loss: 0.4959 - val_dense_24_loss: 1.0890 - val_dense_23_acc: 0.0044 - val_dense_24_acc: 0.0044\n",
      "Epoch 15/100\n",
      "11610/11610==============================] - 1s 58us/sample - loss: 0.5271 - dense_23_loss: 0.4662 - dense_24_loss: 1.0744 - dense_23_acc: 0.0028 - dense_24_acc: 0.0029 - val_loss: 0.5368 - val_dense_23_loss: 0.4786 - val_dense_24_loss: 1.0603 - val_dense_23_acc: 0.0044 - val_dense_24_acc: 0.0044\n",
      "Epoch 16/100\n",
      "11610/11610==============================] - 1s 57us/sample - loss: 0.5188 - dense_23_loss: 0.4595 - dense_24_loss: 1.0515 - dense_23_acc: 0.0028 - dense_24_acc: 0.0029 - val_loss: 0.5132 - val_dense_23_loss: 0.4550 - val_dense_24_loss: 1.0360 - val_dense_23_acc: 0.0044 - val_dense_24_acc: 0.0044\n",
      "Epoch 17/100\n",
      "11610/11610==============================] - 1s 58us/sample - loss: 0.5110 - dense_23_loss: 0.4534 - dense_24_loss: 1.0296 - dense_23_acc: 0.0028 - dense_24_acc: 0.0029 - val_loss: 0.4982 - val_dense_23_loss: 0.4409 - val_dense_24_loss: 1.0129 - val_dense_23_acc: 0.0044 - val_dense_24_acc: 0.0044\n",
      "Epoch 18/100\n",
      "11610/11610==============================] - 1s 56us/sample - loss: 0.5045 - dense_23_loss: 0.4484 - dense_24_loss: 1.0096 - dense_23_acc: 0.0028 - dense_24_acc: 0.0029 - val_loss: 0.4916 - val_dense_23_loss: 0.4361 - val_dense_24_loss: 0.9898 - val_dense_23_acc: 0.0044 - val_dense_24_acc: 0.0044\n",
      "Epoch 19/100\n",
      "11610/11610==============================] - 1s 57us/sample - loss: 0.4988 - dense_23_loss: 0.4450 - dense_24_loss: 0.9887 - dense_23_acc: 0.0028 - dense_24_acc: 0.0029 - val_loss: 0.4848 - val_dense_23_loss: 0.4309 - val_dense_24_loss: 0.9696 - val_dense_23_acc: 0.0044 - val_dense_24_acc: 0.0044\n",
      "Epoch 20/100\n",
      "11610/11610==============================] - 1s 57us/sample - loss: 0.4942 - dense_23_loss: 0.4412 - dense_24_loss: 0.9700 - dense_23_acc: 0.0028 - dense_24_acc: 0.0029 - val_loss: 0.4716 - val_dense_23_loss: 0.4186 - val_dense_24_loss: 0.9520 - val_dense_23_acc: 0.0044 - val_dense_24_acc: 0.0044\n",
      "Epoch 21/100\n",
      "11610/11610==============================] - 1s 62us/sample - loss: 0.4895 - dense_23_loss: 0.4382 - dense_24_loss: 0.9513 - dense_23_acc: 0.0028 - dense_24_acc: 0.0029 - val_loss: 0.4698 - val_dense_23_loss: 0.4180 - val_dense_24_loss: 0.9355 - val_dense_23_acc: 0.0044 - val_dense_24_acc: 0.0044\n",
      "Epoch 22/100\n",
      "11610/11610==============================] - 1s 64us/sample - loss: 0.4856 - dense_23_loss: 0.4356 - dense_24_loss: 0.9344 - dense_23_acc: 0.0027 - dense_24_acc: 0.0029 - val_loss: 0.4669 - val_dense_23_loss: 0.4161 - val_dense_24_loss: 0.9238 - val_dense_23_acc: 0.0044 - val_dense_24_acc: 0.0044\n",
      "Epoch 23/100\n",
      "11610/11610==============================] - 1s 62us/sample - loss: 0.4811 - dense_23_loss: 0.4329 - dense_24_loss: 0.9167 - dense_23_acc: 0.0027 - dense_24_acc: 0.0029 - val_loss: 0.4602 - val_dense_23_loss: 0.4101 - val_dense_24_loss: 0.9110 - val_dense_23_acc: 0.0044 - val_dense_24_acc: 0.0044\n",
      "Epoch 24/100\n",
      "11610/11610==============================] - 1s 64us/sample - loss: 0.4781 - dense_23_loss: 0.4312 - dense_24_loss: 0.9015 - dense_23_acc: 0.0027 - dense_24_acc: 0.0029 - val_loss: 0.4552 - val_dense_23_loss: 0.4058 - val_dense_24_loss: 0.8997 - val_dense_23_acc: 0.0044 - val_dense_24_acc: 0.0044\n",
      "Epoch 25/100\n",
      "11610/11610==============================] - 1s 56us/sample - loss: 0.4747 - dense_23_loss: 0.4292 - dense_24_loss: 0.8849 - dense_23_acc: 0.0027 - dense_24_acc: 0.0029 - val_loss: 0.4593 - val_dense_23_loss: 0.4103 - val_dense_24_loss: 0.8997 - val_dense_23_acc: 0.0044 - val_dense_24_acc: 0.0044\n",
      "Epoch 26/100\n",
      "11610/11610==============================] - 1s 53us/sample - loss: 0.4713 - dense_23_loss: 0.4269 - dense_24_loss: 0.8696 - dense_23_acc: 0.0027 - dense_24_acc: 0.0029 - val_loss: 0.4455 - val_dense_23_loss: 0.3975 - val_dense_24_loss: 0.8773 - val_dense_23_acc: 0.0044 - val_dense_24_acc: 0.0044\n",
      "Epoch 27/100\n"
     ]
    },
    {
     "name": "stdout",
     "output_type": "stream",
     "text": [
      "11610/11610==============================] - 1s 60us/sample - loss: 0.4688 - dense_23_loss: 0.4257 - dense_24_loss: 0.8561 - dense_23_acc: 0.0027 - dense_24_acc: 0.0029 - val_loss: 0.4471 - val_dense_23_loss: 0.3991 - val_dense_24_loss: 0.8792 - val_dense_23_acc: 0.0044 - val_dense_24_acc: 0.0044\n",
      "Epoch 28/100\n",
      "11610/11610==============================] - 1s 62us/sample - loss: 0.4658 - dense_23_loss: 0.4242 - dense_24_loss: 0.8413 - dense_23_acc: 0.0027 - dense_24_acc: 0.0029 - val_loss: 0.4457 - val_dense_23_loss: 0.3980 - val_dense_24_loss: 0.8746 - val_dense_23_acc: 0.0044 - val_dense_24_acc: 0.0044\n",
      "Epoch 29/100\n",
      "11610/11610==============================] - 1s 49us/sample - loss: 0.4630 - dense_23_loss: 0.4224 - dense_24_loss: 0.8285 - dense_23_acc: 0.0027 - dense_24_acc: 0.0029 - val_loss: 0.4412 - val_dense_23_loss: 0.3941 - val_dense_24_loss: 0.8638 - val_dense_23_acc: 0.0044 - val_dense_24_acc: 0.0044\n",
      "Epoch 30/100\n",
      "11610/11610==============================] - 1s 52us/sample - loss: 0.4608 - dense_23_loss: 0.4212 - dense_24_loss: 0.8167 - dense_23_acc: 0.0027 - dense_24_acc: 0.0029 - val_loss: 0.4404 - val_dense_23_loss: 0.3935 - val_dense_24_loss: 0.8623 - val_dense_23_acc: 0.0044 - val_dense_24_acc: 0.0044\n",
      "Epoch 31/100\n",
      "11610/11610==============================] - 1s 63us/sample - loss: 0.4580 - dense_23_loss: 0.4198 - dense_24_loss: 0.8031 - dense_23_acc: 0.0027 - dense_24_acc: 0.0029 - val_loss: 0.4403 - val_dense_23_loss: 0.3933 - val_dense_24_loss: 0.8622 - val_dense_23_acc: 0.0044 - val_dense_24_acc: 0.0044\n",
      "Epoch 32/100\n",
      "11610/11610==============================] - 1s 55us/sample - loss: 0.4560 - dense_23_loss: 0.4185 - dense_24_loss: 0.7917 - dense_23_acc: 0.0026 - dense_24_acc: 0.0029 - val_loss: 0.4327 - val_dense_23_loss: 0.3875 - val_dense_24_loss: 0.8387 - val_dense_23_acc: 0.0044 - val_dense_24_acc: 0.0044\n",
      "Epoch 33/100\n",
      "11610/11610==============================] - 1s 57us/sample - loss: 0.4535 - dense_23_loss: 0.4174 - dense_24_loss: 0.7801 - dense_23_acc: 0.0026 - dense_24_acc: 0.0029 - val_loss: 0.4311 - val_dense_23_loss: 0.3867 - val_dense_24_loss: 0.8332 - val_dense_23_acc: 0.0044 - val_dense_24_acc: 0.0044\n",
      "Epoch 34/100\n",
      "11610/11610==============================] - 1s 62us/sample - loss: 0.4514 - dense_23_loss: 0.4159 - dense_24_loss: 0.7698 - dense_23_acc: 0.0026 - dense_24_acc: 0.0029 - val_loss: 0.4328 - val_dense_23_loss: 0.3874 - val_dense_24_loss: 0.8426 - val_dense_23_acc: 0.0044 - val_dense_24_acc: 0.0044\n",
      "Epoch 35/100\n",
      "11610/11610==============================] - 1s 60us/sample - loss: 0.4490 - dense_23_loss: 0.4146 - dense_24_loss: 0.7594 - dense_23_acc: 0.0026 - dense_24_acc: 0.0029 - val_loss: 0.4335 - val_dense_23_loss: 0.3879 - val_dense_24_loss: 0.8441 - val_dense_23_acc: 0.0044 - val_dense_24_acc: 0.0044\n",
      "Epoch 36/100\n",
      "11610/11610==============================] - 1s 66us/sample - loss: 0.4471 - dense_23_loss: 0.4136 - dense_24_loss: 0.7497 - dense_23_acc: 0.0026 - dense_24_acc: 0.0029 - val_loss: 0.4266 - val_dense_23_loss: 0.3830 - val_dense_24_loss: 0.8197 - val_dense_23_acc: 0.0044 - val_dense_24_acc: 0.0044\n",
      "Epoch 37/100\n",
      "11610/11610==============================] - 1s 61us/sample - loss: 0.4451 - dense_23_loss: 0.4122 - dense_24_loss: 0.7400 - dense_23_acc: 0.0026 - dense_24_acc: 0.0029 - val_loss: 0.4259 - val_dense_23_loss: 0.3825 - val_dense_24_loss: 0.8158 - val_dense_23_acc: 0.0044 - val_dense_24_acc: 0.0044\n",
      "Epoch 38/100\n",
      "11610/11610==============================] - 1s 57us/sample - loss: 0.4433 - dense_23_loss: 0.4112 - dense_24_loss: 0.7313 - dense_23_acc: 0.0026 - dense_24_acc: 0.0029 - val_loss: 0.4240 - val_dense_23_loss: 0.3818 - val_dense_24_loss: 0.8056 - val_dense_23_acc: 0.0044 - val_dense_24_acc: 0.0044\n",
      "Epoch 39/100\n",
      "11610/11610==============================] - 1s 56us/sample - loss: 0.4415 - dense_23_loss: 0.4103 - dense_24_loss: 0.7223 - dense_23_acc: 0.0026 - dense_24_acc: 0.0029 - val_loss: 0.4228 - val_dense_23_loss: 0.3822 - val_dense_24_loss: 0.7881 - val_dense_23_acc: 0.0044 - val_dense_24_acc: 0.0044\n",
      "Epoch 40/100\n",
      "11610/11610==============================] - 1s 56us/sample - loss: 0.4397 - dense_23_loss: 0.4093 - dense_24_loss: 0.7144 - dense_23_acc: 0.0026 - dense_24_acc: 0.0029 - val_loss: 0.4195 - val_dense_23_loss: 0.3803 - val_dense_24_loss: 0.7712 - val_dense_23_acc: 0.0044 - val_dense_24_acc: 0.0044\n",
      "Epoch 41/100\n",
      "11610/11610==============================] - 1s 55us/sample - loss: 0.4378 - dense_23_loss: 0.4078 - dense_24_loss: 0.7070 - dense_23_acc: 0.0026 - dense_24_acc: 0.0029 - val_loss: 0.4214 - val_dense_23_loss: 0.3850 - val_dense_24_loss: 0.7473 - val_dense_23_acc: 0.0044 - val_dense_24_acc: 0.0044\n",
      "Epoch 42/100\n",
      "11610/11610==============================] - 1s 57us/sample - loss: 0.4361 - dense_23_loss: 0.4069 - dense_24_loss: 0.6987 - dense_23_acc: 0.0026 - dense_24_acc: 0.0029 - val_loss: 0.4188 - val_dense_23_loss: 0.3836 - val_dense_24_loss: 0.7347 - val_dense_23_acc: 0.0044 - val_dense_24_acc: 0.0044\n",
      "Epoch 43/100\n",
      "11610/11610==============================] - 1s 53us/sample - loss: 0.4343 - dense_23_loss: 0.4056 - dense_24_loss: 0.6916 - dense_23_acc: 0.0026 - dense_24_acc: 0.0029 - val_loss: 0.4171 - val_dense_23_loss: 0.3824 - val_dense_24_loss: 0.7297 - val_dense_23_acc: 0.0044 - val_dense_24_acc: 0.0044\n",
      "Epoch 44/100\n",
      "11610/11610==============================] - 1s 56us/sample - loss: 0.4330 - dense_23_loss: 0.4051 - dense_24_loss: 0.6848 - dense_23_acc: 0.0026 - dense_24_acc: 0.0029 - val_loss: 0.4166 - val_dense_23_loss: 0.3836 - val_dense_24_loss: 0.7159 - val_dense_23_acc: 0.0044 - val_dense_24_acc: 0.0044\n",
      "Epoch 45/100\n",
      "11610/11610==============================] - 1s 56us/sample - loss: 0.4311 - dense_23_loss: 0.4037 - dense_24_loss: 0.6779 - dense_23_acc: 0.0026 - dense_24_acc: 0.0029 - val_loss: 0.4212 - val_dense_23_loss: 0.3898 - val_dense_24_loss: 0.7027 - val_dense_23_acc: 0.0044 - val_dense_24_acc: 0.0044\n",
      "Epoch 46/100\n",
      "11610/11610==============================] - 1s 57us/sample - loss: 0.4302 - dense_23_loss: 0.4033 - dense_24_loss: 0.6713 - dense_23_acc: 0.0026 - dense_24_acc: 0.0029 - val_loss: 0.4193 - val_dense_23_loss: 0.3890 - val_dense_24_loss: 0.6906 - val_dense_23_acc: 0.0044 - val_dense_24_acc: 0.0044\n",
      "Epoch 47/100\n",
      "11610/11610==============================] - 1s 56us/sample - loss: 0.4284 - dense_23_loss: 0.4019 - dense_24_loss: 0.6658 - dense_23_acc: 0.0026 - dense_24_acc: 0.0029 - val_loss: 0.4225 - val_dense_23_loss: 0.3944 - val_dense_24_loss: 0.6762 - val_dense_23_acc: 0.0044 - val_dense_24_acc: 0.0044\n",
      "Epoch 48/100\n",
      "11610/11610==============================] - 1s 62us/sample - loss: 0.4271 - dense_23_loss: 0.4011 - dense_24_loss: 0.6602 - dense_23_acc: 0.0026 - dense_24_acc: 0.0029 - val_loss: 0.4158 - val_dense_23_loss: 0.3875 - val_dense_24_loss: 0.6698 - val_dense_23_acc: 0.0044 - val_dense_24_acc: 0.0044\n",
      "Epoch 49/100\n",
      "11610/11610==============================] - 1s 57us/sample - loss: 0.4261 - dense_23_loss: 0.4009 - dense_24_loss: 0.6529 - dense_23_acc: 0.0026 - dense_24_acc: 0.0029 - val_loss: 0.4182 - val_dense_23_loss: 0.3911 - val_dense_24_loss: 0.6615 - val_dense_23_acc: 0.0044 - val_dense_24_acc: 0.0044\n",
      "Epoch 50/100\n",
      "11610/11610==============================] - 1s 56us/sample - loss: 0.4247 - dense_23_loss: 0.3997 - dense_24_loss: 0.6494 - dense_23_acc: 0.0026 - dense_24_acc: 0.0029 - val_loss: 0.4186 - val_dense_23_loss: 0.3926 - val_dense_24_loss: 0.6521 - val_dense_23_acc: 0.0044 - val_dense_24_acc: 0.0044\n",
      "Epoch 51/100\n",
      "11610/11610==============================] - 1s 56us/sample - loss: 0.4233 - dense_23_loss: 0.3986 - dense_24_loss: 0.6440 - dense_23_acc: 0.0027 - dense_24_acc: 0.0029 - val_loss: 0.4198 - val_dense_23_loss: 0.3948 - val_dense_24_loss: 0.6445 - val_dense_23_acc: 0.0044 - val_dense_24_acc: 0.0044\n",
      "Epoch 52/100\n",
      "11610/11610==============================] - 1s 56us/sample - loss: 0.4220 - dense_23_loss: 0.3978 - dense_24_loss: 0.6396 - dense_23_acc: 0.0027 - dense_24_acc: 0.0029 - val_loss: 0.4206 - val_dense_23_loss: 0.3964 - val_dense_24_loss: 0.6378 - val_dense_23_acc: 0.0044 - val_dense_24_acc: 0.0044\n",
      "Epoch 53/100\n"
     ]
    },
    {
     "name": "stdout",
     "output_type": "stream",
     "text": [
      "11610/11610==============================] - 1s 53us/sample - loss: 0.4208 - dense_23_loss: 0.3971 - dense_24_loss: 0.6336 - dense_23_acc: 0.0027 - dense_24_acc: 0.0029 - val_loss: 0.4163 - val_dense_23_loss: 0.3923 - val_dense_24_loss: 0.6316 - val_dense_23_acc: 0.0044 - val_dense_24_acc: 0.0044\n"
     ]
    }
   ],
   "source": [
    "model = build_model()"
   ]
  },
  {
   "cell_type": "code",
   "execution_count": 42,
   "metadata": {},
   "outputs": [
    {
     "name": "stdout",
     "output_type": "stream",
     "text": [
      "Model: \"model_2\"\n",
      "__________________________________________________________________________________________________\n",
      "Layer (type)                    Output Shape         Param #     Connected to                     \n",
      "==================================================================================================\n",
      "input_10 (InputLayer)           [(None, 6)]          0                                            \n",
      "__________________________________________________________________________________________________\n",
      "dense_21 (Dense)                (None, 30)           210         input_10[0][0]                   \n",
      "__________________________________________________________________________________________________\n",
      "input_9 (InputLayer)            [(None, 5)]          0                                            \n",
      "__________________________________________________________________________________________________\n",
      "dense_22 (Dense)                (None, 30)           930         dense_21[0][0]                   \n",
      "__________________________________________________________________________________________________\n",
      "concatenate_6 (Concatenate)     (None, 35)           0           input_9[0][0]                    \n",
      "                                                                 dense_22[0][0]                   \n",
      "__________________________________________________________________________________________________\n",
      "dense_23 (Dense)                (None, 1)            36          concatenate_6[0][0]              \n",
      "__________________________________________________________________________________________________\n",
      "dense_24 (Dense)                (None, 1)            31          dense_22[0][0]                   \n",
      "==================================================================================================\n",
      "Total params: 1,207\n",
      "Trainable params: 1,207\n",
      "Non-trainable params: 0\n",
      "__________________________________________________________________________________________________\n"
     ]
    }
   ],
   "source": [
    "model.summary()"
   ]
  },
  {
   "cell_type": "code",
   "execution_count": 46,
   "metadata": {},
   "outputs": [
    {
     "name": "stdout",
     "output_type": "stream",
     "text": [
      "5160/5160==============================] - 0s 24us/sample - loss: 0.4133 - dense_23_loss: 0.3910 - dense_24_loss: 0.6165 - dense_23_acc: 0.0019 - dense_24_acc: 0.0021\n",
      "[0.41333639145821566, 0.3910185, 0.6164802, 0.0019379845, 0.002131783]\n"
     ]
    },
    {
     "data": {
      "image/png": "[encoded data removed]",
      "text/plain": [
       "<Figure size 576x360 with 1 Axes>"
      ]
     },
     "metadata": {
      "needs_background": "light"
     },
     "output_type": "display_data"
    }
   ],
   "source": [
    "print(model.evaluate([X_test_scaled_A, X_test_scaled_B], [y_test, y_test]))\n",
    "#print(f\"loss_value={loss_value}, accuracy={accuracy}\")\n",
    "plot_learning_curves(history) "
   ]
  },
  {
   "cell_type": "markdown",
   "metadata": {},
   "source": [
    "![Exercise solution](https://camo.githubusercontent.com/250388fde3fac9135ead9471733ee28e049f7a37/68747470733a2f2f75706c6f61642e77696b696d656469612e6f72672f77696b6970656469612f636f6d6d6f6e732f302f30362f46696c6f735f736567756e646f5f6c6f676f5f253238666c69707065642532392e6a7067)"
   ]
  },
  {
   "cell_type": "markdown",
   "metadata": {},
   "source": [
    "## Exercise 7 – Solution"
   ]
  },
  {
   "cell_type": "markdown",
   "metadata": {},
   "source": [
    "### 7.1)\n",
    "Use Keras' functional API to implement a Wide & Deep network to tackle the California housing problem."
   ]
  },
  {
   "cell_type": "code",
   "execution_count": null,
   "metadata": {},
   "outputs": [],
   "source": [
    "input = keras.layers.Input(shape=X_train.shape[1:])\n",
    "hidden1 = keras.layers.Dense(30, activation=\"relu\")(input)\n",
    "hidden2 = keras.layers.Dense(30, activation=\"relu\")(hidden1)\n",
    "concat = keras.layers.concatenate([input, hidden2])\n",
    "output = keras.layers.Dense(1)(concat)"
   ]
  },
  {
   "cell_type": "code",
   "execution_count": null,
   "metadata": {},
   "outputs": [],
   "source": [
    "model = keras.models.Model(inputs=[input], outputs=[output])"
   ]
  },
  {
   "cell_type": "code",
   "execution_count": null,
   "metadata": {},
   "outputs": [],
   "source": [
    "model.compile(loss=\"mean_squared_error\", optimizer=\"sgd\")"
   ]
  },
  {
   "cell_type": "code",
   "execution_count": null,
   "metadata": {},
   "outputs": [],
   "source": [
    "model.summary()"
   ]
  },
  {
   "cell_type": "code",
   "execution_count": null,
   "metadata": {},
   "outputs": [],
   "source": [
    "history = model.fit(X_train_scaled, y_train, epochs=10,\n",
    "                    validation_data=(X_valid_scaled, y_valid))"
   ]
  },
  {
   "cell_type": "code",
   "execution_count": null,
   "metadata": {},
   "outputs": [],
   "source": [
    "model.evaluate(X_test_scaled, y_test)"
   ]
  },
  {
   "cell_type": "code",
   "execution_count": null,
   "metadata": {},
   "outputs": [],
   "source": [
    "model.predict(X_test_scaled)"
   ]
  },
  {
   "cell_type": "markdown",
   "metadata": {},
   "source": [
    "### 7.2)\n",
    "After the Sequential API and the Functional API, let's try the Subclassing API:\n",
    "* Create a subclass of the `keras.models.Model` class.\n",
    "* Create all the layers you need in the constructor (e.g., `self.hidden1 = keras.layers.Dense(...)`).\n",
    "* Use the layers to process the `input` in the `call()` method, and return the output.\n",
    "* Note that you do not need to create a `keras.layers.Input` in this case.\n",
    "* Also note that `self.output` is used by Keras, so you should use another name for the output layer (e.g., `self.output_layer`)."
   ]
  },
  {
   "cell_type": "code",
   "execution_count": null,
   "metadata": {},
   "outputs": [],
   "source": [
    "class MyModel(keras.models.Model):\n",
    "    def __init__(self):\n",
    "        super(MyModel, self).__init__()\n",
    "        self.hidden1 = keras.layers.Dense(30, activation=\"relu\")\n",
    "        self.hidden2 = keras.layers.Dense(30, activation=\"relu\")\n",
    "        self.output_ = keras.layers.Dense(1)\n",
    "\n",
    "    def call(self, input):\n",
    "        hidden1 = self.hidden1(input)\n",
    "        hidden2 = self.hidden2(hidden1)\n",
    "        concat = keras.layers.concatenate([input, hidden2])\n",
    "        output = self.output_(concat)\n",
    "        return output\n",
    "\n",
    "model = MyModel()"
   ]
  },
  {
   "cell_type": "code",
   "execution_count": null,
   "metadata": {},
   "outputs": [],
   "source": [
    "model.compile(loss=\"mse\", optimizer=\"sgd\")"
   ]
  },
  {
   "cell_type": "code",
   "execution_count": null,
   "metadata": {},
   "outputs": [],
   "source": [
    "history = model.fit(X_train_scaled, y_train, epochs=10,\n",
    "                    validation_data=(X_valid_scaled, y_valid))"
   ]
  },
  {
   "cell_type": "code",
   "execution_count": null,
   "metadata": {},
   "outputs": [],
   "source": [
    "model.summary()"
   ]
  },
  {
   "cell_type": "code",
   "execution_count": null,
   "metadata": {},
   "outputs": [],
   "source": [
    "model.evaluate(X_test_scaled, y_test)"
   ]
  },
  {
   "cell_type": "code",
   "execution_count": null,
   "metadata": {},
   "outputs": [],
   "source": [
    "model.predict(X_test_scaled)"
   ]
  },
  {
   "cell_type": "markdown",
   "metadata": {},
   "source": [
    "### 7.3)\n",
    "Now suppose you want to send only features 0 to 4 directly to the output, and only features 2 to 7 through the hidden layers, as shown on the diagram. Use the functional API to build, train and evaluate this model."
   ]
  },
  {
   "cell_type": "code",
   "execution_count": null,
   "metadata": {},
   "outputs": [],
   "source": [
    "input_A = keras.layers.Input(shape=[5])\n",
    "input_B = keras.layers.Input(shape=[6])"
   ]
  },
  {
   "cell_type": "code",
   "execution_count": null,
   "metadata": {},
   "outputs": [],
   "source": [
    "hidden1 = keras.layers.Dense(30, activation=\"relu\")(input_B)\n",
    "hidden2 = keras.layers.Dense(30, activation=\"relu\")(hidden1)\n",
    "concat = keras.layers.concatenate([input_A, hidden2])\n",
    "output = keras.layers.Dense(1)(concat)"
   ]
  },
  {
   "cell_type": "code",
   "execution_count": null,
   "metadata": {},
   "outputs": [],
   "source": [
    "model = keras.models.Model(inputs=[input_A, input_B], outputs=[output])"
   ]
  },
  {
   "cell_type": "code",
   "execution_count": null,
   "metadata": {},
   "outputs": [],
   "source": [
    "model.compile(loss=\"mean_squared_error\", optimizer=\"sgd\")"
   ]
  },
  {
   "cell_type": "code",
   "execution_count": null,
   "metadata": {},
   "outputs": [],
   "source": [
    "model.summary()"
   ]
  },
  {
   "cell_type": "code",
   "execution_count": null,
   "metadata": {},
   "outputs": [],
   "source": [
    "X_train_scaled_A = X_train_scaled[:, :5]\n",
    "X_train_scaled_B = X_train_scaled[:, 2:]\n",
    "X_valid_scaled_A = X_valid_scaled[:, :5]\n",
    "X_valid_scaled_B = X_valid_scaled[:, 2:]\n",
    "X_test_scaled_A = X_test_scaled[:, :5]\n",
    "X_test_scaled_B = X_test_scaled[:, 2:]"
   ]
  },
  {
   "cell_type": "code",
   "execution_count": null,
   "metadata": {},
   "outputs": [],
   "source": [
    "history = model.fit([X_train_scaled_A, X_train_scaled_B], y_train, epochs=10,\n",
    "                    validation_data=([X_valid_scaled_A, X_valid_scaled_B], y_valid))"
   ]
  },
  {
   "cell_type": "code",
   "execution_count": null,
   "metadata": {},
   "outputs": [],
   "source": [
    "model.evaluate([X_test_scaled_A, X_test_scaled_B], y_test)"
   ]
  },
  {
   "cell_type": "code",
   "execution_count": null,
   "metadata": {},
   "outputs": [],
   "source": [
    "model.predict([X_test_scaled_A, X_test_scaled_B])"
   ]
  },
  {
   "cell_type": "markdown",
   "metadata": {},
   "source": [
    "### 7.4)\n",
    "Build the multi-input and multi-output neural net represented in the diagram."
   ]
  },
  {
   "cell_type": "code",
   "execution_count": null,
   "metadata": {},
   "outputs": [],
   "source": [
    "input_A = keras.layers.Input(shape=X_train_scaled_A.shape[1:])\n",
    "input_B = keras.layers.Input(shape=X_train_scaled_B.shape[1:])\n",
    "hidden1 = keras.layers.Dense(30, activation=\"relu\")(input_B)\n",
    "hidden2 = keras.layers.Dense(30, activation=\"relu\")(hidden1)\n",
    "concat = keras.layers.concatenate([input_A, hidden2])\n",
    "output = keras.layers.Dense(1)(concat)\n",
    "aux_output = keras.layers.Dense(1)(hidden2)"
   ]
  },
  {
   "cell_type": "code",
   "execution_count": null,
   "metadata": {},
   "outputs": [],
   "source": [
    "model = keras.models.Model(inputs=[input_A, input_B],\n",
    "                           outputs=[output, aux_output])"
   ]
  },
  {
   "cell_type": "code",
   "execution_count": null,
   "metadata": {},
   "outputs": [],
   "source": [
    "model.compile(loss=\"mean_squared_error\", loss_weights=[0.9, 0.1],\n",
    "              optimizer=\"sgd\")"
   ]
  },
  {
   "cell_type": "code",
   "execution_count": null,
   "metadata": {},
   "outputs": [],
   "source": [
    "model.summary()"
   ]
  },
  {
   "cell_type": "code",
   "execution_count": null,
   "metadata": {},
   "outputs": [],
   "source": [
    "history = model.fit([X_train_scaled_A, X_train_scaled_B], [y_train, y_train], epochs=10,\n",
    "                    validation_data=([X_valid_scaled_A, X_valid_scaled_B], [y_valid, y_valid]))"
   ]
  },
  {
   "cell_type": "code",
   "execution_count": null,
   "metadata": {},
   "outputs": [],
   "source": [
    "model.evaluate([X_test_scaled_A, X_test_scaled_B], [y_test, y_test])"
   ]
  },
  {
   "cell_type": "code",
   "execution_count": null,
   "metadata": {},
   "outputs": [],
   "source": [
    "y_pred, y_pred_aux = model.predict([X_test_scaled_A, X_test_scaled_B])"
   ]
  },
  {
   "cell_type": "code",
   "execution_count": null,
   "metadata": {},
   "outputs": [],
   "source": [
    "y_pred"
   ]
  },
  {
   "cell_type": "code",
   "execution_count": null,
   "metadata": {
    "scrolled": true
   },
   "outputs": [],
   "source": [
    "y_pred_aux"
   ]
  },
  {
   "cell_type": "markdown",
   "metadata": {},
   "source": [
    "![Exercise](https://c1.staticflickr.com/9/8101/8553474140_c50cf08708_b.jpg)"
   ]
  },
  {
   "cell_type": "markdown",
   "metadata": {},
   "source": [
    "## Exercise 8 – Deep Nets"
   ]
  },
  {
   "cell_type": "markdown",
   "metadata": {},
   "source": [
    "Let's go back to Fashion MNIST and build deep nets to tackle it. We need to load it, split it and scale it."
   ]
  },
  {
   "cell_type": "code",
   "execution_count": null,
   "metadata": {},
   "outputs": [],
   "source": [
    "fashion_mnist = keras.datasets.fashion_mnist\n",
    "(X_train_full, y_train_full), (X_test, y_test) = fashion_mnist.load_data()\n",
    "X_valid, X_train = X_train_full[:5000], X_train_full[5000:]\n",
    "y_valid, y_train = y_train_full[:5000], y_train_full[5000:]"
   ]
  },
  {
   "cell_type": "code",
   "execution_count": null,
   "metadata": {},
   "outputs": [],
   "source": [
    "from sklearn.preprocessing import StandardScaler\n",
    "\n",
    "scaler = StandardScaler()\n",
    "X_train_scaled = scaler.fit_transform(X_train.astype(np.float32).reshape(-1, 1)).reshape(-1, 28, 28)\n",
    "X_valid_scaled = scaler.transform(X_valid.astype(np.float32).reshape(-1, 1)).reshape(-1, 28, 28)\n",
    "X_test_scaled = scaler.transform(X_test.astype(np.float32).reshape(-1, 1)).reshape(-1, 28, 28)"
   ]
  },
  {
   "cell_type": "markdown",
   "metadata": {},
   "source": [
    "### 8.1)\n",
    "Build a sequential model with 20 hidden dense layers, with 100 neurons each, using the ReLU activation function, plus the output layer (10 neurons, softmax activation function). Try to train it for 10 epochs on Fashion MNIST and plot the learning curves. Notice that progress is very slow."
   ]
  },
  {
   "cell_type": "code",
   "execution_count": null,
   "metadata": {},
   "outputs": [],
   "source": [
    "model = keras.models.Sequential(layers=\n",
    "                                [keras.layers.Flatten(input_shape=[28, 28])] + \\\n",
    "                                [keras.layers.Dense(units=100, activation='relu') for _ in range(20)] + \\\n",
    "                                [keras.layers.Dense(units=10, activation='softmax')]\n",
    ")"
   ]
  },
  {
   "cell_type": "code",
   "execution_count": null,
   "metadata": {},
   "outputs": [],
   "source": [
    "initial_weights = model.get_weights()"
   ]
  },
  {
   "cell_type": "code",
   "execution_count": null,
   "metadata": {
    "scrolled": true
   },
   "outputs": [],
   "source": [
    "model.summary()"
   ]
  },
  {
   "cell_type": "code",
   "execution_count": null,
   "metadata": {},
   "outputs": [],
   "source": [
    "model.compile(loss='sparse_categorical_crossentropy', optimizer='sgd', metrics=['accuracy'])"
   ]
  },
  {
   "cell_type": "code",
   "execution_count": null,
   "metadata": {
    "scrolled": true
   },
   "outputs": [],
   "source": [
    "%time history = (model.fit(X_train_scaled, y_train, epochs=30, validation_data=(X_valid_scaled, y_valid), callbacks=[keras.callbacks.EarlyStopping(patience=5)]))\n",
    "\n",
    "model.evaluate(X_test_scaled, y_test)"
   ]
  },
  {
   "cell_type": "code",
   "execution_count": null,
   "metadata": {},
   "outputs": [],
   "source": [
    "plot_learning_curves(history)"
   ]
  },
  {
   "cell_type": "markdown",
   "metadata": {},
   "source": [
    "### 8.2)\n",
    "Update the model to add a `BatchNormalization` layer after every hidden layer. Notice that performance progresses much faster per epoch, although computations are much more intensive. Display the model summary and notice all the non-trainable parameters (the scale $\\gamma$ and offset $\\beta$ parameters)."
   ]
  },
  {
   "cell_type": "code",
   "execution_count": null,
   "metadata": {},
   "outputs": [],
   "source": [
    "from functools import reduce #python 3\n",
    "\n",
    "model = keras.models.Sequential(layers=\n",
    "                                [keras.layers.Flatten(input_shape=[28, 28], name='input')] + \\\n",
    "                                reduce(lambda x,y: x + y, [[\n",
    "                                    keras.layers.Dense(units=100, activation='relu', name=f\"hidden_{i}\"),\n",
    "                                    keras.layers.BatchNormalization(name=f\"batch_norm_{i}\"),\n",
    "                                    keras.layers.Activation(\"relu\", name=f\"activation_{i}\")] for i in range(20)]) + \\\n",
    "                                [keras.layers.Dense(units=10, activation='softmax', name='output')]\n",
    ")"
   ]
  },
  {
   "cell_type": "code",
   "execution_count": null,
   "metadata": {},
   "outputs": [],
   "source": [
    "initial_weights = model.get_weights()"
   ]
  },
  {
   "cell_type": "code",
   "execution_count": null,
   "metadata": {
    "scrolled": true
   },
   "outputs": [],
   "source": [
    "model.summary()"
   ]
  },
  {
   "cell_type": "code",
   "execution_count": null,
   "metadata": {},
   "outputs": [],
   "source": [
    "model.compile(loss='sparse_categorical_crossentropy', optimizer='sgd', metrics=['accuracy'])"
   ]
  },
  {
   "cell_type": "code",
   "execution_count": null,
   "metadata": {
    "scrolled": true
   },
   "outputs": [],
   "source": [
    "%time history = (model.fit(X_train_scaled, y_train, epochs=30, validation_data=(X_valid_scaled, y_valid), callbacks=[keras.callbacks.EarlyStopping(patience=5)]))\n",
    "\n",
    "model.evaluate(X_test_scaled, y_test)"
   ]
  },
  {
   "cell_type": "code",
   "execution_count": null,
   "metadata": {},
   "outputs": [],
   "source": [
    "plot_learning_curves(history)"
   ]
  },
  {
   "cell_type": "markdown",
   "metadata": {},
   "source": [
    "### 8.3)\n",
    "Try moving the BN layers before the hidden layers' activation functions. Does this affect the model's performance?"
   ]
  },
  {
   "cell_type": "code",
   "execution_count": null,
   "metadata": {},
   "outputs": [],
   "source": [
    "from functools import reduce #python 3\n",
    "\n",
    "model = keras.models.Sequential(layers=\n",
    "                                [keras.layers.Flatten(input_shape=[28, 28], name='input')] + \\\n",
    "                                reduce(lambda x,y: x + y, [[\n",
    "                                    keras.layers.BatchNormalization(name=f\"batch_norm_{i}\"),\n",
    "                                    keras.layers.Activation(\"relu\", name=f\"activation_{i}\"),\n",
    "                                    keras.layers.Dense(units=100, activation='relu', name=f\"hidden_{i}\")]\n",
    "                                    for i in range(20)]) + \\\n",
    "                                [keras.layers.Dense(units=10, activation='softmax', name='output')]\n",
    ")"
   ]
  },
  {
   "cell_type": "code",
   "execution_count": null,
   "metadata": {},
   "outputs": [],
   "source": [
    "initial_weights = model.get_weights()"
   ]
  },
  {
   "cell_type": "code",
   "execution_count": null,
   "metadata": {
    "scrolled": true
   },
   "outputs": [],
   "source": [
    "model.summary()"
   ]
  },
  {
   "cell_type": "code",
   "execution_count": null,
   "metadata": {},
   "outputs": [],
   "source": [
    "model.compile(loss='sparse_categorical_crossentropy', optimizer='sgd', metrics=['accuracy'])"
   ]
  },
  {
   "cell_type": "code",
   "execution_count": null,
   "metadata": {
    "scrolled": true
   },
   "outputs": [],
   "source": [
    "%time history = (model.fit(X_train_scaled, y_train, epochs=30, validation_data=(X_valid_scaled, y_valid), callbacks=[keras.callbacks.EarlyStopping(patience=5)]))\n",
    "\n",
    "model.evaluate(X_test_scaled, y_test)"
   ]
  },
  {
   "cell_type": "code",
   "execution_count": null,
   "metadata": {},
   "outputs": [],
   "source": [
    "plot_learning_curves(history)"
   ]
  },
  {
   "cell_type": "markdown",
   "metadata": {},
   "source": [
    "### 8.4)\n",
    "Remove all the BN layers, and just use the SELU activation function instead. Notice that you get better performance than with BN but training is much faster. Isn't it marvelous? :-)"
   ]
  },
  {
   "cell_type": "code",
   "execution_count": null,
   "metadata": {},
   "outputs": [],
   "source": [
    "model = keras.models.Sequential(layers=\n",
    "                                [keras.layers.Flatten(input_shape=[28, 28])] + \\\n",
    "                                [keras.layers.Dense(units=100, activation='selu') for _ in range(20)] + \\\n",
    "                                [keras.layers.Dense(units=10, activation='softmax')]\n",
    ")"
   ]
  },
  {
   "cell_type": "code",
   "execution_count": null,
   "metadata": {},
   "outputs": [],
   "source": [
    "initial_weights = model.get_weights()"
   ]
  },
  {
   "cell_type": "code",
   "execution_count": null,
   "metadata": {},
   "outputs": [],
   "source": [
    "model.summary()"
   ]
  },
  {
   "cell_type": "code",
   "execution_count": null,
   "metadata": {},
   "outputs": [],
   "source": [
    "model.compile(loss='sparse_categorical_crossentropy', optimizer='sgd', metrics=['accuracy'])"
   ]
  },
  {
   "cell_type": "code",
   "execution_count": null,
   "metadata": {},
   "outputs": [],
   "source": [
    "%time history = (model.fit(X_train_scaled, y_train, epochs=30, validation_data=(X_valid_scaled, y_valid), callbacks=[keras.callbacks.EarlyStopping(patience=5)]))\n",
    "\n",
    "model.evaluate(X_test_scaled, y_test)"
   ]
  },
  {
   "cell_type": "code",
   "execution_count": null,
   "metadata": {},
   "outputs": [],
   "source": [
    "plot_learning_curves(history)"
   ]
  },
  {
   "cell_type": "markdown",
   "metadata": {},
   "source": [
    "### 8.5)\n",
    "Try training for 10 additional epochs, and notice that the model starts overfitting. Try adding a Dropout layer (with a 50% dropout rate) just before the output layer. Does it reduce overfitting? What about the final validation accuracy?\n",
    "\n",
    "**Warning**: you should not use regular Dropout, as it breaks the self-normalizing property of the SELU activation function. Instead, use AlphaDropout, which is designed to work with SELU."
   ]
  },
  {
   "cell_type": "code",
   "execution_count": null,
   "metadata": {},
   "outputs": [],
   "source": [
    "model = keras.models.Sequential(layers=\n",
    "                                [keras.layers.Flatten(input_shape=[28, 28])] + \\\n",
    "                                [keras.layers.Dense(units=100, activation='selu') for _ in range(20)] + \\\n",
    "                                [keras.layers.AlphaDropout(rate=0.5),\n",
    "                                 keras.layers.Dense(units=10, activation='softmax')]\n",
    ")"
   ]
  },
  {
   "cell_type": "code",
   "execution_count": null,
   "metadata": {},
   "outputs": [],
   "source": [
    "initial_weights = model.get_weights()"
   ]
  },
  {
   "cell_type": "code",
   "execution_count": null,
   "metadata": {},
   "outputs": [],
   "source": [
    "model.summary()"
   ]
  },
  {
   "cell_type": "code",
   "execution_count": null,
   "metadata": {},
   "outputs": [],
   "source": [
    "model.compile(loss='sparse_categorical_crossentropy', optimizer='sgd', metrics=['accuracy'])"
   ]
  },
  {
   "cell_type": "code",
   "execution_count": null,
   "metadata": {},
   "outputs": [],
   "source": [
    "%time history = (model.fit(X_train_scaled, y_train, epochs=30, validation_data=(X_valid_scaled, y_valid), callbacks=[keras.callbacks.EarlyStopping(patience=5)]))\n",
    "\n",
    "model.evaluate(X_test_scaled, y_test)"
   ]
  },
  {
   "cell_type": "code",
   "execution_count": null,
   "metadata": {},
   "outputs": [],
   "source": [
    "plot_learning_curves(history)"
   ]
  },
  {
   "cell_type": "markdown",
   "metadata": {},
   "source": [
    "![Exercise solution](https://camo.githubusercontent.com/250388fde3fac9135ead9471733ee28e049f7a37/68747470733a2f2f75706c6f61642e77696b696d656469612e6f72672f77696b6970656469612f636f6d6d6f6e732f302f30362f46696c6f735f736567756e646f5f6c6f676f5f253238666c69707065642532392e6a7067)"
   ]
  },
  {
   "cell_type": "markdown",
   "metadata": {},
   "source": [
    "## Exercise 8 – Solution"
   ]
  },
  {
   "cell_type": "markdown",
   "metadata": {},
   "source": [
    "### 8.1)\n",
    "Build a sequential model with 20 hidden dense layers, with 100 neurons each, using the ReLU activation function, plus the output layer (10 neurons, softmax activation function). Try to train it for 10 epochs on Fashion MNIST and plot the learning curves. Notice that progress is very slow."
   ]
  },
  {
   "cell_type": "code",
   "execution_count": null,
   "metadata": {},
   "outputs": [],
   "source": [
    "model = keras.models.Sequential()\n",
    "model.add(keras.layers.Flatten(input_shape=[28, 28]))\n",
    "for _ in range(20):\n",
    "    model.add(keras.layers.Dense(100, activation=\"relu\"))\n",
    "model.add(keras.layers.Dense(10, activation=\"softmax\"))\n",
    "model.compile(loss=\"sparse_categorical_crossentropy\", optimizer=\"sgd\",\n",
    "              metrics=[\"accuracy\"])\n",
    "history = model.fit(X_train_scaled, y_train, epochs=10,\n",
    "                    validation_data=(X_valid_scaled, y_valid))\n",
    "plot_learning_curves(history)"
   ]
  },
  {
   "cell_type": "markdown",
   "metadata": {},
   "source": [
    "### 8.2)\n",
    "Update the model to add a `BatchNormalization` layer after every hidden layer. Notice that performance progresses much faster per epoch, although computations are much more intensive. Display the model summary and notice all the non-trainable parameters (the scale $\\gamma$ and offset $\\beta$ parameters)."
   ]
  },
  {
   "cell_type": "code",
   "execution_count": null,
   "metadata": {},
   "outputs": [],
   "source": [
    "model = keras.models.Sequential()\n",
    "model.add(keras.layers.Flatten(input_shape=[28, 28]))\n",
    "for _ in range(20):\n",
    "    model.add(keras.layers.Dense(100, activation=\"relu\"))\n",
    "    model.add(keras.layers.BatchNormalization())\n",
    "model.add(keras.layers.Dense(10, activation=\"softmax\"))\n",
    "model.compile(loss=\"sparse_categorical_crossentropy\", optimizer=\"sgd\",\n",
    "              metrics=[\"accuracy\"])\n",
    "history = model.fit(X_train_scaled, y_train, epochs=10,\n",
    "                    validation_data=(X_valid_scaled, y_valid))\n",
    "plot_learning_curves(history)"
   ]
  },
  {
   "cell_type": "code",
   "execution_count": null,
   "metadata": {},
   "outputs": [],
   "source": [
    "model.summary()"
   ]
  },
  {
   "cell_type": "markdown",
   "metadata": {},
   "source": [
    "### 8.3)\n",
    "Try moving the BN layers before the hidden layers' activation functions. Does this affect the model's performance?"
   ]
  },
  {
   "cell_type": "code",
   "execution_count": null,
   "metadata": {},
   "outputs": [],
   "source": [
    "model = keras.models.Sequential()\n",
    "model.add(keras.layers.Flatten(input_shape=[28, 28]))\n",
    "for _ in range(20):\n",
    "    model.add(keras.layers.Dense(100))\n",
    "    model.add(keras.layers.BatchNormalization())\n",
    "    model.add(keras.layers.Activation(\"relu\"))\n",
    "model.add(keras.layers.Dense(10, activation=\"softmax\"))\n",
    "model.compile(loss=\"sparse_categorical_crossentropy\", optimizer=\"sgd\",\n",
    "              metrics=[\"accuracy\"])\n",
    "history = model.fit(X_train_scaled, y_train, epochs=10,\n",
    "                    validation_data=(X_valid_scaled, y_valid))\n",
    "plot_learning_curves(history)"
   ]
  },
  {
   "cell_type": "markdown",
   "metadata": {},
   "source": [
    "### 8.4)\n",
    "Remove all the BN layers, and just use the SELU activation function instead. Notice that you get better performance than with BN but training is much faster. Isn't it marvelous? :-)"
   ]
  },
  {
   "cell_type": "code",
   "execution_count": null,
   "metadata": {},
   "outputs": [],
   "source": [
    "model = keras.models.Sequential()\n",
    "model.add(keras.layers.Flatten(input_shape=[28, 28]))\n",
    "for _ in range(20):\n",
    "    model.add(keras.layers.Dense(100, activation=\"selu\"))\n",
    "model.add(keras.layers.Dense(10, activation=\"softmax\"))\n",
    "model.compile(loss=\"sparse_categorical_crossentropy\", optimizer=\"sgd\",\n",
    "              metrics=[\"accuracy\"])\n",
    "history = model.fit(X_train_scaled, y_train, epochs=10,\n",
    "                    validation_data=(X_valid_scaled, y_valid))\n",
    "plot_learning_curves(history)"
   ]
  },
  {
   "cell_type": "markdown",
   "metadata": {},
   "source": [
    "### 8.5)\n",
    "Try training for 10 additional epochs, and notice that the model starts overfitting. Try adding a Dropout layer (with a 50% dropout rate) just before the output layer. Does it reduce overfitting? What about the final validation accuracy?"
   ]
  },
  {
   "cell_type": "code",
   "execution_count": null,
   "metadata": {},
   "outputs": [],
   "source": [
    "history = model.fit(X_train_scaled, y_train, epochs=10,\n",
    "                    validation_data=(X_valid_scaled, y_valid))\n",
    "plot_learning_curves(history)"
   ]
  },
  {
   "cell_type": "code",
   "execution_count": null,
   "metadata": {},
   "outputs": [],
   "source": [
    "model = keras.models.Sequential()\n",
    "model.add(keras.layers.Flatten(input_shape=[28, 28]))\n",
    "for _ in range(20):\n",
    "    model.add(keras.layers.Dense(100, activation=\"selu\"))\n",
    "model.add(keras.layers.AlphaDropout(rate=0.5))\n",
    "model.add(keras.layers.Dense(10, activation=\"softmax\"))\n",
    "model.compile(loss=\"sparse_categorical_crossentropy\", optimizer=\"sgd\",\n",
    "              metrics=[\"accuracy\"])\n",
    "history = model.fit(X_train_scaled, y_train, epochs=20,\n",
    "                    validation_data=(X_valid_scaled, y_valid))\n",
    "plot_learning_curves(history)"
   ]
  }
 ],
 "metadata": {
  "kernelspec": {
   "display_name": "Python 3",
   "language": "python",
   "name": "python3"
  },
  "language_info": {
   "codemirror_mode": {
    "name": "ipython",
    "version": 3
   },
   "file_extension": ".py",
   "mimetype": "text/x-python",
   "name": "python",
   "nbconvert_exporter": "python",
   "pygments_lexer": "ipython3",
   "version": "3.6.8"
  },
  "toc": {
   "base_numbering": 1,
   "nav_menu": {},
   "number_sections": true,
   "sideBar": true,
   "skip_h1_title": false,
   "title_cell": "Table of Contents",
   "title_sidebar": "Contents",
   "toc_cell": false,
   "toc_position": {},
   "toc_section_display": true,
   "toc_window_display": false
  }
 },
 "nbformat": 4,
 "nbformat_minor": 2
}
