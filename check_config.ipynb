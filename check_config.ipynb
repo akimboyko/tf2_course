{
 "cells": [
  {
   "cell_type": "code",
   "execution_count": 8,
   "metadata": {},
   "outputs": [
    {
     "name": "stdout",
     "output_type": "stream",
     "text": [
      "GPU (optional): False\n",
      "Required configuration is okay\n"
     ]
    }
   ],
   "source": [
    "import tensorflow as tf\n",
    "assert hasattr(tf, 'function')   # TF 2.0?\n",
    "X = tf.random.normal((42,42))    # Device okay?\n",
    "Y = X @ tf.transpose(X)          # Python >=3.5 ?\n",
    "print('GPU (optional):', tf.test.is_gpu_available())\n",
    "print('Required configuration is okay')"
   ]
  },
  {
   "cell_type": "code",
   "execution_count": null,
   "metadata": {},
   "outputs": [],
   "source": []
  }
 ],
 "metadata": {
  "kernelspec": {
   "display_name": "Python 3",
   "language": "python",
   "name": "python3"
  },
  "language_info": {
   "codemirror_mode": {
    "name": "ipython",
    "version": 3
   },
   "file_extension": ".py",
   "mimetype": "text/x-python",
   "name": "python",
   "nbconvert_exporter": "python",
   "pygments_lexer": "ipython3",
   "version": "3.6.7"
  }
 },
 "nbformat": 4,
 "nbformat_minor": 2
}
