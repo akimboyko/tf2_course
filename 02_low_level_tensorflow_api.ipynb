{
 "cells": [
  {
   "cell_type": "markdown",
   "metadata": {},
   "source": [
    "# Low-Level TensorFlow API"
   ]
  },
  {
   "cell_type": "markdown",
   "metadata": {},
   "source": [
    "In this notebook you will learn how to use TensorFlow's low-level API, then use it to build custom loss functions, as well as custom Keras layers and models."
   ]
  },
  {
   "cell_type": "markdown",
   "metadata": {},
   "source": [
    "## Imports"
   ]
  },
  {
   "cell_type": "code",
   "execution_count": 1,
   "metadata": {},
   "outputs": [],
   "source": [
    "%matplotlib inline"
   ]
  },
  {
   "cell_type": "code",
   "execution_count": 2,
   "metadata": {},
   "outputs": [],
   "source": [
    "import matplotlib as mpl\n",
    "import matplotlib.pyplot as plt\n",
    "import numpy as np\n",
    "import os\n",
    "import pandas as pd\n",
    "import sklearn\n",
    "import sys\n",
    "import tensorflow as tf\n",
    "from tensorflow import keras\n",
    "import time"
   ]
  },
  {
   "cell_type": "code",
   "execution_count": 3,
   "metadata": {},
   "outputs": [],
   "source": [
    "from pprint import pprint"
   ]
  },
  {
   "cell_type": "code",
   "execution_count": 4,
   "metadata": {},
   "outputs": [
    {
     "name": "stdout",
     "output_type": "stream",
     "text": [
      "python 3.6.8 |Anaconda, Inc.| (default, Dec 29 2018, 19:04:46) \n",
      "[GCC 4.2.1 Compatible Clang 4.0.1 (tags/RELEASE_401/final)]\n",
      "matplotlib 3.0.2\n",
      "numpy 1.15.4\n",
      "pandas 0.23.4\n",
      "sklearn 0.20.1\n",
      "tensorflow 2.0.0-dev20190126\n",
      "tensorflow.python.keras.api._v2.keras 2.2.4-tf\n"
     ]
    }
   ],
   "source": [
    "print(\"python\", sys.version)\n",
    "for module in mpl, np, pd, sklearn, tf, keras:\n",
    "    print(module.__name__, module.__version__)"
   ]
  },
  {
   "cell_type": "code",
   "execution_count": 5,
   "metadata": {},
   "outputs": [],
   "source": [
    "assert sys.version_info >= (3, 5) # Python ≥3.5 required\n",
    "assert tf.__version__ >= \"2.0\"    # TensorFlow ≥2.0 required"
   ]
  },
  {
   "cell_type": "code",
   "execution_count": 109,
   "metadata": {},
   "outputs": [],
   "source": [
    "def plot_learning_curves(history):\n",
    "    pd.DataFrame(history.history).plot(figsize=(8, 5))\n",
    "    plt.grid(True)\n",
    "    plt.gca().set_ylim(0, 1)\n",
    "    plt.show()"
   ]
  },
  {
   "cell_type": "markdown",
   "metadata": {},
   "source": [
    "## Tensors and operations"
   ]
  },
  {
   "cell_type": "markdown",
   "metadata": {},
   "source": [
    "You can browse through the code examples or jump directly to the exercises."
   ]
  },
  {
   "cell_type": "markdown",
   "metadata": {},
   "source": [
    "### Tensors"
   ]
  },
  {
   "cell_type": "code",
   "execution_count": 6,
   "metadata": {},
   "outputs": [
    {
     "data": {
      "text/plain": [
       "<tf.Tensor: id=0, shape=(2, 3), dtype=float32, numpy=\n",
       "array([[1., 2., 3.],\n",
       "       [4., 5., 6.]], dtype=float32)>"
      ]
     },
     "execution_count": 6,
     "metadata": {},
     "output_type": "execute_result"
    }
   ],
   "source": [
    "t = tf.constant([[1., 2., 3.], [4., 5., 6.]])\n",
    "t"
   ]
  },
  {
   "cell_type": "code",
   "execution_count": 7,
   "metadata": {},
   "outputs": [
    {
     "data": {
      "text/plain": [
       "TensorShape([2, 3])"
      ]
     },
     "execution_count": 7,
     "metadata": {},
     "output_type": "execute_result"
    }
   ],
   "source": [
    "t.shape"
   ]
  },
  {
   "cell_type": "code",
   "execution_count": 8,
   "metadata": {},
   "outputs": [
    {
     "data": {
      "text/plain": [
       "tf.float32"
      ]
     },
     "execution_count": 8,
     "metadata": {},
     "output_type": "execute_result"
    }
   ],
   "source": [
    "t.dtype"
   ]
  },
  {
   "cell_type": "markdown",
   "metadata": {},
   "source": [
    "### Indexing"
   ]
  },
  {
   "cell_type": "code",
   "execution_count": 9,
   "metadata": {},
   "outputs": [
    {
     "data": {
      "text/plain": [
       "<tf.Tensor: id=5, shape=(2, 2), dtype=float32, numpy=\n",
       "array([[2., 3.],\n",
       "       [5., 6.]], dtype=float32)>"
      ]
     },
     "execution_count": 9,
     "metadata": {},
     "output_type": "execute_result"
    }
   ],
   "source": [
    "t[:, 1:]"
   ]
  },
  {
   "cell_type": "code",
   "execution_count": 10,
   "metadata": {},
   "outputs": [
    {
     "data": {
      "text/plain": [
       "<tf.Tensor: id=10, shape=(2, 1), dtype=float32, numpy=\n",
       "array([[2.],\n",
       "       [5.]], dtype=float32)>"
      ]
     },
     "execution_count": 10,
     "metadata": {},
     "output_type": "execute_result"
    }
   ],
   "source": [
    "t[..., 1, tf.newaxis]"
   ]
  },
  {
   "cell_type": "markdown",
   "metadata": {},
   "source": [
    "### Ops"
   ]
  },
  {
   "cell_type": "code",
   "execution_count": 11,
   "metadata": {},
   "outputs": [
    {
     "data": {
      "text/plain": [
       "<tf.Tensor: id=13, shape=(2, 3), dtype=float32, numpy=\n",
       "array([[11., 12., 13.],\n",
       "       [14., 15., 16.]], dtype=float32)>"
      ]
     },
     "execution_count": 11,
     "metadata": {},
     "output_type": "execute_result"
    }
   ],
   "source": [
    "t + 10"
   ]
  },
  {
   "cell_type": "code",
   "execution_count": 12,
   "metadata": {},
   "outputs": [
    {
     "data": {
      "text/plain": [
       "<tf.Tensor: id=15, shape=(2, 3), dtype=float32, numpy=\n",
       "array([[ 1.,  4.,  9.],\n",
       "       [16., 25., 36.]], dtype=float32)>"
      ]
     },
     "execution_count": 12,
     "metadata": {},
     "output_type": "execute_result"
    }
   ],
   "source": [
    "tf.square(t)"
   ]
  },
  {
   "cell_type": "code",
   "execution_count": 13,
   "metadata": {},
   "outputs": [
    {
     "data": {
      "text/plain": [
       "<tf.Tensor: id=19, shape=(2, 2), dtype=float32, numpy=\n",
       "array([[14., 32.],\n",
       "       [32., 77.]], dtype=float32)>"
      ]
     },
     "execution_count": 13,
     "metadata": {},
     "output_type": "execute_result"
    }
   ],
   "source": [
    "t @ tf.transpose(t)"
   ]
  },
  {
   "cell_type": "markdown",
   "metadata": {},
   "source": [
    "### To/From NumPy"
   ]
  },
  {
   "cell_type": "code",
   "execution_count": 14,
   "metadata": {},
   "outputs": [
    {
     "data": {
      "text/plain": [
       "array([[1., 2., 3.],\n",
       "       [4., 5., 6.]], dtype=float32)"
      ]
     },
     "execution_count": 14,
     "metadata": {},
     "output_type": "execute_result"
    }
   ],
   "source": [
    "t.numpy()"
   ]
  },
  {
   "cell_type": "code",
   "execution_count": 15,
   "metadata": {},
   "outputs": [
    {
     "data": {
      "text/plain": [
       "<tf.Tensor: id=22, shape=(2, 3), dtype=float64, numpy=\n",
       "array([[1., 2., 3.],\n",
       "       [4., 5., 6.]])>"
      ]
     },
     "execution_count": 15,
     "metadata": {},
     "output_type": "execute_result"
    }
   ],
   "source": [
    "a = np.array([[1., 2., 3.], [4., 5., 6.]])\n",
    "tf.constant(a)"
   ]
  },
  {
   "cell_type": "code",
   "execution_count": 16,
   "metadata": {},
   "outputs": [
    {
     "data": {
      "text/plain": [
       "array([[ 1.,  4.,  9.],\n",
       "       [16., 25., 36.]], dtype=float32)"
      ]
     },
     "execution_count": 16,
     "metadata": {},
     "output_type": "execute_result"
    }
   ],
   "source": [
    "t = tf.constant([[1., 2., 3.], [4., 5., 6.]])\n",
    "np.square(t)"
   ]
  },
  {
   "cell_type": "markdown",
   "metadata": {},
   "source": [
    "### Scalars"
   ]
  },
  {
   "cell_type": "code",
   "execution_count": 17,
   "metadata": {},
   "outputs": [
    {
     "data": {
      "text/plain": [
       "<tf.Tensor: id=26, shape=(), dtype=float32, numpy=2.718>"
      ]
     },
     "execution_count": 17,
     "metadata": {},
     "output_type": "execute_result"
    }
   ],
   "source": [
    "t = tf.constant(2.718)\n",
    "t"
   ]
  },
  {
   "cell_type": "code",
   "execution_count": 18,
   "metadata": {},
   "outputs": [
    {
     "data": {
      "text/plain": [
       "TensorShape([])"
      ]
     },
     "execution_count": 18,
     "metadata": {},
     "output_type": "execute_result"
    }
   ],
   "source": [
    "t.shape"
   ]
  },
  {
   "cell_type": "code",
   "execution_count": 19,
   "metadata": {},
   "outputs": [
    {
     "data": {
      "text/plain": [
       "2.718"
      ]
     },
     "execution_count": 19,
     "metadata": {},
     "output_type": "execute_result"
    }
   ],
   "source": [
    "t.numpy()"
   ]
  },
  {
   "cell_type": "markdown",
   "metadata": {},
   "source": [
    "### Conflicting Types"
   ]
  },
  {
   "cell_type": "code",
   "execution_count": 20,
   "metadata": {},
   "outputs": [
    {
     "name": "stdout",
     "output_type": "stream",
     "text": [
      "cannot compute Add as input #0(zero-based) was expected to be a float tensor but is a int32 tensor [Op:Add] name: add/\n"
     ]
    }
   ],
   "source": [
    "try:\n",
    "    tf.constant(1) + tf.constant(1.0)\n",
    "except tf.errors.InvalidArgumentError as ex:\n",
    "    print(ex)"
   ]
  },
  {
   "cell_type": "code",
   "execution_count": 21,
   "metadata": {},
   "outputs": [
    {
     "name": "stdout",
     "output_type": "stream",
     "text": [
      "cannot compute Add as input #0(zero-based) was expected to be a float tensor but is a double tensor [Op:Add] name: add/\n"
     ]
    }
   ],
   "source": [
    "try:\n",
    "    tf.constant(1.0, dtype=tf.float64) + tf.constant(1.0)\n",
    "except tf.errors.InvalidArgumentError as ex:\n",
    "    print(ex)"
   ]
  },
  {
   "cell_type": "code",
   "execution_count": 22,
   "metadata": {},
   "outputs": [
    {
     "data": {
      "text/plain": [
       "<tf.Tensor: id=36, shape=(), dtype=float32, numpy=2.0>"
      ]
     },
     "execution_count": 22,
     "metadata": {},
     "output_type": "execute_result"
    }
   ],
   "source": [
    "t = tf.constant(1.0, dtype=tf.float64)\n",
    "tf.cast(t, tf.float32) + tf.constant(1.0)"
   ]
  },
  {
   "cell_type": "markdown",
   "metadata": {},
   "source": [
    "### Strings"
   ]
  },
  {
   "cell_type": "code",
   "execution_count": 23,
   "metadata": {},
   "outputs": [
    {
     "data": {
      "text/plain": [
       "<tf.Tensor: id=38, shape=(), dtype=string, numpy=b'caf\\xc3\\xa9'>"
      ]
     },
     "execution_count": 23,
     "metadata": {},
     "output_type": "execute_result"
    }
   ],
   "source": [
    "t = tf.constant(\"café\")\n",
    "t"
   ]
  },
  {
   "cell_type": "code",
   "execution_count": 24,
   "metadata": {},
   "outputs": [
    {
     "data": {
      "text/plain": [
       "<tf.Tensor: id=40, shape=(), dtype=int32, numpy=5>"
      ]
     },
     "execution_count": 24,
     "metadata": {},
     "output_type": "execute_result"
    }
   ],
   "source": [
    "tf.strings.length(t)"
   ]
  },
  {
   "cell_type": "code",
   "execution_count": 25,
   "metadata": {},
   "outputs": [
    {
     "data": {
      "text/plain": [
       "<tf.Tensor: id=42, shape=(), dtype=int32, numpy=4>"
      ]
     },
     "execution_count": 25,
     "metadata": {},
     "output_type": "execute_result"
    }
   ],
   "source": [
    "tf.strings.length(t, unit=\"UTF8_CHAR\")"
   ]
  },
  {
   "cell_type": "code",
   "execution_count": 26,
   "metadata": {},
   "outputs": [
    {
     "data": {
      "text/plain": [
       "<tf.Tensor: id=47, shape=(4,), dtype=int32, numpy=array([ 99,  97, 102, 233], dtype=int32)>"
      ]
     },
     "execution_count": 26,
     "metadata": {},
     "output_type": "execute_result"
    }
   ],
   "source": [
    "tf.strings.unicode_decode(t, \"UTF8\")"
   ]
  },
  {
   "cell_type": "markdown",
   "metadata": {},
   "source": [
    "### String arrays"
   ]
  },
  {
   "cell_type": "code",
   "execution_count": 27,
   "metadata": {},
   "outputs": [],
   "source": [
    "t = tf.constant([\"Café\", \"Coffee\", \"caffè\", \"咖啡\"])"
   ]
  },
  {
   "cell_type": "code",
   "execution_count": 28,
   "metadata": {},
   "outputs": [
    {
     "data": {
      "text/plain": [
       "<tf.Tensor: id=50, shape=(4,), dtype=int32, numpy=array([4, 6, 5, 2], dtype=int32)>"
      ]
     },
     "execution_count": 28,
     "metadata": {},
     "output_type": "execute_result"
    }
   ],
   "source": [
    "tf.strings.length(t, unit=\"UTF8_CHAR\")"
   ]
  },
  {
   "cell_type": "code",
   "execution_count": 29,
   "metadata": {},
   "outputs": [
    {
     "data": {
      "text/plain": [
       "tf.RaggedTensor(values=tf.Tensor(\n",
       "[   67    97   102   233    67   111   102   102   101   101    99    97\n",
       "   102   102   232 21654 21857], shape=(17,), dtype=int32), row_splits=tf.Tensor([ 0  4 10 15 17], shape=(5,), dtype=int64))"
      ]
     },
     "execution_count": 29,
     "metadata": {},
     "output_type": "execute_result"
    }
   ],
   "source": [
    "r = tf.strings.unicode_decode(t, \"UTF8\")\n",
    "r"
   ]
  },
  {
   "cell_type": "markdown",
   "metadata": {},
   "source": [
    "### Ragged tensors"
   ]
  },
  {
   "cell_type": "code",
   "execution_count": 30,
   "metadata": {},
   "outputs": [
    {
     "data": {
      "text/plain": [
       "tf.RaggedTensor(values=tf.Tensor([11 12 21 22 23 41], shape=(6,), dtype=int32), row_splits=tf.Tensor([0 2 5 5 6], shape=(5,), dtype=int64))"
      ]
     },
     "execution_count": 30,
     "metadata": {},
     "output_type": "execute_result"
    }
   ],
   "source": [
    "r = tf.ragged.constant([[11, 12], [21, 22, 23], [], [41]])\n",
    "r"
   ]
  },
  {
   "cell_type": "code",
   "execution_count": 31,
   "metadata": {},
   "outputs": [
    {
     "name": "stdout",
     "output_type": "stream",
     "text": [
      "<tf.RaggedTensor [[11, 12], [21, 22, 23], [], [41]]>\n"
     ]
    }
   ],
   "source": [
    "print(r)"
   ]
  },
  {
   "cell_type": "code",
   "execution_count": 32,
   "metadata": {},
   "outputs": [
    {
     "name": "stdout",
     "output_type": "stream",
     "text": [
      "tf.Tensor([21 22 23], shape=(3,), dtype=int32)\n"
     ]
    }
   ],
   "source": [
    "print(r[1])"
   ]
  },
  {
   "cell_type": "code",
   "execution_count": 33,
   "metadata": {},
   "outputs": [
    {
     "name": "stdout",
     "output_type": "stream",
     "text": [
      "<tf.RaggedTensor [[21, 22, 23]]>\n"
     ]
    }
   ],
   "source": [
    "print(r[1:2])"
   ]
  },
  {
   "cell_type": "code",
   "execution_count": 34,
   "metadata": {},
   "outputs": [
    {
     "name": "stdout",
     "output_type": "stream",
     "text": [
      "<tf.RaggedTensor [[11, 12], [21, 22, 23], [], [41], [51, 52], [], [71]]>\n"
     ]
    }
   ],
   "source": [
    "r2 = tf.ragged.constant([[51, 52], [], [71]])\n",
    "print(tf.concat([r, r2], axis=0))"
   ]
  },
  {
   "cell_type": "code",
   "execution_count": 35,
   "metadata": {},
   "outputs": [
    {
     "name": "stdout",
     "output_type": "stream",
     "text": [
      "<tf.RaggedTensor [[11, 12, 13, 14, 15], [21, 22, 23, 24], [], [41, 42, 43]]>\n"
     ]
    }
   ],
   "source": [
    "r3 = tf.ragged.constant([[13, 14, 15], [24], [], [42, 43]])\n",
    "print(tf.concat([r, r3], axis=1))"
   ]
  },
  {
   "cell_type": "code",
   "execution_count": 36,
   "metadata": {},
   "outputs": [
    {
     "data": {
      "text/plain": [
       "<tf.Tensor: id=281, shape=(4, 3), dtype=int32, numpy=\n",
       "array([[11, 12,  0],\n",
       "       [21, 22, 23],\n",
       "       [ 0,  0,  0],\n",
       "       [41,  0,  0]], dtype=int32)>"
      ]
     },
     "execution_count": 36,
     "metadata": {},
     "output_type": "execute_result"
    }
   ],
   "source": [
    "r.to_tensor()"
   ]
  },
  {
   "cell_type": "markdown",
   "metadata": {},
   "source": [
    "### Sparse tensors"
   ]
  },
  {
   "cell_type": "code",
   "execution_count": 37,
   "metadata": {},
   "outputs": [
    {
     "name": "stdout",
     "output_type": "stream",
     "text": [
      "SparseTensor(indices=tf.Tensor(\n",
      "[[0 1]\n",
      " [1 0]\n",
      " [2 3]], shape=(3, 2), dtype=int64), values=tf.Tensor([1. 2. 3.], shape=(3,), dtype=float32), dense_shape=tf.Tensor([3 4], shape=(2,), dtype=int64))\n"
     ]
    }
   ],
   "source": [
    "s = tf.SparseTensor(indices=[[0, 1], [1, 0], [2, 3]],\n",
    "                    values=[1., 2., 3.],\n",
    "                    dense_shape=[3, 4])\n",
    "print(s)"
   ]
  },
  {
   "cell_type": "code",
   "execution_count": 38,
   "metadata": {},
   "outputs": [
    {
     "data": {
      "text/plain": [
       "<tf.Tensor: id=290, shape=(3, 4), dtype=float32, numpy=\n",
       "array([[0., 1., 0., 0.],\n",
       "       [2., 0., 0., 0.],\n",
       "       [0., 0., 0., 3.]], dtype=float32)>"
      ]
     },
     "execution_count": 38,
     "metadata": {},
     "output_type": "execute_result"
    }
   ],
   "source": [
    "tf.sparse.to_dense(s)"
   ]
  },
  {
   "cell_type": "code",
   "execution_count": 39,
   "metadata": {},
   "outputs": [],
   "source": [
    "s2 = s * 2.0"
   ]
  },
  {
   "cell_type": "code",
   "execution_count": 40,
   "metadata": {},
   "outputs": [
    {
     "name": "stdout",
     "output_type": "stream",
     "text": [
      "unsupported operand type(s) for +: 'SparseTensor' and 'float'\n"
     ]
    }
   ],
   "source": [
    "try:\n",
    "    s3 = s + 1.\n",
    "except TypeError as ex:\n",
    "    print(ex)"
   ]
  },
  {
   "cell_type": "code",
   "execution_count": 41,
   "metadata": {},
   "outputs": [
    {
     "data": {
      "text/plain": [
       "<tf.Tensor: id=295, shape=(3, 2), dtype=float32, numpy=\n",
       "array([[ 30.,  40.],\n",
       "       [ 20.,  40.],\n",
       "       [210., 240.]], dtype=float32)>"
      ]
     },
     "execution_count": 41,
     "metadata": {},
     "output_type": "execute_result"
    }
   ],
   "source": [
    "s4 = tf.constant([[10., 20.], [30., 40.], [50., 60.], [70., 80.]])\n",
    "tf.sparse.sparse_dense_matmul(s, s4)"
   ]
  },
  {
   "cell_type": "code",
   "execution_count": 42,
   "metadata": {},
   "outputs": [
    {
     "name": "stdout",
     "output_type": "stream",
     "text": [
      "SparseTensor(indices=tf.Tensor(\n",
      "[[0 2]\n",
      " [0 1]], shape=(2, 2), dtype=int64), values=tf.Tensor([1. 2.], shape=(2,), dtype=float32), dense_shape=tf.Tensor([3 4], shape=(2,), dtype=int64))\n"
     ]
    }
   ],
   "source": [
    "s5 = tf.SparseTensor(indices=[[0, 2], [0, 1]],\n",
    "                     values=[1., 2.],\n",
    "                     dense_shape=[3, 4])\n",
    "print(s5)"
   ]
  },
  {
   "cell_type": "code",
   "execution_count": 43,
   "metadata": {},
   "outputs": [
    {
     "name": "stdout",
     "output_type": "stream",
     "text": [
      "indices[1] = [0,1] is out of order [Op:SparseToDense]\n"
     ]
    }
   ],
   "source": [
    "try:\n",
    "    tf.sparse.to_dense(s5)\n",
    "except tf.errors.InvalidArgumentError as ex:\n",
    "    print(ex)"
   ]
  },
  {
   "cell_type": "code",
   "execution_count": 44,
   "metadata": {},
   "outputs": [
    {
     "data": {
      "text/plain": [
       "<tf.Tensor: id=310, shape=(3, 4), dtype=float32, numpy=\n",
       "array([[0., 2., 1., 0.],\n",
       "       [0., 0., 0., 0.],\n",
       "       [0., 0., 0., 0.]], dtype=float32)>"
      ]
     },
     "execution_count": 44,
     "metadata": {},
     "output_type": "execute_result"
    }
   ],
   "source": [
    "s6 = tf.sparse.reorder(s5)\n",
    "tf.sparse.to_dense(s6)"
   ]
  },
  {
   "cell_type": "markdown",
   "metadata": {},
   "source": [
    "### Variables"
   ]
  },
  {
   "cell_type": "code",
   "execution_count": 45,
   "metadata": {},
   "outputs": [
    {
     "data": {
      "text/plain": [
       "<tf.Variable 'Variable:0' shape=(2, 3) dtype=float32, numpy=\n",
       "array([[1., 2., 3.],\n",
       "       [4., 5., 6.]], dtype=float32)>"
      ]
     },
     "execution_count": 45,
     "metadata": {},
     "output_type": "execute_result"
    }
   ],
   "source": [
    "v = tf.Variable([[1., 2., 3.], [4., 5., 6.]])\n",
    "v"
   ]
  },
  {
   "cell_type": "code",
   "execution_count": 46,
   "metadata": {},
   "outputs": [
    {
     "data": {
      "text/plain": [
       "<tf.Tensor: id=322, shape=(2, 3), dtype=float32, numpy=\n",
       "array([[1., 2., 3.],\n",
       "       [4., 5., 6.]], dtype=float32)>"
      ]
     },
     "execution_count": 46,
     "metadata": {},
     "output_type": "execute_result"
    }
   ],
   "source": [
    "v.value()"
   ]
  },
  {
   "cell_type": "code",
   "execution_count": 47,
   "metadata": {},
   "outputs": [
    {
     "data": {
      "text/plain": [
       "array([[1., 2., 3.],\n",
       "       [4., 5., 6.]], dtype=float32)"
      ]
     },
     "execution_count": 47,
     "metadata": {},
     "output_type": "execute_result"
    }
   ],
   "source": [
    "v.numpy()"
   ]
  },
  {
   "cell_type": "code",
   "execution_count": 48,
   "metadata": {},
   "outputs": [
    {
     "data": {
      "text/plain": [
       "<tf.Variable 'UnreadVariable' shape=(2, 3) dtype=float32, numpy=\n",
       "array([[ 2.,  4.,  6.],\n",
       "       [ 8., 10., 12.]], dtype=float32)>"
      ]
     },
     "execution_count": 48,
     "metadata": {},
     "output_type": "execute_result"
    }
   ],
   "source": [
    "v.assign(2 * v)"
   ]
  },
  {
   "cell_type": "code",
   "execution_count": 49,
   "metadata": {},
   "outputs": [
    {
     "data": {
      "text/plain": [
       "<tf.Variable 'UnreadVariable' shape=(2, 3) dtype=float32, numpy=\n",
       "array([[ 2., 42.,  6.],\n",
       "       [ 8., 10., 12.]], dtype=float32)>"
      ]
     },
     "execution_count": 49,
     "metadata": {},
     "output_type": "execute_result"
    }
   ],
   "source": [
    "v[0, 1].assign(42)"
   ]
  },
  {
   "cell_type": "code",
   "execution_count": 50,
   "metadata": {},
   "outputs": [
    {
     "data": {
      "text/plain": [
       "<tf.Variable 'UnreadVariable' shape=(2, 3) dtype=float32, numpy=\n",
       "array([[ 2., 42.,  6.],\n",
       "       [ 7.,  8.,  9.]], dtype=float32)>"
      ]
     },
     "execution_count": 50,
     "metadata": {},
     "output_type": "execute_result"
    }
   ],
   "source": [
    "v[1].assign([7., 8., 9.])"
   ]
  },
  {
   "cell_type": "code",
   "execution_count": 51,
   "metadata": {},
   "outputs": [
    {
     "name": "stdout",
     "output_type": "stream",
     "text": [
      "'ResourceVariable' object does not support item assignment\n"
     ]
    }
   ],
   "source": [
    "try:\n",
    "    v[1] = [7., 8., 9.]\n",
    "except TypeError as ex:\n",
    "    print(ex)"
   ]
  },
  {
   "cell_type": "code",
   "execution_count": 52,
   "metadata": {},
   "outputs": [
    {
     "data": {
      "text/plain": [
       "<tf.Variable 'UnreadVariable' shape=(2, 3) dtype=float32, numpy=\n",
       "array([[4., 5., 6.],\n",
       "       [1., 2., 3.]], dtype=float32)>"
      ]
     },
     "execution_count": 52,
     "metadata": {},
     "output_type": "execute_result"
    }
   ],
   "source": [
    "sparse_delta = tf.IndexedSlices(values=[[1., 2., 3.], [4., 5., 6.]],\n",
    "                                indices=[1, 0])\n",
    "v.scatter_update(sparse_delta)"
   ]
  },
  {
   "cell_type": "code",
   "execution_count": 53,
   "metadata": {},
   "outputs": [
    {
     "data": {
      "text/plain": [
       "<tf.Variable 'UnreadVariable' shape=(2, 3) dtype=float32, numpy=\n",
       "array([[100.,   5.,   6.],\n",
       "       [  1.,   2., 200.]], dtype=float32)>"
      ]
     },
     "execution_count": 53,
     "metadata": {},
     "output_type": "execute_result"
    }
   ],
   "source": [
    "v.scatter_nd_update(indices=[[0, 0], [1, 2]],\n",
    "                    updates=[100., 200.])"
   ]
  },
  {
   "cell_type": "markdown",
   "metadata": {},
   "source": [
    "### Devices"
   ]
  },
  {
   "cell_type": "code",
   "execution_count": 54,
   "metadata": {},
   "outputs": [],
   "source": [
    "with tf.device(\"/cpu:0\"):\n",
    "    t = tf.constant([[1., 2., 3.], [4., 5., 6.]])"
   ]
  },
  {
   "cell_type": "code",
   "execution_count": 55,
   "metadata": {},
   "outputs": [
    {
     "data": {
      "text/plain": [
       "'/job:localhost/replica:0/task:0/device:CPU:0'"
      ]
     },
     "execution_count": 55,
     "metadata": {},
     "output_type": "execute_result"
    }
   ],
   "source": [
    "t.device"
   ]
  },
  {
   "cell_type": "code",
   "execution_count": 56,
   "metadata": {},
   "outputs": [],
   "source": [
    "if tf.test.is_gpu_available():\n",
    "    with tf.device(\"/gpu:0\"):\n",
    "        t2 = tf.constant([[1., 2., 3.], [4., 5., 6.]])\n",
    "    print(t2.device)"
   ]
  },
  {
   "cell_type": "markdown",
   "metadata": {},
   "source": [
    "![Exercise](https://c1.staticflickr.com/9/8101/8553474140_c50cf08708_b.jpg)"
   ]
  },
  {
   "cell_type": "markdown",
   "metadata": {},
   "source": [
    "## Exercise 1 – Custom loss function"
   ]
  },
  {
   "cell_type": "markdown",
   "metadata": {},
   "source": [
    "Let's start by loading and preparing the California housing dataset. We first load it, then split it into a training set, a validation set and a test set, and finally we scale it:"
   ]
  },
  {
   "cell_type": "code",
   "execution_count": 57,
   "metadata": {},
   "outputs": [],
   "source": [
    "from sklearn.datasets import fetch_california_housing\n",
    "from sklearn.model_selection import train_test_split\n",
    "from sklearn.preprocessing import StandardScaler\n",
    "\n",
    "housing = fetch_california_housing()\n",
    "X_train_full, X_test, y_train_full, y_test = train_test_split(\n",
    "    housing.data, housing.target.reshape(-1, 1), random_state=42)\n",
    "X_train, X_valid, y_train, y_valid = train_test_split(\n",
    "    X_train_full, y_train_full, random_state=42)\n",
    "\n",
    "scaler = StandardScaler()\n",
    "X_train_scaled = scaler.fit_transform(X_train)\n",
    "X_valid_scaled = scaler.transform(X_valid)\n",
    "X_test_scaled = scaler.transform(X_test)"
   ]
  },
  {
   "cell_type": "markdown",
   "metadata": {},
   "source": [
    "1) Create an `my_mse()` function with two arguments: the true labels `y_true` and the model predictions `y_pred`. Make it return the mean squared error using TensorFlow operations. Note that you could write your own custom metrics in exactly the same way. **Tip**: recall that the MSE is the mean of the squares of prediction errors, which are the differences between the predictions and the labels, so you will need to use `tf.reduce_mean()` and `tf.square()`."
   ]
  },
  {
   "cell_type": "code",
   "execution_count": 58,
   "metadata": {},
   "outputs": [],
   "source": [
    "def my_mse(y_true, y_pred):\n",
    "    return tf.reduce_mean(tf.square(y_true - y_pred))"
   ]
  },
  {
   "cell_type": "code",
   "execution_count": 59,
   "metadata": {},
   "outputs": [
    {
     "name": "stdout",
     "output_type": "stream",
     "text": [
      "tf.Tensor(0.0, shape=(), dtype=float32)\n",
      "tf.Tensor(0.0, shape=(), dtype=float32)\n",
      "False\n",
      "tf.Tensor(True, shape=(), dtype=bool)\n"
     ]
    }
   ],
   "source": [
    "#assert my_mse(tf.constant([[1., 2., 3.], [4., 5., 6.]]), tf.constant([[1., 2., 3.], [4., 5., 6.]])) == 0.0\n",
    "\n",
    "print(my_mse(tf.constant([[1., 2., 3.], [4., 5., 6.]]), tf.constant([[1., 2., 3.], [4., 5., 6.]])))\n",
    "print(tf.constant(0.0))\n",
    "print(my_mse(tf.constant([[1., 2., 3.], [4., 5., 6.]]), tf.constant([[1., 2., 3.], [4., 5., 6.]])) == \n",
    "      tf.constant(0.0))\n",
    "print(tf.equal(x=my_mse(tf.constant([[1., 2., 3.], [4., 5., 6.]]), tf.constant([[1., 2., 3.], [4., 5., 6.]])),\n",
    "        y=tf.constant(0.0)))\n",
    "\n",
    "tf.debugging.assert_equal(\n",
    "    x=my_mse(tf.constant([[1., 2., 3.], [4., 5., 6.]]), tf.constant([[1., 2., 3.], [4., 5., 6.]])),\n",
    "    y=tf.constant(0.0))\n",
    "\n",
    "tf.debugging.assert_equal(\n",
    "    x=my_mse(tf.constant([[1., 2., 3.], [4., 5., 6.]]), tf.constant([[1., 2., 3.5], [4., 5., 5.5]])),\n",
    "    y=tf.constant(0.083333336))"
   ]
  },
  {
   "cell_type": "code",
   "execution_count": null,
   "metadata": {},
   "outputs": [],
   "source": []
  },
  {
   "cell_type": "markdown",
   "metadata": {},
   "source": [
    "2) Compile the following model, passing it your custom loss function, then train it and evaluate it. **Tip**: don't forget to use the scaled sets."
   ]
  },
  {
   "cell_type": "code",
   "execution_count": 60,
   "metadata": {},
   "outputs": [],
   "source": [
    "def build_model():\n",
    "    return keras.models.Sequential([\n",
    "        keras.layers.Dense(30, activation=\"relu\", input_shape=X_train_scaled.shape[1:]),\n",
    "        keras.layers.Dense(1),\n",
    "    ])"
   ]
  },
  {
   "cell_type": "code",
   "execution_count": 61,
   "metadata": {},
   "outputs": [],
   "source": [
    "model = build_model()"
   ]
  },
  {
   "cell_type": "code",
   "execution_count": 62,
   "metadata": {},
   "outputs": [],
   "source": [
    "initial_weights = model.get_weights()"
   ]
  },
  {
   "cell_type": "code",
   "execution_count": 63,
   "metadata": {},
   "outputs": [
    {
     "name": "stdout",
     "output_type": "stream",
     "text": [
      "Model: \"sequential\"\n",
      "_________________________________________________________________\n",
      "Layer (type)                 Output Shape              Param #   \n",
      "=================================================================\n",
      "dense (Dense)                (None, 30)                270       \n",
      "_________________________________________________________________\n",
      "dense_1 (Dense)              (None, 1)                 31        \n",
      "=================================================================\n",
      "Total params: 301\n",
      "Trainable params: 301\n",
      "Non-trainable params: 0\n",
      "_________________________________________________________________\n"
     ]
    }
   ],
   "source": [
    "model.summary()"
   ]
  },
  {
   "cell_type": "code",
   "execution_count": 64,
   "metadata": {},
   "outputs": [],
   "source": [
    "model.compile(loss=my_mse, optimizer='sgd', metrics=['accuracy'])"
   ]
  },
  {
   "cell_type": "code",
   "execution_count": 65,
   "metadata": {
    "scrolled": true
   },
   "outputs": [
    {
     "name": "stdout",
     "output_type": "stream",
     "text": [
      "Train on 11610 samples, validate on 3870 samples\n",
      "Epoch 1/100\n",
      "11610/11610==============================] - 0s 33us/sample - loss: 2.0748 - acc: 0.0023 - val_loss: 0.8141 - val_acc: 0.0044\n",
      "Epoch 2/100\n",
      "11610/11610==============================] - 0s 27us/sample - loss: 0.7675 - acc: 0.0029 - val_loss: 0.7013 - val_acc: 0.0044\n",
      "Epoch 3/100\n",
      "11610/11610==============================] - 0s 27us/sample - loss: 0.7056 - acc: 0.0029 - val_loss: 0.6716 - val_acc: 0.0044\n",
      "Epoch 4/100\n",
      "11610/11610==============================] - 0s 28us/sample - loss: 0.6694 - acc: 0.0029 - val_loss: 0.6443 - val_acc: 0.0044\n",
      "Epoch 5/100\n",
      "11610/11610==============================] - 0s 30us/sample - loss: 0.6390 - acc: 0.0029 - val_loss: 0.6012 - val_acc: 0.0044\n",
      "Epoch 6/100\n",
      "11610/11610==============================] - 0s 34us/sample - loss: 0.6109 - acc: 0.0029 - val_loss: 0.6055 - val_acc: 0.0044\n",
      "Epoch 7/100\n",
      "11610/11610==============================] - 0s 33us/sample - loss: 0.5849 - acc: 0.0029 - val_loss: 0.6220 - val_acc: 0.0044\n",
      "Epoch 8/100\n",
      "11610/11610==============================] - 0s 33us/sample - loss: 0.5651 - acc: 0.0029 - val_loss: 0.5816 - val_acc: 0.0044\n",
      "Epoch 9/100\n",
      "11610/11610==============================] - 0s 34us/sample - loss: 0.5454 - acc: 0.0029 - val_loss: 0.5325 - val_acc: 0.0044\n",
      "Epoch 10/100\n",
      "11610/11610==============================] - 0s 31us/sample - loss: 0.5284 - acc: 0.0029 - val_loss: 0.5113 - val_acc: 0.0044\n",
      "Epoch 11/100\n",
      "11610/11610==============================] - 0s 31us/sample - loss: 0.5117 - acc: 0.0029 - val_loss: 0.5100 - val_acc: 0.0044\n",
      "Epoch 12/100\n",
      "11610/11610==============================] - 0s 34us/sample - loss: 0.4988 - acc: 0.0029 - val_loss: 0.4812 - val_acc: 0.0044\n",
      "Epoch 13/100\n",
      "11610/11610==============================] - 0s 38us/sample - loss: 0.4853 - acc: 0.0029 - val_loss: 0.4941 - val_acc: 0.0044\n",
      "Epoch 14/100\n",
      "11610/11610==============================] - 0s 35us/sample - loss: 0.4757 - acc: 0.0029 - val_loss: 0.4593 - val_acc: 0.0044\n",
      "Epoch 15/100\n",
      "11610/11610==============================] - 0s 34us/sample - loss: 0.4662 - acc: 0.0029 - val_loss: 0.4534 - val_acc: 0.0044\n",
      "Epoch 16/100\n",
      "11610/11610==============================] - 0s 33us/sample - loss: 0.4578 - acc: 0.0029 - val_loss: 0.4308 - val_acc: 0.0044\n",
      "Epoch 17/100\n",
      "11610/11610==============================] - 0s 32us/sample - loss: 0.4513 - acc: 0.0029 - val_loss: 0.4240 - val_acc: 0.0044\n",
      "Epoch 18/100\n",
      "11610/11610==============================] - 0s 34us/sample - loss: 0.4454 - acc: 0.0028 - val_loss: 0.4229 - val_acc: 0.0044\n",
      "Epoch 19/100\n",
      "11610/11610==============================] - 0s 32us/sample - loss: 0.4403 - acc: 0.0028 - val_loss: 0.4270 - val_acc: 0.0044\n",
      "Epoch 20/100\n",
      "11610/11610==============================] - 0s 35us/sample - loss: 0.4357 - acc: 0.0028 - val_loss: 0.4106 - val_acc: 0.0044\n",
      "Epoch 21/100\n",
      "11610/11610==============================] - 0s 35us/sample - loss: 0.4319 - acc: 0.0028 - val_loss: 0.4065 - val_acc: 0.0044\n",
      "Epoch 22/100\n",
      "11610/11610==============================] - 0s 35us/sample - loss: 0.4286 - acc: 0.0028 - val_loss: 0.4039 - val_acc: 0.0044\n",
      "Epoch 23/100\n",
      "11610/11610==============================] - 0s 35us/sample - loss: 0.4254 - acc: 0.0028 - val_loss: 0.4007 - val_acc: 0.0044\n",
      "Epoch 24/100\n",
      "11610/11610==============================] - 0s 36us/sample - loss: 0.4228 - acc: 0.0028 - val_loss: 0.4185 - val_acc: 0.0044\n",
      "Epoch 25/100\n",
      "11610/11610==============================] - 0s 37us/sample - loss: 0.4204 - acc: 0.0028 - val_loss: 0.3964 - val_acc: 0.0044\n",
      "Epoch 26/100\n",
      "11610/11610==============================] - 0s 38us/sample - loss: 0.4183 - acc: 0.0028 - val_loss: 0.4126 - val_acc: 0.0044\n",
      "Epoch 27/100\n",
      "11610/11610==============================] - 0s 35us/sample - loss: 0.4161 - acc: 0.0028 - val_loss: 0.3989 - val_acc: 0.0044\n",
      "Epoch 28/100\n",
      "11610/11610==============================] - 0s 38us/sample - loss: 0.4143 - acc: 0.0028 - val_loss: 0.4069 - val_acc: 0.0044\n",
      "Epoch 29/100\n",
      "11610/11610==============================] - 0s 35us/sample - loss: 0.4126 - acc: 0.0028 - val_loss: 0.4054 - val_acc: 0.0044\n",
      "Epoch 30/100\n",
      "11610/11610==============================] - 0s 34us/sample - loss: 0.4111 - acc: 0.0028 - val_loss: 0.3895 - val_acc: 0.0044\n",
      "Epoch 31/100\n",
      "11610/11610==============================] - 0s 37us/sample - loss: 0.4095 - acc: 0.0028 - val_loss: 0.3883 - val_acc: 0.0044\n",
      "Epoch 32/100\n",
      "11610/11610==============================] - 0s 35us/sample - loss: 0.4083 - acc: 0.0028 - val_loss: 0.4170 - val_acc: 0.0044\n",
      "Epoch 33/100\n",
      "11610/11610==============================] - 0s 36us/sample - loss: 0.4069 - acc: 0.0028 - val_loss: 0.3831 - val_acc: 0.0044\n",
      "Epoch 34/100\n",
      "11610/11610==============================] - 0s 35us/sample - loss: 0.4057 - acc: 0.0028 - val_loss: 0.4124 - val_acc: 0.0044\n",
      "Epoch 35/100\n",
      "11610/11610==============================] - 0s 34us/sample - loss: 0.4046 - acc: 0.0028 - val_loss: 0.4058 - val_acc: 0.0044\n",
      "Epoch 36/100\n",
      "11610/11610==============================] - 0s 36us/sample - loss: 0.4036 - acc: 0.0028 - val_loss: 0.3828 - val_acc: 0.0044\n",
      "Epoch 37/100\n",
      "11610/11610==============================] - 0s 38us/sample - loss: 0.4024 - acc: 0.0028 - val_loss: 0.4195 - val_acc: 0.0044\n",
      "Epoch 38/100\n",
      "11610/11610==============================] - 0s 35us/sample - loss: 0.4017 - acc: 0.0028 - val_loss: 0.3826 - val_acc: 0.0044\n",
      "Epoch 39/100\n",
      "11610/11610==============================] - 0s 34us/sample - loss: 0.4006 - acc: 0.0028 - val_loss: 0.3814 - val_acc: 0.0044\n",
      "Epoch 40/100\n",
      "11610/11610==============================] - 0s 30us/sample - loss: 0.3997 - acc: 0.0028 - val_loss: 0.3753 - val_acc: 0.0044\n",
      "Epoch 41/100\n",
      "11610/11610==============================] - 0s 23us/sample - loss: 0.3989 - acc: 0.0028 - val_loss: 0.3890 - val_acc: 0.0044\n",
      "Epoch 42/100\n",
      "11610/11610==============================] - 0s 23us/sample - loss: 0.3981 - acc: 0.0028 - val_loss: 0.3821 - val_acc: 0.0044\n",
      "Epoch 43/100\n",
      "11610/11610==============================] - 0s 35us/sample - loss: 0.3973 - acc: 0.0028 - val_loss: 0.3941 - val_acc: 0.0044\n",
      "Epoch 44/100\n",
      "11610/11610==============================] - 0s 34us/sample - loss: 0.3967 - acc: 0.0028 - val_loss: 0.3784 - val_acc: 0.0044\n",
      "Epoch 45/100\n",
      "11610/11610==============================] - 0s 34us/sample - loss: 0.3957 - acc: 0.0028 - val_loss: 0.4276 - val_acc: 0.0044\n",
      "5160/5160==============================] - 0s 13us/sample - loss: 0.3923 - acc: 0.0019\n"
     ]
    },
    {
     "data": {
      "text/plain": [
       "[0.3922614634961121, 0.0019379845]"
      ]
     },
     "execution_count": 65,
     "metadata": {},
     "output_type": "execute_result"
    }
   ],
   "source": [
    "history = model.fit(X_train_scaled, y_train, epochs=100, validation_data=(X_valid_scaled, y_valid),\n",
    "                   callbacks=[\n",
    "                       keras.callbacks.EarlyStopping(patience=5)\n",
    "                   ])\n",
    "\n",
    "model.evaluate(X_test_scaled, y_test)"
   ]
  },
  {
   "cell_type": "code",
   "execution_count": 66,
   "metadata": {},
   "outputs": [
    {
     "name": "stdout",
     "output_type": "stream",
     "text": [
      "{'acc': [0.0023255814,\n",
      "         0.0029285098,\n",
      "         0.0029285098,\n",
      "         0.0029285098,\n",
      "         0.0029285098,\n",
      "         0.0029285098,\n",
      "         0.0029285098,\n",
      "         0.0029285098,\n",
      "         0.0029285098,\n",
      "         0.0029285098,\n",
      "         0.0029285098,\n",
      "         0.0029285098,\n",
      "         0.0029285098,\n",
      "         0.0029285098,\n",
      "         0.0029285098,\n",
      "         0.0029285098,\n",
      "         0.0029285098,\n",
      "         0.0028423772,\n",
      "         0.0028423772,\n",
      "         0.0028423772,\n",
      "         0.0028423772,\n",
      "         0.0028423772,\n",
      "         0.0028423772,\n",
      "         0.0028423772,\n",
      "         0.0028423772,\n",
      "         0.0028423772,\n",
      "         0.0028423772,\n",
      "         0.0028423772,\n",
      "         0.0028423772,\n",
      "         0.0028423772,\n",
      "         0.0028423772,\n",
      "         0.0028423772,\n",
      "         0.0028423772,\n",
      "         0.0028423772,\n",
      "         0.0028423772,\n",
      "         0.0028423772,\n",
      "         0.0028423772,\n",
      "         0.0028423772,\n",
      "         0.0028423772,\n",
      "         0.0028423772,\n",
      "         0.0028423772,\n",
      "         0.0028423772,\n",
      "         0.0028423772,\n",
      "         0.0028423772,\n",
      "         0.0028423772],\n",
      " 'loss': [2.0748008945191554,\n",
      "          0.7674978333336849,\n",
      "          0.7056191052628631,\n",
      "          0.6693815261407929,\n",
      "          0.6390139236622695,\n",
      "          0.6108543507299169,\n",
      "          0.5849213166446341,\n",
      "          0.5651393763214017,\n",
      "          0.5454346868110873,\n",
      "          0.5284094098207768,\n",
      "          0.5117466359380809,\n",
      "          0.4988471601309189,\n",
      "          0.48534778409944745,\n",
      "          0.4756676964262865,\n",
      "          0.466192523279034,\n",
      "          0.4577901574068291,\n",
      "          0.4512839290214755,\n",
      "          0.44538203820291006,\n",
      "          0.44033162101756695,\n",
      "          0.435708589619547,\n",
      "          0.43190139748740053,\n",
      "          0.4286279289862085,\n",
      "          0.42537437811891754,\n",
      "          0.4227930780683069,\n",
      "          0.42036262674643804,\n",
      "          0.4182574605910969,\n",
      "          0.41609421563908316,\n",
      "          0.41434467644859857,\n",
      "          0.41259420174755584,\n",
      "          0.4111306130372687,\n",
      "          0.4095334741907013,\n",
      "          0.4082811420586066,\n",
      "          0.4069478643494983,\n",
      "          0.4057164542742786,\n",
      "          0.4046233630406251,\n",
      "          0.403610870450042,\n",
      "          0.40242975338279535,\n",
      "          0.4016558476145364,\n",
      "          0.4006088445969022,\n",
      "          0.3996841056145644,\n",
      "          0.3989421158746642,\n",
      "          0.3981494841444195,\n",
      "          0.39730770557117706,\n",
      "          0.39668494801804693,\n",
      "          0.3957244423034374],\n",
      " 'val_acc': [0.004392765,\n",
      "             0.004392765,\n",
      "             0.004392765,\n",
      "             0.004392765,\n",
      "             0.004392765,\n",
      "             0.004392765,\n",
      "             0.004392765,\n",
      "             0.004392765,\n",
      "             0.004392765,\n",
      "             0.004392765,\n",
      "             0.004392765,\n",
      "             0.004392765,\n",
      "             0.004392765,\n",
      "             0.004392765,\n",
      "             0.004392765,\n",
      "             0.004392765,\n",
      "             0.004392765,\n",
      "             0.004392765,\n",
      "             0.004392765,\n",
      "             0.004392765,\n",
      "             0.004392765,\n",
      "             0.004392765,\n",
      "             0.004392765,\n",
      "             0.004392765,\n",
      "             0.004392765,\n",
      "             0.004392765,\n",
      "             0.004392765,\n",
      "             0.004392765,\n",
      "             0.004392765,\n",
      "             0.004392765,\n",
      "             0.004392765,\n",
      "             0.004392765,\n",
      "             0.004392765,\n",
      "             0.004392765,\n",
      "             0.004392765,\n",
      "             0.004392765,\n",
      "             0.004392765,\n",
      "             0.004392765,\n",
      "             0.004392765,\n",
      "             0.004392765,\n",
      "             0.004392765,\n",
      "             0.004392765,\n",
      "             0.004392765,\n",
      "             0.004392765,\n",
      "             0.004392765],\n",
      " 'val_loss': [0.8140732670323177,\n",
      "              0.7012597605855582,\n",
      "              0.6715556770486117,\n",
      "              0.644348803262686,\n",
      "              0.6011690397287216,\n",
      "              0.605543401506212,\n",
      "              0.6220017317807643,\n",
      "              0.5815681203083166,\n",
      "              0.5325419507285422,\n",
      "              0.5112594677958378,\n",
      "              0.5100194413994634,\n",
      "              0.48116052158427175,\n",
      "              0.49409297493693133,\n",
      "              0.4592870269788944,\n",
      "              0.4533728792993905,\n",
      "              0.4308204597126914,\n",
      "              0.4240482685947911,\n",
      "              0.42287071682994065,\n",
      "              0.4270422308789975,\n",
      "              0.4106095877112652,\n",
      "              0.4065440557723822,\n",
      "              0.4039027628818532,\n",
      "              0.40069182710746154,\n",
      "              0.4185248604424548,\n",
      "              0.39643980571157866,\n",
      "              0.41257227767037485,\n",
      "              0.3989343090112819,\n",
      "              0.4068931742694027,\n",
      "              0.40536495930772726,\n",
      "              0.38947546224877505,\n",
      "              0.38827691269167325,\n",
      "              0.41695870122552225,\n",
      "              0.38308304117015474,\n",
      "              0.41239933015764224,\n",
      "              0.4058402262916861,\n",
      "              0.3827618733703012,\n",
      "              0.4195473810653046,\n",
      "              0.3825906852265045,\n",
      "              0.3814390173870156,\n",
      "              0.3753400472091458,\n",
      "              0.3889798132948173,\n",
      "              0.38214087181313094,\n",
      "              0.3940551082293193,\n",
      "              0.3783973534131851,\n",
      "              0.4275889846397617]}\n"
     ]
    }
   ],
   "source": [
    "pprint(history.history)"
   ]
  },
  {
   "cell_type": "markdown",
   "metadata": {},
   "source": [
    "3) Try building and compiling the model again, this time adding `\"mse\"` (or equivalently `\"mean_squared_error\"` or `keras.losses.mean_squared_error`) to the list of additional metrics, then train the model and make sure the `my_mse` is equal to the standard `mse`."
   ]
  },
  {
   "cell_type": "code",
   "execution_count": 67,
   "metadata": {},
   "outputs": [],
   "source": [
    "model = build_model()"
   ]
  },
  {
   "cell_type": "code",
   "execution_count": 68,
   "metadata": {},
   "outputs": [],
   "source": [
    "model.set_weights(initial_weights)"
   ]
  },
  {
   "cell_type": "code",
   "execution_count": 69,
   "metadata": {},
   "outputs": [],
   "source": [
    "model.compile(loss='mse', optimizer='sgd', metrics=['accuracy'])"
   ]
  },
  {
   "cell_type": "code",
   "execution_count": 70,
   "metadata": {
    "scrolled": true
   },
   "outputs": [
    {
     "name": "stdout",
     "output_type": "stream",
     "text": [
      "Train on 11610 samples, validate on 3870 samples\n",
      "Epoch 1/100\n",
      "11610/11610==============================] - 1s 48us/sample - loss: 2.0733 - acc: 0.0023 - val_loss: 1.6607 - val_acc: 0.0044\n",
      "Epoch 2/100\n",
      "11610/11610==============================] - 0s 38us/sample - loss: 0.7719 - acc: 0.0029 - val_loss: 0.6980 - val_acc: 0.0044\n",
      "Epoch 3/100\n",
      "11610/11610==============================] - 1s 44us/sample - loss: 0.7070 - acc: 0.0029 - val_loss: 0.6523 - val_acc: 0.0044\n",
      "Epoch 4/100\n",
      "11610/11610==============================] - 0s 36us/sample - loss: 0.6688 - acc: 0.0029 - val_loss: 0.6655 - val_acc: 0.0044\n",
      "Epoch 5/100\n",
      "11610/11610==============================] - 0s 39us/sample - loss: 0.6370 - acc: 0.0029 - val_loss: 0.5937 - val_acc: 0.0044\n",
      "Epoch 6/100\n",
      "11610/11610==============================] - 0s 34us/sample - loss: 0.6100 - acc: 0.0029 - val_loss: 0.5704 - val_acc: 0.0044\n",
      "Epoch 7/100\n",
      "11610/11610==============================] - 0s 38us/sample - loss: 0.5859 - acc: 0.0029 - val_loss: 0.6106 - val_acc: 0.0044\n",
      "Epoch 8/100\n",
      "11610/11610==============================] - 0s 39us/sample - loss: 0.5637 - acc: 0.0029 - val_loss: 0.5529 - val_acc: 0.0044\n",
      "Epoch 9/100\n",
      "11610/11610==============================] - 0s 39us/sample - loss: 0.5451 - acc: 0.0029 - val_loss: 0.5245 - val_acc: 0.0044\n",
      "Epoch 10/100\n",
      "11610/11610==============================] - 0s 38us/sample - loss: 0.5272 - acc: 0.0029 - val_loss: 0.4957 - val_acc: 0.0044\n",
      "Epoch 11/100\n",
      "11610/11610==============================] - 0s 41us/sample - loss: 0.5111 - acc: 0.0029 - val_loss: 0.5483 - val_acc: 0.0044\n",
      "Epoch 12/100\n",
      "11610/11610==============================] - 1s 45us/sample - loss: 0.4986 - acc: 0.0029 - val_loss: 0.4929 - val_acc: 0.0044\n",
      "Epoch 13/100\n",
      "11610/11610==============================] - 1s 46us/sample - loss: 0.4862 - acc: 0.0029 - val_loss: 0.4594 - val_acc: 0.0044\n",
      "Epoch 14/100\n",
      "11610/11610==============================] - 0s 39us/sample - loss: 0.4753 - acc: 0.0029 - val_loss: 0.4515 - val_acc: 0.0044\n",
      "Epoch 15/100\n",
      "11610/11610==============================] - 0s 42us/sample - loss: 0.4658 - acc: 0.0029 - val_loss: 0.4412 - val_acc: 0.0044\n",
      "Epoch 16/100\n",
      "11610/11610==============================] - 1s 45us/sample - loss: 0.4574 - acc: 0.0029 - val_loss: 0.4323 - val_acc: 0.0044\n",
      "Epoch 17/100\n",
      "11610/11610==============================] - 0s 37us/sample - loss: 0.4508 - acc: 0.0029 - val_loss: 0.4241 - val_acc: 0.0044\n",
      "Epoch 18/100\n",
      "11610/11610==============================] - 0s 37us/sample - loss: 0.4450 - acc: 0.0028 - val_loss: 0.4185 - val_acc: 0.0044\n",
      "Epoch 19/100\n",
      "11610/11610==============================] - 0s 37us/sample - loss: 0.4398 - acc: 0.0028 - val_loss: 0.4173 - val_acc: 0.0044\n",
      "Epoch 20/100\n",
      "11610/11610==============================] - 0s 37us/sample - loss: 0.4353 - acc: 0.0028 - val_loss: 0.4144 - val_acc: 0.0044\n",
      "Epoch 21/100\n",
      "11610/11610==============================] - 0s 36us/sample - loss: 0.4316 - acc: 0.0028 - val_loss: 0.4094 - val_acc: 0.0044\n",
      "Epoch 22/100\n",
      "11610/11610==============================] - 0s 36us/sample - loss: 0.4282 - acc: 0.0028 - val_loss: 0.4146 - val_acc: 0.0044\n",
      "Epoch 23/100\n",
      "11610/11610==============================] - 0s 40us/sample - loss: 0.4250 - acc: 0.0028 - val_loss: 0.4005 - val_acc: 0.0044\n",
      "Epoch 24/100\n",
      "11610/11610==============================] - 0s 41us/sample - loss: 0.4224 - acc: 0.0028 - val_loss: 0.4083 - val_acc: 0.0044\n",
      "Epoch 25/100\n",
      "11610/11610==============================] - 0s 40us/sample - loss: 0.4197 - acc: 0.0028 - val_loss: 0.4062 - val_acc: 0.0044\n",
      "Epoch 26/100\n",
      "11610/11610==============================] - 0s 42us/sample - loss: 0.4176 - acc: 0.0028 - val_loss: 0.3938 - val_acc: 0.0044\n",
      "Epoch 27/100\n",
      "11610/11610==============================] - 1s 45us/sample - loss: 0.4156 - acc: 0.0028 - val_loss: 0.3930 - val_acc: 0.0044\n",
      "Epoch 28/100\n",
      "11610/11610==============================] - 0s 40us/sample - loss: 0.4139 - acc: 0.0028 - val_loss: 0.3906 - val_acc: 0.0044\n",
      "Epoch 29/100\n",
      "11610/11610==============================] - 0s 40us/sample - loss: 0.4121 - acc: 0.0028 - val_loss: 0.4012 - val_acc: 0.0044\n",
      "Epoch 30/100\n",
      "11610/11610==============================] - 0s 40us/sample - loss: 0.4106 - acc: 0.0028 - val_loss: 0.3954 - val_acc: 0.0044\n",
      "Epoch 31/100\n",
      "11610/11610==============================] - 0s 41us/sample - loss: 0.4090 - acc: 0.0028 - val_loss: 0.4050 - val_acc: 0.0044\n",
      "Epoch 32/100\n",
      "11610/11610==============================] - 0s 43us/sample - loss: 0.4079 - acc: 0.0028 - val_loss: 0.3876 - val_acc: 0.0044\n",
      "Epoch 33/100\n",
      "11610/11610==============================] - 1s 44us/sample - loss: 0.4064 - acc: 0.0028 - val_loss: 0.3854 - val_acc: 0.0044\n",
      "Epoch 34/100\n",
      "11610/11610==============================] - 1s 44us/sample - loss: 0.4054 - acc: 0.0028 - val_loss: 0.3866 - val_acc: 0.0044\n",
      "Epoch 35/100\n",
      "11610/11610==============================] - 0s 42us/sample - loss: 0.4041 - acc: 0.0028 - val_loss: 0.4226 - val_acc: 0.0044\n",
      "Epoch 36/100\n",
      "11610/11610==============================] - 0s 41us/sample - loss: 0.4034 - acc: 0.0028 - val_loss: 0.3790 - val_acc: 0.0044\n",
      "Epoch 37/100\n",
      "11610/11610==============================] - 0s 40us/sample - loss: 0.4023 - acc: 0.0028 - val_loss: 0.3884 - val_acc: 0.0044\n",
      "Epoch 38/100\n",
      "11610/11610==============================] - 0s 40us/sample - loss: 0.4012 - acc: 0.0028 - val_loss: 0.4116 - val_acc: 0.0044\n",
      "Epoch 39/100\n",
      "11610/11610==============================] - 1s 44us/sample - loss: 0.4004 - acc: 0.0028 - val_loss: 0.3944 - val_acc: 0.0044\n",
      "Epoch 40/100\n",
      "11610/11610==============================] - 1s 43us/sample - loss: 0.3994 - acc: 0.0028 - val_loss: 0.3757 - val_acc: 0.0044\n",
      "Epoch 41/100\n",
      "11610/11610==============================] - 0s 39us/sample - loss: 0.3986 - acc: 0.0028 - val_loss: 0.4187 - val_acc: 0.0044\n",
      "Epoch 42/100\n",
      "11610/11610==============================] - 0s 40us/sample - loss: 0.3980 - acc: 0.0028 - val_loss: 0.3737 - val_acc: 0.0044\n",
      "Epoch 43/100\n",
      "11610/11610==============================] - 0s 40us/sample - loss: 0.3970 - acc: 0.0028 - val_loss: 0.4078 - val_acc: 0.0044\n",
      "Epoch 44/100\n",
      "11610/11610==============================] - 0s 39us/sample - loss: 0.3964 - acc: 0.0028 - val_loss: 0.3720 - val_acc: 0.0044\n",
      "Epoch 45/100\n",
      "11610/11610==============================] - 0s 40us/sample - loss: 0.3956 - acc: 0.0028 - val_loss: 0.3805 - val_acc: 0.0044\n",
      "Epoch 46/100\n",
      "11610/11610==============================] - 0s 39us/sample - loss: 0.3950 - acc: 0.0028 - val_loss: 0.3733 - val_acc: 0.0044\n",
      "Epoch 47/100\n",
      "11610/11610==============================] - 1s 46us/sample - loss: 0.3943 - acc: 0.0028 - val_loss: 0.3744 - val_acc: 0.0044\n",
      "Epoch 48/100\n",
      "11610/11610==============================] - 0s 39us/sample - loss: 0.3936 - acc: 0.0028 - val_loss: 0.4216 - val_acc: 0.0044\n",
      "Epoch 49/100\n",
      "11610/11610==============================] - 0s 27us/sample - loss: 0.3932 - acc: 0.0028 - val_loss: 0.3713 - val_acc: 0.0044\n",
      "Epoch 50/100\n",
      "11610/11610==============================] - 0s 36us/sample - loss: 0.3924 - acc: 0.0028 - val_loss: 0.4014 - val_acc: 0.0044\n",
      "Epoch 51/100\n",
      "11610/11610==============================] - 0s 31us/sample - loss: 0.3917 - acc: 0.0028 - val_loss: 0.4081 - val_acc: 0.0044\n",
      "Epoch 52/100\n",
      "11610/11610==============================] - 0s 34us/sample - loss: 0.3913 - acc: 0.0028 - val_loss: 0.3763 - val_acc: 0.0044\n",
      "Epoch 53/100\n",
      "11610/11610==============================] - 0s 31us/sample - loss: 0.3906 - acc: 0.0028 - val_loss: 0.3692 - val_acc: 0.0044\n",
      "Epoch 54/100\n",
      "11610/11610==============================] - 0s 32us/sample - loss: 0.3900 - acc: 0.0028 - val_loss: 0.3670 - val_acc: 0.0044\n",
      "Epoch 55/100\n",
      "11610/11610==============================] - 0s 30us/sample - loss: 0.3895 - acc: 0.0028 - val_loss: 0.4209 - val_acc: 0.0044\n",
      "Epoch 56/100\n",
      "11610/11610==============================] - 0s 27us/sample - loss: 0.3893 - acc: 0.0028 - val_loss: 0.3771 - val_acc: 0.0044\n",
      "Epoch 57/100\n",
      "11610/11610==============================] - 0s 25us/sample - loss: 0.3886 - acc: 0.0028 - val_loss: 0.3653 - val_acc: 0.0044\n",
      "Epoch 58/100\n",
      "11610/11610==============================] - 0s 25us/sample - loss: 0.3881 - acc: 0.0028 - val_loss: 0.3945 - val_acc: 0.0044\n",
      "Epoch 59/100\n"
     ]
    },
    {
     "name": "stdout",
     "output_type": "stream",
     "text": [
      "11610/11610==============================] - 0s 25us/sample - loss: 0.3877 - acc: 0.0028 - val_loss: 0.3634 - val_acc: 0.0044\n",
      "Epoch 60/100\n",
      "11610/11610==============================] - 0s 25us/sample - loss: 0.3871 - acc: 0.0028 - val_loss: 0.3731 - val_acc: 0.0044\n",
      "Epoch 61/100\n",
      "11610/11610==============================] - 0s 28us/sample - loss: 0.3866 - acc: 0.0028 - val_loss: 0.3693 - val_acc: 0.0044\n",
      "Epoch 62/100\n",
      "11610/11610==============================] - 0s 26us/sample - loss: 0.3860 - acc: 0.0028 - val_loss: 0.4206 - val_acc: 0.0044\n",
      "Epoch 63/100\n",
      "11610/11610==============================] - 0s 27us/sample - loss: 0.3857 - acc: 0.0028 - val_loss: 0.3907 - val_acc: 0.0044\n",
      "Epoch 64/100\n",
      "11610/11610==============================] - 0s 25us/sample - loss: 0.3852 - acc: 0.0028 - val_loss: 0.4028 - val_acc: 0.0044\n",
      "5160/5160==============================] - 0s 17us/sample - loss: 0.3822 - acc: 0.0021\n"
     ]
    },
    {
     "data": {
      "text/plain": [
       "[0.38219906664633935, 0.002131783]"
      ]
     },
     "execution_count": 70,
     "metadata": {},
     "output_type": "execute_result"
    }
   ],
   "source": [
    "history = model.fit(X_train_scaled, y_train, epochs=100, validation_data=(X_valid_scaled, y_valid),\n",
    "                   callbacks=[\n",
    "                       keras.callbacks.EarlyStopping(patience=5)\n",
    "                   ])\n",
    "\n",
    "model.evaluate(X_test_scaled, y_test)"
   ]
  },
  {
   "cell_type": "code",
   "execution_count": 71,
   "metadata": {},
   "outputs": [
    {
     "name": "stdout",
     "output_type": "stream",
     "text": [
      "{'acc': [0.0023255814,\n",
      "         0.0029285098,\n",
      "         0.0029285098,\n",
      "         0.0029285098,\n",
      "         0.0029285098,\n",
      "         0.0029285098,\n",
      "         0.0029285098,\n",
      "         0.0029285098,\n",
      "         0.0029285098,\n",
      "         0.0029285098,\n",
      "         0.0029285098,\n",
      "         0.0029285098,\n",
      "         0.0029285098,\n",
      "         0.0029285098,\n",
      "         0.0029285098,\n",
      "         0.0029285098,\n",
      "         0.0029285098,\n",
      "         0.0028423772,\n",
      "         0.0028423772,\n",
      "         0.0028423772,\n",
      "         0.0028423772,\n",
      "         0.0028423772,\n",
      "         0.0028423772,\n",
      "         0.0028423772,\n",
      "         0.0028423772,\n",
      "         0.0028423772,\n",
      "         0.0028423772,\n",
      "         0.0028423772,\n",
      "         0.0028423772,\n",
      "         0.0028423772,\n",
      "         0.0028423772,\n",
      "         0.0028423772,\n",
      "         0.0028423772,\n",
      "         0.0028423772,\n",
      "         0.0028423772,\n",
      "         0.0028423772,\n",
      "         0.0028423772,\n",
      "         0.0028423772,\n",
      "         0.0028423772,\n",
      "         0.0028423772,\n",
      "         0.0028423772,\n",
      "         0.0028423772,\n",
      "         0.0028423772,\n",
      "         0.0028423772,\n",
      "         0.0028423772,\n",
      "         0.0028423772,\n",
      "         0.0028423772,\n",
      "         0.0028423772,\n",
      "         0.0028423772,\n",
      "         0.0028423772,\n",
      "         0.0028423772,\n",
      "         0.0028423772,\n",
      "         0.0028423772,\n",
      "         0.0028423772,\n",
      "         0.0028423772,\n",
      "         0.0028423772,\n",
      "         0.0028423772,\n",
      "         0.0028423772,\n",
      "         0.0028423772,\n",
      "         0.0028423772,\n",
      "         0.0028423772,\n",
      "         0.0028423772,\n",
      "         0.0028423772,\n",
      "         0.0028423772],\n",
      " 'loss': [2.0732592611657865,\n",
      "          0.7719293326575832,\n",
      "          0.7069681982558724,\n",
      "          0.6688358237885074,\n",
      "          0.6370185622565198,\n",
      "          0.6099530394276497,\n",
      "          0.5858883197917495,\n",
      "          0.5636935218770786,\n",
      "          0.5451014451175594,\n",
      "          0.5271759131876792,\n",
      "          0.5110505538598717,\n",
      "          0.4985564690792386,\n",
      "          0.48616284111211466,\n",
      "          0.4752536051803165,\n",
      "          0.46577576859874215,\n",
      "          0.4574222175957929,\n",
      "          0.45084665108096694,\n",
      "          0.44500336935559187,\n",
      "          0.43979846782257187,\n",
      "          0.4352803511110284,\n",
      "          0.4315718041936659,\n",
      "          0.42817256944534804,\n",
      "          0.4250085028361699,\n",
      "          0.4223535858896865,\n",
      "          0.4196919006124639,\n",
      "          0.41761849294131836,\n",
      "          0.4155967408167094,\n",
      "          0.41390258116418177,\n",
      "          0.41214523024850624,\n",
      "          0.4106086530323998,\n",
      "          0.408997984983919,\n",
      "          0.4079006460157578,\n",
      "          0.4063503234988138,\n",
      "          0.4053726912776937,\n",
      "          0.40408227102803734,\n",
      "          0.403424346662615,\n",
      "          0.4022976234183036,\n",
      "          0.4011903170416008,\n",
      "          0.40042934842812,\n",
      "          0.3994479380631426,\n",
      "          0.3986054119110929,\n",
      "          0.3980050988591611,\n",
      "          0.3970270516901156,\n",
      "          0.3964448147349887,\n",
      "          0.39561185744895083,\n",
      "          0.3950182440669038,\n",
      "          0.3942733668079672,\n",
      "          0.39355725547961384,\n",
      "          0.39315063100144537,\n",
      "          0.39240713135935334,\n",
      "          0.3917348009722691,\n",
      "          0.3912956263462497,\n",
      "          0.39059694783632143,\n",
      "          0.3899997922595876,\n",
      "          0.3894837665414112,\n",
      "          0.38928277780535303,\n",
      "          0.38858197302165265,\n",
      "          0.388127810671656,\n",
      "          0.3876728763670679,\n",
      "          0.3871406289342146,\n",
      "          0.3866360704463479,\n",
      "          0.38603136161603774,\n",
      "          0.38574269728913174,\n",
      "          0.3852058067442938],\n",
      " 'val_acc': [0.004392765,\n",
      "             0.004392765,\n",
      "             0.004392765,\n",
      "             0.004392765,\n",
      "             0.004392765,\n",
      "             0.004392765,\n",
      "             0.004392765,\n",
      "             0.004392765,\n",
      "             0.004392765,\n",
      "             0.004392765,\n",
      "             0.004392765,\n",
      "             0.004392765,\n",
      "             0.004392765,\n",
      "             0.004392765,\n",
      "             0.004392765,\n",
      "             0.004392765,\n",
      "             0.004392765,\n",
      "             0.004392765,\n",
      "             0.004392765,\n",
      "             0.004392765,\n",
      "             0.004392765,\n",
      "             0.004392765,\n",
      "             0.004392765,\n",
      "             0.004392765,\n",
      "             0.004392765,\n",
      "             0.004392765,\n",
      "             0.004392765,\n",
      "             0.004392765,\n",
      "             0.004392765,\n",
      "             0.004392765,\n",
      "             0.004392765,\n",
      "             0.004392765,\n",
      "             0.004392765,\n",
      "             0.004392765,\n",
      "             0.004392765,\n",
      "             0.004392765,\n",
      "             0.004392765,\n",
      "             0.004392765,\n",
      "             0.004392765,\n",
      "             0.004392765,\n",
      "             0.004392765,\n",
      "             0.004392765,\n",
      "             0.004392765,\n",
      "             0.004392765,\n",
      "             0.004392765,\n",
      "             0.004392765,\n",
      "             0.004392765,\n",
      "             0.004392765,\n",
      "             0.004392765,\n",
      "             0.004392765,\n",
      "             0.004392765,\n",
      "             0.004392765,\n",
      "             0.004392765,\n",
      "             0.004392765,\n",
      "             0.004392765,\n",
      "             0.004392765,\n",
      "             0.004392765,\n",
      "             0.004392765,\n",
      "             0.004392765,\n",
      "             0.004392765,\n",
      "             0.004392765,\n",
      "             0.004392765,\n",
      "             0.004392765,\n",
      "             0.004392765],\n",
      " 'val_loss': [1.6606597149402904,\n",
      "              0.6980199671838943,\n",
      "              0.6522552732657401,\n",
      "              0.6654809451380441,\n",
      "              0.5937224065610605,\n",
      "              0.5703978591803125,\n",
      "              0.6105870286931672,\n",
      "              0.5529291770870988,\n",
      "              0.5245132913731173,\n",
      "              0.49566471629056513,\n",
      "              0.5483369108626392,\n",
      "              0.4929343442276159,\n",
      "              0.459394672736333,\n",
      "              0.45152757133932386,\n",
      "              0.4412071793886426,\n",
      "              0.43227734053627775,\n",
      "              0.42409912019737006,\n",
      "              0.41845275976091084,\n",
      "              0.417298524000848,\n",
      "              0.4144163567659467,\n",
      "              0.4094488976383702,\n",
      "              0.41462772527098346,\n",
      "              0.4004617782526238,\n",
      "              0.4083098789672211,\n",
      "              0.4061628439013656,\n",
      "              0.39376205894374106,\n",
      "              0.3930371056847486,\n",
      "              0.39062751418398334,\n",
      "              0.401201412104821,\n",
      "              0.39536019138587536,\n",
      "              0.4049515328974071,\n",
      "              0.38760739734314514,\n",
      "              0.38535182174170046,\n",
      "              0.3865940291136118,\n",
      "              0.42261029881562373,\n",
      "              0.37901963556151674,\n",
      "              0.38840128758618997,\n",
      "              0.4115540885802079,\n",
      "              0.39436307170594387,\n",
      "              0.3756933310851262,\n",
      "              0.41866092062735744,\n",
      "              0.3736597671373254,\n",
      "              0.40784198898985713,\n",
      "              0.3720204219491599,\n",
      "              0.38045744276786037,\n",
      "              0.37329628864924114,\n",
      "              0.37443445532820946,\n",
      "              0.42155933390908157,\n",
      "              0.37125417299048846,\n",
      "              0.40141060395450245,\n",
      "              0.40810192553879987,\n",
      "              0.37632363030460764,\n",
      "              0.3691866234137414,\n",
      "              0.3669907362424126,\n",
      "              0.4209211906105357,\n",
      "              0.3771346191642204,\n",
      "              0.36526023403618685,\n",
      "              0.39447097761378425,\n",
      "              0.363448787805954,\n",
      "              0.3731228034933716,\n",
      "              0.36932864021269235,\n",
      "              0.42062755248651335,\n",
      "              0.3906983496221769,\n",
      "              0.4028199526690697]}\n"
     ]
    }
   ],
   "source": [
    "pprint(history.history)"
   ]
  },
  {
   "cell_type": "markdown",
   "metadata": {},
   "source": [
    "4) If you want your code to be portable to other Python implementations of the Keras API, you should use the operations in `keras.backend` rather than TensorFlow operations directly. This package contains thin wrappers around the backend's operations (for example, `keras.backend.square()` simply calls `tf.square()`). Try reimplementing the `my_mse()` function this way and use it to train and evaluate your model again. **Tip**: people frequently define `K = keras.backend` to make their code more readable."
   ]
  },
  {
   "cell_type": "code",
   "execution_count": 75,
   "metadata": {},
   "outputs": [],
   "source": [
    "K = keras.backend"
   ]
  },
  {
   "cell_type": "code",
   "execution_count": 80,
   "metadata": {},
   "outputs": [],
   "source": [
    "def my_mse(y_true, y_pred):\n",
    "    return K.mean(K.square(y_true - y_pred))"
   ]
  },
  {
   "cell_type": "code",
   "execution_count": 81,
   "metadata": {},
   "outputs": [
    {
     "name": "stdout",
     "output_type": "stream",
     "text": [
      "tf.Tensor(0.0, shape=(), dtype=float32)\n",
      "tf.Tensor(0.0, shape=(), dtype=float32)\n",
      "False\n",
      "tf.Tensor(True, shape=(), dtype=bool)\n"
     ]
    }
   ],
   "source": [
    "#assert my_mse(tf.constant([[1., 2., 3.], [4., 5., 6.]]), tf.constant([[1., 2., 3.], [4., 5., 6.]])) == 0.0\n",
    "\n",
    "print(my_mse(tf.constant([[1., 2., 3.], [4., 5., 6.]]), tf.constant([[1., 2., 3.], [4., 5., 6.]])))\n",
    "print(tf.constant(0.0))\n",
    "print(my_mse(tf.constant([[1., 2., 3.], [4., 5., 6.]]), tf.constant([[1., 2., 3.], [4., 5., 6.]])) == \n",
    "      tf.constant(0.0))\n",
    "print(tf.equal(x=my_mse(tf.constant([[1., 2., 3.], [4., 5., 6.]]), tf.constant([[1., 2., 3.], [4., 5., 6.]])),\n",
    "        y=tf.constant(0.0)))\n",
    "\n",
    "tf.debugging.assert_equal(\n",
    "    x=my_mse(tf.constant([[1., 2., 3.], [4., 5., 6.]]), tf.constant([[1., 2., 3.], [4., 5., 6.]])),\n",
    "    y=tf.constant(0.0))\n",
    "\n",
    "tf.debugging.assert_equal(\n",
    "    x=my_mse(tf.constant([[1., 2., 3.], [4., 5., 6.]]), tf.constant([[1., 2., 3.5], [4., 5., 5.5]])),\n",
    "    y=tf.constant(0.083333336))"
   ]
  },
  {
   "cell_type": "markdown",
   "metadata": {},
   "source": [
    "![Exercise solution](https://camo.githubusercontent.com/250388fde3fac9135ead9471733ee28e049f7a37/68747470733a2f2f75706c6f61642e77696b696d656469612e6f72672f77696b6970656469612f636f6d6d6f6e732f302f30362f46696c6f735f736567756e646f5f6c6f676f5f253238666c69707065642532392e6a7067)"
   ]
  },
  {
   "cell_type": "markdown",
   "metadata": {},
   "source": [
    "1) Create an `my_mse()` function with two arguments: the true labels `y_true` and the model predictions `y_pred`. Make it return the mean squared error using TensorFlow operations. Note that you could write your own custom metrics in exactly the same way. **Tip**: recall that the MSE is the mean of the squares of prediction errors, which are the differences between the predictions and the labels, so you will need to use `tf.reduce_mean()` and `tf.square()`."
   ]
  },
  {
   "cell_type": "code",
   "execution_count": null,
   "metadata": {},
   "outputs": [],
   "source": [
    "def my_mse(y_true, y_pred):\n",
    "    return tf.reduce_mean(tf.square(y_pred - y_true))"
   ]
  },
  {
   "cell_type": "markdown",
   "metadata": {},
   "source": [
    "2) Compile your model, passing it your custom loss function, then train it and evaluate it. **Tip**: don't forget to use the scaled sets."
   ]
  },
  {
   "cell_type": "code",
   "execution_count": null,
   "metadata": {},
   "outputs": [],
   "source": [
    "model = keras.models.Sequential([\n",
    "    keras.layers.Dense(30, activation=\"relu\", input_shape=X_train.shape[1:]),\n",
    "    keras.layers.Dense(1),\n",
    "])"
   ]
  },
  {
   "cell_type": "code",
   "execution_count": null,
   "metadata": {},
   "outputs": [],
   "source": [
    "model.compile(loss=my_mse, optimizer=\"sgd\")"
   ]
  },
  {
   "cell_type": "code",
   "execution_count": null,
   "metadata": {},
   "outputs": [],
   "source": [
    "model.fit(X_train_scaled, y_train, epochs=10,\n",
    "          validation_data=(X_valid_scaled, y_valid))"
   ]
  },
  {
   "cell_type": "code",
   "execution_count": null,
   "metadata": {},
   "outputs": [],
   "source": [
    "model.evaluate(X_test_scaled, y_test)"
   ]
  },
  {
   "cell_type": "markdown",
   "metadata": {},
   "source": [
    "3) Try building and compiling the model again, this time adding `\"mse\"` (or equivalently `\"mean_squared_error\"` or `keras.losses.mean_squared_error`) to the list of additional metrics, then train the model and make sure the `my_mse` is equal to the standard `mse`."
   ]
  },
  {
   "cell_type": "code",
   "execution_count": null,
   "metadata": {},
   "outputs": [],
   "source": [
    "model = keras.models.Sequential([\n",
    "    keras.layers.Dense(30, activation=\"relu\", input_shape=X_train.shape[1:]),\n",
    "    keras.layers.Dense(1),\n",
    "])\n",
    "model.compile(loss=my_mse, optimizer=\"sgd\", metrics=[\"mean_squared_error\"])\n",
    "model.fit(X_train_scaled, y_train, epochs=10,\n",
    "          validation_data=(X_valid_scaled, y_valid))\n",
    "model.evaluate(X_test_scaled, y_test)"
   ]
  },
  {
   "cell_type": "markdown",
   "metadata": {},
   "source": [
    "4) If you want your code to be portable to other Python implementations of the Keras API, you should use the operations in `keras.backend` rather than TensorFlow operations directly. This package contains thin wrappers around the backend's operations (for example, `keras.backend.square()` simply calls `tf.square()`). Try reimplementing the `my_mse()` function this way and use it to train and evaluate your model again. **Tip**: people frequently define `K = keras.backend` to make their code more readable."
   ]
  },
  {
   "cell_type": "code",
   "execution_count": null,
   "metadata": {},
   "outputs": [],
   "source": [
    "def my_portable_mse(y_true, y_pred):\n",
    "    K = keras.backend\n",
    "    return K.mean(K.square(y_pred - y_true))"
   ]
  },
  {
   "cell_type": "code",
   "execution_count": null,
   "metadata": {
    "scrolled": true
   },
   "outputs": [],
   "source": [
    "model = keras.models.Sequential([\n",
    "    keras.layers.Dense(30, activation=\"relu\", input_shape=X_train.shape[1:]),\n",
    "    keras.layers.Dense(1),\n",
    "])\n",
    "model.compile(loss=my_portable_mse, optimizer=\"sgd\", metrics=[\"mean_squared_error\"])\n",
    "model.fit(X_train_scaled, y_train, epochs=10,\n",
    "          validation_data=(X_valid_scaled, y_valid))\n",
    "model.evaluate(X_test_scaled, y_test)"
   ]
  },
  {
   "cell_type": "markdown",
   "metadata": {},
   "source": [
    "![Exercise](https://c1.staticflickr.com/9/8101/8553474140_c50cf08708_b.jpg)"
   ]
  },
  {
   "cell_type": "markdown",
   "metadata": {},
   "source": [
    "## Exercise 2 – Custom layer"
   ]
  },
  {
   "cell_type": "markdown",
   "metadata": {},
   "source": [
    "1) Some layers have no weights, such as `keras.layers.Flatten` or `keras.layers.ReLU`. If you want to create a custom layer without any weights, the simplest option is to create a `keras.layers.Lambda` layer and pass it the function to perform. For example, try creating a custom layer that applies the softplus function (log(exp(X) + 1), and try calling this layer like a regular function. **Tip**: you can use `tf.math.softplus()` rather than computing the log and the exponential manually."
   ]
  },
  {
   "cell_type": "code",
   "execution_count": 82,
   "metadata": {},
   "outputs": [],
   "source": [
    "? keras.layers.Lambda"
   ]
  },
  {
   "cell_type": "code",
   "execution_count": 89,
   "metadata": {},
   "outputs": [],
   "source": [
    "my_custom_layer = keras.layers.Lambda(function=lambda X: tf.math.softplus(X))"
   ]
  },
  {
   "cell_type": "code",
   "execution_count": 90,
   "metadata": {},
   "outputs": [
    {
     "data": {
      "text/plain": [
       "<tensorflow.python.keras.layers.core.Lambda at 0x13ab5c1d0>"
      ]
     },
     "execution_count": 90,
     "metadata": {},
     "output_type": "execute_result"
    }
   ],
   "source": [
    "my_custom_layer"
   ]
  },
  {
   "cell_type": "markdown",
   "metadata": {},
   "source": [
    "2) Create a regression model like in exercise 1, but add your softplus layer at the top (i.e., after the existing 1-unit dense layer). This can be useful to ensure that your model never predicts negative values."
   ]
  },
  {
   "cell_type": "code",
   "execution_count": 104,
   "metadata": {},
   "outputs": [],
   "source": [
    "def build_model():\n",
    "    return keras.models.Sequential([\n",
    "        keras.layers.Dense(30, activation=\"relu\", input_shape=X_train_scaled.shape[1:], name=\"dense_30\"),\n",
    "        keras.layers.Dense(1, name=\"dense_1\"),\n",
    "        keras.layers.Lambda(function=tf.math.softplus, name=\"softplus_layer\")\n",
    "    ])"
   ]
  },
  {
   "cell_type": "code",
   "execution_count": 105,
   "metadata": {},
   "outputs": [
    {
     "name": "stdout",
     "output_type": "stream",
     "text": [
      "Model: \"sequential_10\"\n",
      "_________________________________________________________________\n",
      "Layer (type)                 Output Shape              Param #   \n",
      "=================================================================\n",
      "dense_30 (Dense)             (None, 30)                270       \n",
      "_________________________________________________________________\n",
      "dense_1 (Dense)              (None, 1)                 31        \n",
      "_________________________________________________________________\n",
      "softplus_layer (Lambda)      (None, 1)                 0         \n",
      "=================================================================\n",
      "Total params: 301\n",
      "Trainable params: 301\n",
      "Non-trainable params: 0\n",
      "_________________________________________________________________\n"
     ]
    }
   ],
   "source": [
    "model = build_model()\n",
    "initial_weights = model.get_weights()\n",
    "model.summary()"
   ]
  },
  {
   "cell_type": "code",
   "execution_count": 106,
   "metadata": {},
   "outputs": [],
   "source": [
    "model.compile(loss=my_mse, optimizer='sgd', metrics=['accuracy'])"
   ]
  },
  {
   "cell_type": "code",
   "execution_count": 107,
   "metadata": {
    "scrolled": true
   },
   "outputs": [
    {
     "name": "stdout",
     "output_type": "stream",
     "text": [
      "Train on 11610 samples, validate on 3870 samples\n",
      "Epoch 1/100\n",
      "11610/11610==============================] - 1s 45us/sample - loss: 1.9873 - acc: 0.0028 - val_loss: 3.0341 - val_acc: 0.0044\n",
      "Epoch 2/100\n",
      "11610/11610==============================] - 0s 34us/sample - loss: 0.9619 - acc: 0.0029 - val_loss: 0.7737 - val_acc: 0.0044\n",
      "Epoch 3/100\n",
      "11610/11610==============================] - 0s 37us/sample - loss: 0.7866 - acc: 0.0029 - val_loss: 0.6894 - val_acc: 0.0044\n",
      "Epoch 4/100\n",
      "11610/11610==============================] - 0s 38us/sample - loss: 0.7193 - acc: 0.0029 - val_loss: 0.6422 - val_acc: 0.0044\n",
      "Epoch 5/100\n",
      "11610/11610==============================] - 0s 37us/sample - loss: 0.6757 - acc: 0.0029 - val_loss: 0.6086 - val_acc: 0.0044\n",
      "Epoch 6/100\n",
      "11610/11610==============================] - 0s 35us/sample - loss: 0.6424 - acc: 0.0029 - val_loss: 0.5819 - val_acc: 0.0044\n",
      "Epoch 7/100\n",
      "11610/11610==============================] - 0s 34us/sample - loss: 0.6151 - acc: 0.0029 - val_loss: 0.5583 - val_acc: 0.0044\n",
      "Epoch 8/100\n",
      "11610/11610==============================] - 0s 35us/sample - loss: 0.5916 - acc: 0.0029 - val_loss: 0.5379 - val_acc: 0.0044\n",
      "Epoch 9/100\n",
      "11610/11610==============================] - 0s 41us/sample - loss: 0.5708 - acc: 0.0029 - val_loss: 0.5198 - val_acc: 0.0044\n",
      "Epoch 10/100\n",
      "11610/11610==============================] - 0s 38us/sample - loss: 0.5529 - acc: 0.0029 - val_loss: 0.5045 - val_acc: 0.0044\n",
      "Epoch 11/100\n",
      "11610/11610==============================] - 0s 37us/sample - loss: 0.5372 - acc: 0.0029 - val_loss: 0.4906 - val_acc: 0.0044\n",
      "Epoch 12/100\n",
      "11610/11610==============================] - 0s 35us/sample - loss: 0.5234 - acc: 0.0029 - val_loss: 0.4785 - val_acc: 0.0044\n",
      "Epoch 13/100\n",
      "11610/11610==============================] - 0s 36us/sample - loss: 0.5113 - acc: 0.0029 - val_loss: 0.4677 - val_acc: 0.0044\n",
      "Epoch 14/100\n",
      "11610/11610==============================] - 0s 34us/sample - loss: 0.5007 - acc: 0.0029 - val_loss: 0.4581 - val_acc: 0.0044\n",
      "Epoch 15/100\n",
      "11610/11610==============================] - 0s 34us/sample - loss: 0.4911 - acc: 0.0029 - val_loss: 0.4497 - val_acc: 0.0044\n",
      "Epoch 16/100\n",
      "11610/11610==============================] - 0s 35us/sample - loss: 0.4828 - acc: 0.0029 - val_loss: 0.4422 - val_acc: 0.0044\n",
      "Epoch 17/100\n",
      "11610/11610==============================] - 0s 34us/sample - loss: 0.4752 - acc: 0.0029 - val_loss: 0.4354 - val_acc: 0.0044\n",
      "Epoch 18/100\n",
      "11610/11610==============================] - 0s 32us/sample - loss: 0.4685 - acc: 0.0029 - val_loss: 0.4291 - val_acc: 0.0044\n",
      "Epoch 19/100\n",
      "11610/11610==============================] - 0s 32us/sample - loss: 0.4625 - acc: 0.0029 - val_loss: 0.4237 - val_acc: 0.0044\n",
      "Epoch 20/100\n",
      "11610/11610==============================] - 0s 34us/sample - loss: 0.4570 - acc: 0.0029 - val_loss: 0.4189 - val_acc: 0.0044\n",
      "Epoch 21/100\n",
      "11610/11610==============================] - 0s 34us/sample - loss: 0.4521 - acc: 0.0029 - val_loss: 0.4145 - val_acc: 0.0044\n",
      "Epoch 22/100\n",
      "11610/11610==============================] - 0s 35us/sample - loss: 0.4478 - acc: 0.0029 - val_loss: 0.4105 - val_acc: 0.0044\n",
      "Epoch 23/100\n",
      "11610/11610==============================] - 0s 34us/sample - loss: 0.4439 - acc: 0.0029 - val_loss: 0.4072 - val_acc: 0.0044\n",
      "Epoch 24/100\n",
      "11610/11610==============================] - 0s 34us/sample - loss: 0.4401 - acc: 0.0029 - val_loss: 0.4043 - val_acc: 0.0044\n",
      "Epoch 25/100\n",
      "11610/11610==============================] - 0s 34us/sample - loss: 0.4370 - acc: 0.0029 - val_loss: 0.4013 - val_acc: 0.0044\n",
      "Epoch 26/100\n",
      "11610/11610==============================] - 0s 33us/sample - loss: 0.4338 - acc: 0.0029 - val_loss: 0.3987 - val_acc: 0.0044\n",
      "Epoch 27/100\n",
      "11610/11610==============================] - 0s 36us/sample - loss: 0.4311 - acc: 0.0029 - val_loss: 0.3966 - val_acc: 0.0044\n",
      "Epoch 28/100\n",
      "11610/11610==============================] - 0s 34us/sample - loss: 0.4286 - acc: 0.0029 - val_loss: 0.3946 - val_acc: 0.0044\n",
      "Epoch 29/100\n",
      "11610/11610==============================] - 0s 38us/sample - loss: 0.4262 - acc: 0.0029 - val_loss: 0.3927 - val_acc: 0.0044\n",
      "Epoch 30/100\n",
      "11610/11610==============================] - 0s 37us/sample - loss: 0.4240 - acc: 0.0029 - val_loss: 0.3913 - val_acc: 0.0044\n",
      "Epoch 31/100\n",
      "11610/11610==============================] - 0s 41us/sample - loss: 0.4220 - acc: 0.0029 - val_loss: 0.3895 - val_acc: 0.0044\n",
      "Epoch 32/100\n",
      "11610/11610==============================] - 1s 44us/sample - loss: 0.4201 - acc: 0.0029 - val_loss: 0.3879 - val_acc: 0.0044\n",
      "Epoch 33/100\n",
      "11610/11610==============================] - 0s 39us/sample - loss: 0.4182 - acc: 0.0029 - val_loss: 0.3865 - val_acc: 0.0044\n",
      "Epoch 34/100\n",
      "11610/11610==============================] - 0s 36us/sample - loss: 0.4165 - acc: 0.0029 - val_loss: 0.3854 - val_acc: 0.0044\n",
      "Epoch 35/100\n",
      "11610/11610==============================] - 0s 36us/sample - loss: 0.4149 - acc: 0.0029 - val_loss: 0.3839 - val_acc: 0.0044\n",
      "Epoch 36/100\n",
      "11610/11610==============================] - 0s 37us/sample - loss: 0.4134 - acc: 0.0029 - val_loss: 0.3822 - val_acc: 0.0044\n",
      "Epoch 37/100\n",
      "11610/11610==============================] - 0s 36us/sample - loss: 0.4119 - acc: 0.0029 - val_loss: 0.3813 - val_acc: 0.0044\n",
      "Epoch 38/100\n",
      "11610/11610==============================] - 0s 36us/sample - loss: 0.4104 - acc: 0.0029 - val_loss: 0.3803 - val_acc: 0.0044\n",
      "Epoch 39/100\n",
      "11610/11610==============================] - 0s 34us/sample - loss: 0.4090 - acc: 0.0029 - val_loss: 0.3789 - val_acc: 0.0044\n",
      "Epoch 40/100\n",
      "11610/11610==============================] - 0s 24us/sample - loss: 0.4076 - acc: 0.0029 - val_loss: 0.3779 - val_acc: 0.0044\n",
      "Epoch 41/100\n",
      "11610/11610==============================] - 0s 35us/sample - loss: 0.4064 - acc: 0.0029 - val_loss: 0.3770 - val_acc: 0.0044\n",
      "Epoch 42/100\n",
      "11610/11610==============================] - 0s 40us/sample - loss: 0.4050 - acc: 0.0029 - val_loss: 0.3761 - val_acc: 0.0044\n",
      "Epoch 43/100\n",
      "11610/11610==============================] - 0s 34us/sample - loss: 0.4039 - acc: 0.0029 - val_loss: 0.3752 - val_acc: 0.0044\n",
      "Epoch 44/100\n",
      "11610/11610==============================] - 0s 38us/sample - loss: 0.4027 - acc: 0.0029 - val_loss: 0.3741 - val_acc: 0.0044\n",
      "Epoch 45/100\n",
      "11610/11610==============================] - 0s 37us/sample - loss: 0.4016 - acc: 0.0029 - val_loss: 0.3731 - val_acc: 0.0044\n",
      "Epoch 46/100\n",
      "11610/11610==============================] - 0s 37us/sample - loss: 0.4005 - acc: 0.0029 - val_loss: 0.3722 - val_acc: 0.0044\n",
      "Epoch 47/100\n",
      "11610/11610==============================] - 0s 36us/sample - loss: 0.3994 - acc: 0.0029 - val_loss: 0.3713 - val_acc: 0.0044\n",
      "Epoch 48/100\n",
      "11610/11610==============================] - 0s 36us/sample - loss: 0.3985 - acc: 0.0029 - val_loss: 0.3705 - val_acc: 0.0044\n",
      "Epoch 49/100\n",
      "11610/11610==============================] - 0s 36us/sample - loss: 0.3974 - acc: 0.0029 - val_loss: 0.3699 - val_acc: 0.0044\n",
      "Epoch 50/100\n",
      "11610/11610==============================] - 0s 37us/sample - loss: 0.3965 - acc: 0.0029 - val_loss: 0.3691 - val_acc: 0.0044\n",
      "Epoch 51/100\n",
      "11610/11610==============================] - 0s 35us/sample - loss: 0.3955 - acc: 0.0029 - val_loss: 0.3682 - val_acc: 0.0044\n",
      "Epoch 52/100\n",
      "11610/11610==============================] - 0s 37us/sample - loss: 0.3946 - acc: 0.0029 - val_loss: 0.3674 - val_acc: 0.0044\n",
      "Epoch 53/100\n",
      "11610/11610==============================] - 0s 32us/sample - loss: 0.3937 - acc: 0.0029 - val_loss: 0.3666 - val_acc: 0.0044\n",
      "Epoch 54/100\n",
      "11610/11610==============================] - 0s 30us/sample - loss: 0.3927 - acc: 0.0029 - val_loss: 0.3659 - val_acc: 0.0044\n",
      "Epoch 55/100\n",
      "11610/11610==============================] - 0s 42us/sample - loss: 0.3919 - acc: 0.0029 - val_loss: 0.3651 - val_acc: 0.0044\n",
      "Epoch 56/100\n",
      "11610/11610==============================] - 0s 35us/sample - loss: 0.3911 - acc: 0.0029 - val_loss: 0.3647 - val_acc: 0.0044\n",
      "Epoch 57/100\n",
      "11610/11610==============================] - 0s 37us/sample - loss: 0.3903 - acc: 0.0029 - val_loss: 0.3639 - val_acc: 0.0044\n",
      "Epoch 58/100\n",
      "11610/11610==============================] - 0s 37us/sample - loss: 0.3895 - acc: 0.0029 - val_loss: 0.3630 - val_acc: 0.0044\n",
      "Epoch 59/100\n"
     ]
    },
    {
     "name": "stdout",
     "output_type": "stream",
     "text": [
      "11610/11610==============================] - 0s 37us/sample - loss: 0.3886 - acc: 0.0029 - val_loss: 0.3623 - val_acc: 0.0044\n",
      "Epoch 60/100\n",
      "11610/11610==============================] - 0s 41us/sample - loss: 0.3877 - acc: 0.0029 - val_loss: 0.3617 - val_acc: 0.0044\n",
      "Epoch 61/100\n",
      "11610/11610==============================] - 0s 40us/sample - loss: 0.3870 - acc: 0.0029 - val_loss: 0.3611 - val_acc: 0.0044\n",
      "Epoch 62/100\n",
      "11610/11610==============================] - 0s 37us/sample - loss: 0.3863 - acc: 0.0029 - val_loss: 0.3602 - val_acc: 0.0044\n",
      "Epoch 63/100\n",
      "11610/11610==============================] - 0s 39us/sample - loss: 0.3854 - acc: 0.0029 - val_loss: 0.3598 - val_acc: 0.0044\n",
      "Epoch 64/100\n",
      "11610/11610==============================] - 0s 36us/sample - loss: 0.3845 - acc: 0.0029 - val_loss: 0.3593 - val_acc: 0.0044\n",
      "Epoch 65/100\n",
      "11610/11610==============================] - 0s 35us/sample - loss: 0.3839 - acc: 0.0029 - val_loss: 0.3584 - val_acc: 0.0044\n",
      "Epoch 66/100\n",
      "11610/11610==============================] - 0s 36us/sample - loss: 0.3831 - acc: 0.0029 - val_loss: 0.3578 - val_acc: 0.0044\n",
      "Epoch 67/100\n",
      "11610/11610==============================] - 0s 40us/sample - loss: 0.3824 - acc: 0.0029 - val_loss: 0.3574 - val_acc: 0.0044\n",
      "Epoch 68/100\n",
      "11610/11610==============================] - 0s 38us/sample - loss: 0.3817 - acc: 0.0029 - val_loss: 0.3569 - val_acc: 0.0044\n",
      "Epoch 69/100\n",
      "11610/11610==============================] - 0s 37us/sample - loss: 0.3808 - acc: 0.0029 - val_loss: 0.3564 - val_acc: 0.0044\n",
      "Epoch 70/100\n",
      "11610/11610==============================] - 0s 36us/sample - loss: 0.3802 - acc: 0.0029 - val_loss: 0.3554 - val_acc: 0.0044\n",
      "Epoch 71/100\n",
      "11610/11610==============================] - 0s 39us/sample - loss: 0.3794 - acc: 0.0029 - val_loss: 0.3550 - val_acc: 0.0044\n",
      "Epoch 72/100\n",
      "11610/11610==============================] - 0s 41us/sample - loss: 0.3787 - acc: 0.0029 - val_loss: 0.3542 - val_acc: 0.0044\n",
      "Epoch 73/100\n",
      "11610/11610==============================] - 0s 37us/sample - loss: 0.3779 - acc: 0.0029 - val_loss: 0.3539 - val_acc: 0.0044\n",
      "Epoch 74/100\n",
      "11610/11610==============================] - 0s 41us/sample - loss: 0.3771 - acc: 0.0029 - val_loss: 0.3533 - val_acc: 0.0044\n",
      "Epoch 75/100\n",
      "11610/11610==============================] - 0s 40us/sample - loss: 0.3763 - acc: 0.0029 - val_loss: 0.3527 - val_acc: 0.0044\n",
      "Epoch 76/100\n",
      "11610/11610==============================] - 0s 37us/sample - loss: 0.3756 - acc: 0.0029 - val_loss: 0.3521 - val_acc: 0.0044\n",
      "Epoch 77/100\n",
      "11610/11610==============================] - 0s 37us/sample - loss: 0.3749 - acc: 0.0029 - val_loss: 0.3516 - val_acc: 0.0044\n",
      "Epoch 78/100\n",
      "11610/11610==============================] - 0s 39us/sample - loss: 0.3741 - acc: 0.0029 - val_loss: 0.3511 - val_acc: 0.0044\n",
      "Epoch 79/100\n",
      "11610/11610==============================] - 0s 37us/sample - loss: 0.3732 - acc: 0.0029 - val_loss: 0.3509 - val_acc: 0.0044\n",
      "Epoch 80/100\n",
      "11610/11610==============================] - 0s 39us/sample - loss: 0.3726 - acc: 0.0029 - val_loss: 0.3500 - val_acc: 0.0044\n",
      "Epoch 81/100\n",
      "11610/11610==============================] - 0s 39us/sample - loss: 0.3717 - acc: 0.0029 - val_loss: 0.3498 - val_acc: 0.0044\n",
      "Epoch 82/100\n",
      "11610/11610==============================] - 0s 40us/sample - loss: 0.3711 - acc: 0.0029 - val_loss: 0.3490 - val_acc: 0.0044\n",
      "Epoch 83/100\n",
      "11610/11610==============================] - 0s 36us/sample - loss: 0.3701 - acc: 0.0029 - val_loss: 0.3483 - val_acc: 0.0044\n",
      "Epoch 84/100\n",
      "11610/11610==============================] - 0s 34us/sample - loss: 0.3692 - acc: 0.0029 - val_loss: 0.3571 - val_acc: 0.0044\n",
      "Epoch 85/100\n",
      "11610/11610==============================] - 0s 35us/sample - loss: 0.3683 - acc: 0.0029 - val_loss: 0.3586 - val_acc: 0.0044\n",
      "Epoch 86/100\n",
      "11610/11610==============================] - 0s 37us/sample - loss: 0.3678 - acc: 0.0029 - val_loss: 0.3701 - val_acc: 0.0044\n",
      "Epoch 87/100\n",
      "11610/11610==============================] - 0s 40us/sample - loss: 0.3672 - acc: 0.0029 - val_loss: 0.3914 - val_acc: 0.0044\n",
      "Epoch 88/100\n",
      "11610/11610==============================] - 0s 37us/sample - loss: 0.3668 - acc: 0.0029 - val_loss: 0.3683 - val_acc: 0.0044\n"
     ]
    }
   ],
   "source": [
    "history = model.fit(X_train_scaled, y_train, epochs=100, validation_data=(X_valid_scaled, y_valid),\n",
    "                   callbacks=[\n",
    "                       keras.callbacks.EarlyStopping(patience=5)\n",
    "                   ])"
   ]
  },
  {
   "cell_type": "code",
   "execution_count": 110,
   "metadata": {},
   "outputs": [
    {
     "data": {
      "image/png": "[encoded data removed]",
      "text/plain": [
       "<Figure size 576x360 with 1 Axes>"
      ]
     },
     "metadata": {
      "needs_background": "light"
     },
     "output_type": "display_data"
    }
   ],
   "source": [
    "plot_learning_curves(history)"
   ]
  },
  {
   "cell_type": "code",
   "execution_count": 108,
   "metadata": {},
   "outputs": [
    {
     "name": "stdout",
     "output_type": "stream",
     "text": [
      "5160/5160==============================] - 0s 12us/sample - loss: 0.3630 - acc: 0.0021\n"
     ]
    },
    {
     "data": {
      "text/plain": [
       "[0.3629901480305102, 0.002131783]"
      ]
     },
     "execution_count": 108,
     "metadata": {},
     "output_type": "execute_result"
    }
   ],
   "source": [
    "model.evaluate(X_test_scaled, y_test)"
   ]
  },
  {
   "cell_type": "markdown",
   "metadata": {},
   "source": [
    "3) Alternatively, try using this softplus layer as the activation function of the output layer.\n",
    "\n",
    "**Notes**:\n",
    "* setting a layer's activation function is just a handy way of adding an extra weightless layer.\n",
    "* Keras supports the softplus activation function out of the box:\n",
    "  * set `activation=\"softplus\"`\n",
    "  * or set `activation=keras.activations.softplus`\n",
    "  * or add a `keras.layers.Activation(\"softplus\")` layer to your model."
   ]
  },
  {
   "cell_type": "code",
   "execution_count": 112,
   "metadata": {},
   "outputs": [],
   "source": [
    "def build_model():\n",
    "    return keras.models.Sequential([\n",
    "        keras.layers.Dense(30, activation=\"relu\", input_shape=X_train_scaled.shape[1:], name=\"dense_30\"),\n",
    "        keras.layers.Dense(1, name=\"dense_1\", activation=\"softplus\")\n",
    "    ])"
   ]
  },
  {
   "cell_type": "code",
   "execution_count": 113,
   "metadata": {},
   "outputs": [
    {
     "name": "stdout",
     "output_type": "stream",
     "text": [
      "Model: \"sequential_11\"\n",
      "_________________________________________________________________\n",
      "Layer (type)                 Output Shape              Param #   \n",
      "=================================================================\n",
      "dense_30 (Dense)             (None, 30)                270       \n",
      "_________________________________________________________________\n",
      "dense_1 (Dense)              (None, 1)                 31        \n",
      "=================================================================\n",
      "Total params: 301\n",
      "Trainable params: 301\n",
      "Non-trainable params: 0\n",
      "_________________________________________________________________\n"
     ]
    }
   ],
   "source": [
    "model = build_model()\n",
    "initial_weights = model.get_weights()\n",
    "model.summary()"
   ]
  },
  {
   "cell_type": "code",
   "execution_count": 114,
   "metadata": {},
   "outputs": [
    {
     "name": "stdout",
     "output_type": "stream",
     "text": [
      "Train on 11610 samples, validate on 3870 samples\n",
      "Epoch 1/100\n",
      "11610/11610==============================] - 1s 45us/sample - loss: 2.0066 - acc: 0.0029 - val_loss: 1.0028 - val_acc: 0.0044\n",
      "Epoch 2/100\n",
      "11610/11610==============================] - 0s 35us/sample - loss: 0.8450 - acc: 0.0029 - val_loss: 0.7134 - val_acc: 0.0044\n",
      "Epoch 3/100\n",
      "11610/11610==============================] - 0s 36us/sample - loss: 0.7157 - acc: 0.0029 - val_loss: 0.6615 - val_acc: 0.0044\n",
      "Epoch 4/100\n",
      "11610/11610==============================] - 0s 36us/sample - loss: 0.6707 - acc: 0.0029 - val_loss: 0.6273 - val_acc: 0.0044\n",
      "Epoch 5/100\n",
      "11610/11610==============================] - 0s 36us/sample - loss: 0.6373 - acc: 0.0029 - val_loss: 0.5985 - val_acc: 0.0044\n",
      "Epoch 6/100\n",
      "11610/11610==============================] - 0s 35us/sample - loss: 0.6092 - acc: 0.0029 - val_loss: 0.5730 - val_acc: 0.0044\n",
      "Epoch 7/100\n",
      "11610/11610==============================] - 0s 36us/sample - loss: 0.5850 - acc: 0.0029 - val_loss: 0.5509 - val_acc: 0.0044\n",
      "Epoch 8/100\n",
      "11610/11610==============================] - 0s 37us/sample - loss: 0.5636 - acc: 0.0029 - val_loss: 0.5310 - val_acc: 0.0044\n",
      "Epoch 9/100\n",
      "11610/11610==============================] - 0s 36us/sample - loss: 0.5450 - acc: 0.0029 - val_loss: 0.5130 - val_acc: 0.0044\n",
      "Epoch 10/100\n",
      "11610/11610==============================] - 0s 35us/sample - loss: 0.5283 - acc: 0.0029 - val_loss: 0.4968 - val_acc: 0.0044\n",
      "Epoch 11/100\n",
      "11610/11610==============================] - 0s 35us/sample - loss: 0.5135 - acc: 0.0029 - val_loss: 0.4825 - val_acc: 0.0044\n",
      "Epoch 12/100\n",
      "11610/11610==============================] - 0s 35us/sample - loss: 0.5006 - acc: 0.0029 - val_loss: 0.4688 - val_acc: 0.0044\n",
      "Epoch 13/100\n",
      "11610/11610==============================] - 0s 36us/sample - loss: 0.4892 - acc: 0.0029 - val_loss: 0.4589 - val_acc: 0.0044\n",
      "Epoch 14/100\n",
      "11610/11610==============================] - 0s 37us/sample - loss: 0.4790 - acc: 0.0029 - val_loss: 0.4479 - val_acc: 0.0044\n",
      "Epoch 15/100\n",
      "11610/11610==============================] - 0s 35us/sample - loss: 0.4708 - acc: 0.0029 - val_loss: 0.4394 - val_acc: 0.0044\n",
      "Epoch 16/100\n",
      "11610/11610==============================] - 0s 43us/sample - loss: 0.4632 - acc: 0.0029 - val_loss: 0.4317 - val_acc: 0.0044\n",
      "Epoch 17/100\n",
      "11610/11610==============================] - 0s 37us/sample - loss: 0.4565 - acc: 0.0029 - val_loss: 0.4260 - val_acc: 0.0044\n",
      "Epoch 18/100\n",
      "11610/11610==============================] - 1s 47us/sample - loss: 0.4510 - acc: 0.0029 - val_loss: 0.4199 - val_acc: 0.0044\n",
      "Epoch 19/100\n",
      "11610/11610==============================] - 0s 31us/sample - loss: 0.4455 - acc: 0.0029 - val_loss: 0.4166 - val_acc: 0.0044\n",
      "Epoch 20/100\n",
      "11610/11610==============================] - 0s 32us/sample - loss: 0.4412 - acc: 0.0029 - val_loss: 0.4100 - val_acc: 0.0044\n",
      "Epoch 21/100\n",
      "11610/11610==============================] - 0s 34us/sample - loss: 0.4373 - acc: 0.0029 - val_loss: 0.4060 - val_acc: 0.0044\n",
      "Epoch 22/100\n",
      "11610/11610==============================] - 0s 43us/sample - loss: 0.4339 - acc: 0.0029 - val_loss: 0.4022 - val_acc: 0.0044\n",
      "Epoch 23/100\n",
      "11610/11610==============================] - 0s 31us/sample - loss: 0.4304 - acc: 0.0029 - val_loss: 0.3989 - val_acc: 0.0044\n",
      "Epoch 24/100\n",
      "11610/11610==============================] - 0s 39us/sample - loss: 0.4279 - acc: 0.0029 - val_loss: 0.3964 - val_acc: 0.0044\n",
      "Epoch 25/100\n",
      "11610/11610==============================] - 0s 35us/sample - loss: 0.4253 - acc: 0.0029 - val_loss: 0.3943 - val_acc: 0.0044\n",
      "Epoch 26/100\n",
      "11610/11610==============================] - 0s 36us/sample - loss: 0.4226 - acc: 0.0029 - val_loss: 0.3915 - val_acc: 0.0044\n",
      "Epoch 27/100\n",
      "11610/11610==============================] - 0s 37us/sample - loss: 0.4209 - acc: 0.0029 - val_loss: 0.3897 - val_acc: 0.0044\n",
      "Epoch 28/100\n",
      "11610/11610==============================] - 0s 38us/sample - loss: 0.4187 - acc: 0.0029 - val_loss: 0.3878 - val_acc: 0.0044\n",
      "Epoch 29/100\n",
      "11610/11610==============================] - 0s 36us/sample - loss: 0.4168 - acc: 0.0029 - val_loss: 0.3858 - val_acc: 0.0044\n",
      "Epoch 30/100\n",
      "11610/11610==============================] - 0s 38us/sample - loss: 0.4150 - acc: 0.0029 - val_loss: 0.3844 - val_acc: 0.0044\n",
      "Epoch 31/100\n",
      "11610/11610==============================] - 0s 34us/sample - loss: 0.4135 - acc: 0.0029 - val_loss: 0.3824 - val_acc: 0.0044\n",
      "Epoch 32/100\n",
      "11610/11610==============================] - 0s 35us/sample - loss: 0.4116 - acc: 0.0029 - val_loss: 0.3811 - val_acc: 0.0044\n",
      "Epoch 33/100\n",
      "11610/11610==============================] - 0s 36us/sample - loss: 0.4103 - acc: 0.0029 - val_loss: 0.3800 - val_acc: 0.0044\n",
      "Epoch 34/100\n",
      "11610/11610==============================] - 0s 33us/sample - loss: 0.4088 - acc: 0.0029 - val_loss: 0.3787 - val_acc: 0.0044\n",
      "Epoch 35/100\n",
      "11610/11610==============================] - 0s 35us/sample - loss: 0.4076 - acc: 0.0029 - val_loss: 0.3774 - val_acc: 0.0044\n",
      "Epoch 36/100\n",
      "11610/11610==============================] - 0s 34us/sample - loss: 0.4063 - acc: 0.0029 - val_loss: 0.3768 - val_acc: 0.0044\n",
      "Epoch 37/100\n",
      "11610/11610==============================] - 0s 34us/sample - loss: 0.4051 - acc: 0.0029 - val_loss: 0.3753 - val_acc: 0.0044\n",
      "Epoch 38/100\n",
      "11610/11610==============================] - 0s 38us/sample - loss: 0.4035 - acc: 0.0029 - val_loss: 0.3735 - val_acc: 0.0044\n",
      "Epoch 39/100\n",
      "11610/11610==============================] - 0s 40us/sample - loss: 0.4027 - acc: 0.0029 - val_loss: 0.3724 - val_acc: 0.0044\n",
      "Epoch 40/100\n",
      "11610/11610==============================] - 0s 37us/sample - loss: 0.4018 - acc: 0.0029 - val_loss: 0.3717 - val_acc: 0.0044\n",
      "Epoch 41/100\n",
      "11610/11610==============================] - 0s 38us/sample - loss: 0.4008 - acc: 0.0029 - val_loss: 0.3707 - val_acc: 0.0044\n",
      "Epoch 42/100\n",
      "11610/11610==============================] - 0s 34us/sample - loss: 0.3995 - acc: 0.0029 - val_loss: 0.3700 - val_acc: 0.0044\n",
      "Epoch 43/100\n",
      "11610/11610==============================] - 0s 38us/sample - loss: 0.3985 - acc: 0.0029 - val_loss: 0.3691 - val_acc: 0.0044\n",
      "Epoch 44/100\n",
      "11610/11610==============================] - 0s 38us/sample - loss: 0.3978 - acc: 0.0029 - val_loss: 0.3683 - val_acc: 0.0044\n",
      "Epoch 45/100\n",
      "11610/11610==============================] - 0s 24us/sample - loss: 0.3965 - acc: 0.0029 - val_loss: 0.3672 - val_acc: 0.0044\n",
      "Epoch 46/100\n",
      "11610/11610==============================] - 0s 32us/sample - loss: 0.3959 - acc: 0.0029 - val_loss: 0.3669 - val_acc: 0.0044\n",
      "Epoch 47/100\n",
      "11610/11610==============================] - 0s 38us/sample - loss: 0.3949 - acc: 0.0029 - val_loss: 0.3654 - val_acc: 0.0044\n",
      "Epoch 48/100\n",
      "11610/11610==============================] - 0s 38us/sample - loss: 0.3938 - acc: 0.0029 - val_loss: 0.3650 - val_acc: 0.0044\n",
      "Epoch 49/100\n",
      "11610/11610==============================] - 0s 40us/sample - loss: 0.3928 - acc: 0.0029 - val_loss: 0.3640 - val_acc: 0.0044\n",
      "Epoch 50/100\n",
      "11610/11610==============================] - 0s 40us/sample - loss: 0.3927 - acc: 0.0029 - val_loss: 0.3635 - val_acc: 0.0044\n",
      "Epoch 51/100\n",
      "11610/11610==============================] - 0s 39us/sample - loss: 0.3915 - acc: 0.0029 - val_loss: 0.3634 - val_acc: 0.0044\n",
      "Epoch 52/100\n",
      "11610/11610==============================] - 0s 39us/sample - loss: 0.3911 - acc: 0.0029 - val_loss: 0.3627 - val_acc: 0.0044\n",
      "Epoch 53/100\n",
      "11610/11610==============================] - 0s 42us/sample - loss: 0.3904 - acc: 0.0029 - val_loss: 0.3619 - val_acc: 0.0044\n",
      "Epoch 54/100\n",
      "11610/11610==============================] - 0s 36us/sample - loss: 0.3893 - acc: 0.0029 - val_loss: 0.3615 - val_acc: 0.0044\n",
      "Epoch 55/100\n",
      "11610/11610==============================] - 0s 36us/sample - loss: 0.3889 - acc: 0.0029 - val_loss: 0.3605 - val_acc: 0.0044\n",
      "Epoch 56/100\n",
      "11610/11610==============================] - 0s 37us/sample - loss: 0.3881 - acc: 0.0029 - val_loss: 0.3600 - val_acc: 0.0044\n",
      "Epoch 57/100\n",
      "11610/11610==============================] - 0s 36us/sample - loss: 0.3876 - acc: 0.0029 - val_loss: 0.3599 - val_acc: 0.0044\n",
      "Epoch 58/100\n",
      "11610/11610==============================] - 0s 35us/sample - loss: 0.3865 - acc: 0.0029 - val_loss: 0.3592 - val_acc: 0.0044\n",
      "Epoch 59/100\n"
     ]
    },
    {
     "name": "stdout",
     "output_type": "stream",
     "text": [
      "11610/11610==============================] - 0s 40us/sample - loss: 0.3860 - acc: 0.0029 - val_loss: 0.3598 - val_acc: 0.0044\n",
      "Epoch 60/100\n",
      "11610/11610==============================] - 0s 40us/sample - loss: 0.3850 - acc: 0.0029 - val_loss: 0.3583 - val_acc: 0.0044\n",
      "Epoch 61/100\n",
      "11610/11610==============================] - 0s 39us/sample - loss: 0.3848 - acc: 0.0029 - val_loss: 0.3586 - val_acc: 0.0044\n",
      "Epoch 62/100\n",
      "11610/11610==============================] - 0s 36us/sample - loss: 0.3841 - acc: 0.0029 - val_loss: 0.3575 - val_acc: 0.0044\n",
      "Epoch 63/100\n",
      "11610/11610==============================] - 0s 36us/sample - loss: 0.3836 - acc: 0.0029 - val_loss: 0.3576 - val_acc: 0.0044\n",
      "Epoch 64/100\n",
      "11610/11610==============================] - 0s 37us/sample - loss: 0.3832 - acc: 0.0029 - val_loss: 0.3566 - val_acc: 0.0044\n",
      "Epoch 65/100\n",
      "11610/11610==============================] - 0s 36us/sample - loss: 0.3821 - acc: 0.0029 - val_loss: 0.3560 - val_acc: 0.0044\n",
      "Epoch 66/100\n",
      "11610/11610==============================] - 0s 39us/sample - loss: 0.3818 - acc: 0.0029 - val_loss: 0.3552 - val_acc: 0.0044\n",
      "Epoch 67/100\n",
      "11610/11610==============================] - 1s 46us/sample - loss: 0.3812 - acc: 0.0029 - val_loss: 0.3552 - val_acc: 0.0044\n",
      "Epoch 68/100\n",
      "11610/11610==============================] - 1s 47us/sample - loss: 0.3804 - acc: 0.0029 - val_loss: 0.3550 - val_acc: 0.0044\n",
      "Epoch 69/100\n",
      "11610/11610==============================] - 1s 52us/sample - loss: 0.3801 - acc: 0.0029 - val_loss: 0.3545 - val_acc: 0.0044\n",
      "Epoch 70/100\n",
      "11610/11610==============================] - 0s 39us/sample - loss: 0.3790 - acc: 0.0029 - val_loss: 0.3540 - val_acc: 0.0044\n",
      "Epoch 71/100\n",
      "11610/11610==============================] - 0s 27us/sample - loss: 0.3792 - acc: 0.0029 - val_loss: 0.3534 - val_acc: 0.0044\n",
      "Epoch 72/100\n",
      "11610/11610==============================] - 0s 37us/sample - loss: 0.3780 - acc: 0.0029 - val_loss: 0.3527 - val_acc: 0.0044\n",
      "Epoch 73/100\n",
      "11610/11610==============================] - 0s 33us/sample - loss: 0.3778 - acc: 0.0029 - val_loss: 0.3529 - val_acc: 0.0044\n",
      "Epoch 74/100\n",
      "11610/11610==============================] - 0s 31us/sample - loss: 0.3771 - acc: 0.0029 - val_loss: 0.3523 - val_acc: 0.0044\n",
      "Epoch 75/100\n",
      "11610/11610==============================] - 0s 39us/sample - loss: 0.3760 - acc: 0.0029 - val_loss: 0.3529 - val_acc: 0.0044\n",
      "Epoch 76/100\n",
      "11610/11610==============================] - 0s 38us/sample - loss: 0.3762 - acc: 0.0029 - val_loss: 0.3518 - val_acc: 0.0044\n",
      "Epoch 77/100\n",
      "11610/11610==============================] - 1s 45us/sample - loss: 0.3755 - acc: 0.0029 - val_loss: 0.3512 - val_acc: 0.0044\n",
      "Epoch 78/100\n",
      "11610/11610==============================] - 0s 29us/sample - loss: 0.3748 - acc: 0.0029 - val_loss: 0.3504 - val_acc: 0.0044\n",
      "Epoch 79/100\n",
      "11610/11610==============================] - 0s 25us/sample - loss: 0.3738 - acc: 0.0029 - val_loss: 0.3488 - val_acc: 0.0044\n",
      "Epoch 80/100\n",
      "11610/11610==============================] - 0s 26us/sample - loss: 0.3739 - acc: 0.0029 - val_loss: 0.3528 - val_acc: 0.0044\n",
      "Epoch 81/100\n",
      "11610/11610==============================] - 0s 30us/sample - loss: 0.3734 - acc: 0.0029 - val_loss: 0.3586 - val_acc: 0.0044\n",
      "Epoch 82/100\n",
      "11610/11610==============================] - 0s 28us/sample - loss: 0.3728 - acc: 0.0029 - val_loss: 0.3665 - val_acc: 0.0044\n",
      "Epoch 83/100\n",
      "11610/11610==============================] - 0s 27us/sample - loss: 0.3723 - acc: 0.0029 - val_loss: 0.3763 - val_acc: 0.0044\n",
      "Epoch 84/100\n",
      "11610/11610==============================] - 0s 29us/sample - loss: 0.3719 - acc: 0.0029 - val_loss: 0.3785 - val_acc: 0.0044\n"
     ]
    }
   ],
   "source": [
    "model.compile(loss=my_mse, optimizer='sgd', metrics=['accuracy'])\n",
    "\n",
    "history = model.fit(X_train_scaled, y_train, epochs=100, validation_data=(X_valid_scaled, y_valid),\n",
    "                   callbacks=[\n",
    "                       keras.callbacks.EarlyStopping(patience=5)\n",
    "                   ])"
   ]
  },
  {
   "cell_type": "code",
   "execution_count": 115,
   "metadata": {},
   "outputs": [
    {
     "data": {
      "image/png": "[encoded data removed]",
      "text/plain": [
       "<Figure size 576x360 with 1 Axes>"
      ]
     },
     "metadata": {
      "needs_background": "light"
     },
     "output_type": "display_data"
    },
    {
     "name": "stdout",
     "output_type": "stream",
     "text": [
      "5160/5160==============================] - 0s 13us/sample - loss: 0.3659 - acc: 0.0021\n"
     ]
    },
    {
     "data": {
      "text/plain": [
       "[0.36593824151412463, 0.002131783]"
      ]
     },
     "execution_count": 115,
     "metadata": {},
     "output_type": "execute_result"
    }
   ],
   "source": [
    "plot_learning_curves(history)\n",
    "model.evaluate(X_test_scaled, y_test)"
   ]
  },
  {
   "cell_type": "markdown",
   "metadata": {},
   "source": [
    "4) Now let's create a custom layer with its own weights. Use the following template to create a `MyDense` layer that computes $\\phi(\\mathbf{X} \\mathbf{W}) + \\mathbf{b}$, where $\\phi$ is the (optional) activation function, $\\mathbf{X}$ is the input data, $\\mathbf{W}$ represents the kernel (i.e., connection weights), and $\\mathbf{b}$ represents the biases, then train and evaluate a model using this instead of a regular `Dense` layer.\n",
    "\n",
    "**Tips**:\n",
    "* The constructor `__init__()`:\n",
    "  * It must have all your layer's hyperparameters as arguments, and save them to instance variables. You will need the number of `units` and the optional `activation` function. To support all kinds of activation functions (strings or functions), simply create a `keras.layers.Activation` passing it the `activation` argument.\n",
    "  * The `**kwargs` argument must be passed to the base class's constructor (`super().__init__()`) so your class can support the `input_shape` argument, and more.\n",
    "* The `build()` method:\n",
    "  * The `build()` method will be called automatically by Keras when it knows the shape of the inputs. Note that the argument should really be called `batch_input_shape` since it includes the batch size.\n",
    "  * You must call `self.add_weight()` for each weight you want to create, specifying its `name`, `shape` (which often depends on the `input_shape`), how to initialize it, and whether or not it is `trainable`. You need two weights: the `kernel` (connection weights) and the `biases`. The kernel must be initialized randomly. The biases are usually initialized with zeros. **Note**: you can find many initializers in `keras.initializers`.\n",
    "  * Do not forget to call `super().build()`, so Keras knows that the model has been built.\n",
    "  * Note: you could create the weights in the constructor, but it is preferable to create them in the `build()` method, because users of your class may not always know the `input_shape` when creating the model. The first time the model is used on some actual data, the `build()` method will automatically be called with the actual `input_shape`.\n",
    "* The `call()` method:\n",
    "  * This is where to code your layer's actual computations. As before, you can use TensorFlow operations directly, or use `keras.backend` operations if you want the layer to be portable to other Keras implementations.\n",
    "* The `compute_output_shape()` method:\n",
    "  * You do not need to implement this method when using tf.keras, as the `Layer` class provides a good implementation.\n",
    "  * However, if want to port your code to another Keras implementation (such as keras-team), and if the output shape is different from the input shape, then you need to implement this method. Note that the input shape is actually the batch input shape, and the ouptut shape must be the batch output shape."
   ]
  },
  {
   "cell_type": "code",
   "execution_count": 124,
   "metadata": {},
   "outputs": [],
   "source": [
    "# This template was copied from https://keras.io/layers/writing-your-own-keras-layers/\n",
    "# I just removed the imports and replaced Layer with keras.layers.Layer.\n",
    "\n",
    "class MyLayer(keras.layers.Layer):\n",
    "    def __init__(self, output_dim, activation, **kwargs):\n",
    "        self.output_dim = output_dim\n",
    "        self.activation = keras.layers.Activation(activation)\n",
    "        super(MyLayer, self).__init__(**kwargs)\n",
    "\n",
    "    def build(self, input_shape):\n",
    "        # Create a trainable weight variable for this layer.\n",
    "        self.kernel = self.add_weight(name='kernel', \n",
    "                                      shape=(input_shape[1], self.output_dim),\n",
    "                                      initializer='uniform',\n",
    "                                      trainable=True)\n",
    "        \n",
    "        self.biases = self.add_weight(name='bias', \n",
    "                                      shape=(self.output_dim,),\n",
    "                                      initializer='zeros',\n",
    "                                      trainable=True)\n",
    "        \n",
    "        super(MyLayer, self).build(input_shape)  # Be sure to call this at the end\n",
    "\n",
    "    def call(self, x):\n",
    "        return self.activation(K.dot(x, self.kernel) + self.biases)\n",
    "\n",
    "    def compute_output_shape(self, input_shape):\n",
    "        return (input_shape[0], self.output_dim)"
   ]
  },
  {
   "cell_type": "code",
   "execution_count": 127,
   "metadata": {},
   "outputs": [],
   "source": [
    "def build_model():\n",
    "    return keras.models.Sequential([\n",
    "        MyLayer(output_dim=30, activation=\"relu\", input_shape=X_train_scaled.shape[1:], name=\"my_dense_30\"),\n",
    "        MyLayer(output_dim=1, activation=\"relu\", name=\"my_dense_1\")\n",
    "    ])"
   ]
  },
  {
   "cell_type": "code",
   "execution_count": 128,
   "metadata": {},
   "outputs": [
    {
     "name": "stdout",
     "output_type": "stream",
     "text": [
      "Model: \"sequential_14\"\n",
      "_________________________________________________________________\n",
      "Layer (type)                 Output Shape              Param #   \n",
      "=================================================================\n",
      "my_dense_30 (MyLayer)        (None, 30)                270       \n",
      "_________________________________________________________________\n",
      "my_dense_1 (MyLayer)         (None, 1)                 31        \n",
      "=================================================================\n",
      "Total params: 301\n",
      "Trainable params: 301\n",
      "Non-trainable params: 0\n",
      "_________________________________________________________________\n"
     ]
    }
   ],
   "source": [
    "model = build_model()\n",
    "initial_weights = model.get_weights()\n",
    "model.summary()"
   ]
  },
  {
   "cell_type": "code",
   "execution_count": 129,
   "metadata": {},
   "outputs": [
    {
     "name": "stdout",
     "output_type": "stream",
     "text": [
      "Train on 11610 samples, validate on 3870 samples\n",
      "Epoch 1/100\n",
      "11610/11610==============================] - 1s 47us/sample - loss: 3.5388 - acc: 0.0022 - val_loss: 2.0971 - val_acc: 0.0044\n",
      "Epoch 2/100\n",
      "11610/11610==============================] - 0s 34us/sample - loss: 1.6166 - acc: 0.0029 - val_loss: 1.2017 - val_acc: 0.0044\n",
      "Epoch 3/100\n",
      "11610/11610==============================] - 0s 36us/sample - loss: 1.0082 - acc: 0.0029 - val_loss: 0.8684 - val_acc: 0.0044\n",
      "Epoch 4/100\n",
      "11610/11610==============================] - 0s 36us/sample - loss: 0.7844 - acc: 0.0029 - val_loss: 0.7235 - val_acc: 0.0044\n",
      "Epoch 5/100\n",
      "11610/11610==============================] - 0s 39us/sample - loss: 0.7011 - acc: 0.0029 - val_loss: 0.6520 - val_acc: 0.0044\n",
      "Epoch 6/100\n",
      "11610/11610==============================] - 0s 36us/sample - loss: 0.6605 - acc: 0.0029 - val_loss: 0.6142 - val_acc: 0.0044\n",
      "Epoch 7/100\n",
      "11610/11610==============================] - 0s 35us/sample - loss: 0.6344 - acc: 0.0029 - val_loss: 0.5895 - val_acc: 0.0044\n",
      "Epoch 8/100\n",
      "11610/11610==============================] - 0s 35us/sample - loss: 0.6138 - acc: 0.0029 - val_loss: 0.5695 - val_acc: 0.0044\n",
      "Epoch 9/100\n",
      "11610/11610==============================] - 0s 35us/sample - loss: 0.5959 - acc: 0.0029 - val_loss: 0.5522 - val_acc: 0.0044\n",
      "Epoch 10/100\n",
      "11610/11610==============================] - 0s 38us/sample - loss: 0.5793 - acc: 0.0029 - val_loss: 0.5361 - val_acc: 0.0044\n",
      "Epoch 11/100\n",
      "11610/11610==============================] - 0s 32us/sample - loss: 0.5636 - acc: 0.0029 - val_loss: 0.5210 - val_acc: 0.0044\n",
      "Epoch 12/100\n",
      "11610/11610==============================] - 0s 36us/sample - loss: 0.5488 - acc: 0.0029 - val_loss: 0.5069 - val_acc: 0.0044\n",
      "Epoch 13/100\n",
      "11610/11610==============================] - 0s 35us/sample - loss: 0.5354 - acc: 0.0029 - val_loss: 0.4940 - val_acc: 0.0044\n",
      "Epoch 14/100\n",
      "11610/11610==============================] - 0s 35us/sample - loss: 0.5228 - acc: 0.0029 - val_loss: 0.4820 - val_acc: 0.0044\n",
      "Epoch 15/100\n",
      "11610/11610==============================] - 0s 36us/sample - loss: 0.5116 - acc: 0.0029 - val_loss: 0.4710 - val_acc: 0.0044\n",
      "Epoch 16/100\n",
      "11610/11610==============================] - 0s 36us/sample - loss: 0.5014 - acc: 0.0029 - val_loss: 0.4614 - val_acc: 0.0044\n",
      "Epoch 17/100\n",
      "11610/11610==============================] - 0s 36us/sample - loss: 0.4922 - acc: 0.0029 - val_loss: 0.4527 - val_acc: 0.0044\n",
      "Epoch 18/100\n",
      "11610/11610==============================] - 0s 35us/sample - loss: 0.4842 - acc: 0.0029 - val_loss: 0.4446 - val_acc: 0.0044\n",
      "Epoch 19/100\n",
      "11610/11610==============================] - 0s 41us/sample - loss: 0.4773 - acc: 0.0029 - val_loss: 0.4380 - val_acc: 0.0044\n",
      "Epoch 20/100\n",
      "11610/11610==============================] - 0s 41us/sample - loss: 0.4711 - acc: 0.0029 - val_loss: 0.4323 - val_acc: 0.0044\n",
      "Epoch 21/100\n",
      "11610/11610==============================] - 0s 37us/sample - loss: 0.4657 - acc: 0.0029 - val_loss: 0.4269 - val_acc: 0.0044\n",
      "Epoch 22/100\n",
      "11610/11610==============================] - 0s 36us/sample - loss: 0.4612 - acc: 0.0029 - val_loss: 0.4225 - val_acc: 0.0044\n",
      "Epoch 23/100\n",
      "11610/11610==============================] - 0s 35us/sample - loss: 0.4572 - acc: 0.0029 - val_loss: 0.4186 - val_acc: 0.0044\n",
      "Epoch 24/100\n",
      "11610/11610==============================] - 0s 36us/sample - loss: 0.4537 - acc: 0.0029 - val_loss: 0.4153 - val_acc: 0.0044\n",
      "Epoch 25/100\n",
      "11610/11610==============================] - 0s 36us/sample - loss: 0.4507 - acc: 0.0029 - val_loss: 0.4125 - val_acc: 0.0044\n",
      "Epoch 26/100\n",
      "11610/11610==============================] - 0s 35us/sample - loss: 0.4482 - acc: 0.0029 - val_loss: 0.4100 - val_acc: 0.0044\n",
      "Epoch 27/100\n",
      "11610/11610==============================] - 0s 36us/sample - loss: 0.4459 - acc: 0.0029 - val_loss: 0.4077 - val_acc: 0.0044\n",
      "Epoch 28/100\n",
      "11610/11610==============================] - 0s 35us/sample - loss: 0.4438 - acc: 0.0029 - val_loss: 0.4061 - val_acc: 0.0044\n",
      "Epoch 29/100\n",
      "11610/11610==============================] - 0s 36us/sample - loss: 0.4420 - acc: 0.0029 - val_loss: 0.4042 - val_acc: 0.0044\n",
      "Epoch 30/100\n",
      "11610/11610==============================] - 0s 40us/sample - loss: 0.4403 - acc: 0.0029 - val_loss: 0.4025 - val_acc: 0.0044\n",
      "Epoch 31/100\n",
      "11610/11610==============================] - 0s 40us/sample - loss: 0.4388 - acc: 0.0029 - val_loss: 0.4012 - val_acc: 0.0044\n",
      "Epoch 32/100\n",
      "11610/11610==============================] - 0s 41us/sample - loss: 0.4375 - acc: 0.0029 - val_loss: 0.4000 - val_acc: 0.0044\n",
      "Epoch 33/100\n",
      "11610/11610==============================] - 0s 39us/sample - loss: 0.4362 - acc: 0.0029 - val_loss: 0.3987 - val_acc: 0.0044\n",
      "Epoch 34/100\n",
      "11610/11610==============================] - 0s 35us/sample - loss: 0.4350 - acc: 0.0029 - val_loss: 0.3979 - val_acc: 0.0044\n",
      "Epoch 35/100\n",
      "11610/11610==============================] - 0s 41us/sample - loss: 0.4339 - acc: 0.0029 - val_loss: 0.3969 - val_acc: 0.0044\n",
      "Epoch 36/100\n",
      "11610/11610==============================] - 0s 39us/sample - loss: 0.4328 - acc: 0.0029 - val_loss: 0.3958 - val_acc: 0.0044\n",
      "Epoch 37/100\n",
      "11610/11610==============================] - 0s 26us/sample - loss: 0.4318 - acc: 0.0029 - val_loss: 0.3950 - val_acc: 0.0044\n",
      "Epoch 38/100\n",
      "11610/11610==============================] - 0s 36us/sample - loss: 0.4307 - acc: 0.0029 - val_loss: 0.3944 - val_acc: 0.0044\n",
      "Epoch 39/100\n",
      "11610/11610==============================] - 0s 37us/sample - loss: 0.4297 - acc: 0.0029 - val_loss: 0.3934 - val_acc: 0.0044\n",
      "Epoch 40/100\n",
      "11610/11610==============================] - 0s 40us/sample - loss: 0.4288 - acc: 0.0029 - val_loss: 0.3927 - val_acc: 0.0044\n",
      "Epoch 41/100\n",
      "11610/11610==============================] - 0s 39us/sample - loss: 0.4279 - acc: 0.0029 - val_loss: 0.3920 - val_acc: 0.0044\n",
      "Epoch 42/100\n",
      "11610/11610==============================] - 0s 40us/sample - loss: 0.4270 - acc: 0.0029 - val_loss: 0.3914 - val_acc: 0.0044\n",
      "Epoch 43/100\n",
      "11610/11610==============================] - 0s 39us/sample - loss: 0.4262 - acc: 0.0029 - val_loss: 0.3908 - val_acc: 0.0044\n",
      "Epoch 44/100\n",
      "11610/11610==============================] - 0s 35us/sample - loss: 0.4253 - acc: 0.0029 - val_loss: 0.3901 - val_acc: 0.0044\n",
      "Epoch 45/100\n",
      "11610/11610==============================] - 0s 37us/sample - loss: 0.4245 - acc: 0.0029 - val_loss: 0.3897 - val_acc: 0.0044\n",
      "Epoch 46/100\n",
      "11610/11610==============================] - 0s 36us/sample - loss: 0.4236 - acc: 0.0029 - val_loss: 0.3892 - val_acc: 0.0044\n",
      "Epoch 47/100\n",
      "11610/11610==============================] - 0s 37us/sample - loss: 0.4227 - acc: 0.0029 - val_loss: 0.3888 - val_acc: 0.0044\n",
      "Epoch 48/100\n",
      "11610/11610==============================] - 0s 38us/sample - loss: 0.4221 - acc: 0.0029 - val_loss: 0.3882 - val_acc: 0.0044\n",
      "Epoch 49/100\n",
      "11610/11610==============================] - 0s 39us/sample - loss: 0.4214 - acc: 0.0029 - val_loss: 0.3879 - val_acc: 0.0044\n",
      "Epoch 50/100\n",
      "11610/11610==============================] - 0s 39us/sample - loss: 0.4206 - acc: 0.0029 - val_loss: 0.3878 - val_acc: 0.0044\n",
      "Epoch 51/100\n",
      "11610/11610==============================] - 0s 40us/sample - loss: 0.4198 - acc: 0.0029 - val_loss: 0.3872 - val_acc: 0.0044\n",
      "Epoch 52/100\n",
      "11610/11610==============================] - 0s 41us/sample - loss: 0.4189 - acc: 0.0029 - val_loss: 0.3870 - val_acc: 0.0044\n",
      "Epoch 53/100\n",
      "11610/11610==============================] - 0s 39us/sample - loss: 0.4183 - acc: 0.0029 - val_loss: 0.3865 - val_acc: 0.0044\n",
      "Epoch 54/100\n",
      "11610/11610==============================] - 0s 39us/sample - loss: 0.4174 - acc: 0.0029 - val_loss: 0.3868 - val_acc: 0.0044\n",
      "Epoch 55/100\n",
      "11610/11610==============================] - 0s 38us/sample - loss: 0.4167 - acc: 0.0029 - val_loss: 0.3863 - val_acc: 0.0044\n",
      "Epoch 56/100\n",
      "11610/11610==============================] - 0s 39us/sample - loss: 0.4158 - acc: 0.0029 - val_loss: 0.3862 - val_acc: 0.0044\n",
      "Epoch 57/100\n",
      "11610/11610==============================] - 0s 39us/sample - loss: 0.4154 - acc: 0.0029 - val_loss: 0.3857 - val_acc: 0.0044\n",
      "Epoch 58/100\n",
      "11610/11610==============================] - 0s 37us/sample - loss: 0.4145 - acc: 0.0029 - val_loss: 0.3854 - val_acc: 0.0044\n",
      "Epoch 59/100\n"
     ]
    },
    {
     "name": "stdout",
     "output_type": "stream",
     "text": [
      "11610/11610==============================] - 0s 37us/sample - loss: 0.4137 - acc: 0.0029 - val_loss: 0.3857 - val_acc: 0.0044\n",
      "Epoch 60/100\n",
      "11610/11610==============================] - 0s 36us/sample - loss: 0.4130 - acc: 0.0029 - val_loss: 0.3853 - val_acc: 0.0044\n",
      "Epoch 61/100\n",
      "11610/11610==============================] - 0s 41us/sample - loss: 0.4123 - acc: 0.0029 - val_loss: 0.3850 - val_acc: 0.0044\n",
      "Epoch 62/100\n",
      "11610/11610==============================] - 0s 42us/sample - loss: 0.4115 - acc: 0.0029 - val_loss: 0.3853 - val_acc: 0.0044\n",
      "Epoch 63/100\n",
      "11610/11610==============================] - 0s 42us/sample - loss: 0.4107 - acc: 0.0029 - val_loss: 0.3852 - val_acc: 0.0044\n",
      "Epoch 64/100\n",
      "11610/11610==============================] - 0s 42us/sample - loss: 0.4101 - acc: 0.0029 - val_loss: 0.3853 - val_acc: 0.0044\n",
      "Epoch 65/100\n",
      "11610/11610==============================] - 0s 36us/sample - loss: 0.4093 - acc: 0.0029 - val_loss: 0.3853 - val_acc: 0.0044\n",
      "Epoch 66/100\n",
      "11610/11610==============================] - 0s 40us/sample - loss: 0.4086 - acc: 0.0029 - val_loss: 0.3856 - val_acc: 0.0044\n"
     ]
    }
   ],
   "source": [
    "model.compile(loss=my_mse, optimizer='sgd', metrics=['accuracy'])\n",
    "\n",
    "history = model.fit(X_train_scaled, y_train, epochs=100, validation_data=(X_valid_scaled, y_valid),\n",
    "                   callbacks=[\n",
    "                       keras.callbacks.EarlyStopping(patience=5)\n",
    "                   ])"
   ]
  },
  {
   "cell_type": "code",
   "execution_count": 130,
   "metadata": {},
   "outputs": [
    {
     "data": {
      "image/png": "[encoded data removed]",
      "text/plain": [
       "<Figure size 576x360 with 1 Axes>"
      ]
     },
     "metadata": {
      "needs_background": "light"
     },
     "output_type": "display_data"
    },
    {
     "name": "stdout",
     "output_type": "stream",
     "text": [
      "5160/5160==============================] - 0s 13us/sample - loss: 0.4028 - acc: 0.0021\n"
     ]
    },
    {
     "data": {
      "text/plain": [
       "[0.40279921944751296, 0.002131783]"
      ]
     },
     "execution_count": 130,
     "metadata": {},
     "output_type": "execute_result"
    }
   ],
   "source": [
    "plot_learning_curves(history)\n",
    "model.evaluate(X_test_scaled, y_test)"
   ]
  },
  {
   "cell_type": "markdown",
   "metadata": {},
   "source": [
    "![Exercise solution](https://camo.githubusercontent.com/250388fde3fac9135ead9471733ee28e049f7a37/68747470733a2f2f75706c6f61642e77696b696d656469612e6f72672f77696b6970656469612f636f6d6d6f6e732f302f30362f46696c6f735f736567756e646f5f6c6f676f5f253238666c69707065642532392e6a7067)"
   ]
  },
  {
   "cell_type": "markdown",
   "metadata": {},
   "source": [
    "## Exercise 2 – Solution"
   ]
  },
  {
   "cell_type": "markdown",
   "metadata": {},
   "source": [
    "1) Some layers have no weights, such as `keras.layers.Flatten` or `keras.layers.ReLU`. If you want to create a custom layer without any weights, the simplest option is to create a `keras.layers.Lambda` layer and pass it the function to perform. For example, try creating a custom layer that applies the softplus function (log(exp(X) + 1), and try calling this layer like a regular function. **Tip**: you can use `tf.math.softplus()` rather than computing the log and the exponential manually."
   ]
  },
  {
   "cell_type": "code",
   "execution_count": null,
   "metadata": {},
   "outputs": [],
   "source": [
    "my_softplus = keras.layers.Lambda(lambda X: tf.nn.softplus(X))"
   ]
  },
  {
   "cell_type": "code",
   "execution_count": null,
   "metadata": {},
   "outputs": [],
   "source": [
    "my_softplus([-10., -5., 0., 5., 10.])"
   ]
  },
  {
   "cell_type": "markdown",
   "metadata": {},
   "source": [
    "2) Create a regression model like in exercise 1, but add your softplus layer at the top (i.e., after the existing 1-unit dense layer). This can be useful to ensure that your model never predicts negative values."
   ]
  },
  {
   "cell_type": "code",
   "execution_count": null,
   "metadata": {},
   "outputs": [],
   "source": [
    "model = keras.models.Sequential([\n",
    "    keras.layers.Dense(30, activation=\"relu\", input_shape=X_train.shape[1:]),\n",
    "    keras.layers.Dense(1),\n",
    "    my_softplus\n",
    "])\n",
    "model.compile(loss=my_portable_mse, optimizer=\"sgd\")\n",
    "model.fit(X_train_scaled, y_train, epochs=10,\n",
    "          validation_data=(X_valid_scaled, y_valid))\n",
    "model.evaluate(X_test_scaled, y_test)"
   ]
  },
  {
   "cell_type": "markdown",
   "metadata": {},
   "source": [
    "3) Alternatively, try using this softplus layer as the activation function of the output layer."
   ]
  },
  {
   "cell_type": "code",
   "execution_count": null,
   "metadata": {},
   "outputs": [],
   "source": [
    "model = keras.models.Sequential([\n",
    "    keras.layers.Dense(30, activation=\"relu\", input_shape=X_train.shape[1:]),\n",
    "#    keras.layers.Dense(1, activation=my_softplus) # Currently broken, see https://github.com/tensorflow/tensorflow/issues/25096\n",
    "    keras.layers.Dense(1, activation=tf.function(lambda X: my_softplus(X)))\n",
    "])\n",
    "\n",
    "# Alternatives...\n",
    "\n",
    "#model = keras.models.Sequential([\n",
    "#    keras.layers.Dense(30, activation=\"relu\", input_shape=X_train.shape[1:]),\n",
    "#    keras.layers.Dense(1, activation=\"softplus\")\n",
    "#])\n",
    "\n",
    "#model = keras.models.Sequential([\n",
    "#    keras.layers.Dense(30, activation=\"relu\", input_shape=X_train.shape[1:]),\n",
    "#    keras.layers.Dense(1, activation=keras.activations.softplus)\n",
    "#])\n",
    "\n",
    "#model = keras.models.Sequential([\n",
    "#    keras.layers.Dense(30, activation=\"relu\", input_shape=X_train.shape[1:]),\n",
    "#    keras.layers.Dense(1),\n",
    "#    keras.layers.Activation(\"softplus\")\n",
    "#])\n",
    "\n",
    "model.compile(loss=my_portable_mse, optimizer=\"sgd\")\n",
    "model.fit(X_train_scaled, y_train, epochs=10,\n",
    "          validation_data=(X_valid_scaled, y_valid))\n",
    "model.evaluate(X_test_scaled, y_test)"
   ]
  },
  {
   "cell_type": "markdown",
   "metadata": {},
   "source": [
    "4) Now let's create a custom layer with its own weights. Use the following template to create a `MyDense` layer that computes $\\phi(\\mathbf{X} \\mathbf{W}) + \\mathbf{b}$, where $\\phi$ is the (optional) activation function, $\\mathbf{X}$ is the input data, $\\mathbf{W}$ represents the kernel (i.e., connection weights), and $\\mathbf{b}$ represents the biases, then train and evaluate a model using this instead of a regular `Dense` layer."
   ]
  },
  {
   "cell_type": "code",
   "execution_count": null,
   "metadata": {},
   "outputs": [],
   "source": [
    "class MyDense(keras.layers.Layer):\n",
    "    def __init__(self, units, activation=None, **kwargs):\n",
    "        self.units = units\n",
    "        self.activation = keras.layers.Activation(activation)\n",
    "        super(MyDense, self).__init__(**kwargs)\n",
    "\n",
    "    def build(self, input_shape):\n",
    "        self.kernel = self.add_weight(name='kernel', \n",
    "                                      shape=(input_shape[1], self.units),\n",
    "                                      initializer='uniform',\n",
    "                                      trainable=True)\n",
    "        self.biases = self.add_weight(name='bias', \n",
    "                                      shape=(self.units,),\n",
    "                                      initializer='zeros',\n",
    "                                      trainable=True)\n",
    "        super(MyDense, self).build(input_shape)\n",
    "\n",
    "    @tf.function   # required, see https://github.com/tensorflow/tensorflow/issues/25096\n",
    "    def call(self, X):\n",
    "        return self.activation(X @ self.kernel + self.biases)"
   ]
  },
  {
   "cell_type": "code",
   "execution_count": null,
   "metadata": {},
   "outputs": [],
   "source": [
    "model = keras.models.Sequential([\n",
    "    MyDense(30, activation=\"relu\", input_shape=X_train.shape[1:]),\n",
    "    MyDense(1)\n",
    "])"
   ]
  },
  {
   "cell_type": "code",
   "execution_count": null,
   "metadata": {
    "scrolled": false
   },
   "outputs": [],
   "source": [
    "model.compile(loss=\"mse\", optimizer=\"sgd\")\n",
    "model.fit(X_train_scaled, y_train, epochs=10,\n",
    "          validation_data=(X_valid_scaled, y_valid))\n",
    "model.evaluate(X_test_scaled, y_test)"
   ]
  },
  {
   "cell_type": "markdown",
   "metadata": {},
   "source": [
    "![Exercise](https://c1.staticflickr.com/9/8101/8553474140_c50cf08708_b.jpg)"
   ]
  },
  {
   "cell_type": "markdown",
   "metadata": {},
   "source": [
    "## Exercise 3 – TensorFlow Functions"
   ]
  },
  {
   "cell_type": "markdown",
   "metadata": {},
   "source": [
    "1) Examine and run the following code examples."
   ]
  },
  {
   "cell_type": "code",
   "execution_count": 131,
   "metadata": {},
   "outputs": [],
   "source": [
    "def scaled_elu(z, scale=1.0, alpha=1.0):\n",
    "    is_positive = tf.greater_equal(z, 0.0)\n",
    "    return scale * tf.where(is_positive, z, alpha * tf.nn.elu(z))"
   ]
  },
  {
   "cell_type": "code",
   "execution_count": 132,
   "metadata": {},
   "outputs": [
    {
     "data": {
      "text/plain": [
       "<tf.Tensor: id=1310933, shape=(), dtype=float32, numpy=-0.95021296>"
      ]
     },
     "execution_count": 132,
     "metadata": {},
     "output_type": "execute_result"
    }
   ],
   "source": [
    "scaled_elu(tf.constant(-3.))"
   ]
  },
  {
   "cell_type": "code",
   "execution_count": 133,
   "metadata": {},
   "outputs": [
    {
     "data": {
      "text/plain": [
       "<tf.Tensor: id=1310943, shape=(2,), dtype=float32, numpy=array([-0.95021296,  2.5       ], dtype=float32)>"
      ]
     },
     "execution_count": 133,
     "metadata": {},
     "output_type": "execute_result"
    }
   ],
   "source": [
    "scaled_elu(tf.constant([-3., 2.5]))"
   ]
  },
  {
   "cell_type": "code",
   "execution_count": 134,
   "metadata": {},
   "outputs": [
    {
     "data": {
      "text/plain": [
       "<tensorflow.python.eager.def_function.Function at 0x139dfb358>"
      ]
     },
     "execution_count": 134,
     "metadata": {},
     "output_type": "execute_result"
    }
   ],
   "source": [
    "scaled_elu_tf = tf.function(scaled_elu)\n",
    "scaled_elu_tf"
   ]
  },
  {
   "cell_type": "code",
   "execution_count": 135,
   "metadata": {},
   "outputs": [
    {
     "data": {
      "text/plain": [
       "<tf.Tensor: id=1310959, shape=(), dtype=float32, numpy=-0.95021296>"
      ]
     },
     "execution_count": 135,
     "metadata": {},
     "output_type": "execute_result"
    }
   ],
   "source": [
    "scaled_elu_tf(tf.constant(-3.))"
   ]
  },
  {
   "cell_type": "code",
   "execution_count": 136,
   "metadata": {},
   "outputs": [
    {
     "data": {
      "text/plain": [
       "<tf.Tensor: id=1310974, shape=(2,), dtype=float32, numpy=array([-0.95021296,  2.5       ], dtype=float32)>"
      ]
     },
     "execution_count": 136,
     "metadata": {},
     "output_type": "execute_result"
    }
   ],
   "source": [
    "scaled_elu_tf(tf.constant([-3., 2.5]))"
   ]
  },
  {
   "cell_type": "code",
   "execution_count": 137,
   "metadata": {},
   "outputs": [
    {
     "data": {
      "text/plain": [
       "True"
      ]
     },
     "execution_count": 137,
     "metadata": {},
     "output_type": "execute_result"
    }
   ],
   "source": [
    "scaled_elu_tf.python_function is scaled_elu"
   ]
  },
  {
   "cell_type": "code",
   "execution_count": 138,
   "metadata": {},
   "outputs": [
    {
     "name": "stdout",
     "output_type": "stream",
     "text": [
      "9.55 ms ± 506 µs per loop (mean ± std. dev. of 7 runs, 100 loops each)\n"
     ]
    }
   ],
   "source": [
    "%timeit scaled_elu(tf.random.normal((1000, 1000)))"
   ]
  },
  {
   "cell_type": "code",
   "execution_count": 139,
   "metadata": {},
   "outputs": [
    {
     "name": "stdout",
     "output_type": "stream",
     "text": [
      "8.95 ms ± 921 µs per loop (mean ± std. dev. of 7 runs, 100 loops each)\n"
     ]
    }
   ],
   "source": [
    "%timeit scaled_elu_tf(tf.random.normal((1000, 1000)))"
   ]
  },
  {
   "cell_type": "code",
   "execution_count": 140,
   "metadata": {},
   "outputs": [],
   "source": [
    "def display_tf_code(func):\n",
    "    from IPython.display import display, Markdown\n",
    "    code = tf.autograph.to_code(func)\n",
    "    display(Markdown('```python\\n{}\\n```'.format(code)))"
   ]
  },
  {
   "cell_type": "code",
   "execution_count": 141,
   "metadata": {},
   "outputs": [
    {
     "data": {
      "text/markdown": [
       "```python\n",
       "from __future__ import print_function\n",
       "\n",
       "def tf__scaled_elu(z, scale=None, alpha=None):\n",
       "  try:\n",
       "    with ag__.function_scope('scaled_elu'):\n",
       "      is_positive = tf.greater_equal(z, 0.0)\n",
       "      return scale * tf.where(is_positive, z, alpha * tf.nn.elu(z))\n",
       "  except:\n",
       "    ag__.rewrite_graph_construction_error(ag_source_map__)\n",
       "\n",
       "\n",
       "\n",
       "tf__scaled_elu.autograph_info__ = {}\n",
       "\n",
       "```"
      ],
      "text/plain": [
       "<IPython.core.display.Markdown object>"
      ]
     },
     "metadata": {},
     "output_type": "display_data"
    }
   ],
   "source": [
    "display_tf_code(scaled_elu)"
   ]
  },
  {
   "cell_type": "code",
   "execution_count": 142,
   "metadata": {},
   "outputs": [],
   "source": [
    "var = tf.Variable(0)\n",
    "\n",
    "@tf.function\n",
    "def add_21():\n",
    "    return var.assign_add(21)\n",
    "\n",
    "@tf.function\n",
    "def times_2():\n",
    "    return var.assign(var * 2)"
   ]
  },
  {
   "cell_type": "code",
   "execution_count": 143,
   "metadata": {},
   "outputs": [
    {
     "data": {
      "text/plain": [
       "<tf.Tensor: id=1328045, shape=(), dtype=int32, numpy=42>"
      ]
     },
     "execution_count": 143,
     "metadata": {},
     "output_type": "execute_result"
    }
   ],
   "source": [
    "add_21()\n",
    "times_2()"
   ]
  },
  {
   "cell_type": "code",
   "execution_count": 144,
   "metadata": {},
   "outputs": [],
   "source": [
    "def times_4(x):\n",
    "    return 4. * x\n",
    "\n",
    "@tf.function\n",
    "def times_4_plus_22(x):\n",
    "    return times_4(x) + 22."
   ]
  },
  {
   "cell_type": "code",
   "execution_count": 145,
   "metadata": {},
   "outputs": [
    {
     "data": {
      "text/plain": [
       "<tf.Tensor: id=1328057, shape=(), dtype=float32, numpy=42.0>"
      ]
     },
     "execution_count": 145,
     "metadata": {},
     "output_type": "execute_result"
    }
   ],
   "source": [
    "times_4_plus_22(tf.constant(5.))"
   ]
  },
  {
   "cell_type": "markdown",
   "metadata": {},
   "source": [
    "Compute 1 + 1/2 + 1/4 + ...: the order of execution of the operations with side-effects (e.g., `assign()`) is preserved (in TF 1.x, `tf.control_dependencies()` was needed in such cases):"
   ]
  },
  {
   "cell_type": "code",
   "execution_count": 146,
   "metadata": {},
   "outputs": [
    {
     "data": {
      "text/plain": [
       "<tf.Tensor: id=1328143, shape=(), dtype=float32, numpy=1.9999981>"
      ]
     },
     "execution_count": 146,
     "metadata": {},
     "output_type": "execute_result"
    }
   ],
   "source": [
    "total = tf.Variable(0.)\n",
    "increment = tf.Variable(1.)\n",
    "\n",
    "@tf.function\n",
    "def converge_to_2(n_iterations):\n",
    "    for i in tf.range(n_iterations):\n",
    "        total.assign_add(increment)\n",
    "        increment.assign(increment / 2.0)\n",
    "    return total\n",
    "\n",
    "converge_to_2(20)"
   ]
  },
  {
   "cell_type": "markdown",
   "metadata": {},
   "source": [
    "2) Write a function that computes the sum of squares from 1 to n, where n is an argument. Convert it to a graph function by using `tf.function` as a decorator. Display the code generated by autograph using the `display_tf_code()` function. Use `%timeit` to see how must faster the TensorFlow `Function` is compared to the Python function."
   ]
  },
  {
   "cell_type": "code",
   "execution_count": 158,
   "metadata": {},
   "outputs": [],
   "source": [
    "@tf.function\n",
    "def sum_of_squares(n):\n",
    "    return tf.math.reduce_sum(tf.square(tf.range(n)))"
   ]
  },
  {
   "cell_type": "code",
   "execution_count": 160,
   "metadata": {},
   "outputs": [
    {
     "data": {
      "text/markdown": [
       "```python\n",
       "from __future__ import print_function\n",
       "import tensorflow as tf\n",
       "\n",
       "@tf.function\n",
       "def tf__sum_of_squares(n):\n",
       "  try:\n",
       "    with ag__.function_scope('sum_of_squares'):\n",
       "      return tf.math.reduce_sum(tf.square(tf.range(n)))\n",
       "  except:\n",
       "    ag__.rewrite_graph_construction_error(ag_source_map__)\n",
       "\n",
       "\n",
       "\n",
       "tf__sum_of_squares.autograph_info__ = {}\n",
       "\n",
       "```"
      ],
      "text/plain": [
       "<IPython.core.display.Markdown object>"
      ]
     },
     "metadata": {},
     "output_type": "display_data"
    }
   ],
   "source": [
    "display_tf_code(sum_of_squares.python_function)"
   ]
  },
  {
   "cell_type": "code",
   "execution_count": 164,
   "metadata": {},
   "outputs": [
    {
     "name": "stdout",
     "output_type": "stream",
     "text": [
      "89.7 µs ± 1.79 µs per loop (mean ± std. dev. of 7 runs, 10000 loops each)\n"
     ]
    }
   ],
   "source": [
    "%timeit sum_of_squares(10000)"
   ]
  },
  {
   "cell_type": "code",
   "execution_count": 165,
   "metadata": {},
   "outputs": [
    {
     "name": "stdout",
     "output_type": "stream",
     "text": [
      "67.5 µs ± 849 ns per loop (mean ± std. dev. of 7 runs, 10000 loops each)\n"
     ]
    }
   ],
   "source": [
    "%timeit sum_of_squares.python_function(10000)"
   ]
  },
  {
   "cell_type": "markdown",
   "metadata": {},
   "source": [
    "3) Examine and run the following code examples."
   ]
  },
  {
   "cell_type": "code",
   "execution_count": 166,
   "metadata": {},
   "outputs": [],
   "source": [
    "@tf.function\n",
    "def square(x):\n",
    "    print(\"Calling\", x)  # part of the TF Function\n",
    "    tf.get_logger().warning(\"Tracing\")  # NOT part of the TF Function\n",
    "    return tf.square(x)"
   ]
  },
  {
   "cell_type": "code",
   "execution_count": 167,
   "metadata": {},
   "outputs": [
    {
     "name": "stderr",
     "output_type": "stream",
     "text": [
      "WARNING: Logging before flag parsing goes to stderr.\n",
      "W0202 23:53:04.074125 140735902745472 tmpfmskmmry.py:19] Tracing\n"
     ]
    },
    {
     "name": "stdout",
     "output_type": "stream",
     "text": [
      "Calling 0\n",
      "Calling 1\n",
      "Calling 2\n",
      "Calling 3\n",
      "Calling 4\n"
     ]
    }
   ],
   "source": [
    "for i in range(5):\n",
    "    square(tf.constant(i))"
   ]
  },
  {
   "cell_type": "code",
   "execution_count": 168,
   "metadata": {},
   "outputs": [
    {
     "name": "stderr",
     "output_type": "stream",
     "text": [
      "W0202 23:53:04.236757 140735902745472 tmp6t8zf9b0.py:19] Tracing\n"
     ]
    },
    {
     "name": "stdout",
     "output_type": "stream",
     "text": [
      "Calling 0.0\n",
      "Calling 1.0\n",
      "Calling 2.0\n",
      "Calling 3.0\n",
      "Calling 4.0\n"
     ]
    }
   ],
   "source": [
    "for i in range(5):\n",
    "    square(tf.constant(i, dtype=tf.float32))"
   ]
  },
  {
   "cell_type": "code",
   "execution_count": 169,
   "metadata": {},
   "outputs": [
    {
     "name": "stderr",
     "output_type": "stream",
     "text": [
      "W0202 23:53:04.389349 140735902745472 tmpz5okuwrq.py:19] Tracing\n"
     ]
    },
    {
     "name": "stdout",
     "output_type": "stream",
     "text": [
      "Calling [0. 0.]\n",
      "Calling [1. 1.]\n",
      "Calling [2. 2.]\n",
      "Calling [3. 3.]\n",
      "Calling [4. 4.]\n"
     ]
    }
   ],
   "source": [
    "for i in range(5):\n",
    "    square(tf.constant([i, i], dtype=tf.float32))"
   ]
  },
  {
   "cell_type": "code",
   "execution_count": 170,
   "metadata": {},
   "outputs": [
    {
     "name": "stderr",
     "output_type": "stream",
     "text": [
      "W0202 23:53:04.549182 140735902745472 tmpem9n2y58.py:19] Tracing\n"
     ]
    },
    {
     "name": "stdout",
     "output_type": "stream",
     "text": [
      "Calling 0\n"
     ]
    },
    {
     "name": "stderr",
     "output_type": "stream",
     "text": [
      "W0202 23:53:04.686167 140735902745472 tmppjkn_bc4.py:19] Tracing\n"
     ]
    },
    {
     "name": "stdout",
     "output_type": "stream",
     "text": [
      "Calling 1\n"
     ]
    },
    {
     "name": "stderr",
     "output_type": "stream",
     "text": [
      "W0202 23:53:04.823907 140735902745472 tmp15zdhqts.py:19] Tracing\n"
     ]
    },
    {
     "name": "stdout",
     "output_type": "stream",
     "text": [
      "Calling 2\n"
     ]
    },
    {
     "name": "stderr",
     "output_type": "stream",
     "text": [
      "W0202 23:53:04.965104 140735902745472 tmpl5ove78d.py:19] Tracing\n"
     ]
    },
    {
     "name": "stdout",
     "output_type": "stream",
     "text": [
      "Calling 3\n"
     ]
    },
    {
     "name": "stderr",
     "output_type": "stream",
     "text": [
      "W0202 23:53:05.108469 140735902745472 tmpcyy45tad.py:19] Tracing\n"
     ]
    },
    {
     "name": "stdout",
     "output_type": "stream",
     "text": [
      "Calling 4\n"
     ]
    }
   ],
   "source": [
    "# WARNING: when passing non-tensor values, a trace happens for any new value!\n",
    "# This is to allow optimization in case this value determines e.g., number of layers.\n",
    "for i in range(5):\n",
    "    square(i)"
   ]
  },
  {
   "cell_type": "markdown",
   "metadata": {},
   "source": [
    "4) When you give Keras a custom loss function, it actually creates a graph function based on it, and then uses that graph function during training. The same is true of custom metric functions, and the `call()` method of custom layers and models. Create a `my_mse()` function, like you did earlier, but add an instruction to log a message inside it (do *not* use `print()`!), and verify that the message is only logged once when you compile and train the model. Optionally, you can also find out when Keras converts custom metrics, layers and models."
   ]
  },
  {
   "cell_type": "code",
   "execution_count": null,
   "metadata": {},
   "outputs": [],
   "source": [
    "def my_mse(y_true, y_pred):\n",
    "    tf.get_logger().warning(\"Tracing metric my_mae()\")\n",
    "    return tf.reduce_mean(tf.square(y_pred - y_true))"
   ]
  },
  {
   "cell_type": "code",
   "execution_count": null,
   "metadata": {},
   "outputs": [],
   "source": []
  },
  {
   "cell_type": "code",
   "execution_count": null,
   "metadata": {},
   "outputs": [],
   "source": []
  },
  {
   "cell_type": "markdown",
   "metadata": {},
   "source": [
    "5) Examine the following function, and try to call it with various argument types and shapes. Notice that only tensors of type `int32` and one dimension (of any size) are accepted now that we have specified the `input_signature`."
   ]
  },
  {
   "cell_type": "code",
   "execution_count": 171,
   "metadata": {},
   "outputs": [],
   "source": [
    "@tf.function(input_signature=[tf.TensorSpec([None], tf.int32, name=\"x\")])\n",
    "def cube(z):\n",
    "    return tf.pow(z, 3)"
   ]
  },
  {
   "cell_type": "code",
   "execution_count": 172,
   "metadata": {},
   "outputs": [
    {
     "data": {
      "text/plain": [
       "<tf.Tensor: id=2707226, shape=(3,), dtype=int32, numpy=array([ 1,  8, 27], dtype=int32)>"
      ]
     },
     "execution_count": 172,
     "metadata": {},
     "output_type": "execute_result"
    }
   ],
   "source": [
    "cube(tf.constant([1, 2, 3]))"
   ]
  },
  {
   "cell_type": "code",
   "execution_count": 173,
   "metadata": {},
   "outputs": [
    {
     "data": {
      "text/plain": [
       "<tf.Tensor: id=2707229, shape=(5,), dtype=int32, numpy=array([  1,   8,  27,  64, 125], dtype=int32)>"
      ]
     },
     "execution_count": 173,
     "metadata": {},
     "output_type": "execute_result"
    }
   ],
   "source": [
    "cube(tf.constant([1, 2, 3, 4, 5]))"
   ]
  },
  {
   "cell_type": "code",
   "execution_count": 174,
   "metadata": {},
   "outputs": [
    {
     "data": {
      "text/plain": [
       "[TensorSpec(shape=(None,), dtype=tf.int32, name='x')]"
      ]
     },
     "execution_count": 174,
     "metadata": {},
     "output_type": "execute_result"
    }
   ],
   "source": [
    "cube.input_signature"
   ]
  },
  {
   "cell_type": "code",
   "execution_count": 175,
   "metadata": {},
   "outputs": [
    {
     "data": {
      "text/plain": [
       "<bound method Function.get_concrete_function of <tensorflow.python.eager.def_function.Function object at 0x141d8da90>>"
      ]
     },
     "execution_count": 175,
     "metadata": {},
     "output_type": "execute_result"
    }
   ],
   "source": [
    "cube.get_concrete_function"
   ]
  },
  {
   "cell_type": "markdown",
   "metadata": {},
   "source": [
    "![Exercise solution](https://camo.githubusercontent.com/250388fde3fac9135ead9471733ee28e049f7a37/68747470733a2f2f75706c6f61642e77696b696d656469612e6f72672f77696b6970656469612f636f6d6d6f6e732f302f30362f46696c6f735f736567756e646f5f6c6f676f5f253238666c69707065642532392e6a7067)"
   ]
  },
  {
   "cell_type": "markdown",
   "metadata": {},
   "source": [
    "## Exercise 3 – Solution"
   ]
  },
  {
   "cell_type": "markdown",
   "metadata": {},
   "source": [
    "1) Examine the code examples."
   ]
  },
  {
   "cell_type": "markdown",
   "metadata": {},
   "source": [
    "Done."
   ]
  },
  {
   "cell_type": "markdown",
   "metadata": {},
   "source": [
    "2) Write a function that computes the sum of squares from 1 to n, where n is an argument. Convert it to a graph function by using `tf.function` as a decorator. Display the code generated by autograph using the `display_tf_code()` function. Use `%timeit` to see how must faster the TensorFlow `Function` is compared to the Python function."
   ]
  },
  {
   "cell_type": "code",
   "execution_count": null,
   "metadata": {},
   "outputs": [],
   "source": [
    "@tf.function\n",
    "def sum_squares(n):\n",
    "    s = tf.constant(0)\n",
    "    for i in range(1, n + 1):\n",
    "        s = s + i ** 2\n",
    "    return s"
   ]
  },
  {
   "cell_type": "code",
   "execution_count": null,
   "metadata": {},
   "outputs": [],
   "source": [
    "sum_squares(tf.constant(5))"
   ]
  },
  {
   "cell_type": "code",
   "execution_count": null,
   "metadata": {},
   "outputs": [],
   "source": [
    "display_tf_code(sum_squares.python_function)"
   ]
  },
  {
   "cell_type": "code",
   "execution_count": null,
   "metadata": {},
   "outputs": [],
   "source": [
    "%timeit sum_squares(10000)"
   ]
  },
  {
   "cell_type": "code",
   "execution_count": null,
   "metadata": {},
   "outputs": [],
   "source": [
    "%timeit sum_squares.python_function(10000)"
   ]
  },
  {
   "cell_type": "markdown",
   "metadata": {},
   "source": [
    "3) Examine the code examples."
   ]
  },
  {
   "cell_type": "markdown",
   "metadata": {},
   "source": [
    "Done."
   ]
  },
  {
   "cell_type": "markdown",
   "metadata": {},
   "source": [
    "4) When you give Keras a custom loss function, it actually creates a graph function based on it, and then uses that graph function during training. The same is true of custom metric functions, and the `call()` method of custom layers and models. Create a `my_mse()` function, like you did earlier, but add an instruction to log a message inside it (do *not* use `print()`!), and verify that the message is only logged once when you compile and train the model. Optionally, you can also find out when Keras converts custom metrics, layers and models."
   ]
  },
  {
   "cell_type": "code",
   "execution_count": null,
   "metadata": {},
   "outputs": [],
   "source": [
    "# Custom loss function\n",
    "def my_mse(y_true, y_pred):\n",
    "    tf.get_logger().warning(\"Tracing loss my_mse()\")\n",
    "    return tf.reduce_mean(tf.square(y_pred - y_true))"
   ]
  },
  {
   "cell_type": "code",
   "execution_count": null,
   "metadata": {},
   "outputs": [],
   "source": [
    "# Custom metric function\n",
    "def my_mae(y_true, y_pred):\n",
    "    tf.get_logger().warning(\"Tracing metric my_mae()\")\n",
    "    return tf.reduce_mean(tf.abs(y_pred - y_true))"
   ]
  },
  {
   "cell_type": "code",
   "execution_count": null,
   "metadata": {},
   "outputs": [],
   "source": [
    "# Custom layer\n",
    "class MyDense(keras.layers.Layer):\n",
    "    def __init__(self, units, activation=None, **kwargs):\n",
    "        self.units = units\n",
    "        self.activation = keras.layers.Activation(activation)\n",
    "        super(MyDense, self).__init__(**kwargs)\n",
    "\n",
    "    def build(self, input_shape):\n",
    "        self.kernel = self.add_weight(name='kernel', \n",
    "                                      shape=(input_shape[1], self.units),\n",
    "                                      initializer='uniform',\n",
    "                                      trainable=True)\n",
    "        self.biases = self.add_weight(name='bias', \n",
    "                                      shape=(self.units,),\n",
    "                                      initializer='zeros',\n",
    "                                      trainable=True)\n",
    "        super(MyDense, self).build(input_shape)\n",
    "\n",
    "    def call(self, X):\n",
    "        tf.get_logger().warning(\"Tracing MyDense.call()\")\n",
    "        return self.activation(X @ self.kernel + self.biases)"
   ]
  },
  {
   "cell_type": "code",
   "execution_count": null,
   "metadata": {},
   "outputs": [],
   "source": [
    "# Custom model\n",
    "class MyModel(keras.models.Model):\n",
    "    def __init__(self):\n",
    "        super(MyModel, self).__init__()\n",
    "        self.hidden1 = MyDense(30, activation=\"relu\")\n",
    "        self.hidden2 = MyDense(30, activation=\"relu\")\n",
    "        self.output_ = MyDense(1)\n",
    "\n",
    "    def call(self, input):\n",
    "        tf.get_logger().warning(\"Tracing MyModel.call()\")\n",
    "        hidden1 = self.hidden1(input)\n",
    "        hidden2 = self.hidden2(hidden1)\n",
    "        concat = keras.layers.concatenate([input, hidden2])\n",
    "        output = self.output_(concat)\n",
    "        return output\n",
    "\n",
    "model = MyModel()"
   ]
  },
  {
   "cell_type": "code",
   "execution_count": null,
   "metadata": {},
   "outputs": [],
   "source": [
    "model.compile(loss=my_mse, optimizer=\"sgd\", metrics=[my_mae])"
   ]
  },
  {
   "cell_type": "code",
   "execution_count": null,
   "metadata": {},
   "outputs": [],
   "source": [
    "model.fit(X_train_scaled, y_train, epochs=2,\n",
    "          validation_data=(X_valid_scaled, y_valid))\n",
    "model.evaluate(X_test_scaled, y_test)"
   ]
  },
  {
   "cell_type": "markdown",
   "metadata": {},
   "source": [
    "Notice that each custom function is traced just once, except for the metric function. That's a bit odd."
   ]
  },
  {
   "cell_type": "markdown",
   "metadata": {},
   "source": [
    "5) Examine the following function, and try to call it with various argument types and shapes. Notice that only tensors of type `int32` and one dimension (of any size) are accepted now that we have specified the `input_signature`."
   ]
  },
  {
   "cell_type": "code",
   "execution_count": null,
   "metadata": {},
   "outputs": [],
   "source": [
    "@tf.function(input_signature=[tf.TensorSpec([None], tf.int32, name=\"x\")])\n",
    "def cube(z):\n",
    "    return tf.pow(z, 3)"
   ]
  },
  {
   "cell_type": "code",
   "execution_count": null,
   "metadata": {},
   "outputs": [],
   "source": [
    "cube(tf.constant([1, 2, 3]))"
   ]
  },
  {
   "cell_type": "code",
   "execution_count": null,
   "metadata": {},
   "outputs": [],
   "source": [
    "cube(tf.constant([1, 2, 3, 4, 5]))"
   ]
  },
  {
   "cell_type": "code",
   "execution_count": null,
   "metadata": {},
   "outputs": [],
   "source": [
    "try:\n",
    "    cube([1, 2, 3])\n",
    "except ValueError as ex:\n",
    "    print(ex)"
   ]
  },
  {
   "cell_type": "code",
   "execution_count": null,
   "metadata": {},
   "outputs": [],
   "source": [
    "try:\n",
    "    cube(tf.constant([1., 2., 3]))\n",
    "except ValueError as ex:\n",
    "    print(ex)"
   ]
  },
  {
   "cell_type": "code",
   "execution_count": null,
   "metadata": {
    "scrolled": true
   },
   "outputs": [],
   "source": [
    "try:\n",
    "    cube(tf.constant([[1, 2], [3, 4]]))\n",
    "except ValueError as ex:\n",
    "    print(ex)"
   ]
  },
  {
   "cell_type": "markdown",
   "metadata": {},
   "source": [
    "![Exercise](https://c1.staticflickr.com/9/8101/8553474140_c50cf08708_b.jpg)"
   ]
  },
  {
   "cell_type": "markdown",
   "metadata": {},
   "source": [
    "## Exercise 4 – Function Graphs"
   ]
  },
  {
   "cell_type": "markdown",
   "metadata": {},
   "source": [
    "1) Examine and run the following code examples."
   ]
  },
  {
   "cell_type": "code",
   "execution_count": null,
   "metadata": {},
   "outputs": [],
   "source": [
    "@tf.function(input_signature=[tf.TensorSpec([None], tf.int32, name=\"x\")])\n",
    "def cube(z):\n",
    "    return tf.pow(z, 3)"
   ]
  },
  {
   "cell_type": "code",
   "execution_count": null,
   "metadata": {},
   "outputs": [],
   "source": [
    "cube_func_int32 = cube.get_concrete_function(tf.TensorSpec([None], tf.int32))\n",
    "cube_func_int32"
   ]
  },
  {
   "cell_type": "code",
   "execution_count": null,
   "metadata": {},
   "outputs": [],
   "source": [
    "cube_func_int32 is cube.get_concrete_function(tf.TensorSpec([5], tf.int32))"
   ]
  },
  {
   "cell_type": "code",
   "execution_count": null,
   "metadata": {},
   "outputs": [],
   "source": [
    "cube_func_int32 is cube.get_concrete_function(tf.constant([1, 2, 3]))"
   ]
  },
  {
   "cell_type": "code",
   "execution_count": null,
   "metadata": {},
   "outputs": [],
   "source": [
    "cube_func_int32.graph"
   ]
  },
  {
   "cell_type": "markdown",
   "metadata": {},
   "source": [
    "2) The function's graph is represented on the following diagram. Call the graph's `get_operations()` method to get the list of operations. Each operation has an `inputs` attribute that returns an iterator over its input tensors (these are symbolic: contrary to tensors we have used up to now, they have no value). It also has an `outputs` attribute that returns the list of output tensors. Each tensor has an `op` attribute that returns the operation it comes from. Try navigating through the graph using these methods and attributes."
   ]
  },
  {
   "cell_type": "markdown",
   "metadata": {},
   "source": [
    "<img src=\"images/cube_graph.png\" width=\"600\" />"
   ]
  },
  {
   "cell_type": "code",
   "execution_count": null,
   "metadata": {},
   "outputs": [],
   "source": []
  },
  {
   "cell_type": "code",
   "execution_count": null,
   "metadata": {},
   "outputs": [],
   "source": []
  },
  {
   "cell_type": "code",
   "execution_count": null,
   "metadata": {},
   "outputs": [],
   "source": []
  },
  {
   "cell_type": "markdown",
   "metadata": {},
   "source": [
    "3) Each operation has a default name, such as `\"pow\"` (you can override it by setting the `name` attribute when you call the operation). In case of a name conflict, TensorFlow adds an underscore and anindex to make the name unique (e.g. `\"pow_1\"`). Moreover, each tensor has the same name as the operation that outputs it, followed by a colon `:` and the tensor's `index` (e.g., `\"pow:0\"`). Most operations have a single output tensor, so most tensors have a name that ends with `:0`. Try using `get_operation_by_name()` and `get_tensor_by_name()` to access any op and tensor you wish."
   ]
  },
  {
   "cell_type": "code",
   "execution_count": null,
   "metadata": {},
   "outputs": [],
   "source": []
  },
  {
   "cell_type": "code",
   "execution_count": null,
   "metadata": {},
   "outputs": [],
   "source": []
  },
  {
   "cell_type": "code",
   "execution_count": null,
   "metadata": {},
   "outputs": [],
   "source": []
  },
  {
   "cell_type": "markdown",
   "metadata": {},
   "source": [
    "4) Call the graph's `as_graph_def()` method and print the output. This is a protobuf representation of the computation graph: it is what makes TensorFlow models so portable."
   ]
  },
  {
   "cell_type": "code",
   "execution_count": null,
   "metadata": {},
   "outputs": [],
   "source": []
  },
  {
   "cell_type": "code",
   "execution_count": null,
   "metadata": {},
   "outputs": [],
   "source": []
  },
  {
   "cell_type": "code",
   "execution_count": null,
   "metadata": {},
   "outputs": [],
   "source": []
  },
  {
   "cell_type": "markdown",
   "metadata": {},
   "source": [
    "5) Get the concrete function's `function_def`, and look at its `signature`. This shows the names and types of the nodes in the graph that correspond to the function's inputs and outputs. This will come in handy when you deploy models to TensorFlow Serving or Google Cloud ML Engine."
   ]
  },
  {
   "cell_type": "code",
   "execution_count": null,
   "metadata": {},
   "outputs": [],
   "source": []
  },
  {
   "cell_type": "code",
   "execution_count": null,
   "metadata": {},
   "outputs": [],
   "source": []
  },
  {
   "cell_type": "code",
   "execution_count": null,
   "metadata": {},
   "outputs": [],
   "source": []
  },
  {
   "cell_type": "markdown",
   "metadata": {},
   "source": [
    "![Exercise solution](https://camo.githubusercontent.com/250388fde3fac9135ead9471733ee28e049f7a37/68747470733a2f2f75706c6f61642e77696b696d656469612e6f72672f77696b6970656469612f636f6d6d6f6e732f302f30362f46696c6f735f736567756e646f5f6c6f676f5f253238666c69707065642532392e6a7067)"
   ]
  },
  {
   "cell_type": "markdown",
   "metadata": {},
   "source": [
    "## Exercise 4 – Solution"
   ]
  },
  {
   "cell_type": "markdown",
   "metadata": {},
   "source": [
    "1) Examine the code examples."
   ]
  },
  {
   "cell_type": "markdown",
   "metadata": {},
   "source": [
    "Done."
   ]
  },
  {
   "cell_type": "markdown",
   "metadata": {},
   "source": [
    "2) The function's graph is represented on the following diagram. Call the graph's `get_operations()` method to get the list of operations. Each operation has an `inputs` attribute that returns an iterator over its input tensors (these are symbolic: contrary to tensors we have used up to now, they have no value). It also has an `outputs` attribute that returns the list of output tensors. Each tensor has an `op` attribute that returns the operation it comes from. Try navigating through the graph using these methods and attributes."
   ]
  },
  {
   "cell_type": "markdown",
   "metadata": {},
   "source": [
    "<img src=\"images/cube_graph.png\" width=\"600\" />"
   ]
  },
  {
   "cell_type": "code",
   "execution_count": null,
   "metadata": {},
   "outputs": [],
   "source": [
    "cube_func_int32.graph.get_operations()"
   ]
  },
  {
   "cell_type": "code",
   "execution_count": null,
   "metadata": {},
   "outputs": [],
   "source": [
    "pow_op = cube_func_int32.graph.get_operations()[2]\n",
    "pow_op"
   ]
  },
  {
   "cell_type": "code",
   "execution_count": null,
   "metadata": {},
   "outputs": [],
   "source": [
    "pow_in = list(pow_op.inputs)\n",
    "pow_in"
   ]
  },
  {
   "cell_type": "code",
   "execution_count": null,
   "metadata": {},
   "outputs": [],
   "source": [
    "pow_out = list(pow_op.outputs)\n",
    "pow_out"
   ]
  },
  {
   "cell_type": "code",
   "execution_count": null,
   "metadata": {},
   "outputs": [],
   "source": [
    "pow_in = list(pow_op.inputs)\n",
    "pow_in"
   ]
  },
  {
   "cell_type": "code",
   "execution_count": null,
   "metadata": {},
   "outputs": [],
   "source": [
    "pow_in[0].op"
   ]
  },
  {
   "cell_type": "markdown",
   "metadata": {},
   "source": [
    "3) Each operation has a default name, such as `\"pow\"` (you can override it by setting the `name` attribute when you call the operation). In case of a name conflict, TensorFlow adds an underscore and anindex to make the name unique (e.g. `\"pow_1\"`). Moreover, each tensor has the same name as the operation that outputs it, followed by a colon `:` and the tensor's `index` (e.g., `\"pow:0\"`). Most operations have a single output tensor, so most tensors have a name that ends with `:0`. Try using `get_operation_by_name()` and `get_tensor_by_name()` to access any op and tensor you wish."
   ]
  },
  {
   "cell_type": "code",
   "execution_count": null,
   "metadata": {},
   "outputs": [],
   "source": [
    "cube_func_int32.graph.get_operation_by_name(\"x\")"
   ]
  },
  {
   "cell_type": "code",
   "execution_count": null,
   "metadata": {},
   "outputs": [],
   "source": [
    "cube_func_int32.graph.get_tensor_by_name(\"x:0\")"
   ]
  },
  {
   "cell_type": "markdown",
   "metadata": {},
   "source": [
    "4) Call the graph's `as_graph_def()` method and print the output. This is a protobuf representation of the computation graph: it is what makes TensorFlow models so portable."
   ]
  },
  {
   "cell_type": "code",
   "execution_count": null,
   "metadata": {},
   "outputs": [],
   "source": [
    "cube_func_int32.graph.as_graph_def()"
   ]
  },
  {
   "cell_type": "markdown",
   "metadata": {},
   "source": [
    "5) Get the concrete function's `function_def`, and look at its `signature`. This shows the names and types of the nodes in the graph that correspond to the function's inputs and outputs. This will come in handy when you deploy models to TensorFlow Serving or Google Cloud ML Engine."
   ]
  },
  {
   "cell_type": "code",
   "execution_count": null,
   "metadata": {
    "scrolled": false
   },
   "outputs": [],
   "source": [
    "cube_func_int32.function_def.signature"
   ]
  },
  {
   "cell_type": "markdown",
   "metadata": {},
   "source": [
    "![Exercise](https://c1.staticflickr.com/9/8101/8553474140_c50cf08708_b.jpg)"
   ]
  },
  {
   "cell_type": "markdown",
   "metadata": {},
   "source": [
    "## Exercise 5 – Autodiff"
   ]
  },
  {
   "cell_type": "markdown",
   "metadata": {},
   "source": [
    "1) Examine and run the following code examples."
   ]
  },
  {
   "cell_type": "code",
   "execution_count": null,
   "metadata": {},
   "outputs": [],
   "source": [
    "def f(x):\n",
    "    return 3. * x ** 2 + 2. * x - 1."
   ]
  },
  {
   "cell_type": "code",
   "execution_count": null,
   "metadata": {},
   "outputs": [],
   "source": [
    "def approximate_derivative(f, x, eps=1e-3):\n",
    "    return (f(x + eps) - f(x - eps)) / (2. * eps)"
   ]
  },
  {
   "cell_type": "code",
   "execution_count": null,
   "metadata": {},
   "outputs": [],
   "source": [
    "approximate_derivative(f, 1.0) # true derivative = 8"
   ]
  },
  {
   "cell_type": "code",
   "execution_count": null,
   "metadata": {},
   "outputs": [],
   "source": [
    "xs = np.linspace(-2, 2, 200)\n",
    "fs = f(xs)\n",
    "x0 = 0.5\n",
    "df_x0 = approximate_derivative(f, x0)\n",
    "tangent_x0 = df_x0 * (xs - x0) + f(x0)\n",
    "plt.plot([-2, 2], [0, 0], \"k-\", linewidth=1)\n",
    "plt.plot([0, 0], [-5, 15], \"k-\", linewidth=1)\n",
    "plt.plot(xs, fs)\n",
    "plt.plot(xs, tangent_x0, \"r--\")\n",
    "plt.plot(x0, f(x0), \"ro\")\n",
    "plt.grid(True)\n",
    "plt.xlabel(\"x\", fontsize=14)\n",
    "plt.ylabel(\"f(x)\", fontsize=14, rotation=0)\n",
    "plt.axis([-2, 2, -5, 15])\n",
    "plt.show()"
   ]
  },
  {
   "cell_type": "code",
   "execution_count": null,
   "metadata": {},
   "outputs": [],
   "source": [
    "def g(x1, x2):\n",
    "    return (x1 + 5) * (x2 ** 2)"
   ]
  },
  {
   "cell_type": "code",
   "execution_count": null,
   "metadata": {},
   "outputs": [],
   "source": [
    "def approximate_gradient(f, x1, x2, eps=1e-3):\n",
    "    df_x1 = approximate_derivative(lambda x: f(x, x2), x1, eps)\n",
    "    df_x2 = approximate_derivative(lambda x: f(x1, x), x2, eps)\n",
    "    return df_x1, df_x2"
   ]
  },
  {
   "cell_type": "code",
   "execution_count": null,
   "metadata": {},
   "outputs": [],
   "source": [
    "approximate_gradient(g, 2.0, 3.0) # true gradient = (9, 42)"
   ]
  },
  {
   "cell_type": "code",
   "execution_count": null,
   "metadata": {},
   "outputs": [],
   "source": [
    "x1 = tf.Variable(2.0)\n",
    "x2 = tf.Variable(3.0)\n",
    "with tf.GradientTape() as tape:\n",
    "    z = g(x1, x2)\n",
    "grads = tape.gradient(z, [x1, x2])\n",
    "grads"
   ]
  },
  {
   "cell_type": "code",
   "execution_count": null,
   "metadata": {},
   "outputs": [],
   "source": [
    "x1 = tf.Variable(2.0)\n",
    "x2 = tf.Variable(3.0)\n",
    "with tf.GradientTape() as tape:\n",
    "    z = g(x1, x2)\n",
    "\n",
    "dz_x1 = tape.gradient(z, x1)\n",
    "try:\n",
    "    dz_x2 = tape.gradient(z, x2)\n",
    "except RuntimeError as ex:\n",
    "    print(ex)"
   ]
  },
  {
   "cell_type": "code",
   "execution_count": null,
   "metadata": {},
   "outputs": [],
   "source": [
    "x1 = tf.Variable(2.0)\n",
    "x2 = tf.Variable(3.0)\n",
    "with tf.GradientTape(persistent=True) as tape:\n",
    "    z = g(x1, x2)\n",
    "\n",
    "dz_x1 = tape.gradient(z, x1)\n",
    "dz_x2 = tape.gradient(z, x2)\n",
    "del tape\n",
    "dz_x1, dz_x2"
   ]
  },
  {
   "cell_type": "code",
   "execution_count": null,
   "metadata": {},
   "outputs": [],
   "source": [
    "x1 = tf.constant(2.0) # <= not Variable\n",
    "x2 = tf.constant(3.0) # <= not Variable\n",
    "with tf.GradientTape() as tape:\n",
    "    z = g(x1, x2)\n",
    "\n",
    "grads = tape.gradient(z, [x1, x2])\n",
    "grads"
   ]
  },
  {
   "cell_type": "code",
   "execution_count": null,
   "metadata": {},
   "outputs": [],
   "source": [
    "x1 = tf.constant(2.0)\n",
    "x2 = tf.constant(3.0)\n",
    "with tf.GradientTape() as tape:\n",
    "    tape.watch(x1)\n",
    "    tape.watch(x2)\n",
    "    z = g(x1, x2)\n",
    "\n",
    "grads = tape.gradient(z, [x1, x2])\n",
    "grads"
   ]
  },
  {
   "cell_type": "code",
   "execution_count": null,
   "metadata": {},
   "outputs": [],
   "source": [
    "x = tf.Variable(5.0)\n",
    "with tf.GradientTape() as tape:\n",
    "    z1 = 3 * x\n",
    "    z2 = x ** 2\n",
    "tape.gradient([z1, z2], x) # dz1_x + dz2_x = 3 + 2x = 3 + 2*5 = 13"
   ]
  },
  {
   "cell_type": "code",
   "execution_count": null,
   "metadata": {},
   "outputs": [],
   "source": [
    "x1 = tf.Variable(2.0)\n",
    "x2 = tf.Variable(3.0)\n",
    "with tf.GradientTape(persistent=True) as hessian_tape:\n",
    "    with tf.GradientTape() as jacobian_tape:\n",
    "        z = g(x1, x2)\n",
    "    jacobians = jacobian_tape.gradient(z, [x1, x2])\n",
    "hessians = [hessian_tape.gradient(jacobian, [x1, x2])\n",
    "            for jacobian in jacobians]\n",
    "del hessian_tape\n",
    "hessians"
   ]
  },
  {
   "cell_type": "markdown",
   "metadata": {},
   "source": [
    "2) Implement Gradient Descent manually to find the value of `x` that minimizes the following function `f(x)`.\n",
    "\n",
    "**Tips**:\n",
    "* Define a variable `x` and initialize it to 0.\n",
    "* Define the `learning_rate` (e.g., 0.1).\n",
    "* Write a loop that will repeatedly (1) compute the gradient of `f` (actually a derivative in this case) at the current value of `x`, and (2) tweak `x` slightly in the opposite direction (by subtracting `learning_rate * df_dx`). You can use `x.assign_sub(...)` for this.\n",
    "* Using calculus, we can find that the algorithm should converge to $x = -\\frac{1}{3}$. Indeed, the derivative of $f(x) = 3 x^2 + 2x -1$ is $f'(x) = 6x + 2$, so the minimum is reached when $f'(x) = 0$ (slope is 0), so $6x + 2 = 0$, which leads to $x = -\\frac{1}{3}$.\n"
   ]
  },
  {
   "cell_type": "code",
   "execution_count": null,
   "metadata": {},
   "outputs": [],
   "source": [
    "def f(x):\n",
    "    return 3. * x ** 2 + 2. * x - 1."
   ]
  },
  {
   "cell_type": "code",
   "execution_count": null,
   "metadata": {},
   "outputs": [],
   "source": []
  },
  {
   "cell_type": "code",
   "execution_count": null,
   "metadata": {},
   "outputs": [],
   "source": []
  },
  {
   "cell_type": "code",
   "execution_count": null,
   "metadata": {},
   "outputs": [],
   "source": []
  },
  {
   "cell_type": "markdown",
   "metadata": {},
   "source": [
    "3) Now use an `SGD` optimizer instead of manually tweaking `x`.\n",
    "\n",
    "**Tips**:\n",
    "* You first need to create an `SGD` optimizer, optionally specifying the learning_rate (e.g., `lr=0.1`).\n",
    "* Next replace the manual tweaking of `x` in your previous code to use `optimizer.apply_gradients()` instead. You need to pass it a list of gradient/variable pairs (just one pair in this example)."
   ]
  },
  {
   "cell_type": "code",
   "execution_count": null,
   "metadata": {},
   "outputs": [],
   "source": []
  },
  {
   "cell_type": "code",
   "execution_count": null,
   "metadata": {},
   "outputs": [],
   "source": []
  },
  {
   "cell_type": "code",
   "execution_count": null,
   "metadata": {},
   "outputs": [],
   "source": []
  },
  {
   "cell_type": "markdown",
   "metadata": {},
   "source": [
    "4) Create a `Sequential` model for the California housing problem (no need to compile it), and train it using your own training loop, instead of using `fit()`. Evaluate your model on the validation set at the end of each epoch, and display the result.\n",
    "\n",
    "**Tips**:\n",
    "* You can use the following `random_batch()` function to get a new batch of training data at each iteration (the Data API would be much preferable, as we will see in the next notebook).\n",
    "* You can use the model like a function to make predictions: `y_pred = model(X_batch)`\n",
    "* You can use `keras.losses.mean_squared_error()` to compute the loss. Note that it returns one loss per instance, so you need to use `tf.reduce_mean()` to get the mean loss. \n",
    "* You can use `model.trainable_variables` to get the full list of trainable variables in your model.\n",
    "* You can use `zip(gradients, variables)` to create a list containing all the gradient/variable pairs."
   ]
  },
  {
   "cell_type": "code",
   "execution_count": null,
   "metadata": {},
   "outputs": [],
   "source": [
    "def random_batch(X, y, batch_size = 32):\n",
    "    idx = np.random.randint(0, len(X), size=batch_size)\n",
    "    return X[idx], y[idx]"
   ]
  },
  {
   "cell_type": "code",
   "execution_count": null,
   "metadata": {},
   "outputs": [],
   "source": []
  },
  {
   "cell_type": "code",
   "execution_count": null,
   "metadata": {},
   "outputs": [],
   "source": []
  },
  {
   "cell_type": "code",
   "execution_count": null,
   "metadata": {},
   "outputs": [],
   "source": []
  },
  {
   "cell_type": "markdown",
   "metadata": {},
   "source": [
    "5) Examine and run the following code examples, then update your training loop to display the training loss at each iteration.\n",
    "\n",
    "**Tips**:\n",
    "* You can use a `keras.metrics.MeanSquaredError` instance to efficiently track the running mean squared error at each iteration.\n",
    "* Make sure you reset the metric's states at the start of each epoch.\n",
    "* You can use `print(\"\\r\", mse, end=\"\")` to display the MSE on the same line at each iteration."
   ]
  },
  {
   "cell_type": "code",
   "execution_count": null,
   "metadata": {},
   "outputs": [],
   "source": [
    "metric = keras.metrics.MeanSquaredError()\n",
    "metric([5.], [2.])  # error = (2 - 5)**2 = 9\n",
    "metric([0.], [1.])  # error = (1 - 0)**2 = 1\n",
    "metric.result()     # mean error = (9 + 1) / 2 = 5"
   ]
  },
  {
   "cell_type": "code",
   "execution_count": null,
   "metadata": {},
   "outputs": [],
   "source": [
    "metric.reset_states()\n",
    "metric.result()"
   ]
  },
  {
   "cell_type": "code",
   "execution_count": null,
   "metadata": {},
   "outputs": [],
   "source": [
    "metric([1.], [3.])  # error = (3 - 1)**2 = 4\n",
    "metric.result()     # mean error = 4 / 1 = 4"
   ]
  },
  {
   "cell_type": "code",
   "execution_count": null,
   "metadata": {},
   "outputs": [],
   "source": []
  },
  {
   "cell_type": "code",
   "execution_count": null,
   "metadata": {},
   "outputs": [],
   "source": []
  },
  {
   "cell_type": "code",
   "execution_count": null,
   "metadata": {},
   "outputs": [],
   "source": []
  },
  {
   "cell_type": "markdown",
   "metadata": {},
   "source": [
    "![Exercise solution](https://camo.githubusercontent.com/250388fde3fac9135ead9471733ee28e049f7a37/68747470733a2f2f75706c6f61642e77696b696d656469612e6f72672f77696b6970656469612f636f6d6d6f6e732f302f30362f46696c6f735f736567756e646f5f6c6f676f5f253238666c69707065642532392e6a7067)"
   ]
  },
  {
   "cell_type": "markdown",
   "metadata": {},
   "source": [
    "## Exercise 4 – Solution"
   ]
  },
  {
   "cell_type": "markdown",
   "metadata": {},
   "source": [
    "1) Examine the code examples."
   ]
  },
  {
   "cell_type": "markdown",
   "metadata": {},
   "source": [
    "Done"
   ]
  },
  {
   "cell_type": "markdown",
   "metadata": {},
   "source": [
    "2) Implement Gradient Descent manually to find the value of `x` that minimizes the following function `f(x)`."
   ]
  },
  {
   "cell_type": "code",
   "execution_count": null,
   "metadata": {},
   "outputs": [],
   "source": [
    "def f(x):\n",
    "    return 3. * x ** 2 + 2. * x - 1."
   ]
  },
  {
   "cell_type": "code",
   "execution_count": null,
   "metadata": {},
   "outputs": [],
   "source": [
    "learning_rate = 0.1\n",
    "x = tf.Variable(0.0)\n",
    "\n",
    "for iteration in range(100):\n",
    "    with tf.GradientTape() as tape:\n",
    "        z = f(x)\n",
    "    dz_dx = tape.gradient(z, x)\n",
    "    x.assign_sub(learning_rate * dz_dx)\n",
    "x"
   ]
  },
  {
   "cell_type": "markdown",
   "metadata": {},
   "source": [
    "3) Now use an `SGD` optimizer instead of manually tweaking `x`."
   ]
  },
  {
   "cell_type": "code",
   "execution_count": null,
   "metadata": {},
   "outputs": [],
   "source": [
    "x = tf.Variable(0.0)\n",
    "optimizer = keras.optimizers.SGD(lr=0.1)\n",
    "\n",
    "for iteration in range(100):\n",
    "    with tf.GradientTape() as tape:\n",
    "        z = f(x)\n",
    "    dz_dx = tape.gradient(z, x)\n",
    "    optimizer.apply_gradients([(dz_dx, x)])\n",
    "x"
   ]
  },
  {
   "cell_type": "markdown",
   "metadata": {},
   "source": [
    "4) Create a `Sequential` model for the California housing problem (no need to compile it), and train it using your own training loop, instead of using `fit()`. Evaluate your model on the validation set at the end of each epoch, and display the result."
   ]
  },
  {
   "cell_type": "code",
   "execution_count": null,
   "metadata": {},
   "outputs": [],
   "source": [
    "def random_batch(X, y, batch_size = 32):\n",
    "    idx = np.random.randint(0, len(X), size=batch_size)\n",
    "    return X[idx], y[idx]"
   ]
  },
  {
   "cell_type": "code",
   "execution_count": null,
   "metadata": {},
   "outputs": [],
   "source": [
    "epochs = 10\n",
    "batch_size = 32\n",
    "steps_per_epoch = len(X_train) // batch_size\n",
    "optimizer = keras.optimizers.SGD()\n",
    "loss_fn = keras.losses.mean_squared_error\n",
    "\n",
    "model = keras.models.Sequential([\n",
    "    keras.layers.Dense(30, activation=\"relu\", input_shape=X_train.shape[1:]),\n",
    "    keras.layers.Dense(1)\n",
    "])\n",
    "\n",
    "for epoch in range(epochs):\n",
    "    for step in range(steps_per_epoch):\n",
    "        X_batch, y_batch = random_batch(X_train_scaled, y_train, batch_size)\n",
    "        with tf.GradientTape() as tape:\n",
    "            y_pred = model(X_batch)\n",
    "            loss = tf.reduce_mean(loss_fn(y_batch, y_pred))\n",
    "        grads = tape.gradient(loss, model.variables)\n",
    "        grads_and_vars = zip(grads, model.variables)\n",
    "        optimizer.apply_gradients(grads_and_vars)\n",
    "    y_pred = model(X_valid_scaled)\n",
    "    valid_loss = tf.reduce_mean(loss_fn(y_valid, y_pred))\n",
    "    print(\"Epoch\", epoch, \"valid mse:\", valid_loss.numpy())"
   ]
  },
  {
   "cell_type": "markdown",
   "metadata": {},
   "source": [
    "5) Examine and run the following code examples, then update your training loop to display the training loss at each iteration."
   ]
  },
  {
   "cell_type": "code",
   "execution_count": null,
   "metadata": {},
   "outputs": [],
   "source": [
    "metric = keras.metrics.MeanSquaredError()\n",
    "metric([5.], [2.])  # error = (2 - 5)**2 = 9\n",
    "metric([0.], [1.])  # error = (1 - 0)**2 = 1\n",
    "metric.result()     # mean error = (9 + 1) / 2 = 5"
   ]
  },
  {
   "cell_type": "code",
   "execution_count": null,
   "metadata": {},
   "outputs": [],
   "source": [
    "metric.reset_states()\n",
    "metric.result()"
   ]
  },
  {
   "cell_type": "code",
   "execution_count": null,
   "metadata": {},
   "outputs": [],
   "source": [
    "metric([1.], [3.])  # error = (3 - 1)**2 = 4\n",
    "metric.result()     # mean error = 4 / 1 = 4"
   ]
  },
  {
   "cell_type": "code",
   "execution_count": null,
   "metadata": {
    "scrolled": true
   },
   "outputs": [],
   "source": [
    "epochs = 10\n",
    "batch_size = 32\n",
    "steps_per_epoch = len(X_train) // batch_size\n",
    "optimizer = keras.optimizers.SGD()\n",
    "loss_fn = keras.losses.mean_squared_error\n",
    "metric = keras.metrics.MeanSquaredError()  # ADDED\n",
    "\n",
    "model = keras.models.Sequential([\n",
    "    keras.layers.Dense(30, activation=\"relu\", input_shape=X_train.shape[1:]),\n",
    "    keras.layers.Dense(1)\n",
    "])\n",
    "\n",
    "for epoch in range(epochs):\n",
    "    metric.reset_states()  # ADDED\n",
    "    for step in range(steps_per_epoch):\n",
    "        X_batch, y_batch = random_batch(X_train_scaled, y_train, batch_size)\n",
    "        with tf.GradientTape() as tape:\n",
    "            y_pred = model(X_batch)\n",
    "            loss = tf.reduce_mean(loss_fn(y_batch, y_pred))\n",
    "            metric(y_batch, y_pred)  # ADDED\n",
    "        grads = tape.gradient(loss, model.trainable_variables)\n",
    "        grads_and_vars = zip(grads, model.trainable_variables)\n",
    "        optimizer.apply_gradients(grads_and_vars)\n",
    "        print(\"\\rEpoch\", epoch, \" train mse:\", metric.result().numpy(), end=\"\")  # ADDED\n",
    "    y_pred = model(X_valid_scaled)\n",
    "    valid_loss = tf.reduce_mean(loss_fn(y_valid, y_pred))\n",
    "    print(\"\\tvalid mse:\", valid_loss.numpy())"
   ]
  },
  {
   "cell_type": "markdown",
   "metadata": {},
   "source": [
    "## Conclusion"
   ]
  },
  {
   "cell_type": "markdown",
   "metadata": {},
   "source": [
    "Great! You now know how to use TensorFlow's low-level API to write custom loss functions, layers, and models. You also learned how to optimize your functions by converting them to graphs: this allows TensorFlow to run operations in parallel and to perform various optimizations. Next, you learned how TensorFlow Functions and graphs are structured, and how to navigate through them. Finally, you learned how to use autodiff and write your own custom training loops."
   ]
  },
  {
   "cell_type": "code",
   "execution_count": null,
   "metadata": {},
   "outputs": [],
   "source": []
  }
 ],
 "metadata": {
  "kernelspec": {
   "display_name": "Python 3",
   "language": "python",
   "name": "python3"
  },
  "language_info": {
   "codemirror_mode": {
    "name": "ipython",
    "version": 3
   },
   "file_extension": ".py",
   "mimetype": "text/x-python",
   "name": "python",
   "nbconvert_exporter": "python",
   "pygments_lexer": "ipython3",
   "version": "3.6.8"
  },
  "toc": {
   "base_numbering": 1,
   "nav_menu": {},
   "number_sections": true,
   "sideBar": true,
   "skip_h1_title": false,
   "title_cell": "Table of Contents",
   "title_sidebar": "Contents",
   "toc_cell": false,
   "toc_position": {},
   "toc_section_display": true,
   "toc_window_display": false
  }
 },
 "nbformat": 4,
 "nbformat_minor": 2
}
